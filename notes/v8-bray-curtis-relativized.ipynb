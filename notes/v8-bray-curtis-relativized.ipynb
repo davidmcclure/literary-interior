{
 "cells": [
  {
   "cell_type": "markdown",
   "metadata": {},
   "source": [
    "# Relativized chi-square"
   ]
  },
  {
   "cell_type": "code",
   "execution_count": 1,
   "metadata": {
    "collapsed": true
   },
   "outputs": [],
   "source": [
    "from lint.models import Token\n",
    "\n",
    "import matplotlib.pyplot as plt\n",
    "import matplotlib.ticker as ticker\n",
    "%matplotlib inline"
   ]
  },
  {
   "cell_type": "code",
   "execution_count": 32,
   "metadata": {
    "collapsed": true
   },
   "outputs": [],
   "source": [
    "import numpy as np\n",
    "\n",
    "from scipy.stats import chisquare\n",
    "from scipy.spatial.distance import braycurtis\n",
    "\n",
    "def ts_chisquare_relative(token, bins=100):\n",
    "    \n",
    "    # Get the raw token series.\n",
    "    series = Token.token_series(token)\n",
    "    \n",
    "    # By default, 0s in all bins.\n",
    "    f_obs = np.zeros(bins)\n",
    "    \n",
    "    total = sum(series.values())\n",
    "    \n",
    "    # Fill the array with the observed values.\n",
    "    for offset, count in series.items():\n",
    "        f_obs[offset] = count/total\n",
    "    \n",
    "    # Flat distribution.\n",
    "    f_exp = np.full(bins, 1/bins)\n",
    "\n",
    "    return braycurtis(f_obs, f_exp)"
   ]
  },
  {
   "cell_type": "code",
   "execution_count": 37,
   "metadata": {
    "collapsed": false
   },
   "outputs": [
    {
     "name": "stdout",
     "output_type": "stream",
     "text": [
      "0.0655266262925\n"
     ]
    }
   ],
   "source": [
    "print(ts_chisquare_relative('nose'))\n",
    "print(ts_chisquare_relative('nose'))"
   ]
  },
  {
   "cell_type": "code",
   "execution_count": null,
   "metadata": {
    "collapsed": true
   },
   "outputs": [],
   "source": []
  }
 ],
 "metadata": {
  "kernelspec": {
   "display_name": "Python 3",
   "language": "python",
   "name": "python3"
  },
  "language_info": {
   "codemirror_mode": {
    "name": "ipython",
    "version": 3
   },
   "file_extension": ".py",
   "mimetype": "text/x-python",
   "name": "python",
   "nbconvert_exporter": "python",
   "pygments_lexer": "ipython3",
   "version": "3.5.1"
  }
 },
 "nbformat": 4,
 "nbformat_minor": 0
}
