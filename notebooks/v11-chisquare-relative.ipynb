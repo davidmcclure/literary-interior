{
 "cells": [
  {
   "cell_type": "code",
   "execution_count": 10,
   "metadata": {
    "collapsed": false
   },
   "outputs": [],
   "source": [
    "from joblib import Memory\n",
    "\n",
    "from lint.models import Token\n",
    "\n",
    "mem = Memory('cache')\n",
    "\n",
    "token_counts = mem.cache(Token.token_counts)\n",
    "\n",
    "tokens = token_counts(10000)"
   ]
  },
  {
   "cell_type": "code",
   "execution_count": 11,
   "metadata": {
    "collapsed": false
   },
   "outputs": [
    {
     "name": "stdout",
     "output_type": "stream",
     "text": [
      "10672\n"
     ]
    }
   ],
   "source": [
    "print(len(tokens))"
   ]
  },
  {
   "cell_type": "code",
   "execution_count": 31,
   "metadata": {
    "collapsed": true
   },
   "outputs": [],
   "source": [
    "import numpy as np\n",
    "\n",
    "from scipy.stats import chisquare\n",
    "\n",
    "def rel_chisquare(token, bins=100):\n",
    "    \n",
    "    # Get the raw token series.\n",
    "    series = Token.token_series(token)\n",
    "    \n",
    "    # Total token count.\n",
    "    total_count = sum(series.values())\n",
    "    \n",
    "    # By default, 0s in all bins.\n",
    "    f_obs = np.zeros(bins)\n",
    "    \n",
    "    # Fill the array with the observed values.\n",
    "    for offset, count in series.items():\n",
    "        f_obs[offset] = count/total_count\n",
    "        \n",
    "    # Compare to the box distribution.\n",
    "    f_exp = np.full(bins, 1/bins)\n",
    "    \n",
    "    return chisquare(f_obs, f_exp)"
   ]
  },
  {
   "cell_type": "code",
   "execution_count": 34,
   "metadata": {
    "collapsed": false
   },
   "outputs": [
    {
     "name": "stdout",
     "output_type": "stream",
     "text": [
      "Power_divergenceResult(statistic=0.00055610652282626146, pvalue=1.0)\n"
     ]
    }
   ],
   "source": [
    "print(rel_chisquare('the'))"
   ]
  },
  {
   "cell_type": "code",
   "execution_count": null,
   "metadata": {
    "collapsed": true
   },
   "outputs": [],
   "source": []
  }
 ],
 "metadata": {
  "kernelspec": {
   "display_name": "Python 3",
   "language": "python",
   "name": "python3"
  },
  "language_info": {
   "codemirror_mode": {
    "name": "ipython",
    "version": 3
   },
   "file_extension": ".py",
   "mimetype": "text/x-python",
   "name": "python",
   "nbconvert_exporter": "python",
   "pygments_lexer": "ipython3",
   "version": "3.5.1"
  }
 },
 "nbformat": 4,
 "nbformat_minor": 0
}
