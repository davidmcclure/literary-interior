{
 "cells": [
  {
   "cell_type": "code",
   "execution_count": 12,
   "metadata": {
    "collapsed": true
   },
   "outputs": [],
   "source": [
    "import matplotlib.pyplot as plt\n",
    "%matplotlib inline"
   ]
  },
  {
   "cell_type": "code",
   "execution_count": 13,
   "metadata": {
    "collapsed": true
   },
   "outputs": [],
   "source": [
    "import numpy as np\n",
    "\n",
    "def plot_ticks(X=None, width=100000, marker='.', color='red', s=20):\n",
    "    \n",
    "    plt.figure(figsize=(10, 1))\n",
    "    plt.axis([0, width, -1, 1])\n",
    "    plt.axes().get_yaxis().set_visible(False)\n",
    "    plt.axhline(0, color='#dddddd', zorder=0)\n",
    "    plt.xlabel('Word offset')\n",
    "    \n",
    "    if X is not None:\n",
    "        \n",
    "        plt.scatter(\n",
    "            X, np.zeros_like(X),\n",
    "            marker=marker, color=color, zorder=1, s=s,\n",
    "        )\n",
    "    \n",
    "    plt.show()"
   ]
  },
  {
   "cell_type": "code",
   "execution_count": 14,
   "metadata": {
    "collapsed": false
   },
   "outputs": [
    {
     "data": {
      "image/png": "[encoded data removed]",
      "text/plain": [
       "<matplotlib.figure.Figure at 0x118d71198>"
      ]
     },
     "metadata": {},
     "output_type": "display_data"
    }
   ],
   "source": [
    "plot_ticks()"
   ]
  },
  {
   "cell_type": "code",
   "execution_count": 15,
   "metadata": {
    "collapsed": false,
    "scrolled": false
   },
   "outputs": [
    {
     "data": {
      "image/png": "[encoded data removed]",
      "text/plain": [
       "<matplotlib.figure.Figure at 0x1195037f0>"
      ]
     },
     "metadata": {},
     "output_type": "display_data"
    }
   ],
   "source": [
    "plot_ticks([50000])"
   ]
  },
  {
   "cell_type": "code",
   "execution_count": 16,
   "metadata": {
    "collapsed": false
   },
   "outputs": [
    {
     "data": {
      "image/png": "[encoded data removed]",
      "text/plain": [
       "<matplotlib.figure.Figure at 0x115fcd780>"
      ]
     },
     "metadata": {},
     "output_type": "display_data"
    }
   ],
   "source": [
    "plot_ticks(np.arange(100000), s=10)"
   ]
  },
  {
   "cell_type": "code",
   "execution_count": 19,
   "metadata": {
    "collapsed": false
   },
   "outputs": [
    {
     "data": {
      "image/png": "[encoded data removed]",
      "text/plain": [
       "<matplotlib.figure.Figure at 0x119503748>"
      ]
     },
     "metadata": {},
     "output_type": "display_data"
    }
   ],
   "source": [
    "from lint.models import Text\n",
    "\n",
    "md = (\n",
    "    Text.query\n",
    "    .filter(Text.title.like('%Moby-Dick%'))\n",
    "    .one()\n",
    ")\n",
    "\n",
    "md_tokens = text.tokens()\n",
    "\n",
    "md_death = [\n",
    "    i for i, token in enumerate(tokens)\n",
    "    if token.token == 'death'\n",
    "]\n",
    "\n",
    "plot_ticks(md_death, len(md_tokens))"
   ]
  },
  {
   "cell_type": "code",
   "execution_count": null,
   "metadata": {
    "collapsed": false,
    "scrolled": false
   },
   "outputs": [],
   "source": [
    "from sqlalchemy.sql.expression import func\n",
    "\n",
    "texts = Text.query.order_by(func.random()).limit(100)\n",
    "\n",
    "deaths = {}\n",
    "\n",
    "for i, text in enumerate(texts):\n",
    "    \n",
    "    tokens = text.tokens()\n",
    "    \n",
    "    deaths[text.id] = [\n",
    "        i/len(tokens)\n",
    "        for i, token in enumerate(tokens)\n",
    "        if token.token == 'death'\n",
    "    ]\n",
    "    \n",
    "    print(i)"
   ]
  },
  {
   "cell_type": "code",
   "execution_count": null,
   "metadata": {
    "collapsed": false,
    "scrolled": false
   },
   "outputs": [],
   "source": [
    "plt.figure(figsize=(10, 10))\n",
    "plt.axes().get_yaxis().set_visible(False)\n",
    "plt.axis([0, 1, -1, len(deaths)])\n",
    "plt.xlabel('Novel time')\n",
    "\n",
    "for i, (id, offsets) in enumerate(deaths.items()):\n",
    "    \n",
    "    plt.axhline(i, color='#dddddd', zorder=0)\n",
    "    \n",
    "    plt.scatter(\n",
    "        offsets, np.full(len(offsets), i),\n",
    "        color='red', marker='.'\n",
    "    )\n",
    "    \n",
    "plt.show()"
   ]
  },
  {
   "cell_type": "code",
   "execution_count": 20,
   "metadata": {
    "collapsed": false
   },
   "outputs": [
    {
     "data": {
      "image/png": "[encoded data removed]",
      "text/plain": [
       "<matplotlib.figure.Figure at 0x113ee07b8>"
      ]
     },
     "metadata": {},
     "output_type": "display_data"
    }
   ],
   "source": [
    "md_death_pct = [\n",
    "    i/len(tokens)\n",
    "    for i, token in enumerate(tokens)\n",
    "    if token.token == 'death'\n",
    "]\n",
    "\n",
    "plt.hist(md_death_pct, 100, color='red')\n",
    "plt.show()"
   ]
  },
  {
   "cell_type": "code",
   "execution_count": null,
   "metadata": {
    "collapsed": false,
    "scrolled": false
   },
   "outputs": [],
   "source": [
    "from functools import reduce\n",
    "\n",
    "combined = reduce(lambda x, y: x+y, deaths.values(), [])\n",
    "    \n",
    "plt.hist(combined, 100, color='red')\n",
    "plt.show()"
   ]
  },
  {
   "cell_type": "code",
   "execution_count": null,
   "metadata": {
    "collapsed": true
   },
   "outputs": [],
   "source": []
  }
 ],
 "metadata": {
  "kernelspec": {
   "display_name": "Python 3",
   "language": "python",
   "name": "python3"
  },
  "language_info": {
   "codemirror_mode": {
    "name": "ipython",
    "version": 3
   },
   "file_extension": ".py",
   "mimetype": "text/x-python",
   "name": "python",
   "nbconvert_exporter": "python",
   "pygments_lexer": "ipython3",
   "version": "3.5.1"
  }
 },
 "nbformat": 4,
 "nbformat_minor": 0
}
