{
 "cells": [
  {
   "cell_type": "code",
   "execution_count": 1,
   "metadata": {
    "collapsed": false,
    "scrolled": false
   },
   "outputs": [
    {
     "data": {
      "text/markdown": [
       "### Fancy pants, Susan Elizabeth Phillips, 1989"
      ],
      "text/plain": [
       "<IPython.core.display.Markdown object>"
      ]
     },
     "metadata": {},
     "output_type": "display_data"
    },
    {
     "data": {
      "text/markdown": [
       "Prologue\n",
       "\n",
       "\n",
       "\n",
       "\n",
       "Sable sucks,” Francesca Serritella Day muttered under her breath as a series of strobes flashed in her face. She ducked her head deeper into the high collar of her Russian fur and wished it were daytime so she could slip on her dark glasses.\n",
       "\n",
       "“That’s not exactly a popularly held opinion, darling,” Prince Stefan Marko Brancuzi said as he gripped her arm and guided her through the crowd of paparazzi that  <span style=\"color: blue\">had</span> stationed themselves outside New York City’s La Côte Basque to photograph the celebrities as they emerged from the private party inside. Stefan Brancuzi was the sole monarch of a tiny Balkan principality that was rapidly replacing overcrowded Monaco as the new refuge for the tax-burdened wealthy, but he wasn’t the one in whom the photographers were most interested. It was the beautiful Englishwoman at his side who had attracted their attention, along with the attention of much of the American p"
      ],
      "text/plain": [
       "<IPython.core.display.Markdown object>"
      ]
     },
     "metadata": {},
     "output_type": "display_data"
    },
    {
     "data": {
      "text/markdown": [
       "---"
      ],
      "text/plain": [
       "<IPython.core.display.Markdown object>"
      ]
     },
     "metadata": {},
     "output_type": "display_data"
    },
    {
     "data": {
      "text/markdown": [
       "### Fancy pants, Susan Elizabeth Phillips, 1989"
      ],
      "text/plain": [
       "<IPython.core.display.Markdown object>"
      ]
     },
     "metadata": {},
     "output_type": "display_data"
    },
    {
     "data": {
      "text/markdown": [
       "said as he gripped her arm and guided her through the crowd of paparazzi that had stationed themselves outside New York City’s La Côte Basque to photograph the celebrities as they emerged from the private party inside. Stefan Brancuzi was the sole monarch of a tiny Balkan principality that was rapidly replacing overcrowded Monaco as the new refuge for the tax-burdened wealthy, but he wasn’t the one in whom the photographers were most interested. It was the beautiful Englishwoman at his side who  <span style=\"color: blue\">had</span> attracted their attention, along with the attention of much of the American public.\n",
       "\n",
       "As Stefan led her toward his waiting limousine, Francesca lifted her gloved hand in a futile gesture that did nothing at all to stop the barrage of questions still being hurled at her—questions about her job, her relationship with Stefan, even a question about her friendship with the star of the hit television series, “China Colt.”\n",
       "\n",
       "When she and Stefan were finally settled into the plush leather seats and"
      ],
      "text/plain": [
       "<IPython.core.display.Markdown object>"
      ]
     },
     "metadata": {},
     "output_type": "display_data"
    },
    {
     "data": {
      "text/markdown": [
       "---"
      ],
      "text/plain": [
       "<IPython.core.display.Markdown object>"
      ]
     },
     "metadata": {},
     "output_type": "display_data"
    },
    {
     "data": {
      "text/markdown": [
       "### Switch, William Bayer, 1984"
      ],
      "text/plain": [
       "<IPython.core.display.Markdown object>"
      ]
     },
     "metadata": {},
     "output_type": "display_data"
    },
    {
     "data": {
      "text/markdown": [
       "A Burial in Queens\n",
       "\n",
       "\n",
       "\n",
       "The air was bad the day of Al DiMona's burial—hot, close, sulphurous. The sky was pewter undercast in yellow and there was a noxious smell, an oil-refinery smell, as if the cemetery were in New Jersey instead of Queens. It was one of those August mornings when the streetlights still burned away; perhaps the person who was supposed to turn them off  <span style=\"color: blue\">had</span> forgotten or overslept.\n",
       "\n",
       "Janek looked closely at the others gathered around the grave, recognized a few familiar faces, old detectives, retired cops with sagging jaws. Lou, of course, the widow—she already had the frantic look that said, Now I have to worry about the mortgage and growing old alone and getting the oil changed. And Dolly, the daughter—her letter had been there on the card table along with the half-finished crossword puzzle and the woodworking tools and that pathetic, half-carved "
      ],
      "text/plain": [
       "<IPython.core.display.Markdown object>"
      ]
     },
     "metadata": {},
     "output_type": "display_data"
    },
    {
     "data": {
      "text/markdown": [
       "---"
      ],
      "text/plain": [
       "<IPython.core.display.Markdown object>"
      ]
     },
     "metadata": {},
     "output_type": "display_data"
    },
    {
     "data": {
      "text/markdown": [
       "### Principia Martindale, Edward Swift, 1983"
      ],
      "text/plain": [
       "<IPython.core.display.Markdown object>"
      ]
     },
     "metadata": {},
     "output_type": "display_data"
    },
    {
     "data": {
      "text/markdown": [
       "1973\n",
       "\n",
       "\n",
       "DONALD APPLEBEE WAS EASILY recognized on any downtown street in Fort Worth, Texas. He was a round, red-faced man in his mid-fifties, tall, sandy-haired—he wore it long and flowing—and talkative. He usually dressed in faded Levi’s, rubber sandals, even in the winter, and just about always carried a blue-plaid book satchel filled with Crayolas and coloring books. There was hardly a person who lived or worked downtown who  <span style=\"color: blue\">had</span> not seen him and avoided him. From a distance he almost looked like an overgrown child, and most of the people who had tried to get close to him had ended up saying that he was exactly that: a child at heart.\n",
       "\n",
       "After he left Judson and went to live in Fort Worth, Applebee took a job in a pawnshop but spent most of his time in the Water Gardens, a concrete park of spillways and pools commissioned by the Amon Carter Foundation, designed by Philip Johnson and located on the south side of downtown. "
      ],
      "text/plain": [
       "<IPython.core.display.Markdown object>"
      ]
     },
     "metadata": {},
     "output_type": "display_data"
    },
    {
     "data": {
      "text/markdown": [
       "---"
      ],
      "text/plain": [
       "<IPython.core.display.Markdown object>"
      ]
     },
     "metadata": {},
     "output_type": "display_data"
    },
    {
     "data": {
      "text/markdown": [
       "### Principia Martindale, Edward Swift, 1983"
      ],
      "text/plain": [
       "<IPython.core.display.Markdown object>"
      ]
     },
     "metadata": {},
     "output_type": "display_data"
    },
    {
     "data": {
      "text/markdown": [
       "ny downtown street in Fort Worth, Texas. He was a round, red-faced man in his mid-fifties, tall, sandy-haired—he wore it long and flowing—and talkative. He usually dressed in faded Levi’s, rubber sandals, even in the winter, and just about always carried a blue-plaid book satchel filled with Crayolas and coloring books. There was hardly a person who lived or worked downtown who had not seen him and avoided him. From a distance he almost looked like an overgrown child, and most of the people who  <span style=\"color: blue\">had</span> tried to get close to him had ended up saying that he was exactly that: a child at heart.\n",
       "\n",
       "After he left Judson and went to live in Fort Worth, Applebee took a job in a pawnshop but spent most of his time in the Water Gardens, a concrete park of spillways and pools commissioned by the Amon Carter Foundation, designed by Philip Johnson and located on the south side of downtown. It was the only place where the traffic couldn’t be heard and where the sound of the rushing water sometimes washed Pri"
      ],
      "text/plain": [
       "<IPython.core.display.Markdown object>"
      ]
     },
     "metadata": {},
     "output_type": "display_data"
    },
    {
     "data": {
      "text/markdown": [
       "---"
      ],
      "text/plain": [
       "<IPython.core.display.Markdown object>"
      ]
     },
     "metadata": {},
     "output_type": "display_data"
    },
    {
     "data": {
      "text/markdown": [
       "### Principia Martindale, Edward Swift, 1983"
      ],
      "text/plain": [
       "<IPython.core.display.Markdown object>"
      ]
     },
     "metadata": {},
     "output_type": "display_data"
    },
    {
     "data": {
      "text/markdown": [
       "th, Texas. He was a round, red-faced man in his mid-fifties, tall, sandy-haired—he wore it long and flowing—and talkative. He usually dressed in faded Levi’s, rubber sandals, even in the winter, and just about always carried a blue-plaid book satchel filled with Crayolas and coloring books. There was hardly a person who lived or worked downtown who had not seen him and avoided him. From a distance he almost looked like an overgrown child, and most of the people who had tried to get close to him  <span style=\"color: blue\">had</span> ended up saying that he was exactly that: a child at heart.\n",
       "\n",
       "After he left Judson and went to live in Fort Worth, Applebee took a job in a pawnshop but spent most of his time in the Water Gardens, a concrete park of spillways and pools commissioned by the Amon Carter Foundation, designed by Philip Johnson and located on the south side of downtown. It was the only place where the traffic couldn’t be heard and where the sound of the rushing water sometimes washed Principia Martindale right out of"
      ],
      "text/plain": [
       "<IPython.core.display.Markdown object>"
      ]
     },
     "metadata": {},
     "output_type": "display_data"
    },
    {
     "data": {
      "text/markdown": [
       "---"
      ],
      "text/plain": [
       "<IPython.core.display.Markdown object>"
      ]
     },
     "metadata": {},
     "output_type": "display_data"
    },
    {
     "data": {
      "text/markdown": [
       "### Hard merchandise, K. W Jeter, 1999"
      ],
      "text/plain": [
       "<IPython.core.display.Markdown object>"
      ]
     },
     "metadata": {},
     "output_type": "display_data"
    },
    {
     "data": {
      "text/markdown": [
       "\n",
       "\n",
       "\n",
       "\n",
       "1\n",
       "\n",
       "\n",
       "NOW …\n",
       "\n",
       "(DURING THE EVENTS OF STAR WARS:\n",
       "\n",
       "RETURN OF THE JEDI)\n",
       "\n",
       "Two bounty hunters sat in a bar, talking.\n",
       "\n",
       "“Things aren’t what they used to be,” said Zuckuss morosely. As a member of one of the ammonia-breathing species of his homeworld Gand, he  <span style=\"color: blue\">had</span> to be careful in establishments such as this. Intoxicants and stimulants that produced feelings of well-being in other creatures often evoked a profound melancholy in him. Even in a high-class place that supposedly catered to all known physiologies—the soothing, programmed play of lights across the columned walls, the shifting spectra that were supposed to relax weary travelers’ central nervous systems, struck Zuckuss as crepuscular and depressing as the faded hopes of his youth. I had ambition"
      ],
      "text/plain": [
       "<IPython.core.display.Markdown object>"
      ]
     },
     "metadata": {},
     "output_type": "display_data"
    },
    {
     "data": {
      "text/markdown": [
       "---"
      ],
      "text/plain": [
       "<IPython.core.display.Markdown object>"
      ]
     },
     "metadata": {},
     "output_type": "display_data"
    },
    {
     "data": {
      "text/markdown": [
       "### Hard merchandise, K. W Jeter, 1999"
      ],
      "text/plain": [
       "<IPython.core.display.Markdown object>"
      ]
     },
     "metadata": {},
     "output_type": "display_data"
    },
    {
     "data": {
      "text/markdown": [
       "Gand, he had to be careful in establishments such as this. Intoxicants and stimulants that produced feelings of well-being in other creatures often evoked a profound melancholy in him. Even in a high-class place that supposedly catered to all known physiologies—the soothing, programmed play of lights across the columned walls, the shifting spectra that were supposed to relax weary travelers’ central nervous systems, struck Zuckuss as crepuscular and depressing as the faded hopes of his youth. I  <span style=\"color: blue\">had</span> ambitions once, he told himself, leaning over the tall, blue-tinged glass in front of him. Big ones. Where had they gone?\n",
       "\n",
       "“I wouldn’t know,” said Zuckuss’s companion. The droid bounty hunter 4-LOM sat across from him, an untouched drink—perhaps only water—in front of him. A mere formality: the drink had been taken away twice already and replaced with exactly the same thing, so the charges could be rung up on 4-LOM’s tab. That was the only way that nonimbibing constructs such as droids could ma"
      ],
      "text/plain": [
       "<IPython.core.display.Markdown object>"
      ]
     },
     "metadata": {},
     "output_type": "display_data"
    },
    {
     "data": {
      "text/markdown": [
       "---"
      ],
      "text/plain": [
       "<IPython.core.display.Markdown object>"
      ]
     },
     "metadata": {},
     "output_type": "display_data"
    },
    {
     "data": {
      "text/markdown": [
       "### A share in death, Deborah Crombie, 1993"
      ],
      "text/plain": [
       "<IPython.core.display.Markdown object>"
      ]
     },
     "metadata": {},
     "output_type": "display_data"
    },
    {
     "data": {
      "text/markdown": [
       "\n",
       "CHAPTER 1\n",
       "\n",
       "\n",
       "Duncan Kincaid’s holiday began well. As he turned the car into the lane, a shaft of sun broke through the clouds and lit a patch of rolling Yorkshire moor as if someone  <span style=\"color: blue\">had</span> thrown the switch on a celestial spotlight.\n",
       "\n",
       "Drystone walls ran like pale runes across the brilliant green of pasture, where luminous sheep nibbled, unconcerned with their importance in the composition. The scene seemed set off in time as well as space, and gave him the sensation of viewing a living tapestry, a world remote and utterly unattainable. The clouds shifted again, the vision fading as swiftly as it had come, and he felt an odd shiver of loss at its passing.\n",
       "\n",
       "The last few weeks’ grind"
      ],
      "text/plain": [
       "<IPython.core.display.Markdown object>"
      ]
     },
     "metadata": {},
     "output_type": "display_data"
    },
    {
     "data": {
      "text/markdown": [
       "---"
      ],
      "text/plain": [
       "<IPython.core.display.Markdown object>"
      ]
     },
     "metadata": {},
     "output_type": "display_data"
    },
    {
     "data": {
      "text/markdown": [
       "### Moonlight becomes you, Mary Higgins Clark, 1996"
      ],
      "text/plain": [
       "<IPython.core.display.Markdown object>"
      ]
     },
     "metadata": {},
     "output_type": "display_data"
    },
    {
     "data": {
      "text/markdown": [
       "\n",
       "\n",
       "Tuesday, October 8th\n",
       "\n",
       "\n",
       "Maggie tried to open her eyes, but the effort was too great. Her head hurt so much. Where was she? What  <span style=\"color: blue\">had</span> happened? She raised her hand, but it was stopped inches above her body, unable to move any farther.\n",
       "\n",
       "Instinctively she pushed at the overhead barrier, but it did not move. What was it? It felt soft, like satin, and it was cold.\n",
       "\n",
       "She slid her fingers to the side and down; the surface changed. Now it felt ruffled. A quilt? Was she in some kind of bed?\n",
       "\n",
       "She pushed out her other hand to the side and recoiled as that palm immediately encountered the same chill ruffles. They were on both sides of th"
      ],
      "text/plain": [
       "<IPython.core.display.Markdown object>"
      ]
     },
     "metadata": {},
     "output_type": "display_data"
    },
    {
     "data": {
      "text/markdown": [
       "---"
      ],
      "text/plain": [
       "<IPython.core.display.Markdown object>"
      ]
     },
     "metadata": {},
     "output_type": "display_data"
    },
    {
     "data": {
      "text/markdown": [
       "### Love always, Ann Beattie, 1985"
      ],
      "text/plain": [
       "<IPython.core.display.Markdown object>"
      ]
     },
     "metadata": {},
     "output_type": "display_data"
    },
    {
     "data": {
      "text/markdown": [
       "1\n",
       "\n",
       "\n",
       "\n",
       "\n",
       "\n",
       "THE music was appropriate, although Hildon thought this particular version of the song was a downer: Barbra Streisand, singing “Happy Days.” His wife, Maureen, was listening to it to rev herself up for the party. The magazine Hildon  <span style=\"color: blue\">had</span> started two summers ago, Country Daze, had become the hit of tout New York, and today was the day of the annual party. Maureen was the hostess, and as she moved around the backyard, placing conch shells on the tables, she smiled to herself. It was a perfect Vermont day—the last day of June—and she was about to stage another perfect party.\n",
       "\n",
       "The only thing that galled her was that she had to invite Lucy Spenser. Not only was she sure that Lucy and Hildon were lovers, but she knew that Hildon had "
      ],
      "text/plain": [
       "<IPython.core.display.Markdown object>"
      ]
     },
     "metadata": {},
     "output_type": "display_data"
    },
    {
     "data": {
      "text/markdown": [
       "---"
      ],
      "text/plain": [
       "<IPython.core.display.Markdown object>"
      ]
     },
     "metadata": {},
     "output_type": "display_data"
    },
    {
     "data": {
      "text/markdown": [
       "### Love always, Ann Beattie, 1985"
      ],
      "text/plain": [
       "<IPython.core.display.Markdown object>"
      ]
     },
     "metadata": {},
     "output_type": "display_data"
    },
    {
     "data": {
      "text/markdown": [
       "1\n",
       "\n",
       "\n",
       "\n",
       "\n",
       "\n",
       "THE music was appropriate, although Hildon thought this particular version of the song was a downer: Barbra Streisand, singing “Happy Days.” His wife, Maureen, was listening to it to rev herself up for the party. The magazine Hildon had started two summers ago, Country Daze,  <span style=\"color: blue\">had</span> become the hit of tout New York, and today was the day of the annual party. Maureen was the hostess, and as she moved around the backyard, placing conch shells on the tables, she smiled to herself. It was a perfect Vermont day—the last day of June—and she was about to stage another perfect party.\n",
       "\n",
       "The only thing that galled her was that she had to invite Lucy Spenser. Not only was she sure that Lucy and Hildon were lovers, but she knew that Hildon had only married her when he despaired of Lucy’"
      ],
      "text/plain": [
       "<IPython.core.display.Markdown object>"
      ]
     },
     "metadata": {},
     "output_type": "display_data"
    },
    {
     "data": {
      "text/markdown": [
       "---"
      ],
      "text/plain": [
       "<IPython.core.display.Markdown object>"
      ]
     },
     "metadata": {},
     "output_type": "display_data"
    },
    {
     "data": {
      "text/markdown": [
       "### Gringos, Charles Portis, 1991"
      ],
      "text/plain": [
       "<IPython.core.display.Markdown object>"
      ]
     },
     "metadata": {},
     "output_type": "display_data"
    },
    {
     "data": {
      "text/markdown": [
       "\n",
       "\n",
       "\n",
       "\n",
       "CHRISTMAS AGAIN in Yucatán. Another year gone and I was still scratching around on this limestone peninsula. I woke at eight, late for me, wondering where I might find something to eat. Once again there  <span style=\"color: blue\">had</span> been no scramble among the hostesses of Mérida to see who could get me for Christmas dinner. Would the Astro Café be open? The Cocina Económica? The Express? I couldn’t remember from one holiday to the next about these things. A wasp, I saw, was building a nest under my window sill. It was a gray blossom on a stem. Go off for a few days and nature starts creeping back into your little clearing.\n",
       "\n",
       "I bathed and dressed and went downstairs to the lobby. Frau Kobold hadn’t opened her door yet. She h"
      ],
      "text/plain": [
       "<IPython.core.display.Markdown object>"
      ]
     },
     "metadata": {},
     "output_type": "display_data"
    },
    {
     "data": {
      "text/markdown": [
       "---"
      ],
      "text/plain": [
       "<IPython.core.display.Markdown object>"
      ]
     },
     "metadata": {},
     "output_type": "display_data"
    },
    {
     "data": {
      "text/markdown": [
       "### The last sin eater, Francine Rivers, 1998"
      ],
      "text/plain": [
       "<IPython.core.display.Markdown object>"
      ]
     },
     "metadata": {},
     "output_type": "display_data"
    },
    {
     "data": {
      "text/markdown": [
       "\n",
       "\n",
       "Chapter 1\n",
       "\n",
       "\n",
       "\n",
       "\n",
       "\n",
       "GREAT SMOKY MOUNTAINS, MID-1850S\n",
       "\n",
       "The first time I saw the sin eater was the night Granny Forbes was carried to her grave. I was very young and Granny my dearest companion, and I was greatly troubled in my mind.\n",
       "\n",
       "“Dunna look at the sin eater, Cadi,” I’d been told by my pa. “And no be asking why.”\n",
       "\n",
       "Being so grievously forewarned, I tried to obey. Mama said I was accurst with curiosity. Papa said it was pure, cussed nosiness. Only Granny, with her tender spot for me,  <span style=\"color: blue\">had</span> understood.\n",
       "\n",
       "Even the simplest queries were met with resistance. “When you’re older. . . .” “It’s none of your business. . . .” “Why are you asking such a fool question?” The summer before Granny died, I had stopped asking questions of anyone. I reckoned if I were ever going to find answers, I’d have to go looking for myself.\n",
       "\n",
       "Granny was the only one who seemed to understand my mind. She always said I had Ian Forbes’s questing spirit. He was my grandfather, and Granny said that spirit drove him"
      ],
      "text/plain": [
       "<IPython.core.display.Markdown object>"
      ]
     },
     "metadata": {},
     "output_type": "display_data"
    },
    {
     "data": {
      "text/markdown": [
       "---"
      ],
      "text/plain": [
       "<IPython.core.display.Markdown object>"
      ]
     },
     "metadata": {},
     "output_type": "display_data"
    },
    {
     "data": {
      "text/markdown": [
       "### Fer-de-lance, Rex Stout, 1981"
      ],
      "text/plain": [
       "<IPython.core.display.Markdown object>"
      ]
     },
     "metadata": {},
     "output_type": "display_data"
    },
    {
     "data": {
      "text/markdown": [
       "Chapter 1\n",
       "\n",
       "\n",
       "There was no reason why I shouldn’t have been sent for the beer that day, for the last ends of the Fairmont National Bank case  <span style=\"color: blue\">had</span> been gathered in the week before and there was nothing for me to do but errands, and Wolfe never hesitated about running me down to Murray Street for a can of shoe-polish if he happened to need one. But it was Fritz who was sent for the beer. Right after lunch his bell called him up from the kitchen before he could have got the dishes washed, and after getting his orders he went out and took the roadster which we always left parked in front. An hour later he was back, with the rumble seat piled"
      ],
      "text/plain": [
       "<IPython.core.display.Markdown object>"
      ]
     },
     "metadata": {},
     "output_type": "display_data"
    },
    {
     "data": {
      "text/markdown": [
       "---"
      ],
      "text/plain": [
       "<IPython.core.display.Markdown object>"
      ]
     },
     "metadata": {},
     "output_type": "display_data"
    },
    {
     "data": {
      "text/markdown": [
       "### Dixie City jam, James Lee Burke, 1995"
      ],
      "text/plain": [
       "<IPython.core.display.Markdown object>"
      ]
     },
     "metadata": {},
     "output_type": "display_data"
    },
    {
     "data": {
      "text/markdown": [
       "ithout naval escort from the oil refineries at Baton Rouge into the Gulf of Mexico.\n",
       "\n",
       "It was a shooting gallery. Because of wartime censorship the newspapers and radio carried no accounts of the American ships sunk off the Louisiana coast, but just after sunset people could see the oil fires burning on the southern horizon, like a quickening orange smudge low in the winter sky.\n",
       "\n",
       "As a little boy in New Iberia, I heard shrimpers talk about the burned, oil-coated bodies of four merchant sailors who  <span style=\"color: blue\">had</span> been found floating like lumps of coal in an island of kelp, their sightless eyes and poached faces strung with jellyfish.\n",
       "\n",
       "I had nightmares for many years about Nazis, who I imagined as pinch-faced, slit-eyed creatures who lived beneath the waves, not far from my home, and who would eventually impose a diabolical design upon the earth.\n",
       "\n",
       "While scuba diving in college, on a calm, windless day, I accidentally found one of those submarines in sixty feet of water, resting at an angle on its keel, t"
      ],
      "text/plain": [
       "<IPython.core.display.Markdown object>"
      ]
     },
     "metadata": {},
     "output_type": "display_data"
    },
    {
     "data": {
      "text/markdown": [
       "---"
      ],
      "text/plain": [
       "<IPython.core.display.Markdown object>"
      ]
     },
     "metadata": {},
     "output_type": "display_data"
    },
    {
     "data": {
      "text/markdown": [
       "### The Anatolian, Elia Kazan, 1982"
      ],
      "text/plain": [
       "<IPython.core.display.Markdown object>"
      ]
     },
     "metadata": {},
     "output_type": "display_data"
    },
    {
     "data": {
      "text/markdown": [
       "JANUARY 1909\n",
       "\n",
       "\n",
       "Stavros Topouzoglou, the Anatolian, first son of Isaac Topouzoglou, lay in state, his arms folded across his chest, his head supported by an old-country bolster, his face open to the ceiling, not a dead king but the prince of a divided family, their hope on earth.\n",
       "\n",
       "He was asleep, but his breath pumped hard, his brows squeezed into the frown which, at thirty-two,  <span style=\"color: blue\">had</span> become his face. Stavros was dreaming of his father, as he had so often since the day twelve years before when Isaac, the patriarch of a terrified family, had sent his eldest son west, down the road to Ankara, driving a donkey on whose back had been piled the entire wealth of the family. Stavros’s mission: their salvation.\n",
       "\n",
       "Over Stavros’s bed, at its head, was a small framed photograph, a likeness of his father, Isaac. Its face was turned to the wall.\n",
       "\n",
       "On the floor, within reach, were the young"
      ],
      "text/plain": [
       "<IPython.core.display.Markdown object>"
      ]
     },
     "metadata": {},
     "output_type": "display_data"
    },
    {
     "data": {
      "text/markdown": [
       "---"
      ],
      "text/plain": [
       "<IPython.core.display.Markdown object>"
      ]
     },
     "metadata": {},
     "output_type": "display_data"
    },
    {
     "data": {
      "text/markdown": [
       "### The Anatolian, Elia Kazan, 1982"
      ],
      "text/plain": [
       "<IPython.core.display.Markdown object>"
      ]
     },
     "metadata": {},
     "output_type": "display_data"
    },
    {
     "data": {
      "text/markdown": [
       "JANUARY 1909\n",
       "\n",
       "\n",
       "Stavros Topouzoglou, the Anatolian, first son of Isaac Topouzoglou, lay in state, his arms folded across his chest, his head supported by an old-country bolster, his face open to the ceiling, not a dead king but the prince of a divided family, their hope on earth.\n",
       "\n",
       "He was asleep, but his breath pumped hard, his brows squeezed into the frown which, at thirty-two, had become his face. Stavros was dreaming of his father, as he  <span style=\"color: blue\">had</span> so often since the day twelve years before when Isaac, the patriarch of a terrified family, had sent his eldest son west, down the road to Ankara, driving a donkey on whose back had been piled the entire wealth of the family. Stavros’s mission: their salvation.\n",
       "\n",
       "Over Stavros’s bed, at its head, was a small framed photograph, a likeness of his father, Isaac. Its face was turned to the wall.\n",
       "\n",
       "On the floor, within reach, were the young man’s hook-and-eye black shoes and, in one of them, an unsheat"
      ],
      "text/plain": [
       "<IPython.core.display.Markdown object>"
      ]
     },
     "metadata": {},
     "output_type": "display_data"
    },
    {
     "data": {
      "text/markdown": [
       "---"
      ],
      "text/plain": [
       "<IPython.core.display.Markdown object>"
      ]
     },
     "metadata": {},
     "output_type": "display_data"
    },
    {
     "data": {
      "text/markdown": [
       "### The Anatolian, Elia Kazan, 1982"
      ],
      "text/plain": [
       "<IPython.core.display.Markdown object>"
      ]
     },
     "metadata": {},
     "output_type": "display_data"
    },
    {
     "data": {
      "text/markdown": [
       " Anatolian, first son of Isaac Topouzoglou, lay in state, his arms folded across his chest, his head supported by an old-country bolster, his face open to the ceiling, not a dead king but the prince of a divided family, their hope on earth.\n",
       "\n",
       "He was asleep, but his breath pumped hard, his brows squeezed into the frown which, at thirty-two, had become his face. Stavros was dreaming of his father, as he had so often since the day twelve years before when Isaac, the patriarch of a terrified family,  <span style=\"color: blue\">had</span> sent his eldest son west, down the road to Ankara, driving a donkey on whose back had been piled the entire wealth of the family. Stavros’s mission: their salvation.\n",
       "\n",
       "Over Stavros’s bed, at its head, was a small framed photograph, a likeness of his father, Isaac. Its face was turned to the wall.\n",
       "\n",
       "On the floor, within reach, were the young man’s hook-and-eye black shoes and, in one of them, an unsheathed knife. Its end was square but its edge honed sharp, the blade weavers use to trim the wool k"
      ],
      "text/plain": [
       "<IPython.core.display.Markdown object>"
      ]
     },
     "metadata": {},
     "output_type": "display_data"
    },
    {
     "data": {
      "text/markdown": [
       "---"
      ],
      "text/plain": [
       "<IPython.core.display.Markdown object>"
      ]
     },
     "metadata": {},
     "output_type": "display_data"
    },
    {
     "data": {
      "text/markdown": [
       "### The Anatolian, Elia Kazan, 1982"
      ],
      "text/plain": [
       "<IPython.core.display.Markdown object>"
      ]
     },
     "metadata": {},
     "output_type": "display_data"
    },
    {
     "data": {
      "text/markdown": [
       "hest, his head supported by an old-country bolster, his face open to the ceiling, not a dead king but the prince of a divided family, their hope on earth.\n",
       "\n",
       "He was asleep, but his breath pumped hard, his brows squeezed into the frown which, at thirty-two, had become his face. Stavros was dreaming of his father, as he had so often since the day twelve years before when Isaac, the patriarch of a terrified family, had sent his eldest son west, down the road to Ankara, driving a donkey on whose back  <span style=\"color: blue\">had</span> been piled the entire wealth of the family. Stavros’s mission: their salvation.\n",
       "\n",
       "Over Stavros’s bed, at its head, was a small framed photograph, a likeness of his father, Isaac. Its face was turned to the wall.\n",
       "\n",
       "On the floor, within reach, were the young man’s hook-and-eye black shoes and, in one of them, an unsheathed knife. Its end was square but its edge honed sharp, the blade weavers use to trim the wool knots of the rugs they work. Stavros had carried it ever since his days as a hamal on t"
      ],
      "text/plain": [
       "<IPython.core.display.Markdown object>"
      ]
     },
     "metadata": {},
     "output_type": "display_data"
    },
    {
     "data": {
      "text/markdown": [
       "---"
      ],
      "text/plain": [
       "<IPython.core.display.Markdown object>"
      ]
     },
     "metadata": {},
     "output_type": "display_data"
    },
    {
     "data": {
      "text/markdown": [
       "### The Anatolian, Elia Kazan, 1982"
      ],
      "text/plain": [
       "<IPython.core.display.Markdown object>"
      ]
     },
     "metadata": {},
     "output_type": "display_data"
    },
    {
     "data": {
      "text/markdown": [
       "road to Ankara, driving a donkey on whose back had been piled the entire wealth of the family. Stavros’s mission: their salvation.\n",
       "\n",
       "Over Stavros’s bed, at its head, was a small framed photograph, a likeness of his father, Isaac. Its face was turned to the wall.\n",
       "\n",
       "On the floor, within reach, were the young man’s hook-and-eye black shoes and, in one of them, an unsheathed knife. Its end was square but its edge honed sharp, the blade weavers use to trim the wool knots of the rugs they work. Stavros  <span style=\"color: blue\">had</span> carried it ever since his days as a hamal on the Constantinople waterfront.\n",
       "\n",
       "On the floor, at the foot of the bed, lay a woman. The Anatolian slept alone. If you were a female on the island of Manhattan in the year 1909 and Stavros Topouzoglou brought you home, what sleeping you did you would do on the floor. There he’d spread a hard-knot kilim and in the course of the night’s shuffling his guest would move, or be moved, from the bed to the humbler place.\n",
       "\n",
       "It was a bitter January in New York af"
      ],
      "text/plain": [
       "<IPython.core.display.Markdown object>"
      ]
     },
     "metadata": {},
     "output_type": "display_data"
    },
    {
     "data": {
      "text/markdown": [
       "---"
      ],
      "text/plain": [
       "<IPython.core.display.Markdown object>"
      ]
     },
     "metadata": {},
     "output_type": "display_data"
    },
    {
     "data": {
      "text/markdown": [
       "### The death of sleep, Anne McCaffrey, 1990"
      ],
      "text/plain": [
       "<IPython.core.display.Markdown object>"
      ]
     },
     "metadata": {},
     "output_type": "display_data"
    },
    {
     "data": {
      "text/markdown": [
       "Chapter One\n",
       "\n",
       "\n",
       "\n",
       "\n",
       "\n",
       "The single engaged engine of the empty spherical ore carrier thrummed hollowly through the hull. It set the decks and bulkheads of the personnel quarters vibrating at a frequency which at first, depending on one's mood, could be soothing or irritating. After four weeks aboard the Tau Ceti registered mining vessel Nellie Mine, Lunzie Mespil  <span style=\"color: blue\">had</span> to think about it to remember that the hum was there at all. When she first boarded, as the newly hired doctor for the Descartes Mining Platform Number 6, the sound drove her halfway to distraction. There wasn't much to do except read and sleep and listen, or rather, feel the engine noise. Later, she discovered that the sound was conducive to easy sleep and relaxation, like being aboard a gently swaying monorail passenger carrier. Whether her fellow employees knew it or not, one of the chief re"
      ],
      "text/plain": [
       "<IPython.core.display.Markdown object>"
      ]
     },
     "metadata": {},
     "output_type": "display_data"
    },
    {
     "data": {
      "text/markdown": [
       "---"
      ],
      "text/plain": [
       "<IPython.core.display.Markdown object>"
      ]
     },
     "metadata": {},
     "output_type": "display_data"
    },
    {
     "data": {
      "text/markdown": [
       "### The mysteries of Pittsburgh, Michael Chabon, 1988"
      ],
      "text/plain": [
       "<IPython.core.display.Markdown object>"
      ]
     },
     "metadata": {},
     "output_type": "display_data"
    },
    {
     "data": {
      "text/markdown": [
       "1\n",
       "\n",
       "\n",
       "ELEVATOR GOING UP\n",
       "\n",
       "\n",
       "AT THE BEGINNING OF the summer I  <span style=\"color: blue\">had</span> lunch with my father, the gangster, who was in town for the weekend to transact some of his vague business. We’d just come to the end of a period of silence and ill will—a year I’d spent in love with and in the same apartment as an odd, fragile girl whom he had loathed, on sight, with a frankness and a fury that were not at all like him. But Claire had moved out the month before. Neither my father nor I knew what to do with our new freedom.\n",
       "\n",
       "“I saw Lenny Stern this morning,” he said. “He asked "
      ],
      "text/plain": [
       "<IPython.core.display.Markdown object>"
      ]
     },
     "metadata": {},
     "output_type": "display_data"
    },
    {
     "data": {
      "text/markdown": [
       "---"
      ],
      "text/plain": [
       "<IPython.core.display.Markdown object>"
      ]
     },
     "metadata": {},
     "output_type": "display_data"
    },
    {
     "data": {
      "text/markdown": [
       "### The mysteries of Pittsburgh, Michael Chabon, 1988"
      ],
      "text/plain": [
       "<IPython.core.display.Markdown object>"
      ]
     },
     "metadata": {},
     "output_type": "display_data"
    },
    {
     "data": {
      "text/markdown": [
       "1\n",
       "\n",
       "\n",
       "ELEVATOR GOING UP\n",
       "\n",
       "\n",
       "AT THE BEGINNING OF the summer I had lunch with my father, the gangster, who was in town for the weekend to transact some of his vague business. We’d just come to the end of a period of silence and ill will—a year I’d spent in love with and in the same apartment as an odd, fragile girl whom he  <span style=\"color: blue\">had</span> loathed, on sight, with a frankness and a fury that were not at all like him. But Claire had moved out the month before. Neither my father nor I knew what to do with our new freedom.\n",
       "\n",
       "“I saw Lenny Stern this morning,” he said. “He asked after you. You remember your Uncle Lenny.”\n",
       "\n",
       "“Sure,” I said, and I thought for a second about Uncle Lenny, juggling three sandwich halves in the back room of his five-and-dime in the Hill District a million years ago.\n",
       "\n",
       "I was nervous and drank more than I ate; my "
      ],
      "text/plain": [
       "<IPython.core.display.Markdown object>"
      ]
     },
     "metadata": {},
     "output_type": "display_data"
    },
    {
     "data": {
      "text/markdown": [
       "---"
      ],
      "text/plain": [
       "<IPython.core.display.Markdown object>"
      ]
     },
     "metadata": {},
     "output_type": "display_data"
    },
    {
     "data": {
      "text/markdown": [
       "### Isabella, Loretta Lynda Chase, 1987"
      ],
      "text/plain": [
       "<IPython.core.display.Markdown object>"
      ]
     },
     "metadata": {},
     "output_type": "display_data"
    },
    {
     "data": {
      "text/markdown": [
       "Chapter One\n",
       "\n",
       "\n",
       "\"Disappeared!\" the earl repeated, in a dangerously quiet voice. \"What the devil do you mean, 'disappeared'? Seven-year-old girls don't just vanish.\"\n",
       "\n",
       "The thin governess trembled. She  <span style=\"color: blue\">had</span> never heard quite that tone from her employer before, and would have preferred that he shout at her, for his suppressed fury was far more terrifying. Edward Trevelyan, seventh Earl of Hartleigh, was an extremely handsome man whose warm brown eyes had often set Miss Carter's forty-year-old heart aflutter. But at the moment, the brown eyes glittered down at her with barely contained rage. And though his voice was low, the temper he so carefully controlled showed in his long fingers, which now, as"
      ],
      "text/plain": [
       "<IPython.core.display.Markdown object>"
      ]
     },
     "metadata": {},
     "output_type": "display_data"
    },
    {
     "data": {
      "text/markdown": [
       "---"
      ],
      "text/plain": [
       "<IPython.core.display.Markdown object>"
      ]
     },
     "metadata": {},
     "output_type": "display_data"
    },
    {
     "data": {
      "text/markdown": [
       "### Cold fire, Dean Koontz, 1991"
      ],
      "text/plain": [
       "<IPython.core.display.Markdown object>"
      ]
     },
     "metadata": {},
     "output_type": "display_data"
    },
    {
     "data": {
      "text/markdown": [
       " known trouble was coming. During the night he dreamed of being pursued across a field by a flock of large blackbirds that shrieked around him in a turbulent flapping of wings and tore at him with hooked beaks as precision-honed as surgical scalpels. When he woke and was unable to breathe, he shuffled onto the balcony in his pajama bottoms to get some fresh air. But at nine-thirty in the morning, the temperature, already ninety degrees, only contributed to the sense of suffocation with which he  <span style=\"color: blue\">had</span> awakened.\n",
       "\n",
       "A long shower and a shave refreshed him.\n",
       "\n",
       "The refrigerator contained only part of a moldering Sara Lee cake. It resembled a laboratory culture of some new, exquisitely virulent strain of botulinus. He could either starve or go out into the furnace heat.\n",
       "\n",
       "The August day was so torrid that birds, beyond the boundaries of bad dreams, preferred the bowers of the trees to the sun-scorched open spaces of the southern California sky; they sat silently in their leafy shelters, chirruping rar"
      ],
      "text/plain": [
       "<IPython.core.display.Markdown object>"
      ]
     },
     "metadata": {},
     "output_type": "display_data"
    },
    {
     "data": {
      "text/markdown": [
       "---"
      ],
      "text/plain": [
       "<IPython.core.display.Markdown object>"
      ]
     },
     "metadata": {},
     "output_type": "display_data"
    },
    {
     "data": {
      "text/markdown": [
       "### A death in China, William D Montalbano, 1984"
      ],
      "text/plain": [
       "<IPython.core.display.Markdown object>"
      ]
     },
     "metadata": {},
     "output_type": "display_data"
    },
    {
     "data": {
      "text/markdown": [
       "Prologue\n",
       "\n",
       "\n",
       "\n",
       "\n",
       "CHANGAN, CHINA, 213 B.C.\n",
       "\n",
       "“WHERE IS CONFUCIUS?” the emperor demanded.\n",
       "\n",
       "Princes, nobles, councillors, generals, diplomats, servants and eunuch-ministers mimicked the emperor’s angry mien. Square-jawed, flint-eyed, they stared at the cluster of old men whose robes and formal bearing marked them as scholars. Silence wrapped the throne room. It was not a question to be answered. Everybody knew Confucius  <span style=\"color: blue\">had</span> been dead nearly three hundred years.\n",
       "\n",
       "“Is Confucius in heaven? Where is heaven? What do your books tell you? Is he a bush, or a river, or a bird that flies through the forest? Does he live still? Tell me, scholars.”\n",
       "\n",
       "The eldest scholar, gnarled as the cane he clutched with both hands, responded in a voice that held no fear.\n",
       "\n",
       "“Where the master is we cannot say. But his spirit is among us men.”\n",
       "\n",
       "“You know nothing!” the emperor snapped. “Am I then just a man, like any other?”\n",
       "\n",
       "“You are foremost a"
      ],
      "text/plain": [
       "<IPython.core.display.Markdown object>"
      ]
     },
     "metadata": {},
     "output_type": "display_data"
    },
    {
     "data": {
      "text/markdown": [
       "---"
      ],
      "text/plain": [
       "<IPython.core.display.Markdown object>"
      ]
     },
     "metadata": {},
     "output_type": "display_data"
    },
    {
     "data": {
      "text/markdown": [
       "### The gamble, LaVyrle Spencer, 1987"
      ],
      "text/plain": [
       "<IPython.core.display.Markdown object>"
      ]
     },
     "metadata": {},
     "output_type": "display_data"
    },
    {
     "data": {
      "text/markdown": [
       "ight next door selling spirits and encouraging honest men to squander their hard-earned money at gambling. Now it was pictures of naked women!\n",
       "\n",
       "Aghast, she pressed a hand to her boned corsets and watched the jovial band of ne’er-do-wells coming her way. Shouting ribald accolades, they jostled their way toward the Gilded Cage Saloon, bearing the framed canvas on their shoulders. The street was wide and muddy; it took them some time to cross. Before they were halfway, all the men on the boardwalk  <span style=\"color: blue\">had</span> joined them, hooting, doffing their hats, paying lewd homage to the Rubenesque nude. The closer they got, the tighter Agatha pressed her corsets to herself.\n",
       "\n",
       "The disgraceful figure stood a good six feet high with arms raised to heaven as if waiting to ascend—full front, voluptuous, and naked as a fresh-hatched jaybird.\n",
       "\n",
       "Agatha dropped her glance from the disgusting spectacle.\n",
       "\n",
       "Heaven, indeed! The entire lot of them were bound in the other direction. And, it appeared, they were aiming to take th"
      ],
      "text/plain": [
       "<IPython.core.display.Markdown object>"
      ]
     },
     "metadata": {},
     "output_type": "display_data"
    },
    {
     "data": {
      "text/markdown": [
       "---"
      ],
      "text/plain": [
       "<IPython.core.display.Markdown object>"
      ]
     },
     "metadata": {},
     "output_type": "display_data"
    },
    {
     "data": {
      "text/markdown": [
       "### The plains of passage, Jean M Auel, 1990"
      ],
      "text/plain": [
       "<IPython.core.display.Markdown object>"
      ]
     },
     "metadata": {},
     "output_type": "display_data"
    },
    {
     "data": {
      "text/markdown": [
       "1\n",
       "\n",
       "\n",
       "The woman caught a glimpse of movement through the dusty haze ahead and wondered if it was the wolf she  <span style=\"color: blue\">had</span> seen loping in front of them earlier.\n",
       "\n",
       "She glanced at her companion with a worried frown, then looked for the wolf again, straining to see through the blowing dust. “Jondalar! Look!” she said, pointing ahead.\n",
       "\n",
       "Toward her left, the vague outlines of several conical tents could just be seen through the dry, gritty wind.\n",
       "\n",
       "The wolf was stalking some two-legged creatures that had begun to materialize out of the dusty air, carrying spears aimed directly at them.\n",
       "\n",
       "“I think we’ve reached the river, but"
      ],
      "text/plain": [
       "<IPython.core.display.Markdown object>"
      ]
     },
     "metadata": {},
     "output_type": "display_data"
    },
    {
     "data": {
      "text/markdown": [
       "---"
      ],
      "text/plain": [
       "<IPython.core.display.Markdown object>"
      ]
     },
     "metadata": {},
     "output_type": "display_data"
    },
    {
     "data": {
      "text/markdown": [
       "### The plains of passage, Jean M Auel, 1990"
      ],
      "text/plain": [
       "<IPython.core.display.Markdown object>"
      ]
     },
     "metadata": {},
     "output_type": "display_data"
    },
    {
     "data": {
      "text/markdown": [
       "1\n",
       "\n",
       "\n",
       "The woman caught a glimpse of movement through the dusty haze ahead and wondered if it was the wolf she had seen loping in front of them earlier.\n",
       "\n",
       "She glanced at her companion with a worried frown, then looked for the wolf again, straining to see through the blowing dust. “Jondalar! Look!” she said, pointing ahead.\n",
       "\n",
       "Toward her left, the vague outlines of several conical tents could just be seen through the dry, gritty wind.\n",
       "\n",
       "The wolf was stalking some two-legged creatures that  <span style=\"color: blue\">had</span> begun to materialize out of the dusty air, carrying spears aimed directly at them.\n",
       "\n",
       "“I think we’ve reached the river, but I don’t think we’re the only ones who wanted to camp there, Ayla,” the man said, pulling on the lead rein to halt his horse.\n",
       "\n",
       "The woman signaled her horse to a stop by tightening a thigh muscle, exerting a subtle pressure that was so reflexive she didn’t even think of it as controlling the animal.\n",
       "\n",
       "Ayla heard a menacing growl from deep in the wolf’s throat and saw that his p"
      ],
      "text/plain": [
       "<IPython.core.display.Markdown object>"
      ]
     },
     "metadata": {},
     "output_type": "display_data"
    },
    {
     "data": {
      "text/markdown": [
       "---"
      ],
      "text/plain": [
       "<IPython.core.display.Markdown object>"
      ]
     },
     "metadata": {},
     "output_type": "display_data"
    },
    {
     "data": {
      "text/markdown": [
       "### The plains of passage, Jean M Auel, 1990"
      ],
      "text/plain": [
       "<IPython.core.display.Markdown object>"
      ]
     },
     "metadata": {},
     "output_type": "display_data"
    },
    {
     "data": {
      "text/markdown": [
       "to materialize out of the dusty air, carrying spears aimed directly at them.\n",
       "\n",
       "“I think we’ve reached the river, but I don’t think we’re the only ones who wanted to camp there, Ayla,” the man said, pulling on the lead rein to halt his horse.\n",
       "\n",
       "The woman signaled her horse to a stop by tightening a thigh muscle, exerting a subtle pressure that was so reflexive she didn’t even think of it as controlling the animal.\n",
       "\n",
       "Ayla heard a menacing growl from deep in the wolf’s throat and saw that his posture  <span style=\"color: blue\">had</span> shifted from a defensive stance to an aggressive one. He was ready to attack! She whistled, a sharp, distinctive sound that resembled a bird call, though not from a bird anyone had ever heard. The wolf gave up his stealthy pursuit and bounded toward the woman astride the horse.\n",
       "\n",
       "“Wolf, stay close!” she said, signaling with her hand at the same time. The wolf trotted beside the dun-yellow mare as the woman and man on horseback slowly approached the people standing between them and the tents.\n",
       "\n",
       "A "
      ],
      "text/plain": [
       "<IPython.core.display.Markdown object>"
      ]
     },
     "metadata": {},
     "output_type": "display_data"
    },
    {
     "data": {
      "text/markdown": [
       "---"
      ],
      "text/plain": [
       "<IPython.core.display.Markdown object>"
      ]
     },
     "metadata": {},
     "output_type": "display_data"
    },
    {
     "data": {
      "text/markdown": [
       "### The plains of passage, Jean M Auel, 1990"
      ],
      "text/plain": [
       "<IPython.core.display.Markdown object>"
      ]
     },
     "metadata": {},
     "output_type": "display_data"
    },
    {
     "data": {
      "text/markdown": [
       "” the man said, pulling on the lead rein to halt his horse.\n",
       "\n",
       "The woman signaled her horse to a stop by tightening a thigh muscle, exerting a subtle pressure that was so reflexive she didn’t even think of it as controlling the animal.\n",
       "\n",
       "Ayla heard a menacing growl from deep in the wolf’s throat and saw that his posture had shifted from a defensive stance to an aggressive one. He was ready to attack! She whistled, a sharp, distinctive sound that resembled a bird call, though not from a bird anyone  <span style=\"color: blue\">had</span> ever heard. The wolf gave up his stealthy pursuit and bounded toward the woman astride the horse.\n",
       "\n",
       "“Wolf, stay close!” she said, signaling with her hand at the same time. The wolf trotted beside the dun-yellow mare as the woman and man on horseback slowly approached the people standing between them and the tents.\n",
       "\n",
       "A gusty, fitful wind, holding the fine loess soil in suspension, swirled around them, obscuring their view of the spear holders. Ayla lifted her leg over and slid down from the horse’"
      ],
      "text/plain": [
       "<IPython.core.display.Markdown object>"
      ]
     },
     "metadata": {},
     "output_type": "display_data"
    },
    {
     "data": {
      "text/markdown": [
       "---"
      ],
      "text/plain": [
       "<IPython.core.display.Markdown object>"
      ]
     },
     "metadata": {},
     "output_type": "display_data"
    },
    {
     "data": {
      "text/markdown": [
       "### Servant of the dragon, David Drake, 1999"
      ],
      "text/plain": [
       "<IPython.core.display.Markdown object>"
      ]
     },
     "metadata": {},
     "output_type": "display_data"
    },
    {
     "data": {
      "text/markdown": [
       "\n",
       "\n",
       "\n",
       "Prologue\n",
       "\n",
       "\n",
       "The deeps trembled, shaking a belfry which  <span style=\"color: blue\">had</span> not moved for a thousand years. Eels with glassy flesh and huge, staring eyes twisted, touched by fear of the power focused on the sunken island. Cold light pulsed across their slender bodies.\n",
       "\n",
       "A bell rang, sending its note over the sunken city. It had been cast from the bronze rams of warships captured by the first Duke of Yole. A tripod fish lifted its long pelvic fins from the bottom and swam off with stiff sweeps of its tail.\n",
       "\n",
       "Ammonites, the Great Ones of the Deep, swam slowly toward the so"
      ],
      "text/plain": [
       "<IPython.core.display.Markdown object>"
      ]
     },
     "metadata": {},
     "output_type": "display_data"
    },
    {
     "data": {
      "text/markdown": [
       "---"
      ],
      "text/plain": [
       "<IPython.core.display.Markdown object>"
      ]
     },
     "metadata": {},
     "output_type": "display_data"
    },
    {
     "data": {
      "text/markdown": [
       "### Servant of the dragon, David Drake, 1999"
      ],
      "text/plain": [
       "<IPython.core.display.Markdown object>"
      ]
     },
     "metadata": {},
     "output_type": "display_data"
    },
    {
     "data": {
      "text/markdown": [
       "\n",
       "\n",
       "\n",
       "Prologue\n",
       "\n",
       "\n",
       "The deeps trembled, shaking a belfry which had not moved for a thousand years. Eels with glassy flesh and huge, staring eyes twisted, touched by fear of the power focused on the sunken island. Cold light pulsed across their slender bodies.\n",
       "\n",
       "A bell rang, sending its note over the sunken city. It  <span style=\"color: blue\">had</span> been cast from the bronze rams of warships captured by the first Duke of Yole. A tripod fish lifted its long pelvic fins from the bottom and swam off with stiff sweeps of its tail.\n",
       "\n",
       "Ammonites, the Great Ones of the Deep, swam slowly toward the sound. They had tentacles like cuttlefish and shells coiled like rams’ horns. The largest of them were the size of a ship.\n",
       "\n",
       "The powers supporting the cosmos shifted, sending shudders through a city which nothing had touched for a millennium. The bell rang"
      ],
      "text/plain": [
       "<IPython.core.display.Markdown object>"
      ]
     },
     "metadata": {},
     "output_type": "display_data"
    },
    {
     "data": {
      "text/markdown": [
       "---"
      ],
      "text/plain": [
       "<IPython.core.display.Markdown object>"
      ]
     },
     "metadata": {},
     "output_type": "display_data"
    },
    {
     "data": {
      "text/markdown": [
       "### Servant of the dragon, David Drake, 1999"
      ],
      "text/plain": [
       "<IPython.core.display.Markdown object>"
      ]
     },
     "metadata": {},
     "output_type": "display_data"
    },
    {
     "data": {
      "text/markdown": [
       " for a thousand years. Eels with glassy flesh and huge, staring eyes twisted, touched by fear of the power focused on the sunken island. Cold light pulsed across their slender bodies.\n",
       "\n",
       "A bell rang, sending its note over the sunken city. It had been cast from the bronze rams of warships captured by the first Duke of Yole. A tripod fish lifted its long pelvic fins from the bottom and swam off with stiff sweeps of its tail.\n",
       "\n",
       "Ammonites, the Great Ones of the Deep, swam slowly toward the sound. They  <span style=\"color: blue\">had</span> tentacles like cuttlefish and shells coiled like rams’ horns. The largest of them were the size of a ship.\n",
       "\n",
       "The powers supporting the cosmos shifted, sending shudders through a city which nothing had touched for a millennium. The bell rang a furious tocsin over Yole.\n",
       "\n",
       "The island was rising.\n",
       "\n",
       "The Great Ones’ tentacles waved like forests of serpents in time with words agitating the sea. In daylight their curled shells would shimmer with all the colors of the sun. Here the only light was the dista"
      ],
      "text/plain": [
       "<IPython.core.display.Markdown object>"
      ]
     },
     "metadata": {},
     "output_type": "display_data"
    },
    {
     "data": {
      "text/markdown": [
       "---"
      ],
      "text/plain": [
       "<IPython.core.display.Markdown object>"
      ]
     },
     "metadata": {},
     "output_type": "display_data"
    },
    {
     "data": {
      "text/markdown": [
       "### Servant of the dragon, David Drake, 1999"
      ],
      "text/plain": [
       "<IPython.core.display.Markdown object>"
      ]
     },
     "metadata": {},
     "output_type": "display_data"
    },
    {
     "data": {
      "text/markdown": [
       "nding its note over the sunken city. It had been cast from the bronze rams of warships captured by the first Duke of Yole. A tripod fish lifted its long pelvic fins from the bottom and swam off with stiff sweeps of its tail.\n",
       "\n",
       "Ammonites, the Great Ones of the Deep, swam slowly toward the sound. They had tentacles like cuttlefish and shells coiled like rams’ horns. The largest of them were the size of a ship.\n",
       "\n",
       "The powers supporting the cosmos shifted, sending shudders through a city which nothing  <span style=\"color: blue\">had</span> touched for a millennium. The bell rang a furious tocsin over Yole.\n",
       "\n",
       "The island was rising.\n",
       "\n",
       "The Great Ones’ tentacles waved like forests of serpents in time with words agitating the sea. In daylight their curled shells would shimmer with all the colors of the sun. Here the only light was the distant shimmer of a viperfish flashing in terror as it fled.\n",
       "\n",
       "The dead lay in the streets, sprawled as they had fallen. Over them were scattered roof tiles and the rubble of walls which collapsed as the c"
      ],
      "text/plain": [
       "<IPython.core.display.Markdown object>"
      ]
     },
     "metadata": {},
     "output_type": "display_data"
    },
    {
     "data": {
      "text/markdown": [
       "---"
      ],
      "text/plain": [
       "<IPython.core.display.Markdown object>"
      ]
     },
     "metadata": {},
     "output_type": "display_data"
    },
    {
     "data": {
      "text/markdown": [
       "### Servant of the dragon, David Drake, 1999"
      ],
      "text/plain": [
       "<IPython.core.display.Markdown object>"
      ]
     },
     "metadata": {},
     "output_type": "display_data"
    },
    {
     "data": {
      "text/markdown": [
       "ip.\n",
       "\n",
       "The powers supporting the cosmos shifted, sending shudders through a city which nothing had touched for a millennium. The bell rang a furious tocsin over Yole.\n",
       "\n",
       "The island was rising.\n",
       "\n",
       "The Great Ones’ tentacles waved like forests of serpents in time with words agitating the sea. In daylight their curled shells would shimmer with all the colors of the sun. Here the only light was the distant shimmer of a viperfish flashing in terror as it fled.\n",
       "\n",
       "The dead lay in the streets, sprawled as they  <span style=\"color: blue\">had</span> fallen. Over them were scattered roof tiles and the rubble of walls which collapsed as the city sank. Onrushing water had choked their screams, and their outstretched arms clutched for a salvation which had eluded them.\n",
       "\n",
       "The bodies had not decayed: these cold depths were as hostile to the minute agents of corruption as they were to humans. Some corpses had been savaged by great-fanged seawolves which had swept into the city on the crest of the engulfing wave; other victims had been pulled into "
      ],
      "text/plain": [
       "<IPython.core.display.Markdown object>"
      ]
     },
     "metadata": {},
     "output_type": "display_data"
    },
    {
     "data": {
      "text/markdown": [
       "---"
      ],
      "text/plain": [
       "<IPython.core.display.Markdown object>"
      ]
     },
     "metadata": {},
     "output_type": "display_data"
    },
    {
     "data": {
      "text/markdown": [
       "### The man who walked like a bear, Stuart M Kaminsky, 1990"
      ],
      "text/plain": [
       "<IPython.core.display.Markdown object>"
      ]
     },
     "metadata": {},
     "output_type": "display_data"
    },
    {
     "data": {
      "text/markdown": [
       "ONE\n",
       "\n",
       "\n",
       "PORFIRY PETROVICH ROSTNIKOV SAT in a rough but apparently sturdy wooden chair in ward three on the third floor of the September 1947 Hospital a little over twelve miles outside of Moscow. The September 1947 Hospital got its name from the fact that the city of Moscow was eight hundred years old in the year 1947. The citizens of Moscow  <span style=\"color: blue\">had</span> celebrated, cheered, drunk, and wept that their city had survived the war, the Nazis, the antirevolutionary forces.\n",
       "\n",
       "People had hugged strangers in the street, and Porfiry Petrovich Rostnikov, an army veteran at age fifteen with a leg badly mangled in an encounter with a German tank, had sat on a stone bench in front of the Pashkov Mansion, which had become the Lenin Library. The leg had been patched, sawed, stretched, sewn, and supported, and Rostnikov had worked dutifully to use the appendage"
      ],
      "text/plain": [
       "<IPython.core.display.Markdown object>"
      ]
     },
     "metadata": {},
     "output_type": "display_data"
    },
    {
     "data": {
      "text/markdown": [
       "---"
      ],
      "text/plain": [
       "<IPython.core.display.Markdown object>"
      ]
     },
     "metadata": {},
     "output_type": "display_data"
    },
    {
     "data": {
      "text/markdown": [
       "### Bucking the sun, Ivan Doig, 1996"
      ],
      "text/plain": [
       "<IPython.core.display.Markdown object>"
      ]
     },
     "metadata": {},
     "output_type": "display_data"
    },
    {
     "data": {
      "text/markdown": [
       "\n",
       "\n",
       "Part One\n",
       "\n",
       "\n",
       "\n",
       "\n",
       "\n",
       "THE SHERIFF\n",
       "\n",
       "\n",
       "1938\n",
       "\n",
       "\n",
       "Selfmade men always do a lopsided job of it, and the sheriff  <span style=\"color: blue\">had</span> come out conspicuously short on the capacity to sympathize with anyone but himself. No doubt ears still were burning at the Fort Peck end of the telephone connection; he’d had to tell that overgrown sap of an undersheriff he didn’t give a good goddamn what the night foreman said about dangerous, get the thing fished out of the river if it meant using every last piece of equipment at the dam site. This was what he was up against all the time, the sheriff commiserated with himself during the driv"
      ],
      "text/plain": [
       "<IPython.core.display.Markdown object>"
      ]
     },
     "metadata": {},
     "output_type": "display_data"
    },
    {
     "data": {
      "text/markdown": [
       "---"
      ],
      "text/plain": [
       "<IPython.core.display.Markdown object>"
      ]
     },
     "metadata": {},
     "output_type": "display_data"
    },
    {
     "data": {
      "text/markdown": [
       "### Bucking the sun, Ivan Doig, 1996"
      ],
      "text/plain": [
       "<IPython.core.display.Markdown object>"
      ]
     },
     "metadata": {},
     "output_type": "display_data"
    },
    {
     "data": {
      "text/markdown": [
       "\n",
       "\n",
       "Part One\n",
       "\n",
       "\n",
       "\n",
       "\n",
       "\n",
       "THE SHERIFF\n",
       "\n",
       "\n",
       "1938\n",
       "\n",
       "\n",
       "Selfmade men always do a lopsided job of it, and the sheriff had come out conspicuously short on the capacity to sympathize with anyone but himself. No doubt ears still were burning at the Fort Peck end of the telephone connection; he’d  <span style=\"color: blue\">had</span> to tell that overgrown sap of an undersheriff he didn’t give a good goddamn what the night foreman said about dangerous, get the thing fished out of the river if it meant using every last piece of equipment at the dam site. This was what he was up against all the time, the sheriff commiserated with himself during the drive from Glasgow now, toward dawn. People never behaving one bit better than they could get away with.\n",
       "\n",
       "Die of eyelids, you could on this monotonous stretch of highway down to th"
      ],
      "text/plain": [
       "<IPython.core.display.Markdown object>"
      ]
     },
     "metadata": {},
     "output_type": "display_data"
    },
    {
     "data": {
      "text/markdown": [
       "---"
      ],
      "text/plain": [
       "<IPython.core.display.Markdown object>"
      ]
     },
     "metadata": {},
     "output_type": "display_data"
    },
    {
     "data": {
      "text/markdown": [
       "### Bucking the sun, Ivan Doig, 1996"
      ],
      "text/plain": [
       "<IPython.core.display.Markdown object>"
      ]
     },
     "metadata": {},
     "output_type": "display_data"
    },
    {
     "data": {
      "text/markdown": [
       "ment at the dam site. This was what he was up against all the time, the sheriff commiserated with himself during the drive from Glasgow now, toward dawn. People never behaving one bit better than they could get away with.\n",
       "\n",
       "Die of eyelids, you could on this monotonous stretch of highway down to the dam, he reminded himself, and cranked open the window for night air to help keep him awake. He’d been up until all hours, sheriffing the town of Glasgow through the boisterous end of another week, and  <span style=\"color: blue\">had</span> barely hit bed when the telephone jangled. Catch up on sleep, the stupid saying went, but in five years as sheriff he had yet to see any evidence that the world worked that way, ever made it up to you for postponement of shuteye and all the other—\n",
       "\n",
       "The cat-yellow shapes of bulldozers sprang huge into his headlights, causing him to blink and brake hard as he steered onto the approach to the dam. Past the bulks of earthmoving equipment parked for the night, on the rail spur stood a waiting parade"
      ],
      "text/plain": [
       "<IPython.core.display.Markdown object>"
      ]
     },
     "metadata": {},
     "output_type": "display_data"
    },
    {
     "data": {
      "text/markdown": [
       "---"
      ],
      "text/plain": [
       "<IPython.core.display.Markdown object>"
      ]
     },
     "metadata": {},
     "output_type": "display_data"
    },
    {
     "data": {
      "text/markdown": [
       "### Adiamante, L. E. Modesitt, 1996"
      ],
      "text/plain": [
       "<IPython.core.display.Markdown object>"
      ]
     },
     "metadata": {},
     "output_type": "display_data"
    },
    {
     "data": {
      "text/markdown": [
       "\n",
       "\n",
       "\n",
       "\n",
       "I\n",
       "\n",
       "If the conversation  <span style=\"color: blue\">had</span> been offline and spoken, neither of which was possible within the working systems contained in the adiamante hull of the Gibson, the words would have followed old patterns, patterns based on the spoken words that seldom echoed within the bulkheads and networks of the Vereal ship.\n",
       "\n",
       "“Are you certain?”\n",
       "\n",
       "“It’s Old Earth, all right. The geography is within parameters,” answered the cybnav, but since all the crew members—especially the line marines—were cybs, her tag on the net was nav, navigator, su"
      ],
      "text/plain": [
       "<IPython.core.display.Markdown object>"
      ]
     },
     "metadata": {},
     "output_type": "display_data"
    },
    {
     "data": {
      "text/markdown": [
       "---"
      ],
      "text/plain": [
       "<IPython.core.display.Markdown object>"
      ]
     },
     "metadata": {},
     "output_type": "display_data"
    },
    {
     "data": {
      "text/markdown": [
       "### Critical judgment, Michael Palmer, 1996"
      ],
      "text/plain": [
       "<IPython.core.display.Markdown object>"
      ]
     },
     "metadata": {},
     "output_type": "display_data"
    },
    {
     "data": {
      "text/markdown": [
       "It was just after noon when the flickering lights began again—countless slivers of rainbow bathing the inside of his eyes. Taken by themselves, the lights might have been fascinating, even beautiful. But as things were, they brought him only terror.\n",
       "\n",
       "Noon. The last blast  <span style=\"color: blue\">had</span> been just six hours ago, waking him from a pleasant dream and dropping him into the midst of a nightmare. When the attacks first began, they came once every few weeks.… Then every few days.… And now.… The intensity, too, seemed to be increasing with each episode. It was living hell.\n",
       "\n",
       "His palms began to sweat as he thought of what the next hour or so held in store. First the flickering lights, next the queasiness and a slight tic at the corners of his eyes. For fifteen minutes, twenty, even thir"
      ],
      "text/plain": [
       "<IPython.core.display.Markdown object>"
      ]
     },
     "metadata": {},
     "output_type": "display_data"
    },
    {
     "data": {
      "text/markdown": [
       "---"
      ],
      "text/plain": [
       "<IPython.core.display.Markdown object>"
      ]
     },
     "metadata": {},
     "output_type": "display_data"
    },
    {
     "data": {
      "text/markdown": [
       "### Ice for the Eskimo, W. R. Philbrick, 1986"
      ],
      "text/plain": [
       "<IPython.core.display.Markdown object>"
      ]
     },
     "metadata": {},
     "output_type": "display_data"
    },
    {
     "data": {
      "text/markdown": [
       "PART ONE\n",
       "\n",
       "\n",
       "THE ABDUCTION\n",
       "\n",
       "\n",
       "\n",
       "\n",
       "\n",
       "CHAPTER 1\n",
       "\n",
       "\n",
       "I WAS BUSY RUNNING A SMALL WAR ON THE second Thursday of November and as a result didn’t see in the paper about Fitzy withdrawing from the lawsuit until that afternoon. By then Lois  <span style=\"color: blue\">had</span> come to tell me the children had been snatched and Fitzy was having a breakdown and my gun-battle strategies no longer seemed important.\n",
       "\n",
       "At the time my old pal Lieutenant Detective Casey had his back to the wall. The wall was cinderblock, part of an abandoned warehouse in Southie, and chips of it had been spattered loose by automatic gunfire. Casey had been hit by a piece of the exploding concrete. Blood poured from a superficial head wound, blinding him. He held his empty .38 in both hands, f"
      ],
      "text/plain": [
       "<IPython.core.display.Markdown object>"
      ]
     },
     "metadata": {},
     "output_type": "display_data"
    },
    {
     "data": {
      "text/markdown": [
       "---"
      ],
      "text/plain": [
       "<IPython.core.display.Markdown object>"
      ]
     },
     "metadata": {},
     "output_type": "display_data"
    },
    {
     "data": {
      "text/markdown": [
       "### Ice for the Eskimo, W. R. Philbrick, 1986"
      ],
      "text/plain": [
       "<IPython.core.display.Markdown object>"
      ]
     },
     "metadata": {},
     "output_type": "display_data"
    },
    {
     "data": {
      "text/markdown": [
       "PART ONE\n",
       "\n",
       "\n",
       "THE ABDUCTION\n",
       "\n",
       "\n",
       "\n",
       "\n",
       "\n",
       "CHAPTER 1\n",
       "\n",
       "\n",
       "I WAS BUSY RUNNING A SMALL WAR ON THE second Thursday of November and as a result didn’t see in the paper about Fitzy withdrawing from the lawsuit until that afternoon. By then Lois had come to tell me the children  <span style=\"color: blue\">had</span> been snatched and Fitzy was having a breakdown and my gun-battle strategies no longer seemed important.\n",
       "\n",
       "At the time my old pal Lieutenant Detective Casey had his back to the wall. The wall was cinderblock, part of an abandoned warehouse in Southie, and chips of it had been spattered loose by automatic gunfire. Casey had been hit by a piece of the exploding concrete. Blood poured from a superficial head wound, blinding him. He held his empty .38 in both hands, following the sound of the wounded"
      ],
      "text/plain": [
       "<IPython.core.display.Markdown object>"
      ]
     },
     "metadata": {},
     "output_type": "display_data"
    },
    {
     "data": {
      "text/markdown": [
       "---"
      ],
      "text/plain": [
       "<IPython.core.display.Markdown object>"
      ]
     },
     "metadata": {},
     "output_type": "display_data"
    },
    {
     "data": {
      "text/markdown": [
       "### Ice for the Eskimo, W. R. Philbrick, 1986"
      ],
      "text/plain": [
       "<IPython.core.display.Markdown object>"
      ]
     },
     "metadata": {},
     "output_type": "display_data"
    },
    {
     "data": {
      "text/markdown": [
       "PART ONE\n",
       "\n",
       "\n",
       "THE ABDUCTION\n",
       "\n",
       "\n",
       "\n",
       "\n",
       "\n",
       "CHAPTER 1\n",
       "\n",
       "\n",
       "I WAS BUSY RUNNING A SMALL WAR ON THE second Thursday of November and as a result didn’t see in the paper about Fitzy withdrawing from the lawsuit until that afternoon. By then Lois had come to tell me the children had been snatched and Fitzy was having a breakdown and my gun-battle strategies no longer seemed important.\n",
       "\n",
       "At the time my old pal Lieutenant Detective Casey  <span style=\"color: blue\">had</span> his back to the wall. The wall was cinderblock, part of an abandoned warehouse in Southie, and chips of it had been spattered loose by automatic gunfire. Casey had been hit by a piece of the exploding concrete. Blood poured from a superficial head wound, blinding him. He held his empty .38 in both hands, following the sound of the wounded psychopath he had stalked into the warehouse. The lunatic killer was armed with an Uzi submachine gun, an antique Lüger, and a Colt .38 he had taken off Detec"
      ],
      "text/plain": [
       "<IPython.core.display.Markdown object>"
      ]
     },
     "metadata": {},
     "output_type": "display_data"
    },
    {
     "data": {
      "text/markdown": [
       "---"
      ],
      "text/plain": [
       "<IPython.core.display.Markdown object>"
      ]
     },
     "metadata": {},
     "output_type": "display_data"
    },
    {
     "data": {
      "text/markdown": [
       "### Into the blue, Robert Goddard, 1990"
      ],
      "text/plain": [
       "<IPython.core.display.Markdown object>"
      ]
     },
     "metadata": {},
     "output_type": "display_data"
    },
    {
     "data": {
      "text/markdown": [
       "return now, of course, or even five minutes from now, it would still be all right. The thought that he might never see her again could then be dismissed as a delusion, an absurd over-reaction to an excess of solitude and silence. And from the notion that, at any second, she would return, calling to him as she came down the track, part of his mind could not be dislodged: the orderly, housetrained, rational part. It was only in the chaotic realm of instinct and sensation that a contrary suspicion  <span style=\"color: blue\">had</span> taken root, only, as it were, in the part of himself that he did not care to acknowledge.\n",
       "\n",
       "Besides, Harry had every justification for blaming his anxious state on the position in which he found himself. To spend three-quarters of an hour sitting on a fallen tree trunk halfway up a pine-forested mountainside, whilst the warm glow of the afternoon sun faded towards a dusky chill and silence—absolute, windless, pitiless silence—quarried at the nerves, was enough to test anyone’s self-control. He w"
      ],
      "text/plain": [
       "<IPython.core.display.Markdown object>"
      ]
     },
     "metadata": {},
     "output_type": "display_data"
    },
    {
     "data": {
      "text/markdown": [
       "---"
      ],
      "text/plain": [
       "<IPython.core.display.Markdown object>"
      ]
     },
     "metadata": {},
     "output_type": "display_data"
    },
    {
     "data": {
      "text/markdown": [
       "### Into the blue, Robert Goddard, 1990"
      ],
      "text/plain": [
       "<IPython.core.display.Markdown object>"
      ]
     },
     "metadata": {},
     "output_type": "display_data"
    },
    {
     "data": {
      "text/markdown": [
       "ever see her again could then be dismissed as a delusion, an absurd over-reaction to an excess of solitude and silence. And from the notion that, at any second, she would return, calling to him as she came down the track, part of his mind could not be dislodged: the orderly, housetrained, rational part. It was only in the chaotic realm of instinct and sensation that a contrary suspicion had taken root, only, as it were, in the part of himself that he did not care to acknowledge.\n",
       "\n",
       "Besides, Harry  <span style=\"color: blue\">had</span> every justification for blaming his anxious state on the position in which he found himself. To spend three-quarters of an hour sitting on a fallen tree trunk halfway up a pine-forested mountainside, whilst the warm glow of the afternoon sun faded towards a dusky chill and silence—absolute, windless, pitiless silence—quarried at the nerves, was enough to test anyone’s self-control. He wished now that he had gone with her to the summit, or stayed in the car and listened to the radio. Either way,"
      ],
      "text/plain": [
       "<IPython.core.display.Markdown object>"
      ]
     },
     "metadata": {},
     "output_type": "display_data"
    },
    {
     "data": {
      "text/markdown": [
       "---"
      ],
      "text/plain": [
       "<IPython.core.display.Markdown object>"
      ]
     },
     "metadata": {},
     "output_type": "display_data"
    },
    {
     "data": {
      "text/markdown": [
       "### Pawing through the past, Rita Mae Brown, 2000"
      ],
      "text/plain": [
       "<IPython.core.display.Markdown object>"
      ]
     },
     "metadata": {},
     "output_type": "display_data"
    },
    {
     "data": {
      "text/markdown": [
       "\n",
       "\n",
       "1\n",
       "\n",
       "The huge ceiling fan lazily swirled overhead, vainly attempting to move the soggy August air. Mary Minor Haristeen, Harry to her friends—and everyone was a friend—scribbled ideas on a yellow legal pad. Seated around the kitchen table, high-school yearbooks open, were Susan Tucker, her best friend, Mrs. Miranda Hogendobber, her coworker and good friend, and Chris Sharpton, an attractive woman new to the area.\n",
       "\n",
       "“We could have  <span style=\"color: blue\">had</span> this meeting at the post office,” Susan remarked as she wiped the sweat from her forehead.\n",
       "\n",
       "“Government property,” Miranda said.\n",
       "\n",
       "“Right, government property paid for with my taxes,” Susan laughed.\n",
       "\n",
       "Harry, the postmistress in tiny Crozet, Virginia, said, “Okay, it is air-conditioned but think how many hours Miranda and I spend in that place. I have no desire to hang out there in my free time.”\n",
       "\n",
       "“You’ve got air-conditioning at your house.” Miranda stared at Susan.\n",
       "\n",
       "“I know but the kids are havin"
      ],
      "text/plain": [
       "<IPython.core.display.Markdown object>"
      ]
     },
     "metadata": {},
     "output_type": "display_data"
    },
    {
     "data": {
      "text/markdown": [
       "---"
      ],
      "text/plain": [
       "<IPython.core.display.Markdown object>"
      ]
     },
     "metadata": {},
     "output_type": "display_data"
    },
    {
     "data": {
      "text/markdown": [
       "### Beyond the grave, Marcia Muller, 1986"
      ],
      "text/plain": [
       "<IPython.core.display.Markdown object>"
      ]
     },
     "metadata": {},
     "output_type": "display_data"
    },
    {
     "data": {
      "text/markdown": [
       "PROLOGUE\n",
       "\n",
       "1846\n",
       "\n",
       "\n",
       "\n",
       "\n",
       "FROM WHERE HE stood on the casa's upper gallery, Don Esteban Velasquez commanded a broad view of all that was his. As far as the eye could see were the hills and valleys, creeks, groves of oaks and fruit trees that comprised Rancho Rinconada de los Robles, his grant from the government of Mexico. Below this oak-shaded hill where he  <span style=\"color: blue\">had</span> built his hacienda, nestled in one of the little valleys near the westward roadway, stood the adobe buildings of the rancho's pueblo; the cross atop the church of San Anselmo de las Lomas, rising above the stables and garrison and vaqueros' quarters, was like a brand burned in the gray sky by the hand of God. Down there, too, to the rear of the church, was the cemetery where Don Esteban's first wife, Maria Alcazar, and two of his three sons lay at rest beneath the grassy sod.\n",
       "\n",
       "But it was at non"
      ],
      "text/plain": [
       "<IPython.core.display.Markdown object>"
      ]
     },
     "metadata": {},
     "output_type": "display_data"
    },
    {
     "data": {
      "text/markdown": [
       "---"
      ],
      "text/plain": [
       "<IPython.core.display.Markdown object>"
      ]
     },
     "metadata": {},
     "output_type": "display_data"
    },
    {
     "data": {
      "text/markdown": [
       "### Life support, Tess Gerritsen, 1998"
      ],
      "text/plain": [
       "<IPython.core.display.Markdown object>"
      ]
     },
     "metadata": {},
     "output_type": "display_data"
    },
    {
     "data": {
      "text/markdown": [
       "\n",
       "\n",
       "\n",
       "\n",
       "LIFE\n",
       "\n",
       "SUPPORT\n",
       "\n",
       "\n",
       "\n",
       "\n",
       "\n",
       "1\n",
       "\n",
       "\n",
       "\n",
       "\n",
       "A scalpel is a beautiful thing.\n",
       "\n",
       "Dr. Stanley Mackie  <span style=\"color: blue\">had</span> never noticed this before, but as he stood with head bowed beneath the OR lamps, he suddenly found himself marveling at how the light reflected with diamondlike brilliance off the blade. It was a work of art, that razor sharp lunula of stainless steel. So beautiful, in fact, that he scarcely dared to pick it up for fear he would somehow tarnish its magic. In its surface he saw a rainbow of colors, light fractured to its purest elements.\n",
       "\n",
       "“Dr. Mackie? Is something wrong?”\n",
       "\n",
       "He looked up and saw t"
      ],
      "text/plain": [
       "<IPython.core.display.Markdown object>"
      ]
     },
     "metadata": {},
     "output_type": "display_data"
    },
    {
     "data": {
      "text/markdown": [
       "---"
      ],
      "text/plain": [
       "<IPython.core.display.Markdown object>"
      ]
     },
     "metadata": {},
     "output_type": "display_data"
    },
    {
     "data": {
      "text/markdown": [
       "### Life support, Tess Gerritsen, 1998"
      ],
      "text/plain": [
       "<IPython.core.display.Markdown object>"
      ]
     },
     "metadata": {},
     "output_type": "display_data"
    },
    {
     "data": {
      "text/markdown": [
       "d beneath the OR lamps, he suddenly found himself marveling at how the light reflected with diamondlike brilliance off the blade. It was a work of art, that razor sharp lunula of stainless steel. So beautiful, in fact, that he scarcely dared to pick it up for fear he would somehow tarnish its magic. In its surface he saw a rainbow of colors, light fractured to its purest elements.\n",
       "\n",
       "“Dr. Mackie? Is something wrong?”\n",
       "\n",
       "He looked up and saw the scrub nurse frowning at him over her surgical mask. He  <span style=\"color: blue\">had</span> never before noticed how green her eyes were. He seemed to be seeing, really seeing, so many things for the very first time. The creamy texture of the nurse’s skin. The vein coursing along her temple. The mole just above her eyebrow.\n",
       "\n",
       "Or was it a mole? He stared. It was moving, crawling like a many-legged insect toward the corner of her eye. . . .\n",
       "\n",
       "“Stan?” Dr. Rudman, the anesthesiologist, was speaking now, his voice slicing through Mackie’s dismay. “Are you all right?”\n",
       "\n",
       "Mackie gave his head a "
      ],
      "text/plain": [
       "<IPython.core.display.Markdown object>"
      ]
     },
     "metadata": {},
     "output_type": "display_data"
    },
    {
     "data": {
      "text/markdown": [
       "---"
      ],
      "text/plain": [
       "<IPython.core.display.Markdown object>"
      ]
     },
     "metadata": {},
     "output_type": "display_data"
    },
    {
     "data": {
      "text/markdown": [
       "### A servant's tale, Paula Fox, 1984"
      ],
      "text/plain": [
       "<IPython.core.display.Markdown object>"
      ]
     },
     "metadata": {},
     "output_type": "display_data"
    },
    {
     "data": {
      "text/markdown": [
       "Part One\n",
       "\n",
       "\n",
       "\n",
       "\n",
       "\n",
       "“Ruina! Ruina!” my grandfather, Isidro Sanchez,  <span style=\"color: blue\">had</span> scrawled at the end of his farewell note to my grandmother, which, she recounted, in a voice still astonished after all the passing years, he had written only an arm’s length from where she sat mending a tear in the shirt he was to wear the next morning when he had been summoned to see Antonio de la Cueva, the proprietor of the sugar plantation of Malagita, to answer, among other serious questions, why he had not fulfilled his cane quota and therefore could not guarantee his rent for the coming"
      ],
      "text/plain": [
       "<IPython.core.display.Markdown object>"
      ]
     },
     "metadata": {},
     "output_type": "display_data"
    },
    {
     "data": {
      "text/markdown": [
       "---"
      ],
      "text/plain": [
       "<IPython.core.display.Markdown object>"
      ]
     },
     "metadata": {},
     "output_type": "display_data"
    },
    {
     "data": {
      "text/markdown": [
       "### A servant's tale, Paula Fox, 1984"
      ],
      "text/plain": [
       "<IPython.core.display.Markdown object>"
      ]
     },
     "metadata": {},
     "output_type": "display_data"
    },
    {
     "data": {
      "text/markdown": [
       "Part One\n",
       "\n",
       "\n",
       "\n",
       "\n",
       "\n",
       "“Ruina! Ruina!” my grandfather, Isidro Sanchez, had scrawled at the end of his farewell note to my grandmother, which, she recounted, in a voice still astonished after all the passing years, he  <span style=\"color: blue\">had</span> written only an arm’s length from where she sat mending a tear in the shirt he was to wear the next morning when he had been summoned to see Antonio de la Cueva, the proprietor of the sugar plantation of Malagita, to answer, among other serious questions, why he had not fulfilled his cane quota and therefore could not guarantee his rent for the coming year.\n",
       "\n",
       "“He looked up from time to time,” Nana told me. “He stared at my hands in a way he had when he was thinking. I finished my sewing. He bega"
      ],
      "text/plain": [
       "<IPython.core.display.Markdown object>"
      ]
     },
     "metadata": {},
     "output_type": "display_data"
    },
    {
     "data": {
      "text/markdown": [
       "---"
      ],
      "text/plain": [
       "<IPython.core.display.Markdown object>"
      ]
     },
     "metadata": {},
     "output_type": "display_data"
    },
    {
     "data": {
      "text/markdown": [
       "### A servant's tale, Paula Fox, 1984"
      ],
      "text/plain": [
       "<IPython.core.display.Markdown object>"
      ]
     },
     "metadata": {},
     "output_type": "display_data"
    },
    {
     "data": {
      "text/markdown": [
       "Part One\n",
       "\n",
       "\n",
       "\n",
       "\n",
       "\n",
       "“Ruina! Ruina!” my grandfather, Isidro Sanchez, had scrawled at the end of his farewell note to my grandmother, which, she recounted, in a voice still astonished after all the passing years, he had written only an arm’s length from where she sat mending a tear in the shirt he was to wear the next morning when he  <span style=\"color: blue\">had</span> been summoned to see Antonio de la Cueva, the proprietor of the sugar plantation of Malagita, to answer, among other serious questions, why he had not fulfilled his cane quota and therefore could not guarantee his rent for the coming year.\n",
       "\n",
       "“He looked up from time to time,” Nana told me. “He stared at my hands in a way he had when he was thinking. I finished my sewing. He began to fold the note. He did so precisely as he made paper boats for our children, and he wrote a word on it. By then, the"
      ],
      "text/plain": [
       "<IPython.core.display.Markdown object>"
      ]
     },
     "metadata": {},
     "output_type": "display_data"
    },
    {
     "data": {
      "text/markdown": [
       "---"
      ],
      "text/plain": [
       "<IPython.core.display.Markdown object>"
      ]
     },
     "metadata": {},
     "output_type": "display_data"
    },
    {
     "data": {
      "text/markdown": [
       "### A servant's tale, Paula Fox, 1984"
      ],
      "text/plain": [
       "<IPython.core.display.Markdown object>"
      ]
     },
     "metadata": {},
     "output_type": "display_data"
    },
    {
     "data": {
      "text/markdown": [
       "Part One\n",
       "\n",
       "\n",
       "\n",
       "\n",
       "\n",
       "“Ruina! Ruina!” my grandfather, Isidro Sanchez, had scrawled at the end of his farewell note to my grandmother, which, she recounted, in a voice still astonished after all the passing years, he had written only an arm’s length from where she sat mending a tear in the shirt he was to wear the next morning when he had been summoned to see Antonio de la Cueva, the proprietor of the sugar plantation of Malagita, to answer, among other serious questions, why he  <span style=\"color: blue\">had</span> not fulfilled his cane quota and therefore could not guarantee his rent for the coming year.\n",
       "\n",
       "“He looked up from time to time,” Nana told me. “He stared at my hands in a way he had when he was thinking. I finished my sewing. He began to fold the note. He did so precisely as he made paper boats for our children, and he wrote a word on it. By then, the point of the quill pen must have been almost dry, it scratched loudly. He placed the note at the center of the table. He stood up and took his hat"
      ],
      "text/plain": [
       "<IPython.core.display.Markdown object>"
      ]
     },
     "metadata": {},
     "output_type": "display_data"
    },
    {
     "data": {
      "text/markdown": [
       "---"
      ],
      "text/plain": [
       "<IPython.core.display.Markdown object>"
      ]
     },
     "metadata": {},
     "output_type": "display_data"
    },
    {
     "data": {
      "text/markdown": [
       "### A servant's tale, Paula Fox, 1984"
      ],
      "text/plain": [
       "<IPython.core.display.Markdown object>"
      ]
     },
     "metadata": {},
     "output_type": "display_data"
    },
    {
     "data": {
      "text/markdown": [
       "ce still astonished after all the passing years, he had written only an arm’s length from where she sat mending a tear in the shirt he was to wear the next morning when he had been summoned to see Antonio de la Cueva, the proprietor of the sugar plantation of Malagita, to answer, among other serious questions, why he had not fulfilled his cane quota and therefore could not guarantee his rent for the coming year.\n",
       "\n",
       "“He looked up from time to time,” Nana told me. “He stared at my hands in a way he  <span style=\"color: blue\">had</span> when he was thinking. I finished my sewing. He began to fold the note. He did so precisely as he made paper boats for our children, and he wrote a word on it. By then, the point of the quill pen must have been almost dry, it scratched loudly. He placed the note at the center of the table. He stood up and took his hat from the peg on the wall; he didn’t tell me where he was going. When he walked out of our house, I didn’t know that I would never see him again in this life. In the morning, I woke"
      ],
      "text/plain": [
       "<IPython.core.display.Markdown object>"
      ]
     },
     "metadata": {},
     "output_type": "display_data"
    },
    {
     "data": {
      "text/markdown": [
       "---"
      ],
      "text/plain": [
       "<IPython.core.display.Markdown object>"
      ]
     },
     "metadata": {},
     "output_type": "display_data"
    },
    {
     "data": {
      "text/markdown": [
       "### The wedding dress, Marian Wells, 1982"
      ],
      "text/plain": [
       "<IPython.core.display.Markdown object>"
      ]
     },
     "metadata": {},
     "output_type": "display_data"
    },
    {
     "data": {
      "text/markdown": [
       "Chapter 1\n",
       "\n",
       "\n",
       "Rebecca Wolstone pushed the small trunk toward the open window of the loft and dropped to her knees in front of it. While her heavy taffy-colored braids coiled across the surface and her fingers stroked the dusty leather, she looked out the window. She  <span style=\"color: blue\">had</span> to peer through the branches of the apple tree to see down the hill. In the distance there was the shining strip that was the Mississippi River. Trees and buildings hid the curving bank. “Nau—voo.” Rebecca practiced saying the name as Cynthia would, but her voice lacked the contempt Cynthia’s carried. Her eyes were searching out the white spot on the hill.\n",
       "\n",
       "In the dark clamor of the town the building rose silent and pure, capturing her imagination, forcing the words: “I’d fancy me a spot, more "
      ],
      "text/plain": [
       "<IPython.core.display.Markdown object>"
      ]
     },
     "metadata": {},
     "output_type": "display_data"
    },
    {
     "data": {
      "text/markdown": [
       "---"
      ],
      "text/plain": [
       "<IPython.core.display.Markdown object>"
      ]
     },
     "metadata": {},
     "output_type": "display_data"
    },
    {
     "data": {
      "text/markdown": [
       "### Icy Sparks, Gwyn Hyman Rubio, 1998"
      ],
      "text/plain": [
       "<IPython.core.display.Markdown object>"
      ]
     },
     "metadata": {},
     "output_type": "display_data"
    },
    {
     "data": {
      "text/markdown": [
       "atanni, my grandmother, said it began deep inside my mama’s womb when she was pregnant with me. Mama ate those little green crab apples that grow beside the toolshed. She ate oodles of them, popped them into her mouth like rock candy, crunched, and swallowed one right after another until not one was left to ripen on the tree. “Green apples ain’t no baby’s nourishment,” she said, “but in the beginning they was all your mama could hold down.”\n",
       "\n",
       "No more than a seed myself deep inside her stomach, I  <span style=\"color: blue\">had</span> to eat crab apples bigger than I was. I had to take that sour skin into my wee little stomach, grind it down, digest it, and grow. In the darkness of my mother’s belly, I ate the tart fruit, so sour on my tongue that it made my lips curl upward, so full of kick that I burped liked a bubble popping. Then, growing into a baby, I burst upon the world. The midwife slapped my bottom, and I croaked so loud that she turned around to see if the legendary bullfrog from Sweetwater Lake had hopped through"
      ],
      "text/plain": [
       "<IPython.core.display.Markdown object>"
      ]
     },
     "metadata": {},
     "output_type": "display_data"
    },
    {
     "data": {
      "text/markdown": [
       "---"
      ],
      "text/plain": [
       "<IPython.core.display.Markdown object>"
      ]
     },
     "metadata": {},
     "output_type": "display_data"
    },
    {
     "data": {
      "text/markdown": [
       "### Icy Sparks, Gwyn Hyman Rubio, 1998"
      ],
      "text/plain": [
       "<IPython.core.display.Markdown object>"
      ]
     },
     "metadata": {},
     "output_type": "display_data"
    },
    {
     "data": {
      "text/markdown": [
       "nside my mama’s womb when she was pregnant with me. Mama ate those little green crab apples that grow beside the toolshed. She ate oodles of them, popped them into her mouth like rock candy, crunched, and swallowed one right after another until not one was left to ripen on the tree. “Green apples ain’t no baby’s nourishment,” she said, “but in the beginning they was all your mama could hold down.”\n",
       "\n",
       "No more than a seed myself deep inside her stomach, I had to eat crab apples bigger than I was. I  <span style=\"color: blue\">had</span> to take that sour skin into my wee little stomach, grind it down, digest it, and grow. In the darkness of my mother’s belly, I ate the tart fruit, so sour on my tongue that it made my lips curl upward, so full of kick that I burped liked a bubble popping. Then, growing into a baby, I burst upon the world. The midwife slapped my bottom, and I croaked so loud that she turned around to see if the legendary bullfrog from Sweetwater Lake had hopped through the doorway. “But it was only you,” Matanni"
      ],
      "text/plain": [
       "<IPython.core.display.Markdown object>"
      ]
     },
     "metadata": {},
     "output_type": "display_data"
    },
    {
     "data": {
      "text/markdown": [
       "---"
      ],
      "text/plain": [
       "<IPython.core.display.Markdown object>"
      ]
     },
     "metadata": {},
     "output_type": "display_data"
    },
    {
     "data": {
      "text/markdown": [
       "### The education of Harriet Hatfield, May Sarton, 1989"
      ],
      "text/plain": [
       "<IPython.core.display.Markdown object>"
      ]
     },
     "metadata": {},
     "output_type": "display_data"
    },
    {
     "data": {
      "text/markdown": [
       "1\n",
       "\n",
       "How rarely is it possible for anyone to begin a new life at sixty! When Vicky died our friends took it for granted that I would simply go on living, gardening, and reading for pleasure in our house; that I would go on unchanged by her death, as though I were not recovering from an earthquake, and persuaded that I must recreate a self I can live with for the rest of my life. Vicky  <span style=\"color: blue\">had</span> always been a power, and I suppose until now I was simply an adjunct to that power, doing volunteer work to keep busy, and managing the household for her. We were closely united, I see now, partly because I accepted early on that she had to be in control and so did everything I could to follow her lead.\n",
       "\n",
       "I have been living since her death in a strange empty silence, wondering who I am now, and perhaps also who I was while she lived. In some ways it was rather like living with a thunderstorm, yo"
      ],
      "text/plain": [
       "<IPython.core.display.Markdown object>"
      ]
     },
     "metadata": {},
     "output_type": "display_data"
    },
    {
     "data": {
      "text/markdown": [
       "---"
      ],
      "text/plain": [
       "<IPython.core.display.Markdown object>"
      ]
     },
     "metadata": {},
     "output_type": "display_data"
    },
    {
     "data": {
      "text/markdown": [
       "### A calculated risk, Katherine Neville, 1992"
      ],
      "text/plain": [
       "<IPython.core.display.Markdown object>"
      ]
     },
     "metadata": {},
     "output_type": "display_data"
    },
    {
     "data": {
      "text/markdown": [
       "\n",
       "\n",
       "\n",
       "PART 1\n",
       "\n",
       "\n",
       "\n",
       "\n",
       "\n",
       "FRANKFURT, GERMANY\n",
       "\n",
       "JUNE 1815\n",
       "\n",
       "In a shabby office overlooking the Judengasse, a pale young man sat alone, watching the sun rise. He  <span style=\"color: blue\">had</span> been awake all night, and stacked before him were many cups containing the thick residue of bitter Turkish coffee. The ashes of a fire lay cold in the grate, but to light another fire seemed to him an unwarranted expense. He was a thrifty man.\n",
       "\n",
       "The room was painfully bare, containing only a few chairs and a splintered desk. Against one wall was the small hearth, and opposite it a dirty window overlooking the street. Near the window stood a wooden structure that nearly covered the wall. It resem"
      ],
      "text/plain": [
       "<IPython.core.display.Markdown object>"
      ]
     },
     "metadata": {},
     "output_type": "display_data"
    },
    {
     "data": {
      "text/markdown": [
       "---"
      ],
      "text/plain": [
       "<IPython.core.display.Markdown object>"
      ]
     },
     "metadata": {},
     "output_type": "display_data"
    },
    {
     "data": {
      "text/markdown": [
       "### A stab in the dark, Lawrence Block, 1981"
      ],
      "text/plain": [
       "<IPython.core.display.Markdown object>"
      ]
     },
     "metadata": {},
     "output_type": "display_data"
    },
    {
     "data": {
      "text/markdown": [
       "I didn’t see him coming. I was in Armstrong’s at my usual table in the rear. The lunch crowd  <span style=\"color: blue\">had</span> thinned out and the noise level had dropped. There was classical music on the radio and you could hear it now without straining. It was a gray day out, a mean wind blowing, the air holding a promise of rain. A good day to be stuck in a Ninth Avenue saloon, drinking bourbon-spiked coffee and reading the Post’s story about some madman slashing passersby on First Avenue.\n",
       "\n",
       "“Mr. Scudder?”\n",
       "\n",
       "Sixty or thereabouts. High forehead, rimless eyeglasses over pale blue eyes. Graying blond hair combed to lie f"
      ],
      "text/plain": [
       "<IPython.core.display.Markdown object>"
      ]
     },
     "metadata": {},
     "output_type": "display_data"
    },
    {
     "data": {
      "text/markdown": [
       "---"
      ],
      "text/plain": [
       "<IPython.core.display.Markdown object>"
      ]
     },
     "metadata": {},
     "output_type": "display_data"
    },
    {
     "data": {
      "text/markdown": [
       "### A stab in the dark, Lawrence Block, 1981"
      ],
      "text/plain": [
       "<IPython.core.display.Markdown object>"
      ]
     },
     "metadata": {},
     "output_type": "display_data"
    },
    {
     "data": {
      "text/markdown": [
       "I didn’t see him coming. I was in Armstrong’s at my usual table in the rear. The lunch crowd had thinned out and the noise level  <span style=\"color: blue\">had</span> dropped. There was classical music on the radio and you could hear it now without straining. It was a gray day out, a mean wind blowing, the air holding a promise of rain. A good day to be stuck in a Ninth Avenue saloon, drinking bourbon-spiked coffee and reading the Post’s story about some madman slashing passersby on First Avenue.\n",
       "\n",
       "“Mr. Scudder?”\n",
       "\n",
       "Sixty or thereabouts. High forehead, rimless eyeglasses over pale blue eyes. Graying blond hair combed to lie flat on the scalp. Say five-nine or -"
      ],
      "text/plain": [
       "<IPython.core.display.Markdown object>"
      ]
     },
     "metadata": {},
     "output_type": "display_data"
    },
    {
     "data": {
      "text/markdown": [
       "---"
      ],
      "text/plain": [
       "<IPython.core.display.Markdown object>"
      ]
     },
     "metadata": {},
     "output_type": "display_data"
    },
    {
     "data": {
      "text/markdown": [
       "### Sleeping lady, Sue Henry, 1996"
      ],
      "text/plain": [
       "<IPython.core.display.Markdown object>"
      ]
     },
     "metadata": {},
     "output_type": "display_data"
    },
    {
     "data": {
      "text/markdown": [
       "\n",
       "\n",
       "\n",
       "AKLAK, THE GREAT BROWN BEAR. LAY A TOP A PILE OF dirt, brush, and vegetation he  <span style=\"color: blue\">had</span> dragged up as cover for his latest kill, protecting it from any predator or scavenger that, catching the scent of blood, might come looking for an easy meal. Partway down a narrow, tree- and brush-filled ravine, half-asleep and completely relaxed in his position on the heap, he was still highly aware of the sounds and smells of what went on around him. One ear twitched at the chirp of a ground squirrel. but, satiated with what he had gorged from a wolf-killed moose carcass the day before and th"
      ],
      "text/plain": [
       "<IPython.core.display.Markdown object>"
      ]
     },
     "metadata": {},
     "output_type": "display_data"
    },
    {
     "data": {
      "text/markdown": [
       "---"
      ],
      "text/plain": [
       "<IPython.core.display.Markdown object>"
      ]
     },
     "metadata": {},
     "output_type": "display_data"
    },
    {
     "data": {
      "text/markdown": [
       "### The white order, L. E. Modesitt, 1998"
      ],
      "text/plain": [
       "<IPython.core.display.Markdown object>"
      ]
     },
     "metadata": {},
     "output_type": "display_data"
    },
    {
     "data": {
      "text/markdown": [
       "I\n",
       "\n",
       "\n",
       "THE BROWN-HAIRED child clung to the long shadow cast by the ancient house as he edged toward the south end of the tailings pile. His eyes led him toward the barely shimmering oblong of light reflected from somewhere in the tailings against the rough planks of the doorless shed, a shed that  <span style=\"color: blue\">had</span> once held mining tools. His bare feet made no sound as he slipped from the shade into the late afternoon sunlight and over the rocky ground to the gray and reddish brown heap of stone and slag.\n",
       "\n",
       "After he went to one knee, his fingers brushed away the thin coating of dust that had half-concealed the fragment of mirror, perhaps half the size of his palm. He teased it out of the dirt and laid it flat on half of a broken yellow brick. He turned his head toward the house, but the door was closed and"
      ],
      "text/plain": [
       "<IPython.core.display.Markdown object>"
      ]
     },
     "metadata": {},
     "output_type": "display_data"
    },
    {
     "data": {
      "text/markdown": [
       "---"
      ],
      "text/plain": [
       "<IPython.core.display.Markdown object>"
      ]
     },
     "metadata": {},
     "output_type": "display_data"
    },
    {
     "data": {
      "text/markdown": [
       "### The white order, L. E. Modesitt, 1998"
      ],
      "text/plain": [
       "<IPython.core.display.Markdown object>"
      ]
     },
     "metadata": {},
     "output_type": "display_data"
    },
    {
     "data": {
      "text/markdown": [
       "e as he edged toward the south end of the tailings pile. His eyes led him toward the barely shimmering oblong of light reflected from somewhere in the tailings against the rough planks of the doorless shed, a shed that had once held mining tools. His bare feet made no sound as he slipped from the shade into the late afternoon sunlight and over the rocky ground to the gray and reddish brown heap of stone and slag.\n",
       "\n",
       "After he went to one knee, his fingers brushed away the thin coating of dust that  <span style=\"color: blue\">had</span> half-concealed the fragment of mirror, perhaps half the size of his palm. He teased it out of the dirt and laid it flat on half of a broken yellow brick. He turned his head toward the house, but the door was closed and the front stoop vacant. He glanced past the next closest tailings pile to the south, checking the other piles of earth and stone and slag, and the abandoned mineheads, but the only movement was that of scattered summer-browned grass waving in the hot afternoon breeze.\n",
       "\n",
       "A lizard s"
      ],
      "text/plain": [
       "<IPython.core.display.Markdown object>"
      ]
     },
     "metadata": {},
     "output_type": "display_data"
    },
    {
     "data": {
      "text/markdown": [
       "---"
      ],
      "text/plain": [
       "<IPython.core.display.Markdown object>"
      ]
     },
     "metadata": {},
     "output_type": "display_data"
    },
    {
     "data": {
      "text/markdown": [
       "### Love me forever, Johanna Lindsey, 1995"
      ],
      "text/plain": [
       "<IPython.core.display.Markdown object>"
      ]
     },
     "metadata": {},
     "output_type": "display_data"
    },
    {
     "data": {
      "text/markdown": [
       "\n",
       "\n",
       "\n",
       "1\n",
       "\n",
       "\n",
       "\n",
       "\n",
       "“Lachlan, are ye still alive, mon?”\n",
       "\n",
       "It was doubtful. It wasn’t even desirable at the moment. Though the pain of his wound was more annoying than hurtful, as Lachlan MacGregor lay there losing his lifeblood to the sod, he realized it was his pride that  <span style=\"color: blue\">had</span> taken the killing blow. That the Laird of Clan MacGregor had been reduced to joining the ranks of common reavers was bad enough. That he’d been stupid enough to get wounded in the process…\n",
       "\n",
       "“Lachlan?” The persistent inquiry came again from his clansman.\n",
       "\n",
       "“Faith, if I’m no’ dead, I should be, so dinna be thinking of carting my body home for burying, Ranald. You’ll be leaving it here tae rot as it deserves.”\n",
       "\n",
       "A chuckle came from his other side. “Didna I tell ye no’ tae worry, Ranald?” Gilleonan M"
      ],
      "text/plain": [
       "<IPython.core.display.Markdown object>"
      ]
     },
     "metadata": {},
     "output_type": "display_data"
    },
    {
     "data": {
      "text/markdown": [
       "---"
      ],
      "text/plain": [
       "<IPython.core.display.Markdown object>"
      ]
     },
     "metadata": {},
     "output_type": "display_data"
    },
    {
     "data": {
      "text/markdown": [
       "### Love me forever, Johanna Lindsey, 1995"
      ],
      "text/plain": [
       "<IPython.core.display.Markdown object>"
      ]
     },
     "metadata": {},
     "output_type": "display_data"
    },
    {
     "data": {
      "text/markdown": [
       "\n",
       "\n",
       "\n",
       "1\n",
       "\n",
       "\n",
       "\n",
       "\n",
       "“Lachlan, are ye still alive, mon?”\n",
       "\n",
       "It was doubtful. It wasn’t even desirable at the moment. Though the pain of his wound was more annoying than hurtful, as Lachlan MacGregor lay there losing his lifeblood to the sod, he realized it was his pride that had taken the killing blow. That the Laird of Clan MacGregor  <span style=\"color: blue\">had</span> been reduced to joining the ranks of common reavers was bad enough. That he’d been stupid enough to get wounded in the process…\n",
       "\n",
       "“Lachlan?” The persistent inquiry came again from his clansman.\n",
       "\n",
       "“Faith, if I’m no’ dead, I should be, so dinna be thinking of carting my body home for burying, Ranald. You’ll be leaving it here tae rot as it deserves.”\n",
       "\n",
       "A chuckle came from his other side. “Didna I tell ye no’ tae worry, Ranald?” Gilleonan MacGregor said. “It’ll take more’n a wee lead ball from a Sass"
      ],
      "text/plain": [
       "<IPython.core.display.Markdown object>"
      ]
     },
     "metadata": {},
     "output_type": "display_data"
    },
    {
     "data": {
      "text/markdown": [
       "---"
      ],
      "text/plain": [
       "<IPython.core.display.Markdown object>"
      ]
     },
     "metadata": {},
     "output_type": "display_data"
    },
    {
     "data": {
      "text/markdown": [
       "### The many-colored land, Julian May, 1981"
      ],
      "text/plain": [
       "<IPython.core.display.Markdown object>"
      ]
     },
     "metadata": {},
     "output_type": "display_data"
    },
    {
     "data": {
      "text/markdown": [
       "\n",
       "My heart is sore pained within me:\n",
       "\n",
       "and the terrors of death are fallen upon me.\n",
       "\n",
       "\n",
       "\n",
       "Fear and trembling have seized me:\n",
       "\n",
       "and darkness has overwhelmed me.\n",
       "\n",
       "\n",
       "\n",
       "And I said: O that I  <span style=\"color: blue\">had</span> wings like a dove!\n",
       "\n",
       "For then I would fly away and be at rest.\n",
       "\n",
       "\n",
       "\n",
       "Lo, would I flee far away,\n",
       "\n",
       "and live in the wilderness.\n",
       "\n",
       "\n",
       "\n",
       "I would wait for him who will save me\n",
       "\n",
       "from my cowardice and from the storm.\n",
       "\n",
       "\n",
       "\n",
       "PSALM 55\n",
       "\n",
       "\n",
       "\n",
       "\n",
       "\n",
       "Prologue\n",
       "\n",
       "\n",
       "I\n",
       "\n",
       "\n",
       "TO CONFIRM that it was indeed near death, the great vessel broke through into normal space with lingering slowness. The pain of the usually swift translation was prolonged as well, until the thousand, for all their strength, cursed and wept within their minds and be"
      ],
      "text/plain": [
       "<IPython.core.display.Markdown object>"
      ]
     },
     "metadata": {},
     "output_type": "display_data"
    },
    {
     "data": {
      "text/markdown": [
       "---"
      ],
      "text/plain": [
       "<IPython.core.display.Markdown object>"
      ]
     },
     "metadata": {},
     "output_type": "display_data"
    },
    {
     "data": {
      "text/markdown": [
       "### Dark force rising, Timothy Zahn, 1992"
      ],
      "text/plain": [
       "<IPython.core.display.Markdown object>"
      ]
     },
     "metadata": {},
     "output_type": "display_data"
    },
    {
     "data": {
      "text/markdown": [
       "rs, a spattering of blazing white pinpricks in the deep blackness of space. Directly beneath the ship, in the western part of the Great Northern Forest of the planet Myrkr, dawn was approaching.\n",
       "\n",
       "The last dawn that some in that forest would ever see.\n",
       "\n",
       "Standing at one of the side bridge viewports of the Imperial Star Destroyer Chimaera, Captain Pellaeon watched as the fuzzy terminator line crept toward the target zone on the planet below. Ten minutes ago, the ground forces surrounding the target  <span style=\"color: blue\">had</span> reported themselves ready; the Chimaera itself had been holding blockade position for nearly an hour. All that was missing now was the order to attack.\n",
       "\n",
       "Slowly, feeling almost furtive about it, Pellaeon turned his head a couple of centimeters to the side. Behind him and to his right, Grand Admiral Thrawn was seated at his command station, his blue-skinned face expressionless, his glowing red eyes focused on the bank of status readouts wrapped around his chair. He hadn’t spoken or moved from tha"
      ],
      "text/plain": [
       "<IPython.core.display.Markdown object>"
      ]
     },
     "metadata": {},
     "output_type": "display_data"
    },
    {
     "data": {
      "text/markdown": [
       "---"
      ],
      "text/plain": [
       "<IPython.core.display.Markdown object>"
      ]
     },
     "metadata": {},
     "output_type": "display_data"
    },
    {
     "data": {
      "text/markdown": [
       "### Dark force rising, Timothy Zahn, 1992"
      ],
      "text/plain": [
       "<IPython.core.display.Markdown object>"
      ]
     },
     "metadata": {},
     "output_type": "display_data"
    },
    {
     "data": {
      "text/markdown": [
       "deep blackness of space. Directly beneath the ship, in the western part of the Great Northern Forest of the planet Myrkr, dawn was approaching.\n",
       "\n",
       "The last dawn that some in that forest would ever see.\n",
       "\n",
       "Standing at one of the side bridge viewports of the Imperial Star Destroyer Chimaera, Captain Pellaeon watched as the fuzzy terminator line crept toward the target zone on the planet below. Ten minutes ago, the ground forces surrounding the target had reported themselves ready; the Chimaera itself  <span style=\"color: blue\">had</span> been holding blockade position for nearly an hour. All that was missing now was the order to attack.\n",
       "\n",
       "Slowly, feeling almost furtive about it, Pellaeon turned his head a couple of centimeters to the side. Behind him and to his right, Grand Admiral Thrawn was seated at his command station, his blue-skinned face expressionless, his glowing red eyes focused on the bank of status readouts wrapped around his chair. He hadn’t spoken or moved from that position since the last of the ground forces had "
      ],
      "text/plain": [
       "<IPython.core.display.Markdown object>"
      ]
     },
     "metadata": {},
     "output_type": "display_data"
    },
    {
     "data": {
      "text/markdown": [
       "---"
      ],
      "text/plain": [
       "<IPython.core.display.Markdown object>"
      ]
     },
     "metadata": {},
     "output_type": "display_data"
    },
    {
     "data": {
      "text/markdown": [
       "### A grand passion, Mary Mackey, 1986"
      ],
      "text/plain": [
       "<IPython.core.display.Markdown object>"
      ]
     },
     "metadata": {},
     "output_type": "display_data"
    },
    {
     "data": {
      "text/markdown": [
       "ee-storied windows of the Met gleamed in the last rays of sunlight like the facets of a giant, exotic jewel; because of an optical illusion the figures on the priceless Chagall paintings appeared to float out into the courtyard like angels announcing that some new glorious era was at hand. As Natasha slowly made her way across the plaza on the arm of her eldest daughter, Winn, she felt, for the first time in years, all the excitement of an opening night.\n",
       "\n",
       "At seventy-nine, Natasha Ladanova still  <span style=\"color: blue\">had</span> a special aura about her that made people turn and stare. Her pure white hair was twisted in a soft loop at the back of her neck the way it had been over a half a century ago when she had danced the last performance of Swan Lake ever given in Imperial Russia. Hers were still the dark, mysterious eyes that had charmed a Grand Duke, her body as balanced and compact as it had been the first day she met Sergei Maximov, whom she had loved so much and whom she had not seen in more than twenty years.\n"
      ],
      "text/plain": [
       "<IPython.core.display.Markdown object>"
      ]
     },
     "metadata": {},
     "output_type": "display_data"
    },
    {
     "data": {
      "text/markdown": [
       "---"
      ],
      "text/plain": [
       "<IPython.core.display.Markdown object>"
      ]
     },
     "metadata": {},
     "output_type": "display_data"
    },
    {
     "data": {
      "text/markdown": [
       "### A grand passion, Mary Mackey, 1986"
      ],
      "text/plain": [
       "<IPython.core.display.Markdown object>"
      ]
     },
     "metadata": {},
     "output_type": "display_data"
    },
    {
     "data": {
      "text/markdown": [
       "figures on the priceless Chagall paintings appeared to float out into the courtyard like angels announcing that some new glorious era was at hand. As Natasha slowly made her way across the plaza on the arm of her eldest daughter, Winn, she felt, for the first time in years, all the excitement of an opening night.\n",
       "\n",
       "At seventy-nine, Natasha Ladanova still had a special aura about her that made people turn and stare. Her pure white hair was twisted in a soft loop at the back of her neck the way it  <span style=\"color: blue\">had</span> been over a half a century ago when she had danced the last performance of Swan Lake ever given in Imperial Russia. Hers were still the dark, mysterious eyes that had charmed a Grand Duke, her body as balanced and compact as it had been the first day she met Sergei Maximov, whom she had loved so much and whom she had not seen in more than twenty years.\n",
       "\n",
       "Now, by one of those odd quirks of fate that a woman gets used to during the course of a long life, Sergei was launching her granddaughter Alys"
      ],
      "text/plain": [
       "<IPython.core.display.Markdown object>"
      ]
     },
     "metadata": {},
     "output_type": "display_data"
    },
    {
     "data": {
      "text/markdown": [
       "---"
      ],
      "text/plain": [
       "<IPython.core.display.Markdown object>"
      ]
     },
     "metadata": {},
     "output_type": "display_data"
    },
    {
     "data": {
      "text/markdown": [
       "### A grand passion, Mary Mackey, 1986"
      ],
      "text/plain": [
       "<IPython.core.display.Markdown object>"
      ]
     },
     "metadata": {},
     "output_type": "display_data"
    },
    {
     "data": {
      "text/markdown": [
       "ppeared to float out into the courtyard like angels announcing that some new glorious era was at hand. As Natasha slowly made her way across the plaza on the arm of her eldest daughter, Winn, she felt, for the first time in years, all the excitement of an opening night.\n",
       "\n",
       "At seventy-nine, Natasha Ladanova still had a special aura about her that made people turn and stare. Her pure white hair was twisted in a soft loop at the back of her neck the way it had been over a half a century ago when she  <span style=\"color: blue\">had</span> danced the last performance of Swan Lake ever given in Imperial Russia. Hers were still the dark, mysterious eyes that had charmed a Grand Duke, her body as balanced and compact as it had been the first day she met Sergei Maximov, whom she had loved so much and whom she had not seen in more than twenty years.\n",
       "\n",
       "Now, by one of those odd quirks of fate that a woman gets used to during the course of a long life, Sergei was launching her granddaughter Alysa’s career tonight in his new ballet Tristan"
      ],
      "text/plain": [
       "<IPython.core.display.Markdown object>"
      ]
     },
     "metadata": {},
     "output_type": "display_data"
    },
    {
     "data": {
      "text/markdown": [
       "---"
      ],
      "text/plain": [
       "<IPython.core.display.Markdown object>"
      ]
     },
     "metadata": {},
     "output_type": "display_data"
    },
    {
     "data": {
      "text/markdown": [
       "### A grand passion, Mary Mackey, 1986"
      ],
      "text/plain": [
       "<IPython.core.display.Markdown object>"
      ]
     },
     "metadata": {},
     "output_type": "display_data"
    },
    {
     "data": {
      "text/markdown": [
       "de her way across the plaza on the arm of her eldest daughter, Winn, she felt, for the first time in years, all the excitement of an opening night.\n",
       "\n",
       "At seventy-nine, Natasha Ladanova still had a special aura about her that made people turn and stare. Her pure white hair was twisted in a soft loop at the back of her neck the way it had been over a half a century ago when she had danced the last performance of Swan Lake ever given in Imperial Russia. Hers were still the dark, mysterious eyes that  <span style=\"color: blue\">had</span> charmed a Grand Duke, her body as balanced and compact as it had been the first day she met Sergei Maximov, whom she had loved so much and whom she had not seen in more than twenty years.\n",
       "\n",
       "Now, by one of those odd quirks of fate that a woman gets used to during the course of a long life, Sergei was launching her granddaughter Alysa’s career tonight in his new ballet Tristan and Iseult—not out of any misplaced loyalty to Natasha herself, but because Alysa was simply one of the most promising you"
      ],
      "text/plain": [
       "<IPython.core.display.Markdown object>"
      ]
     },
     "metadata": {},
     "output_type": "display_data"
    },
    {
     "data": {
      "text/markdown": [
       "---"
      ],
      "text/plain": [
       "<IPython.core.display.Markdown object>"
      ]
     },
     "metadata": {},
     "output_type": "display_data"
    },
    {
     "data": {
      "text/markdown": [
       "### A grand passion, Mary Mackey, 1986"
      ],
      "text/plain": [
       "<IPython.core.display.Markdown object>"
      ]
     },
     "metadata": {},
     "output_type": "display_data"
    },
    {
     "data": {
      "text/markdown": [
       "nn, she felt, for the first time in years, all the excitement of an opening night.\n",
       "\n",
       "At seventy-nine, Natasha Ladanova still had a special aura about her that made people turn and stare. Her pure white hair was twisted in a soft loop at the back of her neck the way it had been over a half a century ago when she had danced the last performance of Swan Lake ever given in Imperial Russia. Hers were still the dark, mysterious eyes that had charmed a Grand Duke, her body as balanced and compact as it  <span style=\"color: blue\">had</span> been the first day she met Sergei Maximov, whom she had loved so much and whom she had not seen in more than twenty years.\n",
       "\n",
       "Now, by one of those odd quirks of fate that a woman gets used to during the course of a long life, Sergei was launching her granddaughter Alysa’s career tonight in his new ballet Tristan and Iseult—not out of any misplaced loyalty to Natasha herself, but because Alysa was simply one of the most promising young dancers he or anyone else had seen in a long time.\n",
       "\n",
       "Inside the"
      ],
      "text/plain": [
       "<IPython.core.display.Markdown object>"
      ]
     },
     "metadata": {},
     "output_type": "display_data"
    },
    {
     "data": {
      "text/markdown": [
       "---"
      ],
      "text/plain": [
       "<IPython.core.display.Markdown object>"
      ]
     },
     "metadata": {},
     "output_type": "display_data"
    },
    {
     "data": {
      "text/markdown": [
       "### The cobra event, Richard Preston, 1997"
      ],
      "text/plain": [
       "<IPython.core.display.Markdown object>"
      ]
     },
     "metadata": {},
     "output_type": "display_data"
    },
    {
     "data": {
      "text/markdown": [
       "Part One\n",
       "\n",
       "\n",
       "TRIAL\n",
       "\n",
       "\n",
       "Arc of the Circle\n",
       "\n",
       "NEW YORK CITY, LATE 1990s\n",
       "\n",
       "\n",
       "\n",
       "KATE MORAN was an only child. She was seventeen years old and lived with her parents in a loft apartment on the top floor of a handsome old building to the west of Union Square, just on the edge of Greenwich Village. One Wednesday morning in late April, Kate was slow getting up. She  <span style=\"color: blue\">had</span> woken in the middle of the night in a sweat, but it went away, and she fell back asleep, into bad dreams that she could not remember. She came awake with a fresh cold, and she could feel her period coming on.\n",
       "\n",
       "“Kate!” It was Nanette, the housekeeper, calling to her from the kitchen. “Katie!”\n",
       "\n",
       "“Okay.” She didn’t like being called Katie.\n",
       "\n",
       "She sat up and found a Kleenex and blew her nose, and went into the bathroom. She brushed her teeth, then went back into the bedroom and dressed in a flowered d"
      ],
      "text/plain": [
       "<IPython.core.display.Markdown object>"
      ]
     },
     "metadata": {},
     "output_type": "display_data"
    },
    {
     "data": {
      "text/markdown": [
       "---"
      ],
      "text/plain": [
       "<IPython.core.display.Markdown object>"
      ]
     },
     "metadata": {},
     "output_type": "display_data"
    },
    {
     "data": {
      "text/markdown": [
       "### Perish twice, Robert B. Parker, 2000"
      ],
      "text/plain": [
       "<IPython.core.display.Markdown object>"
      ]
     },
     "metadata": {},
     "output_type": "display_data"
    },
    {
     "data": {
      "text/markdown": [
       "\n",
       "\n",
       "\n",
       "CHAPTER\n",
       "\n",
       "1\n",
       "\n",
       "\n",
       "\n",
       "\n",
       "\n",
       "MY SISTER, ELIZABETH, came to see me.\n",
       "\n",
       "Elizabeth is three years older than I am. We aren’t close. We  <span style=\"color: blue\">had</span> spent too much of our childhood fighting over Daddy ever to be the kind of sisters that talk on the phone every day. To cement my conviction that Elizabeth was a pain, my dog, Rosie, didn’t like her either. Since Rosie likes everyone, including armed intruders, it seemed clear that Elizabeth was special.\n",
       "\n",
       "“What kind is she again?” Elizabeth asked. “A Boston terrier?”\n",
       "\n",
       "“Bull terrier,” I said. “Rosie is a miniature bull terrier.”\n",
       "\n",
       "“I thought she was a Boston terrier.”\n",
       "\n",
       "“You want to see her papers"
      ],
      "text/plain": [
       "<IPython.core.display.Markdown object>"
      ]
     },
     "metadata": {},
     "output_type": "display_data"
    },
    {
     "data": {
      "text/markdown": [
       "---"
      ],
      "text/plain": [
       "<IPython.core.display.Markdown object>"
      ]
     },
     "metadata": {},
     "output_type": "display_data"
    },
    {
     "data": {
      "text/markdown": [
       "### Counterfeit lady, Jude Deveraux, 1984"
      ],
      "text/plain": [
       "<IPython.core.display.Markdown object>"
      ]
     },
     "metadata": {},
     "output_type": "display_data"
    },
    {
     "data": {
      "text/markdown": [
       "Chapter 1\n",
       "\n",
       "\n",
       "\n",
       "\n",
       "IN JUNE OF 1794, THE ROSES WERE IN FULL FLOWER and the lawns were of a green lushness that is known only in England. In the county of Sussex stood a small, square, two-story house, a plain house surrounded by a short iron fence. The house once  <span style=\"color: blue\">had</span> been part of a greater estate, an outbuilding for a gardener’s or gamekeeper’s family, but the rest of the estate had been subdivided long ago and sold to pay off the Maleson family’s debts. All that was left of this once great family was this small, neglected house, Jacob Maleson, and his daughter Bianca.\n",
       "\n",
       "Jacob Maleson now sat before the empty fireplace in the parlor on the ground floor—a short, corpulent man, the lower buttons of his vest unbuttoned over the expanse of his large stomach, his"
      ],
      "text/plain": [
       "<IPython.core.display.Markdown object>"
      ]
     },
     "metadata": {},
     "output_type": "display_data"
    },
    {
     "data": {
      "text/markdown": [
       "---"
      ],
      "text/plain": [
       "<IPython.core.display.Markdown object>"
      ]
     },
     "metadata": {},
     "output_type": "display_data"
    },
    {
     "data": {
      "text/markdown": [
       "### Counterfeit lady, Jude Deveraux, 1984"
      ],
      "text/plain": [
       "<IPython.core.display.Markdown object>"
      ]
     },
     "metadata": {},
     "output_type": "display_data"
    },
    {
     "data": {
      "text/markdown": [
       "Chapter 1\n",
       "\n",
       "\n",
       "\n",
       "\n",
       "IN JUNE OF 1794, THE ROSES WERE IN FULL FLOWER and the lawns were of a green lushness that is known only in England. In the county of Sussex stood a small, square, two-story house, a plain house surrounded by a short iron fence. The house once had been part of a greater estate, an outbuilding for a gardener’s or gamekeeper’s family, but the rest of the estate  <span style=\"color: blue\">had</span> been subdivided long ago and sold to pay off the Maleson family’s debts. All that was left of this once great family was this small, neglected house, Jacob Maleson, and his daughter Bianca.\n",
       "\n",
       "Jacob Maleson now sat before the empty fireplace in the parlor on the ground floor—a short, corpulent man, the lower buttons of his vest unbuttoned over the expanse of his large stomach, his coat carelessly tossed over another chair. His plump legs were encased in broadcloth breeches, reaching to just past "
      ],
      "text/plain": [
       "<IPython.core.display.Markdown object>"
      ]
     },
     "metadata": {},
     "output_type": "display_data"
    },
    {
     "data": {
      "text/markdown": [
       "---"
      ],
      "text/plain": [
       "<IPython.core.display.Markdown object>"
      ]
     },
     "metadata": {},
     "output_type": "display_data"
    },
    {
     "data": {
      "text/markdown": [
       "### So long: see you tomorrow, William Maxwell, 1980"
      ],
      "text/plain": [
       "<IPython.core.display.Markdown object>"
      ]
     },
     "metadata": {},
     "output_type": "display_data"
    },
    {
     "data": {
      "text/markdown": [
       "I\n",
       "\n",
       "\n",
       "\n",
       "\n",
       "\n",
       "A Pistol Shot\n",
       "\n",
       "\n",
       "\n",
       "\n",
       "The gravel pit was about a mile east of town, and the size of a small lake, and so deep that boys under sixteen were forbidden by their parents to swim there. I knew it only by hearsay. It  <span style=\"color: blue\">had</span> no bottom, people said, and because I was very much interested in the idea that if you dug a hole straight down anywhere and kept on digging it would come out in China, I took this to be a literal statement of fact.\n",
       "\n",
       "One winter morning shortly before daybreak, three men loading gravel there heard what sounded like a pistol shot. Or, they agreed, it could have been a car backfiring. Within a few seconds it had grown light. No one came to the pit through the field that lay alongside it, and they "
      ],
      "text/plain": [
       "<IPython.core.display.Markdown object>"
      ]
     },
     "metadata": {},
     "output_type": "display_data"
    },
    {
     "data": {
      "text/markdown": [
       "---"
      ],
      "text/plain": [
       "<IPython.core.display.Markdown object>"
      ]
     },
     "metadata": {},
     "output_type": "display_data"
    },
    {
     "data": {
      "text/markdown": [
       "### Balance point, Kathy Tyers, 2000"
      ],
      "text/plain": [
       "<IPython.core.display.Markdown object>"
      ]
     },
     "metadata": {},
     "output_type": "display_data"
    },
    {
     "data": {
      "text/markdown": [
       "\n",
       "\n",
       "\n",
       "PROLOGUE\n",
       "\n",
       "\n",
       "Lieutenant Jaina Solo rolled her X-wing fighter up on its port S-foil and shoved her throttle forward. A seed-shaped Yuuzhan Vong coralskipper  <span style=\"color: blue\">had</span> been harrying her wingmate. As it went evasive, a minuscule black hole appeared just off its tail and gulped down every splinter of laser energy Jaina poured into it.\n",
       "\n",
       "She matched her X-wing’s speed to the skip’s and pursued. There’d been dozens of battles since Colonel Gavin Darklighter invited her to join Rogue Squadron. Her pride hadn’t faded, but the thrill sure had. Too many midnight scrambles. Too much death, too little sleep.\n",
       "\n",
       "But I’m in Rogue Squadron, she reflected, feathering her thro"
      ],
      "text/plain": [
       "<IPython.core.display.Markdown object>"
      ]
     },
     "metadata": {},
     "output_type": "display_data"
    },
    {
     "data": {
      "text/markdown": [
       "---"
      ],
      "text/plain": [
       "<IPython.core.display.Markdown object>"
      ]
     },
     "metadata": {},
     "output_type": "display_data"
    },
    {
     "data": {
      "text/markdown": [
       "### Balance point, Kathy Tyers, 2000"
      ],
      "text/plain": [
       "<IPython.core.display.Markdown object>"
      ]
     },
     "metadata": {},
     "output_type": "display_data"
    },
    {
     "data": {
      "text/markdown": [
       " Solo rolled her X-wing fighter up on its port S-foil and shoved her throttle forward. A seed-shaped Yuuzhan Vong coralskipper had been harrying her wingmate. As it went evasive, a minuscule black hole appeared just off its tail and gulped down every splinter of laser energy Jaina poured into it.\n",
       "\n",
       "She matched her X-wing’s speed to the skip’s and pursued. There’d been dozens of battles since Colonel Gavin Darklighter invited her to join Rogue Squadron. Her pride hadn’t faded, but the thrill sure  <span style=\"color: blue\">had</span>. Too many midnight scrambles. Too much death, too little sleep.\n",
       "\n",
       "But I’m in Rogue Squadron, she reflected, feathering her throttle, not because of who my parents are, and not because the Force is strong in my family.\n",
       "\n",
       "But based on her own piloting skills. Besides, Rogue Squadron ought to include at least one Jedi Knight.\n",
       "\n",
       "The skip she was chasing swooped toward the Bothan Assault Cruiser Champion. Champ was flying cover for another refugee convoy. Kalarba’s industrialized moon, Hosk, already wo"
      ],
      "text/plain": [
       "<IPython.core.display.Markdown object>"
      ]
     },
     "metadata": {},
     "output_type": "display_data"
    },
    {
     "data": {
      "text/markdown": [
       "---"
      ],
      "text/plain": [
       "<IPython.core.display.Markdown object>"
      ]
     },
     "metadata": {},
     "output_type": "display_data"
    },
    {
     "data": {
      "text/markdown": [
       "### Beyond deserving, Sandra Jean Scofield, 1991"
      ],
      "text/plain": [
       "<IPython.core.display.Markdown object>"
      ]
     },
     "metadata": {},
     "output_type": "display_data"
    },
    {
     "data": {
      "text/markdown": [
       "\n",
       "\n",
       "ONE: TRESPASS\n",
       "\n",
       "1978\n",
       "\n",
       "\n",
       "\n",
       "\n",
       "\n",
       "1\n",
       "\n",
       "Katie  <span style=\"color: blue\">had</span> already made plans to go to Texas with the baby. Her going didn’t have anything to do with Fisher hitting her. On the other hand, she wouldn’t change her plans, even though her eyes were black in the morning; even though he cried and said he had sat up all night in remorse, thinking about killing himself (he had slept the sleep of the dead drunk—she had heard him snoring); even though she’d have to lie to her mother, and her mother wouldn’t believe her, so that Katie would end up defending him "
      ],
      "text/plain": [
       "<IPython.core.display.Markdown object>"
      ]
     },
     "metadata": {},
     "output_type": "display_data"
    },
    {
     "data": {
      "text/markdown": [
       "---"
      ],
      "text/plain": [
       "<IPython.core.display.Markdown object>"
      ]
     },
     "metadata": {},
     "output_type": "display_data"
    },
    {
     "data": {
      "text/markdown": [
       "### Beyond deserving, Sandra Jean Scofield, 1991"
      ],
      "text/plain": [
       "<IPython.core.display.Markdown object>"
      ]
     },
     "metadata": {},
     "output_type": "display_data"
    },
    {
     "data": {
      "text/markdown": [
       "\n",
       "\n",
       "ONE: TRESPASS\n",
       "\n",
       "1978\n",
       "\n",
       "\n",
       "\n",
       "\n",
       "\n",
       "1\n",
       "\n",
       "Katie had already made plans to go to Texas with the baby. Her going didn’t have anything to do with Fisher hitting her. On the other hand, she wouldn’t change her plans, even though her eyes were black in the morning; even though he cried and said he  <span style=\"color: blue\">had</span> sat up all night in remorse, thinking about killing himself (he had slept the sleep of the dead drunk—she had heard him snoring); even though she’d have to lie to her mother, and her mother wouldn’t believe her, so that Katie would end up defending him the way she always had, when he didn’t deserve it anymore.\n",
       "\n",
       "It was the first time he had hit her, unless you counted a couple of shoves. Once, in 1969, long before they had married, they had been visiting a navy buddy of his in Sausalito, and Fis"
      ],
      "text/plain": [
       "<IPython.core.display.Markdown object>"
      ]
     },
     "metadata": {},
     "output_type": "display_data"
    },
    {
     "data": {
      "text/markdown": [
       "---"
      ],
      "text/plain": [
       "<IPython.core.display.Markdown object>"
      ]
     },
     "metadata": {},
     "output_type": "display_data"
    },
    {
     "data": {
      "text/markdown": [
       "### Beyond deserving, Sandra Jean Scofield, 1991"
      ],
      "text/plain": [
       "<IPython.core.display.Markdown object>"
      ]
     },
     "metadata": {},
     "output_type": "display_data"
    },
    {
     "data": {
      "text/markdown": [
       "\n",
       "\n",
       "ONE: TRESPASS\n",
       "\n",
       "1978\n",
       "\n",
       "\n",
       "\n",
       "\n",
       "\n",
       "1\n",
       "\n",
       "Katie had already made plans to go to Texas with the baby. Her going didn’t have anything to do with Fisher hitting her. On the other hand, she wouldn’t change her plans, even though her eyes were black in the morning; even though he cried and said he had sat up all night in remorse, thinking about killing himself (he  <span style=\"color: blue\">had</span> slept the sleep of the dead drunk—she had heard him snoring); even though she’d have to lie to her mother, and her mother wouldn’t believe her, so that Katie would end up defending him the way she always had, when he didn’t deserve it anymore.\n",
       "\n",
       "It was the first time he had hit her, unless you counted a couple of shoves. Once, in 1969, long before they had married, they had been visiting a navy buddy of his in Sausalito, and Fisher had given her a push, out on the deck of the buddy’s houseboat, "
      ],
      "text/plain": [
       "<IPython.core.display.Markdown object>"
      ]
     },
     "metadata": {},
     "output_type": "display_data"
    },
    {
     "data": {
      "text/markdown": [
       "---"
      ],
      "text/plain": [
       "<IPython.core.display.Markdown object>"
      ]
     },
     "metadata": {},
     "output_type": "display_data"
    },
    {
     "data": {
      "text/markdown": [
       "### Beyond deserving, Sandra Jean Scofield, 1991"
      ],
      "text/plain": [
       "<IPython.core.display.Markdown object>"
      ]
     },
     "metadata": {},
     "output_type": "display_data"
    },
    {
     "data": {
      "text/markdown": [
       "\n",
       "\n",
       "ONE: TRESPASS\n",
       "\n",
       "1978\n",
       "\n",
       "\n",
       "\n",
       "\n",
       "\n",
       "1\n",
       "\n",
       "Katie had already made plans to go to Texas with the baby. Her going didn’t have anything to do with Fisher hitting her. On the other hand, she wouldn’t change her plans, even though her eyes were black in the morning; even though he cried and said he had sat up all night in remorse, thinking about killing himself (he had slept the sleep of the dead drunk—she  <span style=\"color: blue\">had</span> heard him snoring); even though she’d have to lie to her mother, and her mother wouldn’t believe her, so that Katie would end up defending him the way she always had, when he didn’t deserve it anymore.\n",
       "\n",
       "It was the first time he had hit her, unless you counted a couple of shoves. Once, in 1969, long before they had married, they had been visiting a navy buddy of his in Sausalito, and Fisher had given her a push, out on the deck of the buddy’s houseboat, because she was yelling at him not to go o"
      ],
      "text/plain": [
       "<IPython.core.display.Markdown object>"
      ]
     },
     "metadata": {},
     "output_type": "display_data"
    },
    {
     "data": {
      "text/markdown": [
       "---"
      ],
      "text/plain": [
       "<IPython.core.display.Markdown object>"
      ]
     },
     "metadata": {},
     "output_type": "display_data"
    },
    {
     "data": {
      "text/markdown": [
       "### Beyond deserving, Sandra Jean Scofield, 1991"
      ],
      "text/plain": [
       "<IPython.core.display.Markdown object>"
      ]
     },
     "metadata": {},
     "output_type": "display_data"
    },
    {
     "data": {
      "text/markdown": [
       " to go to Texas with the baby. Her going didn’t have anything to do with Fisher hitting her. On the other hand, she wouldn’t change her plans, even though her eyes were black in the morning; even though he cried and said he had sat up all night in remorse, thinking about killing himself (he had slept the sleep of the dead drunk—she had heard him snoring); even though she’d have to lie to her mother, and her mother wouldn’t believe her, so that Katie would end up defending him the way she always  <span style=\"color: blue\">had</span>, when he didn’t deserve it anymore.\n",
       "\n",
       "It was the first time he had hit her, unless you counted a couple of shoves. Once, in 1969, long before they had married, they had been visiting a navy buddy of his in Sausalito, and Fisher had given her a push, out on the deck of the buddy’s houseboat, because she was yelling at him not to go off drinking and leave her with the buddy’s super-Christian pregnant girlfriend. The push shut her up, scared her, out there in the dark; it almost made her mad enough"
      ],
      "text/plain": [
       "<IPython.core.display.Markdown object>"
      ]
     },
     "metadata": {},
     "output_type": "display_data"
    },
    {
     "data": {
      "text/markdown": [
       "---"
      ],
      "text/plain": [
       "<IPython.core.display.Markdown object>"
      ]
     },
     "metadata": {},
     "output_type": "display_data"
    },
    {
     "data": {
      "text/markdown": [
       "### Beyond deserving, Sandra Jean Scofield, 1991"
      ],
      "text/plain": [
       "<IPython.core.display.Markdown object>"
      ]
     },
     "metadata": {},
     "output_type": "display_data"
    },
    {
     "data": {
      "text/markdown": [
       "o with Fisher hitting her. On the other hand, she wouldn’t change her plans, even though her eyes were black in the morning; even though he cried and said he had sat up all night in remorse, thinking about killing himself (he had slept the sleep of the dead drunk—she had heard him snoring); even though she’d have to lie to her mother, and her mother wouldn’t believe her, so that Katie would end up defending him the way she always had, when he didn’t deserve it anymore.\n",
       "\n",
       "It was the first time he  <span style=\"color: blue\">had</span> hit her, unless you counted a couple of shoves. Once, in 1969, long before they had married, they had been visiting a navy buddy of his in Sausalito, and Fisher had given her a push, out on the deck of the buddy’s houseboat, because she was yelling at him not to go off drinking and leave her with the buddy’s super-Christian pregnant girlfriend. The push shut her up, scared her, out there in the dark; it almost made her mad enough to get on a bus and go home alone. But the buddy’s girlfriend, wh"
      ],
      "text/plain": [
       "<IPython.core.display.Markdown object>"
      ]
     },
     "metadata": {},
     "output_type": "display_data"
    },
    {
     "data": {
      "text/markdown": [
       "---"
      ],
      "text/plain": [
       "<IPython.core.display.Markdown object>"
      ]
     },
     "metadata": {},
     "output_type": "display_data"
    },
    {
     "data": {
      "text/markdown": [
       "### Man with a gun, Robert Daley, 1988"
      ],
      "text/plain": [
       "<IPython.core.display.Markdown object>"
      ]
     },
     "metadata": {},
     "output_type": "display_data"
    },
    {
     "data": {
      "text/markdown": [
       "ef of Patrol so that he would want to resign. His services were no longer required. To fire him outright might have provoked comment, stories in the newspapers, which, in the police world, were always to be avoided if possible. One did these things by indirection, or almost so. This time it took about an hour. The only one not immediately aware of what was happening was Keefe, the new Deputy Commissioner, who was still unfamiliar with police tribal rites, though he caught on soon enough.\n",
       "\n",
       "Keefe  <span style=\"color: blue\">had</span> conferred with the Police Commissioner two days before. They had worked out the meeting's agenda. This PC had taken office promising to put in place new priorities and new techniques, and he appeared to be doing it, which was why Keefe had agreed to serve him. The agenda was solid, and there was nothing on it about embarrassing anyone.\n",
       "\n",
       "The Chief of Patrol, Keefe knew, was in direct command of all seventy-five precincts, and of the seventeen thousand uniformed men who patrolled New York in cars"
      ],
      "text/plain": [
       "<IPython.core.display.Markdown object>"
      ]
     },
     "metadata": {},
     "output_type": "display_data"
    },
    {
     "data": {
      "text/markdown": [
       "---"
      ],
      "text/plain": [
       "<IPython.core.display.Markdown object>"
      ]
     },
     "metadata": {},
     "output_type": "display_data"
    },
    {
     "data": {
      "text/markdown": [
       "### Man with a gun, Robert Daley, 1988"
      ],
      "text/plain": [
       "<IPython.core.display.Markdown object>"
      ]
     },
     "metadata": {},
     "output_type": "display_data"
    },
    {
     "data": {
      "text/markdown": [
       "o longer required. To fire him outright might have provoked comment, stories in the newspapers, which, in the police world, were always to be avoided if possible. One did these things by indirection, or almost so. This time it took about an hour. The only one not immediately aware of what was happening was Keefe, the new Deputy Commissioner, who was still unfamiliar with police tribal rites, though he caught on soon enough.\n",
       "\n",
       "Keefe had conferred with the Police Commissioner two days before. They  <span style=\"color: blue\">had</span> worked out the meeting's agenda. This PC had taken office promising to put in place new priorities and new techniques, and he appeared to be doing it, which was why Keefe had agreed to serve him. The agenda was solid, and there was nothing on it about embarrassing anyone.\n",
       "\n",
       "The Chief of Patrol, Keefe knew, was in direct command of all seventy-five precincts, and of the seventeen thousand uniformed men who patrolled New York in cars or on foot. Technically he was responsible for all acts of incom"
      ],
      "text/plain": [
       "<IPython.core.display.Markdown object>"
      ]
     },
     "metadata": {},
     "output_type": "display_data"
    },
    {
     "data": {
      "text/markdown": [
       "---"
      ],
      "text/plain": [
       "<IPython.core.display.Markdown object>"
      ]
     },
     "metadata": {},
     "output_type": "display_data"
    },
    {
     "data": {
      "text/markdown": [
       "### Man with a gun, Robert Daley, 1988"
      ],
      "text/plain": [
       "<IPython.core.display.Markdown object>"
      ]
     },
     "metadata": {},
     "output_type": "display_data"
    },
    {
     "data": {
      "text/markdown": [
       " have provoked comment, stories in the newspapers, which, in the police world, were always to be avoided if possible. One did these things by indirection, or almost so. This time it took about an hour. The only one not immediately aware of what was happening was Keefe, the new Deputy Commissioner, who was still unfamiliar with police tribal rites, though he caught on soon enough.\n",
       "\n",
       "Keefe had conferred with the Police Commissioner two days before. They had worked out the meeting's agenda. This PC  <span style=\"color: blue\">had</span> taken office promising to put in place new priorities and new techniques, and he appeared to be doing it, which was why Keefe had agreed to serve him. The agenda was solid, and there was nothing on it about embarrassing anyone.\n",
       "\n",
       "The Chief of Patrol, Keefe knew, was in direct command of all seventy-five precincts, and of the seventeen thousand uniformed men who patrolled New York in cars or on foot. Technically he was responsible for all acts of incompetence, corruption or outright criminality c"
      ],
      "text/plain": [
       "<IPython.core.display.Markdown object>"
      ]
     },
     "metadata": {},
     "output_type": "display_data"
    },
    {
     "data": {
      "text/markdown": [
       "---"
      ],
      "text/plain": [
       "<IPython.core.display.Markdown object>"
      ]
     },
     "metadata": {},
     "output_type": "display_data"
    },
    {
     "data": {
      "text/markdown": [
       "### Man with a gun, Robert Daley, 1988"
      ],
      "text/plain": [
       "<IPython.core.display.Markdown object>"
      ]
     },
     "metadata": {},
     "output_type": "display_data"
    },
    {
     "data": {
      "text/markdown": [
       "e things by indirection, or almost so. This time it took about an hour. The only one not immediately aware of what was happening was Keefe, the new Deputy Commissioner, who was still unfamiliar with police tribal rites, though he caught on soon enough.\n",
       "\n",
       "Keefe had conferred with the Police Commissioner two days before. They had worked out the meeting's agenda. This PC had taken office promising to put in place new priorities and new techniques, and he appeared to be doing it, which was why Keefe  <span style=\"color: blue\">had</span> agreed to serve him. The agenda was solid, and there was nothing on it about embarrassing anyone.\n",
       "\n",
       "The Chief of Patrol, Keefe knew, was in direct command of all seventy-five precincts, and of the seventeen thousand uniformed men who patrolled New York in cars or on foot. Technically he was responsible for all acts of incompetence, corruption or outright criminality committed by any of them, so there were many ways and places he could be nailed, if that were a superior's object. But the PC had s"
      ],
      "text/plain": [
       "<IPython.core.display.Markdown object>"
      ]
     },
     "metadata": {},
     "output_type": "display_data"
    },
    {
     "data": {
      "text/markdown": [
       "---"
      ],
      "text/plain": [
       "<IPython.core.display.Markdown object>"
      ]
     },
     "metadata": {},
     "output_type": "display_data"
    },
    {
     "data": {
      "text/markdown": [
       "### The last Pendragon, Robert Rice, 1991"
      ],
      "text/plain": [
       "<IPython.core.display.Markdown object>"
      ]
     },
     "metadata": {},
     "output_type": "display_data"
    },
    {
     "data": {
      "text/markdown": [
       "\n",
       "\n",
       "\n",
       "PROLOGUE\n",
       "\n",
       "\n",
       "CAMLANN\n",
       "\n",
       "\n",
       "Arthur, High King of Britain, wearily glanced at the piece of broken spear in his hand and cast it aside. Shading his eyes against the dying sun, he looked down into the valley. The green turf, now smeared with red, lay torn and gouged by hundreds of horses and littered with the victims of the battle. The day  <span style=\"color: blue\">had</span> been warm, a summer day with a playful breeze that fluttered the standards of the gathered princes of Britain. It tugged at their cloaks and ruffled the manes of their horses, the kind of breeze meant for hunting the red deer or hawking in the uplands, not for dying in a nameless glen near the River Cam.\n",
       "\n",
       "Sweat lathered the chest of Arthur’s albino stallion and dripped down its legs. Its flanks heaved. The King, gray haired and blood spattered, scanned the battlefield.\n",
       "\n",
       "At Arthur’s side, the be"
      ],
      "text/plain": [
       "<IPython.core.display.Markdown object>"
      ]
     },
     "metadata": {},
     "output_type": "display_data"
    },
    {
     "data": {
      "text/markdown": [
       "---"
      ],
      "text/plain": [
       "<IPython.core.display.Markdown object>"
      ]
     },
     "metadata": {},
     "output_type": "display_data"
    },
    {
     "data": {
      "text/markdown": [
       "### The weekend, Peter Cameron, 1994"
      ],
      "text/plain": [
       "<IPython.core.display.Markdown object>"
      ]
     },
     "metadata": {},
     "output_type": "display_data"
    },
    {
     "data": {
      "text/markdown": [
       "\n",
       "1\n",
       "\n",
       "FOR A FEW MINUTES after the sun rose the world was quiet and still and everything human seemed far away, as if the tide  <span style=\"color: blue\">had</span> gone out. Marian would leave John and Roland sleeping in the house and walk down the damp green lawn toward the river, barefoot, in her nightgown.\n",
       "\n",
       "She could not say that the river was loveliest in the morning because on those still evenings when it turned purple, almost seemed to stop flowing, and lay like a bruise at the end of the lawn, it could make her cry. But in the morning there was nothing emotional about it. It was deep and cold and purposeful, clearer and curative. She’d walk upstrea"
      ],
      "text/plain": [
       "<IPython.core.display.Markdown object>"
      ]
     },
     "metadata": {},
     "output_type": "display_data"
    },
    {
     "data": {
      "text/markdown": [
       "---"
      ],
      "text/plain": [
       "<IPython.core.display.Markdown object>"
      ]
     },
     "metadata": {},
     "output_type": "display_data"
    },
    {
     "data": {
      "text/markdown": [
       "### Rock critic murders, Jesse Sublett, 1989"
      ],
      "text/plain": [
       "<IPython.core.display.Markdown object>"
      ]
     },
     "metadata": {},
     "output_type": "display_data"
    },
    {
     "data": {
      "text/markdown": [
       "CHAPTER ONE\n",
       "\n",
       "\n",
       "\n",
       "Austin, Texas, 1984. It was a dull, hot, mid-July Monday with nothing going for it. I was holed up in the small room in my apartment that I used as an office and storeroom for my music gear. Sometimes when I  <span style=\"color: blue\">had</span> nothing else to do I just sat in there and stared at my things instead of watching TV.\n",
       "\n",
       "My bass guitar leaned against an amplifier, ready to play the blues. Maybe I’d get around to changing its strings later, since I’d decided to take the afternoon off from the collection agency where I’d been working part-time as a skip tracer. When gigs got too few and far between, I took it out on people who’d moved without paying their bills, and that was how I paid my own.\n",
       "\n",
       "I was good at it, but I was bett"
      ],
      "text/plain": [
       "<IPython.core.display.Markdown object>"
      ]
     },
     "metadata": {},
     "output_type": "display_data"
    },
    {
     "data": {
      "text/markdown": [
       "---"
      ],
      "text/plain": [
       "<IPython.core.display.Markdown object>"
      ]
     },
     "metadata": {},
     "output_type": "display_data"
    },
    {
     "data": {
      "text/markdown": [
       "### Silk Hope: NC, Lawrence Naumoff, 1994"
      ],
      "text/plain": [
       "<IPython.core.display.Markdown object>"
      ]
     },
     "metadata": {},
     "output_type": "display_data"
    },
    {
     "data": {
      "text/markdown": [
       "\n",
       "\n",
       "\n",
       "Chapter 1\n",
       "\n",
       "\n",
       "I can't say as ever I was lost, but I was bewildered once for three days.\n",
       "\n",
       "DANIEL BOONE\n",
       "\n",
       "\n",
       "\n",
       "\n",
       "FRANNIE RAN THR0UGH a flock of pigeons.\n",
       "\n",
       "\"There she is,\" Natalie said.\n",
       "\n",
       "The pigeons scattered into the air. Feathers floated down in the sunlight.\n",
       "\n",
       "\"I hate this,\" Natalie said.\n",
       "\n",
       "Frannie was barefoot. Her shirt was sweaty and her loose hair  <span style=\"color: blue\">had</span> a pigeon feather caught in it. She was easily out­running the man who was chasing her.\n",
       "\n",
       "\"I'm so tired,\" Natalie said. \"I'm just so tired of this.\n",
       "\n",
       "Pull over and let's get her.\"\n",
       "\n",
       "Jake looked for a place to stop.\n",
       "\n",
       "\"I never thought we'd find her,\" he said.\n",
       "\n",
       "Frannie saw their car and with almost no break in speed she leaped in the open door.\n",
       "\n",
       "\"Go!\" she yelled. \"Go quick.\"\n",
       "\n",
       "Natalie's face was pale. Though she was Frannie's older sister, at this moment she appeared to be unrelated to this wild-eyed y"
      ],
      "text/plain": [
       "<IPython.core.display.Markdown object>"
      ]
     },
     "metadata": {},
     "output_type": "display_data"
    },
    {
     "data": {
      "text/markdown": [
       "---"
      ],
      "text/plain": [
       "<IPython.core.display.Markdown object>"
      ]
     },
     "metadata": {},
     "output_type": "display_data"
    },
    {
     "data": {
      "text/markdown": [
       "### My sweet Audrina, V. C. Andrews, 1982"
      ],
      "text/plain": [
       "<IPython.core.display.Markdown object>"
      ]
     },
     "metadata": {},
     "output_type": "display_data"
    },
    {
     "data": {
      "text/markdown": [
       "r going on in our house, a silent war that sounded no guns, and the bodies that fell were only wishes that died and the bullets were only words and the blood that spilled was always called pride.\n",
       "\n",
       "Though I’d never been to school—and I was seven years old and it was high time I was in school—it seemed I knew all about the Civil War. Around me the Civil War was still being waged, and though the future might stretch ahead for billions of years, it was still the war we’d never forget, for our pride  <span style=\"color: blue\">had</span> been injured, and our passions were lingering on. We’d lost the battle better won by the opposite side. Maybe that’s why it still kept hurting.\n",
       "\n",
       "Momma and my aunt Ellsbeth always said that men liked violent discussions about wars better than any other topic, but if there were other wars of any importance at all, they were never discussed in our house. Papa would read any book, see any movie, cut out any magazine photo that represented that war between brothers, even though his ancestors had fou"
      ],
      "text/plain": [
       "<IPython.core.display.Markdown object>"
      ]
     },
     "metadata": {},
     "output_type": "display_data"
    },
    {
     "data": {
      "text/markdown": [
       "---"
      ],
      "text/plain": [
       "<IPython.core.display.Markdown object>"
      ]
     },
     "metadata": {},
     "output_type": "display_data"
    },
    {
     "data": {
      "text/markdown": [
       "### Vale of the vole, Piers Anthony, 1987"
      ],
      "text/plain": [
       "<IPython.core.display.Markdown object>"
      ]
     },
     "metadata": {},
     "output_type": "display_data"
    },
    {
     "data": {
      "text/markdown": [
       "Chapter 1. Metria\n",
       "\n",
       "It wasn’t always easy, being the son of an ogre and a nymph. Sometimes the ogre started smashing things just for the joy of it, or squeezing the juice from stones one-handed, making an awful mess. Sometimes the nymph was rather empty-minded, or threw a tantrum. That was why Esk  <span style=\"color: blue\">had</span> made this cosy hideout that no one else knew about. Whenever things became too difficult at home, he came here to relax and unwind. He loved his parents, but there was virtue in solitude too.\n",
       "\n",
       "He paused to look about and listen carefully. He didn’t want any creature of Xanth, tame or wild, seeing him enter, because then the location would be no secret, and sooner or later his folks would learn of it, and his privacy would be lost.\n",
       "\n",
       "His hideout was in the hollow trunk of a dead beerbarrel tree. "
      ],
      "text/plain": [
       "<IPython.core.display.Markdown object>"
      ]
     },
     "metadata": {},
     "output_type": "display_data"
    },
    {
     "data": {
      "text/markdown": [
       "---"
      ],
      "text/plain": [
       "<IPython.core.display.Markdown object>"
      ]
     },
     "metadata": {},
     "output_type": "display_data"
    }
   ],
   "source": [
    "from lint.snippets import query_snippets\n",
    "\n",
    "query_snippets('had', 1980, 2000, 0.0, 0.001)"
   ]
  },
  {
   "cell_type": "code",
   "execution_count": null,
   "metadata": {
    "collapsed": true
   },
   "outputs": [],
   "source": []
  }
 ],
 "metadata": {
  "kernelspec": {
   "display_name": "Python 3",
   "language": "python",
   "name": "python3"
  },
  "language_info": {
   "codemirror_mode": {
    "name": "ipython",
    "version": 3
   },
   "file_extension": ".py",
   "mimetype": "text/x-python",
   "name": "python",
   "nbconvert_exporter": "python",
   "pygments_lexer": "ipython3",
   "version": "3.5.1"
  }
 },
 "nbformat": 4,
 "nbformat_minor": 0
}
