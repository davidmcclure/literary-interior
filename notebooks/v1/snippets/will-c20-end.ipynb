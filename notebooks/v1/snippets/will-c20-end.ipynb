{
 "cells": [
  {
   "cell_type": "code",
   "execution_count": 1,
   "metadata": {
    "collapsed": false,
    "scrolled": false
   },
   "outputs": [
    {
     "data": {
      "text/markdown": [
       "### Painted lives, Charlotte Vale Allen, 1990"
      ],
      "text/plain": [
       "<IPython.core.display.Markdown object>"
      ]
     },
     "metadata": {},
     "output_type": "display_data"
    },
    {
     "data": {
      "text/markdown": [
       "hake her finger at Holly and Carl. “Don’t think you’re getting away with this!” she said, then laughed and spoiled the effect. “Just because I look amused doesn’t mean I approve of your sneaking around, Holly Kidd!”\n",
       "\n",
       "“No, ma’am,” Holly replied. “Ten lashes after dinner. Right?”\n",
       "\n",
       "“Go away, the two of you! Can’t you see I’ve got a guest?” Turning back, she linked her arm with Hughie’s, saying, “Would you like to see the house, my dear?”\n",
       "\n",
       "“I believe I would.”\n",
       "\n",
       "They started up the stairs together. “ <span style=\"color: blue\">Will</span> you be staying?” she asked.\n",
       "\n",
       "\n",
       "\n",
       "“I thought I might, if that sits well with you.”\n",
       "\n",
       "“You silly old bugger,” she said again, “letting yourself be horn-swoggled by a pretty face.”\n",
       "\n",
       "“I was fixing to come for you anyway,” he said. “She got me moving, that’s all.”\n",
       "\n",
       "She opened the screen door and stood aside for him to enter. Then while he looked around, she went to the kitchen door to say, “Bonnie, there’ll be three for dinner.” Returning to Hughie, she said, “Come upstairs. I want to show you what I’m"
      ],
      "text/plain": [
       "<IPython.core.display.Markdown object>"
      ]
     },
     "metadata": {},
     "output_type": "display_data"
    },
    {
     "data": {
      "text/markdown": [
       "---"
      ],
      "text/plain": [
       "<IPython.core.display.Markdown object>"
      ]
     },
     "metadata": {},
     "output_type": "display_data"
    },
    {
     "data": {
      "text/markdown": [
       "### Painted lives, Charlotte Vale Allen, 1990"
      ],
      "text/plain": [
       "<IPython.core.display.Markdown object>"
      ]
     },
     "metadata": {},
     "output_type": "display_data"
    },
    {
     "data": {
      "text/markdown": [
       "nd, she went to the kitchen door to say, “Bonnie, there’ll be three for dinner.” Returning to Hughie, she said, “Come upstairs. I want to show you what I’m working on.”\n",
       "\n",
       "“This is some impressive place,” he said. “Back to work, huh?”\n",
       "\n",
       "“Well, it’s about time. Wouldn’t you say?”\n",
       "\n",
       "“I surely would. You know, Mattie, I’ve been thinking, and that Miss Holly’s right. It’s time you let folks know the truth about Gideon Sylvester.”\n",
       "\n",
       "She paused on the landing to look at him. “I swear to God,” she said. “I  <span style=\"color: blue\">will</span> murder that young woman.”\n",
       "\n",
       "\n",
       "\n",
       "He chucked her under the chin and gave her a kiss. “Now, now,” he said soothingly, “don’t go getting your drawers in a twist. It’s an idea whose time has come and you know it.”\n",
       "\n",
       "“I refuse to have the press crawling all over me.”\n",
       "\n",
       "He kissed her again and said, “Only one around here’s going to be crawling all over you is me.”\n",
       "\n",
       "“Dirty old man!” She laughed.\n",
       "\n",
       "“Show me what you’re working on,” he said. “Which way?”\n",
       "\n",
       "He took several steps down the hall, looking into open "
      ],
      "text/plain": [
       "<IPython.core.display.Markdown object>"
      ]
     },
     "metadata": {},
     "output_type": "display_data"
    },
    {
     "data": {
      "text/markdown": [
       "---"
      ],
      "text/plain": [
       "<IPython.core.display.Markdown object>"
      ]
     },
     "metadata": {},
     "output_type": "display_data"
    },
    {
     "data": {
      "text/markdown": [
       "### Painted lives, Charlotte Vale Allen, 1990"
      ],
      "text/plain": [
       "<IPython.core.display.Markdown object>"
      ]
     },
     "metadata": {},
     "output_type": "display_data"
    },
    {
     "data": {
      "text/markdown": [
       "dreaming, Mattie, I’m in an awful lot of trouble.” He smiled. “’Cause I just dreamed I came over to this island on a ferry. And I’ve been dreaming about doing that for half a century.”\n",
       "\n",
       "Taking his hand, she said, “Let me show you the new piece. I’m very pleased with it. It had been so long, you know, I was afraid I’d have nothing left. But everything’s still there.”\n",
       "\n",
       "\n",
       "\n",
       "Over in the garage apartment Holly and Carl were sitting in the old wicker chairs.\n",
       "\n",
       "“She’ll do it,” she was saying. “I know she  <span style=\"color: blue\">will</span>. Especially when Giddy and Matthew show up and tell her they think she should.”\n",
       "\n",
       "“You are one astonishing broad. You know that?”\n",
       "\n",
       "“Please don’t refer to me as a broad.”\n",
       "\n",
       "\n",
       "\n",
       "\n",
       "\n",
       "“Woman. Okay?”\n",
       "\n",
       "\n",
       "\n",
       "“Yes, thank you.”\n",
       "\n",
       "\n",
       "\n",
       "“One of these times,” he said, his leg over the chair arm swinging rhythmically back and forth, “I might hit on Mattie for some paper and stuff, and take a shot at some sketches.”\n",
       "\n",
       "“One of these times,” she said, “you and I are going to sleep together in that bed for an entire night.”\n"
      ],
      "text/plain": [
       "<IPython.core.display.Markdown object>"
      ]
     },
     "metadata": {},
     "output_type": "display_data"
    },
    {
     "data": {
      "text/markdown": [
       "---"
      ],
      "text/plain": [
       "<IPython.core.display.Markdown object>"
      ]
     },
     "metadata": {},
     "output_type": "display_data"
    },
    {
     "data": {
      "text/markdown": [
       "### The Hatterask incident, John D. Randall, 1987"
      ],
      "text/plain": [
       "<IPython.core.display.Markdown object>"
      ]
     },
     "metadata": {},
     "output_type": "display_data"
    },
    {
     "data": {
      "text/markdown": [
       "hough nearly 100% of the homes received wind and water damage on Roanoke Island, only four people died there, all in Wanchese. The pier that supported Chuck’s Crab House collapsed, sending the eatery down into what was left of the flooded Mackey Seafood Company.\n",
       "\n",
       "\n",
       "\n",
       "So, the financial cost of hurricane Crystal ran into the billions; and that was just on the Outer Banks. That estimate doesn’t include the loss of the land on which beachfront homes were built. The litigation over property boundaries  <span style=\"color: blue\">will</span> go on for years to come.\n",
       "\n",
       "\n",
       "\n",
       "But, who cares for numbers? All the news stories failed to complete their coverage of Mackey and the Hatterask after the story of the hurricane captured the headlines. True, nature resolved the incident—there is now no Oregon Inlet, no jetty proposal, no dredging, only a long expanse of clean beach. But we shouldn’t forget what happened to the Hatterask. Good people died trying to do the right thing. Whose fault was it? That’s the question that keeps nagging me.\n",
       "\n",
       "\n",
       "\n",
       "A"
      ],
      "text/plain": [
       "<IPython.core.display.Markdown object>"
      ]
     },
     "metadata": {},
     "output_type": "display_data"
    },
    {
     "data": {
      "text/markdown": [
       "---"
      ],
      "text/plain": [
       "<IPython.core.display.Markdown object>"
      ]
     },
     "metadata": {},
     "output_type": "display_data"
    },
    {
     "data": {
      "text/markdown": [
       "### Notches, Peter Bowen, 1997"
      ],
      "text/plain": [
       "<IPython.core.display.Markdown object>"
      ]
     },
     "metadata": {},
     "output_type": "display_data"
    },
    {
     "data": {
      "text/markdown": [
       "enty hot in here.”\n",
       "\n",
       "They struggled to the door and went out into the cool night. There was no cloud or moon and the stars burned in the velvet black sky.\n",
       "\n",
       "“Wheh!” said Madelaine. “This is some better!”\n",
       "\n",
       "Du Pré felt the silk cold on his back where the little wind from the west was touching lightly. His neck itched. He took off the silk bandanna wound around it.\n",
       "\n",
       "Ahh, he thought, I don’t put it back on neither.\n",
       "\n",
       "“I don’t see Bart,” said Du Pré.\n",
       "\n",
       "“He come later,” said Madelaine, “I talk to him, he  <span style=\"color: blue\">will</span> be along, probably a few minutes.”\n",
       "\n",
       "Du Pré nodded. Bart was so shy, really, that Du Pré couldn’t remember him in any crowd.\n",
       "\n",
       "Booger Tom was pissing in the shadow of a cottonwood in the little park across the road.\n",
       "\n",
       "Du Pré looked down the street. One of Bart’s Rovers was coming on, the big SUV pulled up and the rear window rolled down.\n",
       "\n",
       "“Evenin’,” said Rolly Challis. Bart got out and he went to the back of the rig and he opened it and he took down a wheelchair and he unfolded it and snapped the "
      ],
      "text/plain": [
       "<IPython.core.display.Markdown object>"
      ]
     },
     "metadata": {},
     "output_type": "display_data"
    },
    {
     "data": {
      "text/markdown": [
       "---"
      ],
      "text/plain": [
       "<IPython.core.display.Markdown object>"
      ]
     },
     "metadata": {},
     "output_type": "display_data"
    },
    {
     "data": {
      "text/markdown": [
       "### Switch, William Bayer, 1984"
      ],
      "text/plain": [
       "<IPython.core.display.Markdown object>"
      ]
     },
     "metadata": {},
     "output_type": "display_data"
    },
    {
     "data": {
      "text/markdown": [
       "out of the car, came over, stood beside Caroline. Sweeney looked helpless writhing in his bonds. \"Don't care about the garage and neither does she. What we care about is Hart. Hart ordered Tommy Wallace killed. Wanted him out because he thought he was being blackmailed. Supposed to look like a gangland execution but wasn't done all that well. And now there's a Hoboken detective who can show that Wallace's body was stashed in a stolen car stripped in your back shop. You think your goon mechanics  <span style=\"color: blue\">will</span> keep quiet, but they won't—not when they find out we're talking homicide. You got one chance, Sweeney. Come over to Hoboken with us now, give evidence against Hart and I'll see you get a deal on Wallace. About the same as you'd get for chopping cars, four to five, something like that. But meantime the garage carries on, it's yours, still making money, making plenty for you when you get out. You'll do hard time, sure, but not like Hart. He's Chief. He'll really get it. You'll be lost in the shuf"
      ],
      "text/plain": [
       "<IPython.core.display.Markdown object>"
      ]
     },
     "metadata": {},
     "output_type": "display_data"
    },
    {
     "data": {
      "text/markdown": [
       "---"
      ],
      "text/plain": [
       "<IPython.core.display.Markdown object>"
      ]
     },
     "metadata": {},
     "output_type": "display_data"
    },
    {
     "data": {
      "text/markdown": [
       "### Principia Martindale, Edward Swift, 1983"
      ],
      "text/plain": [
       "<IPython.core.display.Markdown object>"
      ]
     },
     "metadata": {},
     "output_type": "display_data"
    },
    {
     "data": {
      "text/markdown": [
       " it was already too late. His body was thrown thirty feet straight ahead, but Ravenhill didn’t swerve to miss him. “One more time for good measure,” he said to Winkie. “Just pretend this is nothing but another bump in the road.” When Winkie felt the bus lurch to one side, she leaped to her feet, began singing, clapping her hands and dancing up and down the aisle. Once on the open highway, Ravenhill started tapping on the steering wheel and singing right along with his wife:\n",
       "\n",
       "“Oh, the Holy Ghost  <span style=\"color: blue\">will</span> set your feet a-dancing,\n",
       "\n",
       "The Holy Ghost will thrill you through and through,\n",
       "\n",
       "The Holy Ghost will set your feet a-dancing, and\n",
       "\n",
       "Tell you what you ought to do …”\n",
       "\n",
       "Larry Wayne’s body was not found until the next morning. He was lying on his back. The coat of his white suit was ripped open. A night wind had blown sand over his legs and arms, but his face was uncovered, his eyes open. His murder was never solved, and no one showed much interest in solving it. Ravenhill said he knew it would be tha"
      ],
      "text/plain": [
       "<IPython.core.display.Markdown object>"
      ]
     },
     "metadata": {},
     "output_type": "display_data"
    },
    {
     "data": {
      "text/markdown": [
       "---"
      ],
      "text/plain": [
       "<IPython.core.display.Markdown object>"
      ]
     },
     "metadata": {},
     "output_type": "display_data"
    },
    {
     "data": {
      "text/markdown": [
       "### Principia Martindale, Edward Swift, 1983"
      ],
      "text/plain": [
       "<IPython.core.display.Markdown object>"
      ]
     },
     "metadata": {},
     "output_type": "display_data"
    },
    {
     "data": {
      "text/markdown": [
       "thirty feet straight ahead, but Ravenhill didn’t swerve to miss him. “One more time for good measure,” he said to Winkie. “Just pretend this is nothing but another bump in the road.” When Winkie felt the bus lurch to one side, she leaped to her feet, began singing, clapping her hands and dancing up and down the aisle. Once on the open highway, Ravenhill started tapping on the steering wheel and singing right along with his wife:\n",
       "\n",
       "“Oh, the Holy Ghost will set your feet a-dancing,\n",
       "\n",
       "The Holy Ghost  <span style=\"color: blue\">will</span> thrill you through and through,\n",
       "\n",
       "The Holy Ghost will set your feet a-dancing, and\n",
       "\n",
       "Tell you what you ought to do …”\n",
       "\n",
       "Larry Wayne’s body was not found until the next morning. He was lying on his back. The coat of his white suit was ripped open. A night wind had blown sand over his legs and arms, but his face was uncovered, his eyes open. His murder was never solved, and no one showed much interest in solving it. Ravenhill said he knew it would be that way because it was God’s will unfolding. He "
      ],
      "text/plain": [
       "<IPython.core.display.Markdown object>"
      ]
     },
     "metadata": {},
     "output_type": "display_data"
    },
    {
     "data": {
      "text/markdown": [
       "---"
      ],
      "text/plain": [
       "<IPython.core.display.Markdown object>"
      ]
     },
     "metadata": {},
     "output_type": "display_data"
    },
    {
     "data": {
      "text/markdown": [
       "### Principia Martindale, Edward Swift, 1983"
      ],
      "text/plain": [
       "<IPython.core.display.Markdown object>"
      ]
     },
     "metadata": {},
     "output_type": "display_data"
    },
    {
     "data": {
      "text/markdown": [
       "ve to miss him. “One more time for good measure,” he said to Winkie. “Just pretend this is nothing but another bump in the road.” When Winkie felt the bus lurch to one side, she leaped to her feet, began singing, clapping her hands and dancing up and down the aisle. Once on the open highway, Ravenhill started tapping on the steering wheel and singing right along with his wife:\n",
       "\n",
       "“Oh, the Holy Ghost will set your feet a-dancing,\n",
       "\n",
       "The Holy Ghost will thrill you through and through,\n",
       "\n",
       "The Holy Ghost  <span style=\"color: blue\">will</span> set your feet a-dancing, and\n",
       "\n",
       "Tell you what you ought to do …”\n",
       "\n",
       "Larry Wayne’s body was not found until the next morning. He was lying on his back. The coat of his white suit was ripped open. A night wind had blown sand over his legs and arms, but his face was uncovered, his eyes open. His murder was never solved, and no one showed much interest in solving it. Ravenhill said he knew it would be that way because it was God’s will unfolding. He and Winkie continued their work with the First Church"
      ],
      "text/plain": [
       "<IPython.core.display.Markdown object>"
      ]
     },
     "metadata": {},
     "output_type": "display_data"
    },
    {
     "data": {
      "text/markdown": [
       "---"
      ],
      "text/plain": [
       "<IPython.core.display.Markdown object>"
      ]
     },
     "metadata": {},
     "output_type": "display_data"
    },
    {
     "data": {
      "text/markdown": [
       "### Principia Martindale, Edward Swift, 1983"
      ],
      "text/plain": [
       "<IPython.core.display.Markdown object>"
      ]
     },
     "metadata": {},
     "output_type": "display_data"
    },
    {
     "data": {
      "text/markdown": [
       "The Holy Ghost will thrill you through and through,\n",
       "\n",
       "The Holy Ghost will set your feet a-dancing, and\n",
       "\n",
       "Tell you what you ought to do …”\n",
       "\n",
       "Larry Wayne’s body was not found until the next morning. He was lying on his back. The coat of his white suit was ripped open. A night wind had blown sand over his legs and arms, but his face was uncovered, his eyes open. His murder was never solved, and no one showed much interest in solving it. Ravenhill said he knew it would be that way because it was God’s  <span style=\"color: blue\">will</span> unfolding. He and Winkie continued their work with the First Church of Yesterday, Today and Tomorrow in downtown San Antonio. They took turns busing their congregation to the services and took turns preaching as well. Over their makeshift altar was a picture of Principia Martindale with her arms outstretched and her eyes closed. When Winkie preached she never failed to mention Principia’s name, and Ravenhill often told the congregation as well as his passengers that Principia would be alive tod"
      ],
      "text/plain": [
       "<IPython.core.display.Markdown object>"
      ]
     },
     "metadata": {},
     "output_type": "display_data"
    },
    {
     "data": {
      "text/markdown": [
       "---"
      ],
      "text/plain": [
       "<IPython.core.display.Markdown object>"
      ]
     },
     "metadata": {},
     "output_type": "display_data"
    },
    {
     "data": {
      "text/markdown": [
       "### Principia Martindale, Edward Swift, 1983"
      ],
      "text/plain": [
       "<IPython.core.display.Markdown object>"
      ]
     },
     "metadata": {},
     "output_type": "display_data"
    },
    {
     "data": {
      "text/markdown": [
       "well. Over their makeshift altar was a picture of Principia Martindale with her arms outstretched and her eyes closed. When Winkie preached she never failed to mention Principia’s name, and Ravenhill often told the congregation as well as his passengers that Principia would be alive today if Corinda Cassy had not allowed herself to fall into the hands of the Devil.\n",
       "\n",
       "“Once again the town of Judson is up for grabs,” wrote a columnist for the Fort Worth Star-Telegram. “Who knows who the next owner  <span style=\"color: blue\">will</span> be, or even if there will be another owner …”\n",
       "\n",
       "Applebee read the article and threw the paper into the big pool down at the Water Gardens. “Judson belongs to old man Judson and it always will,” he shouted. “Nobody, dead or alive, will ever be able to take it away from him either.” He stood up and threw his vest and rubber sandals into the water and was about to jump in himself when Johnnie Chapman stopped him. “No use getting so riled up,” she said. “Not a bit of use in it. That water’ll cool yo"
      ],
      "text/plain": [
       "<IPython.core.display.Markdown object>"
      ]
     },
     "metadata": {},
     "output_type": "display_data"
    },
    {
     "data": {
      "text/markdown": [
       "---"
      ],
      "text/plain": [
       "<IPython.core.display.Markdown object>"
      ]
     },
     "metadata": {},
     "output_type": "display_data"
    },
    {
     "data": {
      "text/markdown": [
       "### Principia Martindale, Edward Swift, 1983"
      ],
      "text/plain": [
       "<IPython.core.display.Markdown object>"
      ]
     },
     "metadata": {},
     "output_type": "display_data"
    },
    {
     "data": {
      "text/markdown": [
       " altar was a picture of Principia Martindale with her arms outstretched and her eyes closed. When Winkie preached she never failed to mention Principia’s name, and Ravenhill often told the congregation as well as his passengers that Principia would be alive today if Corinda Cassy had not allowed herself to fall into the hands of the Devil.\n",
       "\n",
       "“Once again the town of Judson is up for grabs,” wrote a columnist for the Fort Worth Star-Telegram. “Who knows who the next owner will be, or even if there  <span style=\"color: blue\">will</span> be another owner …”\n",
       "\n",
       "Applebee read the article and threw the paper into the big pool down at the Water Gardens. “Judson belongs to old man Judson and it always will,” he shouted. “Nobody, dead or alive, will ever be able to take it away from him either.” He stood up and threw his vest and rubber sandals into the water and was about to jump in himself when Johnnie Chapman stopped him. “No use getting so riled up,” she said. “Not a bit of use in it. That water’ll cool you off for a little while b"
      ],
      "text/plain": [
       "<IPython.core.display.Markdown object>"
      ]
     },
     "metadata": {},
     "output_type": "display_data"
    },
    {
     "data": {
      "text/markdown": [
       "---"
      ],
      "text/plain": [
       "<IPython.core.display.Markdown object>"
      ]
     },
     "metadata": {},
     "output_type": "display_data"
    },
    {
     "data": {
      "text/markdown": [
       "### Principia Martindale, Edward Swift, 1983"
      ],
      "text/plain": [
       "<IPython.core.display.Markdown object>"
      ]
     },
     "metadata": {},
     "output_type": "display_data"
    },
    {
     "data": {
      "text/markdown": [
       "avenhill often told the congregation as well as his passengers that Principia would be alive today if Corinda Cassy had not allowed herself to fall into the hands of the Devil.\n",
       "\n",
       "“Once again the town of Judson is up for grabs,” wrote a columnist for the Fort Worth Star-Telegram. “Who knows who the next owner will be, or even if there will be another owner …”\n",
       "\n",
       "Applebee read the article and threw the paper into the big pool down at the Water Gardens. “Judson belongs to old man Judson and it always  <span style=\"color: blue\">will</span>,” he shouted. “Nobody, dead or alive, will ever be able to take it away from him either.” He stood up and threw his vest and rubber sandals into the water and was about to jump in himself when Johnnie Chapman stopped him. “No use getting so riled up,” she said. “Not a bit of use in it. That water’ll cool you off for a little while but not for long, not in the kind of shape you’re in.” She walked him back across town to the pawnshop. She set him down and showed him what was in her shopping bag: "
      ],
      "text/plain": [
       "<IPython.core.display.Markdown object>"
      ]
     },
     "metadata": {},
     "output_type": "display_data"
    },
    {
     "data": {
      "text/markdown": [
       "---"
      ],
      "text/plain": [
       "<IPython.core.display.Markdown object>"
      ]
     },
     "metadata": {},
     "output_type": "display_data"
    },
    {
     "data": {
      "text/markdown": [
       "### Principia Martindale, Edward Swift, 1983"
      ],
      "text/plain": [
       "<IPython.core.display.Markdown object>"
      ]
     },
     "metadata": {},
     "output_type": "display_data"
    },
    {
     "data": {
      "text/markdown": [
       "l as his passengers that Principia would be alive today if Corinda Cassy had not allowed herself to fall into the hands of the Devil.\n",
       "\n",
       "“Once again the town of Judson is up for grabs,” wrote a columnist for the Fort Worth Star-Telegram. “Who knows who the next owner will be, or even if there will be another owner …”\n",
       "\n",
       "Applebee read the article and threw the paper into the big pool down at the Water Gardens. “Judson belongs to old man Judson and it always will,” he shouted. “Nobody, dead or alive,  <span style=\"color: blue\">will</span> ever be able to take it away from him either.” He stood up and threw his vest and rubber sandals into the water and was about to jump in himself when Johnnie Chapman stopped him. “No use getting so riled up,” she said. “Not a bit of use in it. That water’ll cool you off for a little while but not for long, not in the kind of shape you’re in.” She walked him back across town to the pawnshop. She set him down and showed him what was in her shopping bag: all the articles she could find about Princ"
      ],
      "text/plain": [
       "<IPython.core.display.Markdown object>"
      ]
     },
     "metadata": {},
     "output_type": "display_data"
    },
    {
     "data": {
      "text/markdown": [
       "---"
      ],
      "text/plain": [
       "<IPython.core.display.Markdown object>"
      ]
     },
     "metadata": {},
     "output_type": "display_data"
    },
    {
     "data": {
      "text/markdown": [
       "### Principia Martindale, Edward Swift, 1983"
      ],
      "text/plain": [
       "<IPython.core.display.Markdown object>"
      ]
     },
     "metadata": {},
     "output_type": "display_data"
    },
    {
     "data": {
      "text/markdown": [
       "rtune, although it was small, had been left to Rosita Lopez. Hillister Baptist College was already planning to build a new chapel to be named in her honor, and scholarship funds in her name had been made available at various Baptist universities throughout the south. On another page of the same paper, Applebee found a picture of Larry Wayne standing in front of the hotel with the Cowgirls for Christ gathered around him. The caption read: “Mr. L. W. Johnson stated that in time the town of Judson  <span style=\"color: blue\">will</span> undergo a few changes.”\n",
       "\n",
       "“He got to looking more and more like Old Man Judson every day,” said Applebee. “Whoever ran him down ought to be given a million dollars to get away on, that’s what.”\n",
       "\n",
       "“Maybe whoever did it was given something better than money,” replied Johnnie Chapman.\n",
       "\n",
       "She continued to hold Applebee’s hand until he had read all the articles. Then she put them back in the shopping bag and dropped it in a trash can. “Well, you read ’em now,” she said. Applebee didn’t answer. He began "
      ],
      "text/plain": [
       "<IPython.core.display.Markdown object>"
      ]
     },
     "metadata": {},
     "output_type": "display_data"
    },
    {
     "data": {
      "text/markdown": [
       "---"
      ],
      "text/plain": [
       "<IPython.core.display.Markdown object>"
      ]
     },
     "metadata": {},
     "output_type": "display_data"
    },
    {
     "data": {
      "text/markdown": [
       "### Hard merchandise, K. W Jeter, 1999"
      ],
      "text/plain": [
       "<IPython.core.display.Markdown object>"
      ]
     },
     "metadata": {},
     "output_type": "display_data"
    },
    {
     "data": {
      "text/markdown": [
       " two minutes away from Minimum Safe Distance—the point far enough from Despayre where they could safely attempt the jump to lightspeed. Jump too close to a planet’s gravity well and the shift would tear the vessel apart. If the guy he was talking to had enough skill to fly the shuttle, he’d know that. His control panel would tell him when he reached MSD, and then it would be over. Lieutenant Dance would have failed a mission, for the first time.\n",
       "\n",
       "Never happen, he thought. “Turn it around, or we  <span style=\"color: blue\">will</span> fire,” he said.\n",
       "\n",
       "“You’d do that? Just blow us apart? Essentially murder fifteen men—and two women? One of them is old enough to be your granny. You can live with that?”\n",
       "\n",
       "He was stalling for time, Vil knew. The beings on that shuttle were bad enough to have been sent to the galaxy’s number one prison planet, and the Imperial courts didn’t bother to do that with petty thieves or traffic violators. His granny hadn’t robbed any banks or killed anybody. Not that he knew of, anyway.\n",
       "\n",
       "“Shuttle pilot, "
      ],
      "text/plain": [
       "<IPython.core.display.Markdown object>"
      ]
     },
     "metadata": {},
     "output_type": "display_data"
    },
    {
     "data": {
      "text/markdown": [
       "---"
      ],
      "text/plain": [
       "<IPython.core.display.Markdown object>"
      ]
     },
     "metadata": {},
     "output_type": "display_data"
    },
    {
     "data": {
      "text/markdown": [
       "### A share in death, Deborah Crombie, 1993"
      ],
      "text/plain": [
       "<IPython.core.display.Markdown object>"
      ]
     },
     "metadata": {},
     "output_type": "display_data"
    },
    {
     "data": {
      "text/markdown": [
       " corner table with drinks, wine for himself and lager and lime for Gemma. “Ugh.” He made a face. “Don’t know how you drink that stuff.” Kincaid always criticized, and Gemma never changed her order, probably, he thought, out of pure cantankerousness.\n",
       "\n",
       "“Practice.” Gemma took a good swallow of her drink and grinned. They sat quietly for a few minutes, the pub’s Saturday night clamor eddying around them, until Gemma pushed her chair back a bit and sighed. “I do need to be getting home, though. Toby  <span style=\"color: blue\">will</span> be missing his mum.”\n",
       "\n",
       "“Yes.” Kincaid imagined the welcome awaiting Gemma, and for an instant envy ran through him. He shook it off and forced a smile. “I wish …” What did he wish? That he hadn’t gone to Followdale at all, in which case Hannah might have died, too?\n",
       "\n",
       "Gemma thumped her glass down on the table and he raised his eyes to find an unexpected understanding in hers. The corner of her mouth twitched. “If wishes were horses, my old mum used to say—”\n",
       "\n",
       "“Right.” They smiled at each other comp"
      ],
      "text/plain": [
       "<IPython.core.display.Markdown object>"
      ]
     },
     "metadata": {},
     "output_type": "display_data"
    },
    {
     "data": {
      "text/markdown": [
       "---"
      ],
      "text/plain": [
       "<IPython.core.display.Markdown object>"
      ]
     },
     "metadata": {},
     "output_type": "display_data"
    },
    {
     "data": {
      "text/markdown": [
       "### Moonlight becomes you, Mary Higgins Clark, 1996"
      ],
      "text/plain": [
       "<IPython.core.display.Markdown object>"
      ]
     },
     "metadata": {},
     "output_type": "display_data"
    },
    {
     "data": {
      "text/markdown": [
       " my being sure that Liam Payne was involved. If I hadn’t followed him, it would have been too late.”\n",
       "\n",
       "He and Maggie were sitting side by side in Mrs. Bainbridge’s apartment. He put his hand over Maggie’s, unwilling yet to have her beyond his reach, still living the nightmare of searching for her.\n",
       "\n",
       "“Has everybody pretty well settled down here?” Maggie asked.\n",
       "\n",
       "“Oh, I think so. We’re more resilient than you’d think. I understand the Prestige people have arranged to buy the residence.”\n",
       "\n",
       "“Liam Payne  <span style=\"color: blue\">will</span> need a lot of the money he killed for to pay his lawyers, and I hope they don’t do him any good,” Neil said forcefully. “His girlfriend too, although she’s going to end up with a public defender. Realistically, I don’t think either one of them stands a chance of escaping conviction on multiple murder charges. I understand that Odile has confessed to deliberately switching medicines on orders from Liam.”\n",
       "\n",
       "Maggie thought of Nuala and Greta Shipley, and of the women whom she had not known, all of "
      ],
      "text/plain": [
       "<IPython.core.display.Markdown object>"
      ]
     },
     "metadata": {},
     "output_type": "display_data"
    },
    {
     "data": {
      "text/markdown": [
       "---"
      ],
      "text/plain": [
       "<IPython.core.display.Markdown object>"
      ]
     },
     "metadata": {},
     "output_type": "display_data"
    },
    {
     "data": {
      "text/markdown": [
       "### Moonlight becomes you, Mary Higgins Clark, 1996"
      ],
      "text/plain": [
       "<IPython.core.display.Markdown object>"
      ]
     },
     "metadata": {},
     "output_type": "display_data"
    },
    {
     "data": {
      "text/markdown": [
       "house was locked up. For a moment, Maggie stood looking at it, remembering that night only two weeks ago, when she had arrived.\n",
       "\n",
       "“It’ll be fun to come up here on vacations and weekends, won’t it?” she said.\n",
       "\n",
       "Neil put his arm around her. “You’re sure it won’t hold too many bad memories?”\n",
       "\n",
       "“No.” She inhaled deeply. “Not as long as you’re around to dig me up when I need help.”\n",
       "\n",
       "Then she laughed. “Don’t look so shocked. Gallows humor has gotten me through some pretty bad times.”\n",
       "\n",
       "“From now on, that  <span style=\"color: blue\">will</span> be my job,” Neil said as he opened the door of the station wagon for her. “Now remember, don’t speed,” he cautioned. “I’ll be right behind you.”\n",
       "\n",
       "“You sound like your father,” Maggie said. Then she added, “And I like that just fine.”\n"
      ],
      "text/plain": [
       "<IPython.core.display.Markdown object>"
      ]
     },
     "metadata": {},
     "output_type": "display_data"
    },
    {
     "data": {
      "text/markdown": [
       "---"
      ],
      "text/plain": [
       "<IPython.core.display.Markdown object>"
      ]
     },
     "metadata": {},
     "output_type": "display_data"
    },
    {
     "data": {
      "text/markdown": [
       "### The willow tree, Hubert Selby, 1998"
      ],
      "text/plain": [
       "<IPython.core.display.Markdown object>"
      ]
     },
     "metadata": {},
     "output_type": "display_data"
    },
    {
     "data": {
      "text/markdown": [
       "he unexplainable, but You take me to where there are no words, no limitations, only the exquisite awareness of Your Presence and the infinite possibilities of life, and I feel, all through me, our hearts sing…sing as one heart, one song…and yes, we are all Your song…every one, all needed to make the song complete…me, Bobby, Klaus, all…all Your song, and how incredible to hear that song, to hear it sing through me and around me, in me…to just be the song O dear, dear, sweet Love I know someday I  <span style=\"color: blue\">will</span> never hear the song again…will only BE the song. But for now I just keep singing, waiting for that day…yes, the infinite possibilities that brought Bobby into my life, O Bobby, you have given me so much…so very, very much…the son I pined for all these years, a reason to live when I thought all purpose was gone and then you bring me your love O Bobby, someday you will see…yes, dear, sweet Bobby you will see that you see…you will see how well you love…you will see what you have done for this tire"
      ],
      "text/plain": [
       "<IPython.core.display.Markdown object>"
      ]
     },
     "metadata": {},
     "output_type": "display_data"
    },
    {
     "data": {
      "text/markdown": [
       "---"
      ],
      "text/plain": [
       "<IPython.core.display.Markdown object>"
      ]
     },
     "metadata": {},
     "output_type": "display_data"
    },
    {
     "data": {
      "text/markdown": [
       "### The willow tree, Hubert Selby, 1998"
      ],
      "text/plain": [
       "<IPython.core.display.Markdown object>"
      ]
     },
     "metadata": {},
     "output_type": "display_data"
    },
    {
     "data": {
      "text/markdown": [
       "me to where there are no words, no limitations, only the exquisite awareness of Your Presence and the infinite possibilities of life, and I feel, all through me, our hearts sing…sing as one heart, one song…and yes, we are all Your song…every one, all needed to make the song complete…me, Bobby, Klaus, all…all Your song, and how incredible to hear that song, to hear it sing through me and around me, in me…to just be the song O dear, dear, sweet Love I know someday I will never hear the song again… <span style=\"color: blue\">will</span> only BE the song. But for now I just keep singing, waiting for that day…yes, the infinite possibilities that brought Bobby into my life, O Bobby, you have given me so much…so very, very much…the son I pined for all these years, a reason to live when I thought all purpose was gone and then you bring me your love O Bobby, someday you will see…yes, dear, sweet Bobby you will see that you see…you will see how well you love…you will see what you have done for this tired old man…Moishe still without "
      ],
      "text/plain": [
       "<IPython.core.display.Markdown object>"
      ]
     },
     "metadata": {},
     "output_type": "display_data"
    },
    {
     "data": {
      "text/markdown": [
       "---"
      ],
      "text/plain": [
       "<IPython.core.display.Markdown object>"
      ]
     },
     "metadata": {},
     "output_type": "display_data"
    },
    {
     "data": {
      "text/markdown": [
       "### The willow tree, Hubert Selby, 1998"
      ],
      "text/plain": [
       "<IPython.core.display.Markdown object>"
      ]
     },
     "metadata": {},
     "output_type": "display_data"
    },
    {
     "data": {
      "text/markdown": [
       " to hear that song, to hear it sing through me and around me, in me…to just be the song O dear, dear, sweet Love I know someday I will never hear the song again…will only BE the song. But for now I just keep singing, waiting for that day…yes, the infinite possibilities that brought Bobby into my life, O Bobby, you have given me so much…so very, very much…the son I pined for all these years, a reason to live when I thought all purpose was gone and then you bring me your love O Bobby, someday you  <span style=\"color: blue\">will</span> see…yes, dear, sweet Bobby you will see that you see…you will see how well you love…you will see what you have done for this tired old man…Moishe still without any sense of time, or space, free of the weight of his body, his closed eyes seeing a light more brilliant yet soothing than open eyes have ever seen, aware of the exquisite essence of his being…filled with the bliss of the infinite oneness of this eternal moment…but gradually…gently…time and space began to intrude themselves and he star"
      ],
      "text/plain": [
       "<IPython.core.display.Markdown object>"
      ]
     },
     "metadata": {},
     "output_type": "display_data"
    },
    {
     "data": {
      "text/markdown": [
       "---"
      ],
      "text/plain": [
       "<IPython.core.display.Markdown object>"
      ]
     },
     "metadata": {},
     "output_type": "display_data"
    },
    {
     "data": {
      "text/markdown": [
       "### The willow tree, Hubert Selby, 1998"
      ],
      "text/plain": [
       "<IPython.core.display.Markdown object>"
      ]
     },
     "metadata": {},
     "output_type": "display_data"
    },
    {
     "data": {
      "text/markdown": [
       "through me and around me, in me…to just be the song O dear, dear, sweet Love I know someday I will never hear the song again…will only BE the song. But for now I just keep singing, waiting for that day…yes, the infinite possibilities that brought Bobby into my life, O Bobby, you have given me so much…so very, very much…the son I pined for all these years, a reason to live when I thought all purpose was gone and then you bring me your love O Bobby, someday you will see…yes, dear, sweet Bobby you  <span style=\"color: blue\">will</span> see that you see…you will see how well you love…you will see what you have done for this tired old man…Moishe still without any sense of time, or space, free of the weight of his body, his closed eyes seeing a light more brilliant yet soothing than open eyes have ever seen, aware of the exquisite essence of his being…filled with the bliss of the infinite oneness of this eternal moment…but gradually…gently…time and space began to intrude themselves and he started becoming aware of his body, Mois"
      ],
      "text/plain": [
       "<IPython.core.display.Markdown object>"
      ]
     },
     "metadata": {},
     "output_type": "display_data"
    },
    {
     "data": {
      "text/markdown": [
       "---"
      ],
      "text/plain": [
       "<IPython.core.display.Markdown object>"
      ]
     },
     "metadata": {},
     "output_type": "display_data"
    },
    {
     "data": {
      "text/markdown": [
       "### The willow tree, Hubert Selby, 1998"
      ],
      "text/plain": [
       "<IPython.core.display.Markdown object>"
      ]
     },
     "metadata": {},
     "output_type": "display_data"
    },
    {
     "data": {
      "text/markdown": [
       "in me…to just be the song O dear, dear, sweet Love I know someday I will never hear the song again…will only BE the song. But for now I just keep singing, waiting for that day…yes, the infinite possibilities that brought Bobby into my life, O Bobby, you have given me so much…so very, very much…the son I pined for all these years, a reason to live when I thought all purpose was gone and then you bring me your love O Bobby, someday you will see…yes, dear, sweet Bobby you will see that you see…you  <span style=\"color: blue\">will</span> see how well you love…you will see what you have done for this tired old man…Moishe still without any sense of time, or space, free of the weight of his body, his closed eyes seeing a light more brilliant yet soothing than open eyes have ever seen, aware of the exquisite essence of his being…filled with the bliss of the infinite oneness of this eternal moment…but gradually…gently…time and space began to intrude themselves and he started becoming aware of his body, Moishe resisting, his mind sti"
      ],
      "text/plain": [
       "<IPython.core.display.Markdown object>"
      ]
     },
     "metadata": {},
     "output_type": "display_data"
    },
    {
     "data": {
      "text/markdown": [
       "---"
      ],
      "text/plain": [
       "<IPython.core.display.Markdown object>"
      ]
     },
     "metadata": {},
     "output_type": "display_data"
    },
    {
     "data": {
      "text/markdown": [
       "### The willow tree, Hubert Selby, 1998"
      ],
      "text/plain": [
       "<IPython.core.display.Markdown object>"
      ]
     },
     "metadata": {},
     "output_type": "display_data"
    },
    {
     "data": {
      "text/markdown": [
       "r, dear, sweet Love I know someday I will never hear the song again…will only BE the song. But for now I just keep singing, waiting for that day…yes, the infinite possibilities that brought Bobby into my life, O Bobby, you have given me so much…so very, very much…the son I pined for all these years, a reason to live when I thought all purpose was gone and then you bring me your love O Bobby, someday you will see…yes, dear, sweet Bobby you will see that you see…you will see how well you love…you  <span style=\"color: blue\">will</span> see what you have done for this tired old man…Moishe still without any sense of time, or space, free of the weight of his body, his closed eyes seeing a light more brilliant yet soothing than open eyes have ever seen, aware of the exquisite essence of his being…filled with the bliss of the infinite oneness of this eternal moment…but gradually…gently…time and space began to intrude themselves and he started becoming aware of his body, Moishe resisting, his mind still with the experience as he be"
      ],
      "text/plain": [
       "<IPython.core.display.Markdown object>"
      ]
     },
     "metadata": {},
     "output_type": "display_data"
    },
    {
     "data": {
      "text/markdown": [
       "---"
      ],
      "text/plain": [
       "<IPython.core.display.Markdown object>"
      ]
     },
     "metadata": {},
     "output_type": "display_data"
    },
    {
     "data": {
      "text/markdown": [
       "### The willow tree, Hubert Selby, 1998"
      ],
      "text/plain": [
       "<IPython.core.display.Markdown object>"
      ]
     },
     "metadata": {},
     "output_type": "display_data"
    },
    {
     "data": {
      "text/markdown": [
       "ver seen, aware of the exquisite essence of his being…filled with the bliss of the infinite oneness of this eternal moment…but gradually…gently…time and space began to intrude themselves and he started becoming aware of his body, Moishe resisting, his mind still with the experience as he became increasingly aware of his body, of Werner…of Moishe…of the physical world….Yes, always I come back to the body no matter how much I want to leave it behind, to simply be the Light and the Song. Someday I  <span style=\"color: blue\">will</span> not return, but there is more work to be done….Yes, there is yet more that needs doing….\n",
       "\n",
       "O, the body is so heavy…how do we move it….\n",
       "\n",
       "how do we survive it"
      ],
      "text/plain": [
       "<IPython.core.display.Markdown object>"
      ]
     },
     "metadata": {},
     "output_type": "display_data"
    },
    {
     "data": {
      "text/markdown": [
       "---"
      ],
      "text/plain": [
       "<IPython.core.display.Markdown object>"
      ]
     },
     "metadata": {},
     "output_type": "display_data"
    },
    {
     "data": {
      "text/markdown": [
       "### Through the arc of the rain forest, Karen Tei Yamashita, 1990"
      ],
      "text/plain": [
       "<IPython.core.display.Markdown object>"
      ]
     },
     "metadata": {},
     "output_type": "display_data"
    },
    {
     "data": {
      "text/markdown": [
       "f once modern high-rises and office buildings, everything covered in rust and mold, twisted and poisonous lianas winding over sinking balconies, trees arching through windows, a cloud of perpetual rain and mist and evasive color hovering over everything. The old forest has returned once again, secreting its digestive juices, slowly breaking everything into edible absorbent components, pursuing the lost perfection of an organism in which digestion and excretion were once one and the same. But it  <span style=\"color: blue\">will</span> never be the same again.\n",
       "\n",
       "Now the memory is complete, and I bid you farewell. Whose memory you are asking? Whose indeed."
      ],
      "text/plain": [
       "<IPython.core.display.Markdown object>"
      ]
     },
     "metadata": {},
     "output_type": "display_data"
    },
    {
     "data": {
      "text/markdown": [
       "---"
      ],
      "text/plain": [
       "<IPython.core.display.Markdown object>"
      ]
     },
     "metadata": {},
     "output_type": "display_data"
    },
    {
     "data": {
      "text/markdown": [
       "### Fer-de-lance, Rex Stout, 1981"
      ],
      "text/plain": [
       "<IPython.core.display.Markdown object>"
      ]
     },
     "metadata": {},
     "output_type": "display_data"
    },
    {
     "data": {
      "text/markdown": [
       "ched babies, it’s a thousand dollars now. I’m taking it down to her this afternoon.”\n",
       "\n",
       "Wolfe sighed. The beer came, and he opened a bottle and gulped a glass. He put the expense list under the paperweight with the mail and leaned back in his chair. “Tomorrow I shall cut down to five quarts.”\n",
       "\n",
       "My grin felt better. I said, “You don’t have to change the subject. I wouldn’t make the mistake of calling you generous even if you said to double it; you’d still be getting a bargain. Do you know what Anna  <span style=\"color: blue\">will</span> do with it? Buy herself a husband. Look at all the good you’re doing.”\n",
       "\n",
       "“Confound it. Don’t give her anything. Tell her the money cannot be found.”\n",
       "\n",
       "“No, sir. I’ll give her the money and let her dig her own grave. I’m not violent, the way you are, and I don’t put myself up as a substitute for fate.”\n",
       "\n",
       "Wolfe opened his eyes. He had been drowsy for three days, and I thought it was about time something woke him up. He murmured, “Do you think you’re saying something, Archie?”\n",
       "\n",
       "“Yes, sir. I’m asking "
      ],
      "text/plain": [
       "<IPython.core.display.Markdown object>"
      ]
     },
     "metadata": {},
     "output_type": "display_data"
    },
    {
     "data": {
      "text/markdown": [
       "---"
      ],
      "text/plain": [
       "<IPython.core.display.Markdown object>"
      ]
     },
     "metadata": {},
     "output_type": "display_data"
    },
    {
     "data": {
      "text/markdown": [
       "### Fer-de-lance, Rex Stout, 1981"
      ],
      "text/plain": [
       "<IPython.core.display.Markdown object>"
      ]
     },
     "metadata": {},
     "output_type": "display_data"
    },
    {
     "data": {
      "text/markdown": [
       "ty of one deep satisfaction life had offered to it; and his father equally bitter and no less defeated, would have tottered through some few last years with nothing left to trade. If I had brought that about I would have been responsible for it, to myself, and the prospect was not pleasing. Still I had to act. I did so, and incurred a responsibility which is vastly less displeasing. You would encompass the entire complex phenomenon by stating bluntly that I killed E. D. Kimball. Well, Archie. I  <span style=\"color: blue\">will</span> take the responsibility for my own actions; I will not also assume the burden of your simplicity. Somehow you must bear it.”\n",
       "\n",
       "I grinned. “Maybe. I don’t mean maybe I can bear it, I mean maybe all you’ve just said. Also, maybe I’m simple. I’m so simple that a simple thought occurred to me as I was walking back from the bank this morning.”\n",
       "\n",
       "“Indeed.” Wolfe gulped his glass of beer.\n",
       "\n",
       "“Yes, sir. It occurred to me that if Manuel Kimball had been arrested and brought to trial you would have had to pu"
      ],
      "text/plain": [
       "<IPython.core.display.Markdown object>"
      ]
     },
     "metadata": {},
     "output_type": "display_data"
    },
    {
     "data": {
      "text/markdown": [
       "---"
      ],
      "text/plain": [
       "<IPython.core.display.Markdown object>"
      ]
     },
     "metadata": {},
     "output_type": "display_data"
    },
    {
     "data": {
      "text/markdown": [
       "### Fer-de-lance, Rex Stout, 1981"
      ],
      "text/plain": [
       "<IPython.core.display.Markdown object>"
      ]
     },
     "metadata": {},
     "output_type": "display_data"
    },
    {
     "data": {
      "text/markdown": [
       " and his father equally bitter and no less defeated, would have tottered through some few last years with nothing left to trade. If I had brought that about I would have been responsible for it, to myself, and the prospect was not pleasing. Still I had to act. I did so, and incurred a responsibility which is vastly less displeasing. You would encompass the entire complex phenomenon by stating bluntly that I killed E. D. Kimball. Well, Archie. I will take the responsibility for my own actions; I  <span style=\"color: blue\">will</span> not also assume the burden of your simplicity. Somehow you must bear it.”\n",
       "\n",
       "I grinned. “Maybe. I don’t mean maybe I can bear it, I mean maybe all you’ve just said. Also, maybe I’m simple. I’m so simple that a simple thought occurred to me as I was walking back from the bank this morning.”\n",
       "\n",
       "“Indeed.” Wolfe gulped his glass of beer.\n",
       "\n",
       "“Yes, sir. It occurred to me that if Manuel Kimball had been arrested and brought to trial you would have had to put on your hat and gloves, leave the house, walk to "
      ],
      "text/plain": [
       "<IPython.core.display.Markdown object>"
      ]
     },
     "metadata": {},
     "output_type": "display_data"
    },
    {
     "data": {
      "text/markdown": [
       "---"
      ],
      "text/plain": [
       "<IPython.core.display.Markdown object>"
      ]
     },
     "metadata": {},
     "output_type": "display_data"
    },
    {
     "data": {
      "text/markdown": [
       "### Dixie City jam, James Lee Burke, 1995"
      ],
      "text/plain": [
       "<IPython.core.display.Markdown object>"
      ]
     },
     "metadata": {},
     "output_type": "display_data"
    },
    {
     "data": {
      "text/markdown": [
       "rooftops, the air became cold and heavy, and suddenly there was no traffic or sound in the streets, only dust and scraps of newspaper whirling in the wind through the, tunnel of trees.\n",
       "\n",
       "This is what it could become, I thought. All we had to do was stop believing in ourselves and let the charlatans and the manipulators convince us they have the answers that we don’t. They aren’t fashioned from anvil and chain in a devil’s forge, either. Judas Iscariot was us; there was no metaphysical mystery to  <span style=\"color: blue\">Will</span> Buchalter and his sister and the Calucci brothers. Their souls had the wingspan of moths; they functioned because we allowed them to and gave them sanction; they stopped functioning when that sanction was denied.\n",
       "\n",
       "“What’s wrong, Dave?” Alafair said from across the table.\n",
       "\n",
       "“Nothing, little guy. Everything seemed too quiet for a minute.”\n",
       "\n",
       "‘Then let’s go hear the band at Preservation Hall,” she said.\n",
       "\n",
       "“I think that’s a fine idea,” I said, and rubbed the silky smooth top of her head.\n",
       "\n",
       "One beautiful"
      ],
      "text/plain": [
       "<IPython.core.display.Markdown object>"
      ]
     },
     "metadata": {},
     "output_type": "display_data"
    },
    {
     "data": {
      "text/markdown": [
       "---"
      ],
      "text/plain": [
       "<IPython.core.display.Markdown object>"
      ]
     },
     "metadata": {},
     "output_type": "display_data"
    },
    {
     "data": {
      "text/markdown": [
       "### Who will run the frog hospital?, Lorrie Moore, 1994"
      ],
      "text/plain": [
       "<IPython.core.display.Markdown object>"
      ]
     },
     "metadata": {},
     "output_type": "display_data"
    },
    {
     "data": {
      "text/markdown": [
       "inds and then to what—to sleep? to stars? Time for another constellation!\n",
       "\n",
       "My husband has that look again, the look of how difficult the world is, life is, how sometimes you just want to go back to your house with the bushes around it and stay inside.\n",
       "\n",
       "“Home,” he says. The idea of it: its lovely cheat and evasion; its capitulation to longing and rest. “Home, home, home.”\n",
       "\n",
       "Where, though I harbor secret wishes of its burning, our life in flames, the crazy, wicked freedom of it, our chipping house  <span style=\"color: blue\">will</span> still be standing, safe and whole, the previous owner’s rubber bands still wrapped around the doorknobs. The animals we’ve sealed in, in mending and patching—the mice and larks—will wake and cry within the walls, then go still. The season will be spring, but the squirrels will have eaten and rearranged the bulbs, so that only one lone daffodil—a trumpet solo!—will be shivering in the yard, the flowering quince not flowering, the ground still too muddy for grass but on a sunny day ticking with h"
      ],
      "text/plain": [
       "<IPython.core.display.Markdown object>"
      ]
     },
     "metadata": {},
     "output_type": "display_data"
    },
    {
     "data": {
      "text/markdown": [
       "---"
      ],
      "text/plain": [
       "<IPython.core.display.Markdown object>"
      ]
     },
     "metadata": {},
     "output_type": "display_data"
    },
    {
     "data": {
      "text/markdown": [
       "### Who will run the frog hospital?, Lorrie Moore, 1994"
      ],
      "text/plain": [
       "<IPython.core.display.Markdown object>"
      ]
     },
     "metadata": {},
     "output_type": "display_data"
    },
    {
     "data": {
      "text/markdown": [
       "t to go back to your house with the bushes around it and stay inside.\n",
       "\n",
       "“Home,” he says. The idea of it: its lovely cheat and evasion; its capitulation to longing and rest. “Home, home, home.”\n",
       "\n",
       "Where, though I harbor secret wishes of its burning, our life in flames, the crazy, wicked freedom of it, our chipping house will still be standing, safe and whole, the previous owner’s rubber bands still wrapped around the doorknobs. The animals we’ve sealed in, in mending and patching—the mice and larks— <span style=\"color: blue\">will</span> wake and cry within the walls, then go still. The season will be spring, but the squirrels will have eaten and rearranged the bulbs, so that only one lone daffodil—a trumpet solo!—will be shivering in the yard, the flowering quince not flowering, the ground still too muddy for grass but on a sunny day ticking with hatching flies. At the Citgo station around the corner the sparrows will once again build their nest in the paper towel dispenser. “Don’t you feel, you must, like going home?” Daniel "
      ],
      "text/plain": [
       "<IPython.core.display.Markdown object>"
      ]
     },
     "metadata": {},
     "output_type": "display_data"
    },
    {
     "data": {
      "text/markdown": [
       "---"
      ],
      "text/plain": [
       "<IPython.core.display.Markdown object>"
      ]
     },
     "metadata": {},
     "output_type": "display_data"
    },
    {
     "data": {
      "text/markdown": [
       "### Who will run the frog hospital?, Lorrie Moore, 1994"
      ],
      "text/plain": [
       "<IPython.core.display.Markdown object>"
      ]
     },
     "metadata": {},
     "output_type": "display_data"
    },
    {
     "data": {
      "text/markdown": [
       "inside.\n",
       "\n",
       "“Home,” he says. The idea of it: its lovely cheat and evasion; its capitulation to longing and rest. “Home, home, home.”\n",
       "\n",
       "Where, though I harbor secret wishes of its burning, our life in flames, the crazy, wicked freedom of it, our chipping house will still be standing, safe and whole, the previous owner’s rubber bands still wrapped around the doorknobs. The animals we’ve sealed in, in mending and patching—the mice and larks—will wake and cry within the walls, then go still. The season  <span style=\"color: blue\">will</span> be spring, but the squirrels will have eaten and rearranged the bulbs, so that only one lone daffodil—a trumpet solo!—will be shivering in the yard, the flowering quince not flowering, the ground still too muddy for grass but on a sunny day ticking with hatching flies. At the Citgo station around the corner the sparrows will once again build their nest in the paper towel dispenser. “Don’t you feel, you must, like going home?” Daniel asks in a voice of such ailing homesickness it makes me smile."
      ],
      "text/plain": [
       "<IPython.core.display.Markdown object>"
      ]
     },
     "metadata": {},
     "output_type": "display_data"
    },
    {
     "data": {
      "text/markdown": [
       "---"
      ],
      "text/plain": [
       "<IPython.core.display.Markdown object>"
      ]
     },
     "metadata": {},
     "output_type": "display_data"
    },
    {
     "data": {
      "text/markdown": [
       "### Who will run the frog hospital?, Lorrie Moore, 1994"
      ],
      "text/plain": [
       "<IPython.core.display.Markdown object>"
      ]
     },
     "metadata": {},
     "output_type": "display_data"
    },
    {
     "data": {
      "text/markdown": [
       " of it: its lovely cheat and evasion; its capitulation to longing and rest. “Home, home, home.”\n",
       "\n",
       "Where, though I harbor secret wishes of its burning, our life in flames, the crazy, wicked freedom of it, our chipping house will still be standing, safe and whole, the previous owner’s rubber bands still wrapped around the doorknobs. The animals we’ve sealed in, in mending and patching—the mice and larks—will wake and cry within the walls, then go still. The season will be spring, but the squirrels  <span style=\"color: blue\">will</span> have eaten and rearranged the bulbs, so that only one lone daffodil—a trumpet solo!—will be shivering in the yard, the flowering quince not flowering, the ground still too muddy for grass but on a sunny day ticking with hatching flies. At the Citgo station around the corner the sparrows will once again build their nest in the paper towel dispenser. “Don’t you feel, you must, like going home?” Daniel asks in a voice of such ailing homesickness it makes me smile.\n",
       "\n",
       "Everywhere life is full of heroi"
      ],
      "text/plain": [
       "<IPython.core.display.Markdown object>"
      ]
     },
     "metadata": {},
     "output_type": "display_data"
    },
    {
     "data": {
      "text/markdown": [
       "---"
      ],
      "text/plain": [
       "<IPython.core.display.Markdown object>"
      ]
     },
     "metadata": {},
     "output_type": "display_data"
    },
    {
     "data": {
      "text/markdown": [
       "### Who will run the frog hospital?, Lorrie Moore, 1994"
      ],
      "text/plain": [
       "<IPython.core.display.Markdown object>"
      ]
     },
     "metadata": {},
     "output_type": "display_data"
    },
    {
     "data": {
      "text/markdown": [
       "home.”\n",
       "\n",
       "Where, though I harbor secret wishes of its burning, our life in flames, the crazy, wicked freedom of it, our chipping house will still be standing, safe and whole, the previous owner’s rubber bands still wrapped around the doorknobs. The animals we’ve sealed in, in mending and patching—the mice and larks—will wake and cry within the walls, then go still. The season will be spring, but the squirrels will have eaten and rearranged the bulbs, so that only one lone daffodil—a trumpet solo!— <span style=\"color: blue\">will</span> be shivering in the yard, the flowering quince not flowering, the ground still too muddy for grass but on a sunny day ticking with hatching flies. At the Citgo station around the corner the sparrows will once again build their nest in the paper towel dispenser. “Don’t you feel, you must, like going home?” Daniel asks in a voice of such ailing homesickness it makes me smile.\n",
       "\n",
       "Everywhere life is full of heroism.\n",
       "\n",
       "I lean warmly toward him, try to get closer, in empathy and companionship, to study "
      ],
      "text/plain": [
       "<IPython.core.display.Markdown object>"
      ]
     },
     "metadata": {},
     "output_type": "display_data"
    },
    {
     "data": {
      "text/markdown": [
       "---"
      ],
      "text/plain": [
       "<IPython.core.display.Markdown object>"
      ]
     },
     "metadata": {},
     "output_type": "display_data"
    },
    {
     "data": {
      "text/markdown": [
       "### Who will run the frog hospital?, Lorrie Moore, 1994"
      ],
      "text/plain": [
       "<IPython.core.display.Markdown object>"
      ]
     },
     "metadata": {},
     "output_type": "display_data"
    },
    {
     "data": {
      "text/markdown": [
       "ds still wrapped around the doorknobs. The animals we’ve sealed in, in mending and patching—the mice and larks—will wake and cry within the walls, then go still. The season will be spring, but the squirrels will have eaten and rearranged the bulbs, so that only one lone daffodil—a trumpet solo!—will be shivering in the yard, the flowering quince not flowering, the ground still too muddy for grass but on a sunny day ticking with hatching flies. At the Citgo station around the corner the sparrows  <span style=\"color: blue\">will</span> once again build their nest in the paper towel dispenser. “Don’t you feel, you must, like going home?” Daniel asks in a voice of such ailing homesickness it makes me smile.\n",
       "\n",
       "Everywhere life is full of heroism.\n",
       "\n",
       "I lean warmly toward him, try to get closer, in empathy and companionship, to study his face, so moist and young in these rains, to match or approximate it. “Don’t be lorn, don’t be blue, it’s only morn, and I’m with you.” I sing this, but he stiffens, then tries not to stiffen, forces a"
      ],
      "text/plain": [
       "<IPython.core.display.Markdown object>"
      ]
     },
     "metadata": {},
     "output_type": "display_data"
    },
    {
     "data": {
      "text/markdown": [
       "---"
      ],
      "text/plain": [
       "<IPython.core.display.Markdown object>"
      ]
     },
     "metadata": {},
     "output_type": "display_data"
    },
    {
     "data": {
      "text/markdown": [
       "### Who will run the frog hospital?, Lorrie Moore, 1994"
      ],
      "text/plain": [
       "<IPython.core.display.Markdown object>"
      ]
     },
     "metadata": {},
     "output_type": "display_data"
    },
    {
     "data": {
      "text/markdown": [
       "morn, and I’m with you.” I sing this, but he stiffens, then tries not to stiffen, forces a smile but moves too quickly away. He does this often now. Something, someone, keeps him, is kept, in some other corner of his life. I can’t follow him there—where that is, a place of woundedness, we are too without each other. To meet there would be to step into the strange dark rage of strangers. But I’ve accrued a kind of patience, I believe, loosely like change. I can feel the jangle and money of it. I  <span style=\"color: blue\">will</span> wait for him, I think: let him go and sicken himself, confuse himself, dash through the bad woods of himself. Love is perennial as the grass! I’ll wait for him, my heart in epilogue, knit and reknit, perhaps as it always has been. I’ll wait until I just can’t wait anymore.\n",
       "\n",
       "\n",
       "As far as possible, without surrender, be on good terms with all persons.\n",
       "\n",
       "\n",
       "\n",
       "\n"
      ],
      "text/plain": [
       "<IPython.core.display.Markdown object>"
      ]
     },
     "metadata": {},
     "output_type": "display_data"
    },
    {
     "data": {
      "text/markdown": [
       "---"
      ],
      "text/plain": [
       "<IPython.core.display.Markdown object>"
      ]
     },
     "metadata": {},
     "output_type": "display_data"
    },
    {
     "data": {
      "text/markdown": [
       "### Killed on the ice, William L DeAndrea, 1984"
      ],
      "text/plain": [
       "<IPython.core.display.Markdown object>"
      ]
     },
     "metadata": {},
     "output_type": "display_data"
    },
    {
     "data": {
      "text/markdown": [
       "apped up when Mrs. Dinkover died, except that Wendy was still alive, threatening me. I had to try again. I thought I could stay ahead of you. You trusted me, and I knew how you thought. You taught me everything I know.”\n",
       "\n",
       "“There’s an old saying. I taught you everything you know, but I goddam well didn’t teach you everything I know.”\n",
       "\n",
       "“I guess so,” he said, then gurgled a sigh. “Dinkover. Dinkover. I didn’t want to kill those women. It’s his fault. It’s funny.”\n",
       "\n",
       "“Hilarious,” I said. “If I go now,  <span style=\"color: blue\">will</span> you cooperate with people?”\n",
       "\n",
       "“Sure, Matt, but I meant it’s funny strange. I guess I’m Dinkover’s last victim.”\n",
       "\n",
       "I looked at him. I’d known, or thought I’d known, the mind behind those bandages for three years. Liked the man, worked with him. I felt like I wanted to lean up against something, to feel something real. I said, “Good-bye, Al,” then ran to the corridor where I took huge gulps of sane air.\n",
       "\n",
       "Doctors and nurses and law officers went in to replace me. Before he went inside, Lieutenant Ma"
      ],
      "text/plain": [
       "<IPython.core.display.Markdown object>"
      ]
     },
     "metadata": {},
     "output_type": "display_data"
    },
    {
     "data": {
      "text/markdown": [
       "---"
      ],
      "text/plain": [
       "<IPython.core.display.Markdown object>"
      ]
     },
     "metadata": {},
     "output_type": "display_data"
    },
    {
     "data": {
      "text/markdown": [
       "### Nothing sacred, Elizabeth Ann Scarborough, 1991"
      ],
      "text/plain": [
       "<IPython.core.display.Markdown object>"
      ]
     },
     "metadata": {},
     "output_type": "display_data"
    },
    {
     "data": {
      "text/markdown": [
       "by the wisest people with the purest possible motives can be misconstrued or misrepresented by one flaw in the character of one person. So by and large we each tend to our own business, and larger projects that involve all of us are put to a vote. If there's less than unanimous agreement, we wait.\n",
       "\n",
       "Time is something we either have a great deal of, or none of at all, depending on how correct the Terton was about the magical shield of Shambala and how well all those prayers and psychic vibrations  <span style=\"color: blue\">will</span> hold up to the onslaught of the disaster raging around us. We will either outlast the disaster or it will outlast us, but meanwhile, we continue as if we will continue. We have no leaders, for we are all leaders of ourselves, the people that the Terton led to Kalapa to live in the ruins of the last sacred place on earth while the rest of humankind destroyed every other thing natural and human-made that it should have held inviolable.\n",
       "\n",
       "I have made one other contribution to our society besides my"
      ],
      "text/plain": [
       "<IPython.core.display.Markdown object>"
      ]
     },
     "metadata": {},
     "output_type": "display_data"
    },
    {
     "data": {
      "text/markdown": [
       "---"
      ],
      "text/plain": [
       "<IPython.core.display.Markdown object>"
      ]
     },
     "metadata": {},
     "output_type": "display_data"
    },
    {
     "data": {
      "text/markdown": [
       "### Nothing sacred, Elizabeth Ann Scarborough, 1991"
      ],
      "text/plain": [
       "<IPython.core.display.Markdown object>"
      ]
     },
     "metadata": {},
     "output_type": "display_data"
    },
    {
     "data": {
      "text/markdown": [
       "strued or misrepresented by one flaw in the character of one person. So by and large we each tend to our own business, and larger projects that involve all of us are put to a vote. If there's less than unanimous agreement, we wait.\n",
       "\n",
       "Time is something we either have a great deal of, or none of at all, depending on how correct the Terton was about the magical shield of Shambala and how well all those prayers and psychic vibrations will hold up to the onslaught of the disaster raging around us. We  <span style=\"color: blue\">will</span> either outlast the disaster or it will outlast us, but meanwhile, we continue as if we will continue. We have no leaders, for we are all leaders of ourselves, the people that the Terton led to Kalapa to live in the ruins of the last sacred place on earth while the rest of humankind destroyed every other thing natural and human-made that it should have held inviolable.\n",
       "\n",
       "I have made one other contribution to our society besides my histories, my work in the archives and on the farm, and now, this "
      ],
      "text/plain": [
       "<IPython.core.display.Markdown object>"
      ]
     },
     "metadata": {},
     "output_type": "display_data"
    },
    {
     "data": {
      "text/markdown": [
       "---"
      ],
      "text/plain": [
       "<IPython.core.display.Markdown object>"
      ]
     },
     "metadata": {},
     "output_type": "display_data"
    },
    {
     "data": {
      "text/markdown": [
       "### Nothing sacred, Elizabeth Ann Scarborough, 1991"
      ],
      "text/plain": [
       "<IPython.core.display.Markdown object>"
      ]
     },
     "metadata": {},
     "output_type": "display_data"
    },
    {
     "data": {
      "text/markdown": [
       " the character of one person. So by and large we each tend to our own business, and larger projects that involve all of us are put to a vote. If there's less than unanimous agreement, we wait.\n",
       "\n",
       "Time is something we either have a great deal of, or none of at all, depending on how correct the Terton was about the magical shield of Shambala and how well all those prayers and psychic vibrations will hold up to the onslaught of the disaster raging around us. We will either outlast the disaster or it  <span style=\"color: blue\">will</span> outlast us, but meanwhile, we continue as if we will continue. We have no leaders, for we are all leaders of ourselves, the people that the Terton led to Kalapa to live in the ruins of the last sacred place on earth while the rest of humankind destroyed every other thing natural and human-made that it should have held inviolable.\n",
       "\n",
       "I have made one other contribution to our society besides my histories, my work in the archives and on the farm, and now, this written record of our beginnings which "
      ],
      "text/plain": [
       "<IPython.core.display.Markdown object>"
      ]
     },
     "metadata": {},
     "output_type": "display_data"
    },
    {
     "data": {
      "text/markdown": [
       "---"
      ],
      "text/plain": [
       "<IPython.core.display.Markdown object>"
      ]
     },
     "metadata": {},
     "output_type": "display_data"
    },
    {
     "data": {
      "text/markdown": [
       "### Nothing sacred, Elizabeth Ann Scarborough, 1991"
      ],
      "text/plain": [
       "<IPython.core.display.Markdown object>"
      ]
     },
     "metadata": {},
     "output_type": "display_data"
    },
    {
     "data": {
      "text/markdown": [
       " tend to our own business, and larger projects that involve all of us are put to a vote. If there's less than unanimous agreement, we wait.\n",
       "\n",
       "Time is something we either have a great deal of, or none of at all, depending on how correct the Terton was about the magical shield of Shambala and how well all those prayers and psychic vibrations will hold up to the onslaught of the disaster raging around us. We will either outlast the disaster or it will outlast us, but meanwhile, we continue as if we  <span style=\"color: blue\">will</span> continue. We have no leaders, for we are all leaders of ourselves, the people that the Terton led to Kalapa to live in the ruins of the last sacred place on earth while the rest of humankind destroyed every other thing natural and human-made that it should have held inviolable.\n",
       "\n",
       "I have made one other contribution to our society besides my histories, my work in the archives and on the farm, and now, this written record of our beginnings which lies before me. My other, very important contribution"
      ],
      "text/plain": [
       "<IPython.core.display.Markdown object>"
      ]
     },
     "metadata": {},
     "output_type": "display_data"
    },
    {
     "data": {
      "text/markdown": [
       "---"
      ],
      "text/plain": [
       "<IPython.core.display.Markdown object>"
      ]
     },
     "metadata": {},
     "output_type": "display_data"
    },
    {
     "data": {
      "text/markdown": [
       "### Nothing sacred, Elizabeth Ann Scarborough, 1991"
      ],
      "text/plain": [
       "<IPython.core.display.Markdown object>"
      ]
     },
     "metadata": {},
     "output_type": "display_data"
    },
    {
     "data": {
      "text/markdown": [
       "r daughter lives up to it to an almost irritating degree at times) and our son, Mike. (Growing up in a family of odd names has made me appreciate what sounds to me like a nice, solid, ordinary boy's name, although the other children tend to call him Meekay, which just demonstrates what I was saying about good intentions.)\n",
       "\n",
       "Tsering and Samdup have four more children, Tsering has two others by one of the Indian prisoners, Pandit Singh, and Tania is expecting her first child by Samdup and hopes it  <span style=\"color: blue\">will</span> be a sister to the son she bore with Marsh.\n",
       "\n",
       "Pema is a good young mother to her own daughter. Colonel Merridew insisted that Tea, who is as close to a clergyman as we have here, marry them in a proper ceremony. It took Pema until she was eighteen to convince the Colonel that a man who had never enjoyed a childhood needed a young wife to show him how to play with his children. The Colonel and Pema, like Tea and I, are so far monogamous. Dolma is the natural person to keep the census, since she g"
      ],
      "text/plain": [
       "<IPython.core.display.Markdown object>"
      ]
     },
     "metadata": {},
     "output_type": "display_data"
    },
    {
     "data": {
      "text/markdown": [
       "---"
      ],
      "text/plain": [
       "<IPython.core.display.Markdown object>"
      ]
     },
     "metadata": {},
     "output_type": "display_data"
    },
    {
     "data": {
      "text/markdown": [
       "### Nothing sacred, Elizabeth Ann Scarborough, 1991"
      ],
      "text/plain": [
       "<IPython.core.display.Markdown object>"
      ]
     },
     "metadata": {},
     "output_type": "display_data"
    },
    {
     "data": {
      "text/markdown": [
       "he census, since she goes with Thibideaux to help deliver babies and everyone confides in her. Even Shambala could not heal her enough that she has been able to have her own babies, but she is what amounts to a youthful grandmother to every child born in Kalapa. Though she and Tea set up the classes, we all take turns teaching the children our special skills, and if one child or another shows a particular aptitude for what we do rather than for what its own parents have become, then the parents  <span style=\"color: blue\">will</span> allow the child to be trained by the person who can teach them the best. It's a good theory. I hope it works. As the kids grow up, I'm afraid they'll become bored and restless. I'm afraid that a lot of the peace we have now is only because so many of us adults have known so much war. The kids didn't grow up with it.\n",
       "\n",
       "They only know a few of the stories and stories always sound glamorous whether you mean them to or not. The valley will be too small for them in time, and too familiar, despite the"
      ],
      "text/plain": [
       "<IPython.core.display.Markdown object>"
      ]
     },
     "metadata": {},
     "output_type": "display_data"
    },
    {
     "data": {
      "text/markdown": [
       "---"
      ],
      "text/plain": [
       "<IPython.core.display.Markdown object>"
      ]
     },
     "metadata": {},
     "output_type": "display_data"
    },
    {
     "data": {
      "text/markdown": [
       "### Nothing sacred, Elizabeth Ann Scarborough, 1991"
      ],
      "text/plain": [
       "<IPython.core.display.Markdown object>"
      ]
     },
     "metadata": {},
     "output_type": "display_data"
    },
    {
     "data": {
      "text/markdown": [
       " than for what its own parents have become, then the parents will allow the child to be trained by the person who can teach them the best. It's a good theory. I hope it works. As the kids grow up, I'm afraid they'll become bored and restless. I'm afraid that a lot of the peace we have now is only because so many of us adults have known so much war. The kids didn't grow up with it.\n",
       "\n",
       "They only know a few of the stories and stories always sound glamorous whether you mean them to or not. The valley  <span style=\"color: blue\">will</span> be too small for them in time, and too familiar, despite the wealth of treasures yet to be uncovered and the amount of work to be done. Even Tea admits that the stories and myths surrounding Shambala predict that it will decline from being a haven to once more being in the midst of the world and conflict. Well, it makes sense that if the world doesn't revive and intrude on us, at some point, when it's safer to do so, at least some of our people will want to go out into the world. Like the past "
      ],
      "text/plain": [
       "<IPython.core.display.Markdown object>"
      ]
     },
     "metadata": {},
     "output_type": "display_data"
    },
    {
     "data": {
      "text/markdown": [
       "---"
      ],
      "text/plain": [
       "<IPython.core.display.Markdown object>"
      ]
     },
     "metadata": {},
     "output_type": "display_data"
    },
    {
     "data": {
      "text/markdown": [
       "### Nothing sacred, Elizabeth Ann Scarborough, 1991"
      ],
      "text/plain": [
       "<IPython.core.display.Markdown object>"
      ]
     },
     "metadata": {},
     "output_type": "display_data"
    },
    {
     "data": {
      "text/markdown": [
       "e bored and restless. I'm afraid that a lot of the peace we have now is only because so many of us adults have known so much war. The kids didn't grow up with it.\n",
       "\n",
       "They only know a few of the stories and stories always sound glamorous whether you mean them to or not. The valley will be too small for them in time, and too familiar, despite the wealth of treasures yet to be uncovered and the amount of work to be done. Even Tea admits that the stories and myths surrounding Shambala predict that it  <span style=\"color: blue\">will</span> decline from being a haven to once more being in the midst of the world and conflict. Well, it makes sense that if the world doesn't revive and intrude on us, at some point, when it's safer to do so, at least some of our people will want to go out into the world. Like the past residents of Shambala, once our children reach maturity they will age slowly, as we age slowly. I see no reason why, if our natural death rate continues to be so low (the chorten and Danielson's mound mark the only new gr"
      ],
      "text/plain": [
       "<IPython.core.display.Markdown object>"
      ]
     },
     "metadata": {},
     "output_type": "display_data"
    },
    {
     "data": {
      "text/markdown": [
       "---"
      ],
      "text/plain": [
       "<IPython.core.display.Markdown object>"
      ]
     },
     "metadata": {},
     "output_type": "display_data"
    },
    {
     "data": {
      "text/markdown": [
       "### Nothing sacred, Elizabeth Ann Scarborough, 1991"
      ],
      "text/plain": [
       "<IPython.core.display.Markdown object>"
      ]
     },
     "metadata": {},
     "output_type": "display_data"
    },
    {
     "data": {
      "text/markdown": [
       "s whether you mean them to or not. The valley will be too small for them in time, and too familiar, despite the wealth of treasures yet to be uncovered and the amount of work to be done. Even Tea admits that the stories and myths surrounding Shambala predict that it will decline from being a haven to once more being in the midst of the world and conflict. Well, it makes sense that if the world doesn't revive and intrude on us, at some point, when it's safer to do so, at least some of our people  <span style=\"color: blue\">will</span> want to go out into the world. Like the past residents of Shambala, once our children reach maturity they will age slowly, as we age slowly. I see no reason why, if our natural death rate continues to be so low (the chorten and Danielson's mound mark the only new graves since shortly after the avalanche), we will not become overpopulated in a few generations. Also, if we are truly re-populating the world, then some of us, at some time, will have to go out into the world. Our children will not b"
      ],
      "text/plain": [
       "<IPython.core.display.Markdown object>"
      ]
     },
     "metadata": {},
     "output_type": "display_data"
    },
    {
     "data": {
      "text/markdown": [
       "---"
      ],
      "text/plain": [
       "<IPython.core.display.Markdown object>"
      ]
     },
     "metadata": {},
     "output_type": "display_data"
    },
    {
     "data": {
      "text/markdown": [
       "### Nothing sacred, Elizabeth Ann Scarborough, 1991"
      ],
      "text/plain": [
       "<IPython.core.display.Markdown object>"
      ]
     },
     "metadata": {},
     "output_type": "display_data"
    },
    {
     "data": {
      "text/markdown": [
       " wealth of treasures yet to be uncovered and the amount of work to be done. Even Tea admits that the stories and myths surrounding Shambala predict that it will decline from being a haven to once more being in the midst of the world and conflict. Well, it makes sense that if the world doesn't revive and intrude on us, at some point, when it's safer to do so, at least some of our people will want to go out into the world. Like the past residents of Shambala, once our children reach maturity they  <span style=\"color: blue\">will</span> age slowly, as we age slowly. I see no reason why, if our natural death rate continues to be so low (the chorten and Danielson's mound mark the only new graves since shortly after the avalanche), we will not become overpopulated in a few generations. Also, if we are truly re-populating the world, then some of us, at some time, will have to go out into the world. Our children will not be like us, peaceful because they are tired, lacking a broader inquisitiveness out of fear.\n",
       "\n",
       "Just the other day "
      ],
      "text/plain": [
       "<IPython.core.display.Markdown object>"
      ]
     },
     "metadata": {},
     "output_type": "display_data"
    },
    {
     "data": {
      "text/markdown": [
       "---"
      ],
      "text/plain": [
       "<IPython.core.display.Markdown object>"
      ]
     },
     "metadata": {},
     "output_type": "display_data"
    },
    {
     "data": {
      "text/markdown": [
       "### Nothing sacred, Elizabeth Ann Scarborough, 1991"
      ],
      "text/plain": [
       "<IPython.core.display.Markdown object>"
      ]
     },
     "metadata": {},
     "output_type": "display_data"
    },
    {
     "data": {
      "text/markdown": [
       "ng in the midst of the world and conflict. Well, it makes sense that if the world doesn't revive and intrude on us, at some point, when it's safer to do so, at least some of our people will want to go out into the world. Like the past residents of Shambala, once our children reach maturity they will age slowly, as we age slowly. I see no reason why, if our natural death rate continues to be so low (the chorten and Danielson's mound mark the only new graves since shortly after the avalanche), we  <span style=\"color: blue\">will</span> not become overpopulated in a few generations. Also, if we are truly re-populating the world, then some of us, at some time, will have to go out into the world. Our children will not be like us, peaceful because they are tired, lacking a broader inquisitiveness out of fear.\n",
       "\n",
       "Just the other day Pema brought her eighteen-month-old, Chime Cincinnati (the middle name is for the Colonel's birthplace—it was Pema's idea, not his, that the name reflect something of his past) to the library. She and Tea"
      ],
      "text/plain": [
       "<IPython.core.display.Markdown object>"
      ]
     },
     "metadata": {},
     "output_type": "display_data"
    },
    {
     "data": {
      "text/markdown": [
       "---"
      ],
      "text/plain": [
       "<IPython.core.display.Markdown object>"
      ]
     },
     "metadata": {},
     "output_type": "display_data"
    },
    {
     "data": {
      "text/markdown": [
       "### Nothing sacred, Elizabeth Ann Scarborough, 1991"
      ],
      "text/plain": [
       "<IPython.core.display.Markdown object>"
      ]
     },
     "metadata": {},
     "output_type": "display_data"
    },
    {
     "data": {
      "text/markdown": [
       " when it's safer to do so, at least some of our people will want to go out into the world. Like the past residents of Shambala, once our children reach maturity they will age slowly, as we age slowly. I see no reason why, if our natural death rate continues to be so low (the chorten and Danielson's mound mark the only new graves since shortly after the avalanche), we will not become overpopulated in a few generations. Also, if we are truly re-populating the world, then some of us, at some time,  <span style=\"color: blue\">will</span> have to go out into the world. Our children will not be like us, peaceful because they are tired, lacking a broader inquisitiveness out of fear.\n",
       "\n",
       "Just the other day Pema brought her eighteen-month-old, Chime Cincinnati (the middle name is for the Colonel's birthplace—it was Pema's idea, not his, that the name reflect something of his past) to the library. She and Tea and I were talking about the dance classes Tania is organizing, which will help condition us all better for mountain travel. Mike"
      ],
      "text/plain": [
       "<IPython.core.display.Markdown object>"
      ]
     },
     "metadata": {},
     "output_type": "display_data"
    },
    {
     "data": {
      "text/markdown": [
       "---"
      ],
      "text/plain": [
       "<IPython.core.display.Markdown object>"
      ]
     },
     "metadata": {},
     "output_type": "display_data"
    },
    {
     "data": {
      "text/markdown": [
       "### Nothing sacred, Elizabeth Ann Scarborough, 1991"
      ],
      "text/plain": [
       "<IPython.core.display.Markdown object>"
      ]
     },
     "metadata": {},
     "output_type": "display_data"
    },
    {
     "data": {
      "text/markdown": [
       "eople will want to go out into the world. Like the past residents of Shambala, once our children reach maturity they will age slowly, as we age slowly. I see no reason why, if our natural death rate continues to be so low (the chorten and Danielson's mound mark the only new graves since shortly after the avalanche), we will not become overpopulated in a few generations. Also, if we are truly re-populating the world, then some of us, at some time, will have to go out into the world. Our children  <span style=\"color: blue\">will</span> not be like us, peaceful because they are tired, lacking a broader inquisitiveness out of fear.\n",
       "\n",
       "Just the other day Pema brought her eighteen-month-old, Chime Cincinnati (the middle name is for the Colonel's birthplace—it was Pema's idea, not his, that the name reflect something of his past) to the library. She and Tea and I were talking about the dance classes Tania is organizing, which will help condition us all better for mountain travel. Mike was riding herd on Chime, when suddenly she let "
      ],
      "text/plain": [
       "<IPython.core.display.Markdown object>"
      ]
     },
     "metadata": {},
     "output_type": "display_data"
    },
    {
     "data": {
      "text/markdown": [
       "---"
      ],
      "text/plain": [
       "<IPython.core.display.Markdown object>"
      ]
     },
     "metadata": {},
     "output_type": "display_data"
    },
    {
     "data": {
      "text/markdown": [
       "### Nothing sacred, Elizabeth Ann Scarborough, 1991"
      ],
      "text/plain": [
       "<IPython.core.display.Markdown object>"
      ]
     },
     "metadata": {},
     "output_type": "display_data"
    },
    {
     "data": {
      "text/markdown": [
       "e-populating the world, then some of us, at some time, will have to go out into the world. Our children will not be like us, peaceful because they are tired, lacking a broader inquisitiveness out of fear.\n",
       "\n",
       "Just the other day Pema brought her eighteen-month-old, Chime Cincinnati (the middle name is for the Colonel's birthplace—it was Pema's idea, not his, that the name reflect something of his past) to the library. She and Tea and I were talking about the dance classes Tania is organizing, which  <span style=\"color: blue\">will</span> help condition us all better for mountain travel. Mike was riding herd on Chime, when suddenly she let out a howl that none of us could ignore and scuttled after him while he tried to keep a book out of her reach.\n",
       "\n",
       "\"She's very good with books,\" Pema said, half apologetic and distressed and half defensive on her child's behalf. \"She sits quietly for many hours with them.\"\n",
       "\n",
       "\"But, Mama, it's the book of the Terton,\" Mike said. \"Father won't even let me touch it without him there, much less a baby."
      ],
      "text/plain": [
       "<IPython.core.display.Markdown object>"
      ]
     },
     "metadata": {},
     "output_type": "display_data"
    },
    {
     "data": {
      "text/markdown": [
       "---"
      ],
      "text/plain": [
       "<IPython.core.display.Markdown object>"
      ]
     },
     "metadata": {},
     "output_type": "display_data"
    },
    {
     "data": {
      "text/markdown": [
       "### The Anatolian, Elia Kazan, 1982"
      ],
      "text/plain": [
       "<IPython.core.display.Markdown object>"
      ]
     },
     "metadata": {},
     "output_type": "display_data"
    },
    {
     "data": {
      "text/markdown": [
       "uire a friendly and, if possible, a Christian power to control the littoral of Asia Minor?”\n",
       "\n",
       "“If you are referring to the Greeks, yes.” He looked at Stavros, studied him for a moment. “I believe they are Christians,” he said. It was an English joke, spoken without smiling.\n",
       "\n",
       "“Which means,” Mr. Fernand went on, “that you will cover their landing when it takes place?”\n",
       "\n",
       "“That is our plan.”\n",
       "\n",
       "“When will it be?”\n",
       "\n",
       "“Late spring.”\n",
       "\n",
       "“When?”\n",
       "\n",
       "“The date is not being revealed. For obvious reasons.”\n",
       "\n",
       "“But you  <span style=\"color: blue\">will</span> cover it, the landing, with your sea power?”\n",
       "\n",
       "“I said yes.”\n",
       "\n",
       "“Can I have assurance on these facts?”\n",
       "\n",
       "“I gave you my word. Do you want more than that?”\n",
       "\n",
       "Mr. Fernand hesitated just long enough to make the pause meaningful.\n",
       "\n",
       "\n",
       "They spent a week in England and at the end of it, Mr. Fernand assured Stavros that he had in hand certain assurances executed in writing. “They’re not worth the paper they’re written on,” he said. “No politician’s word in a democracy is worth anything, since they are open to"
      ],
      "text/plain": [
       "<IPython.core.display.Markdown object>"
      ]
     },
     "metadata": {},
     "output_type": "display_data"
    },
    {
     "data": {
      "text/markdown": [
       "---"
      ],
      "text/plain": [
       "<IPython.core.display.Markdown object>"
      ]
     },
     "metadata": {},
     "output_type": "display_data"
    },
    {
     "data": {
      "text/markdown": [
       "### The Anatolian, Elia Kazan, 1982"
      ],
      "text/plain": [
       "<IPython.core.display.Markdown object>"
      ]
     },
     "metadata": {},
     "output_type": "display_data"
    },
    {
     "data": {
      "text/markdown": [
       "e—but also gold: Gold was the best, gold coins. They should be immediately lodged in Michaelis’s belt. There were few places Stavros could imagine safer than Michaelis’s belt.\n",
       "\n",
       "In Rome Mr. Fernand and Stavros parted company. The old man’s last words were: “Now tell me the truth. You haven’t been suffering from chagrin d’amour because Althea Perry is married to your partner, have you?”\n",
       "\n",
       "“They have my blessing,” Stavros said. “Soon as I set up our office in Smyrna, and my looms in the interior, I  <span style=\"color: blue\">will</span> do the right thing myself.”\n",
       "\n",
       "“What would that be?” Mr. Fernand asked with a cynical smile, implying that if there was one thing Stavros was incapable of, it was doing the right thing. “I didn’t know you had any ethical impulses.”\n",
       "\n",
       "“I am going to marry one of ours,” Stavros said. “A girl of my own country.”\n",
       "\n",
       "“Are you sure that will be the solution to your life? Are you sure you will be satisfied with the married life?”\n",
       "\n",
       "“I’m sure,” Stavros said.\n",
       "\n",
       "He made the journey to Athens by slow stages. He’"
      ],
      "text/plain": [
       "<IPython.core.display.Markdown object>"
      ]
     },
     "metadata": {},
     "output_type": "display_data"
    },
    {
     "data": {
      "text/markdown": [
       "---"
      ],
      "text/plain": [
       "<IPython.core.display.Markdown object>"
      ]
     },
     "metadata": {},
     "output_type": "display_data"
    },
    {
     "data": {
      "text/markdown": [
       "### The Anatolian, Elia Kazan, 1982"
      ],
      "text/plain": [
       "<IPython.core.display.Markdown object>"
      ]
     },
     "metadata": {},
     "output_type": "display_data"
    },
    {
     "data": {
      "text/markdown": [
       "se Althea Perry is married to your partner, have you?”\n",
       "\n",
       "“They have my blessing,” Stavros said. “Soon as I set up our office in Smyrna, and my looms in the interior, I will do the right thing myself.”\n",
       "\n",
       "“What would that be?” Mr. Fernand asked with a cynical smile, implying that if there was one thing Stavros was incapable of, it was doing the right thing. “I didn’t know you had any ethical impulses.”\n",
       "\n",
       "“I am going to marry one of ours,” Stavros said. “A girl of my own country.”\n",
       "\n",
       "“Are you sure that  <span style=\"color: blue\">will</span> be the solution to your life? Are you sure you will be satisfied with the married life?”\n",
       "\n",
       "“I’m sure,” Stavros said.\n",
       "\n",
       "He made the journey to Athens by slow stages. He’d found a North Italian lady, a bottle blonde, who liked to travel by day and fuck by night. And since there was no way he could move into Anatolia before the Greek army landed in Smyrna in May—the date was now fixed—he had to find ways to pass the time. Kef! Makes you forget! So Stavros moved slowly and pleasurably rather than spe"
      ],
      "text/plain": [
       "<IPython.core.display.Markdown object>"
      ]
     },
     "metadata": {},
     "output_type": "display_data"
    },
    {
     "data": {
      "text/markdown": [
       "---"
      ],
      "text/plain": [
       "<IPython.core.display.Markdown object>"
      ]
     },
     "metadata": {},
     "output_type": "display_data"
    },
    {
     "data": {
      "text/markdown": [
       "### The Anatolian, Elia Kazan, 1982"
      ],
      "text/plain": [
       "<IPython.core.display.Markdown object>"
      ]
     },
     "metadata": {},
     "output_type": "display_data"
    },
    {
     "data": {
      "text/markdown": [
       "?”\n",
       "\n",
       "“They have my blessing,” Stavros said. “Soon as I set up our office in Smyrna, and my looms in the interior, I will do the right thing myself.”\n",
       "\n",
       "“What would that be?” Mr. Fernand asked with a cynical smile, implying that if there was one thing Stavros was incapable of, it was doing the right thing. “I didn’t know you had any ethical impulses.”\n",
       "\n",
       "“I am going to marry one of ours,” Stavros said. “A girl of my own country.”\n",
       "\n",
       "“Are you sure that will be the solution to your life? Are you sure you  <span style=\"color: blue\">will</span> be satisfied with the married life?”\n",
       "\n",
       "“I’m sure,” Stavros said.\n",
       "\n",
       "He made the journey to Athens by slow stages. He’d found a North Italian lady, a bottle blonde, who liked to travel by day and fuck by night. And since there was no way he could move into Anatolia before the Greek army landed in Smyrna in May—the date was now fixed—he had to find ways to pass the time. Kef! Makes you forget! So Stavros moved slowly and pleasurably rather than speedily and anxiously. Yes, perhaps the last of kef.\n",
       "\n"
      ],
      "text/plain": [
       "<IPython.core.display.Markdown object>"
      ]
     },
     "metadata": {},
     "output_type": "display_data"
    },
    {
     "data": {
      "text/markdown": [
       "---"
      ],
      "text/plain": [
       "<IPython.core.display.Markdown object>"
      ]
     },
     "metadata": {},
     "output_type": "display_data"
    },
    {
     "data": {
      "text/markdown": [
       "### The Anatolian, Elia Kazan, 1982"
      ],
      "text/plain": [
       "<IPython.core.display.Markdown object>"
      ]
     },
     "metadata": {},
     "output_type": "display_data"
    },
    {
     "data": {
      "text/markdown": [
       "again, seeking redemption, throwing himself at the land where he’d been born and raised, to help redeem it and so redeem himself. That was his hope and his faith.\n",
       "\n",
       "The cool, clean spray made his skin tingle as if beads were striking him, hard little pellets. It never occurred to Stavros that it might be too late.\n",
       "\n",
       "“For seven years I’ve been away from my country”—so went the old song popular among the hamals in those years long gone. “I didn’t look for someone to share my worries. If one day you  <span style=\"color: blue\">will</span> follow me, ask only your heart where I am.”\n",
       "\n",
       "Now there it was! He could see Anatolia, the dark land, huddled under the eastern sky. He turned to go down into his cabin and pack his bag. “Forget her,” he said to himself. “Find yourself a woman here.”\n",
       "\n",
       "\n",
       "The steamer turned slowly in place, heavy in the water, until it faced the opening of the breakwater across the harbor of Chios. Stavros was back where his father had died, and where he’d been born.\n",
       "\n",
       "Had he fulfilled his father’s charges? He remem"
      ],
      "text/plain": [
       "<IPython.core.display.Markdown object>"
      ]
     },
     "metadata": {},
     "output_type": "display_data"
    },
    {
     "data": {
      "text/markdown": [
       "---"
      ],
      "text/plain": [
       "<IPython.core.display.Markdown object>"
      ]
     },
     "metadata": {},
     "output_type": "display_data"
    },
    {
     "data": {
      "text/markdown": [
       "### The Anatolian, Elia Kazan, 1982"
      ],
      "text/plain": [
       "<IPython.core.display.Markdown object>"
      ]
     },
     "metadata": {},
     "output_type": "display_data"
    },
    {
     "data": {
      "text/markdown": [
       "atolia, the dark land, huddled under the eastern sky. He turned to go down into his cabin and pack his bag. “Forget her,” he said to himself. “Find yourself a woman here.”\n",
       "\n",
       "\n",
       "The steamer turned slowly in place, heavy in the water, until it faced the opening of the breakwater across the harbor of Chios. Stavros was back where his father had died, and where he’d been born.\n",
       "\n",
       "Had he fulfilled his father’s charges? He remembered only a few of the words, but all of the old man’s severity. “In time you  <span style=\"color: blue\">will</span> bring your three sisters out. As the eldest, it is your responsibility to see that they marry well.” His sisters? Yes, they were married, and considering everything, he’d fulfilled that charge reasonably well.\n",
       "\n",
       "“Then, as your business prospers, you will bring your four brothers out and to your side. As the eldest, it is your responsibility to set them up in business.” His brothers—two of them—were in business; yes, his father may have been satisfied with this too.\n",
       "\n",
       "“Then it will be your mother’"
      ],
      "text/plain": [
       "<IPython.core.display.Markdown object>"
      ]
     },
     "metadata": {},
     "output_type": "display_data"
    },
    {
     "data": {
      "text/markdown": [
       "---"
      ],
      "text/plain": [
       "<IPython.core.display.Markdown object>"
      ]
     },
     "metadata": {},
     "output_type": "display_data"
    },
    {
     "data": {
      "text/markdown": [
       "### The Anatolian, Elia Kazan, 1982"
      ],
      "text/plain": [
       "<IPython.core.display.Markdown object>"
      ]
     },
     "metadata": {},
     "output_type": "display_data"
    },
    {
     "data": {
      "text/markdown": [
       "ng of the breakwater across the harbor of Chios. Stavros was back where his father had died, and where he’d been born.\n",
       "\n",
       "Had he fulfilled his father’s charges? He remembered only a few of the words, but all of the old man’s severity. “In time you will bring your three sisters out. As the eldest, it is your responsibility to see that they marry well.” His sisters? Yes, they were married, and considering everything, he’d fulfilled that charge reasonably well.\n",
       "\n",
       "“Then, as your business prospers, you  <span style=\"color: blue\">will</span> bring your four brothers out and to your side. As the eldest, it is your responsibility to set them up in business.” His brothers—two of them—were in business; yes, his father may have been satisfied with this too.\n",
       "\n",
       "“Then it will be your mother’s turn!” His father’s last charge. “It is your responsibility to make her final days happy ones.” Happy! Had they been? Hardly. Her wits were so scattered now, how could anyone tell what she felt? Still, there was a chance, however thin, that he’d be abl"
      ],
      "text/plain": [
       "<IPython.core.display.Markdown object>"
      ]
     },
     "metadata": {},
     "output_type": "display_data"
    },
    {
     "data": {
      "text/markdown": [
       "---"
      ],
      "text/plain": [
       "<IPython.core.display.Markdown object>"
      ]
     },
     "metadata": {},
     "output_type": "display_data"
    },
    {
     "data": {
      "text/markdown": [
       "### The Anatolian, Elia Kazan, 1982"
      ],
      "text/plain": [
       "<IPython.core.display.Markdown object>"
      ]
     },
     "metadata": {},
     "output_type": "display_data"
    },
    {
     "data": {
      "text/markdown": [
       "y. “In time you will bring your three sisters out. As the eldest, it is your responsibility to see that they marry well.” His sisters? Yes, they were married, and considering everything, he’d fulfilled that charge reasonably well.\n",
       "\n",
       "“Then, as your business prospers, you will bring your four brothers out and to your side. As the eldest, it is your responsibility to set them up in business.” His brothers—two of them—were in business; yes, his father may have been satisfied with this too.\n",
       "\n",
       "“Then it  <span style=\"color: blue\">will</span> be your mother’s turn!” His father’s last charge. “It is your responsibility to make her final days happy ones.” Happy! Had they been? Hardly. Her wits were so scattered now, how could anyone tell what she felt? Still, there was a chance, however thin, that he’d be able to give that gnarled old stump of a woman the only thing left that she wanted, to die in Anatolia.\n",
       "\n",
       "Seeing Michaelis waiting on the dock, Stavros waved, then picked up his bag—a handsome British steerhide valise with buckles of "
      ],
      "text/plain": [
       "<IPython.core.display.Markdown object>"
      ]
     },
     "metadata": {},
     "output_type": "display_data"
    },
    {
     "data": {
      "text/markdown": [
       "---"
      ],
      "text/plain": [
       "<IPython.core.display.Markdown object>"
      ]
     },
     "metadata": {},
     "output_type": "display_data"
    },
    {
     "data": {
      "text/markdown": [
       "### The Anatolian, Elia Kazan, 1982"
      ],
      "text/plain": [
       "<IPython.core.display.Markdown object>"
      ]
     },
     "metadata": {},
     "output_type": "display_data"
    },
    {
     "data": {
      "text/markdown": [
       "tiny flashing triangles.\n",
       "\n",
       "“It’s the melteme,” Michaelis said. “Comes up every morning out of a sky without clouds, blows stronger as the day goes on, until at sunset it dies down and is still, waiting like us for morning.”\n",
       "\n",
       "He gestured toward a figure at the far end of the terrace, where the winter waves had undercut and collapsed the edge. A man in uniform was looking at the shore opposite through field glasses. “The army,” Michaelis whispered, “they’re here. In two weeks—two, or three, no one  <span style=\"color: blue\">will</span> say exactly when—we will be seeing great ships of war, flying the flags of many nations, steaming toward the harbor of Smyrna and, following them, troop transports carrying our army.”\n",
       "\n",
       "The officer walked up to them and Michaelis introduced his brother. The man in uniform bowed courteously. “Michaelis tells me you’re going to follow us in,” he said. “Here—want a look? They still have their soldiers there.”\n",
       "\n",
       "Stavros thanked him, took the glasses, and lifted them to his eyes.\n",
       "\n",
       "And he saw Anatolia."
      ],
      "text/plain": [
       "<IPython.core.display.Markdown object>"
      ]
     },
     "metadata": {},
     "output_type": "display_data"
    },
    {
     "data": {
      "text/markdown": [
       "---"
      ],
      "text/plain": [
       "<IPython.core.display.Markdown object>"
      ]
     },
     "metadata": {},
     "output_type": "display_data"
    },
    {
     "data": {
      "text/markdown": [
       "### The Anatolian, Elia Kazan, 1982"
      ],
      "text/plain": [
       "<IPython.core.display.Markdown object>"
      ]
     },
     "metadata": {},
     "output_type": "display_data"
    },
    {
     "data": {
      "text/markdown": [
       "\n",
       "“It’s the melteme,” Michaelis said. “Comes up every morning out of a sky without clouds, blows stronger as the day goes on, until at sunset it dies down and is still, waiting like us for morning.”\n",
       "\n",
       "He gestured toward a figure at the far end of the terrace, where the winter waves had undercut and collapsed the edge. A man in uniform was looking at the shore opposite through field glasses. “The army,” Michaelis whispered, “they’re here. In two weeks—two, or three, no one will say exactly when—we  <span style=\"color: blue\">will</span> be seeing great ships of war, flying the flags of many nations, steaming toward the harbor of Smyrna and, following them, troop transports carrying our army.”\n",
       "\n",
       "The officer walked up to them and Michaelis introduced his brother. The man in uniform bowed courteously. “Michaelis tells me you’re going to follow us in,” he said. “Here—want a look? They still have their soldiers there.”\n",
       "\n",
       "Stavros thanked him, took the glasses, and lifted them to his eyes.\n",
       "\n",
       "And he saw Anatolia. Unredeemed."
      ],
      "text/plain": [
       "<IPython.core.display.Markdown object>"
      ]
     },
     "metadata": {},
     "output_type": "display_data"
    },
    {
     "data": {
      "text/markdown": [
       "---"
      ],
      "text/plain": [
       "<IPython.core.display.Markdown object>"
      ]
     },
     "metadata": {},
     "output_type": "display_data"
    },
    {
     "data": {
      "text/markdown": [
       "### The mysteries of Pittsburgh, Michael Chabon, 1988"
      ],
      "text/plain": [
       "<IPython.core.display.Markdown object>"
      ]
     },
     "metadata": {},
     "output_type": "display_data"
    },
    {
     "data": {
      "text/markdown": [
       "n from other people, that behind each sudden, shocking breach of it lies Cleveland; I have from them my vocabulary, my dress, my love of idle talk. I find in myself no ready trace of Phlox, however; no habit, hobby, fashion, or phrase, and for a long time I wondered if I had loved her or not. But as I have found that I may fall quite completely in love with a man—kiss, weep, give gifts;—I have also discovered the trace a woman leaves, that Phlox left, and it is better than a man’s.\n",
       "\n",
       "My father I  <span style=\"color: blue\">will</span> never see again, Cleveland is dead, Arthur is now, I believe, on Majorca. But because I can find them so easily in myself, I no longer—say it, Bechstein—I no longer need them. One can learn, for instance, to father oneself. But I can never learn to be a world, as Phlox was a world, with her own flora and physics, atmosphere and birds. I am left, as Coleridge was his useless dream poem, with a glittering sock and a memory, a garbled account of my visit to her planet, uncertain of what transpired"
      ],
      "text/plain": [
       "<IPython.core.display.Markdown object>"
      ]
     },
     "metadata": {},
     "output_type": "display_data"
    },
    {
     "data": {
      "text/markdown": [
       "---"
      ],
      "text/plain": [
       "<IPython.core.display.Markdown object>"
      ]
     },
     "metadata": {},
     "output_type": "display_data"
    },
    {
     "data": {
      "text/markdown": [
       "### Isabella, Loretta Lynda Chase, 1987"
      ],
      "text/plain": [
       "<IPython.core.display.Markdown object>"
      ]
     },
     "metadata": {},
     "output_type": "display_data"
    },
    {
     "data": {
      "text/markdown": [
       "d caused him.\n",
       "\n",
       "\"Now, darling, he did write a very penitent letter before he left—\"\n",
       "\n",
       "\"Maudlin, rather,\" the earl grumbled. But his wife reached for his cravat and pulled his head down so that she could plant a kiss on his forehead, and he remembered to be grateful to Basil for unintentionally thwarting those early plans to marry the fair Honoria. \"Well then, let us see what he has to say.\"\n",
       "\n",
       "“‘My darling Isabella,'\" the countess read aloud.\n",
       "\n",
       "“Not a promising start, the insinuating wretch.”\n",
       "\n",
       "“‘You  <span style=\"color: blue\">will</span> perhaps be pleased to hear that I have not contracted any of the five hundred and eighty different varieties of foul disease that flourish in this abominable climate. That is because I am dying of a broken heart and haven't the strength to contract them.’”\n",
       "\n",
       "\"Broken heart, my foot.\"\n",
       "\n",
       "“’Nonetheless, even in my weakened state I have managed to be of some use to your uncle, who confesses himself astonished at the amount of helpful gossip I am able to relay to him. He informs me that my debt to him "
      ],
      "text/plain": [
       "<IPython.core.display.Markdown object>"
      ]
     },
     "metadata": {},
     "output_type": "display_data"
    },
    {
     "data": {
      "text/markdown": [
       "---"
      ],
      "text/plain": [
       "<IPython.core.display.Markdown object>"
      ]
     },
     "metadata": {},
     "output_type": "display_data"
    },
    {
     "data": {
      "text/markdown": [
       "### Isabella, Loretta Lynda Chase, 1987"
      ],
      "text/plain": [
       "<IPython.core.display.Markdown object>"
      ]
     },
     "metadata": {},
     "output_type": "display_data"
    },
    {
     "data": {
      "text/markdown": [
       "nd for it. And if you can find it in your heart to forgive me...well, pray for me, Isabella—for I did love you as well as I could.\n",
       "\n",
       "\"'Ever your affectionate and humble servant, B.'\"\n",
       "\n",
       "\"'Loved you as well as he could.' Well enough to spend your money and ruin your life—\"\n",
       "\n",
       "\"He was desperate,\" Isabella reminded gently.\n",
       "\n",
       "\"And I was such a fool that without his interference, I wouldn't have realised how desperately in love with you I was.\"\n",
       "\n",
       "\"Was?\" Isabella asked, tugging on his neckcloth again.\n",
       "\n",
       "\"Am.  <span style=\"color: blue\">Will</span> be. Always,\" Lord Hartleigh replied as he dropped to one knee to gaze lovingly into the intelligent blue eyes of his countess. \"From the very first day I saw you and you scolded me.\"\n",
       "\n",
       "His wife gave a low chuckle of satisfaction, and pulled him closer for a kiss.\n",
       "\n",
       "“Poor Basil,” the earl murmured a few minutes later. “I wonder what will become of him?”\n",
       "\n",
       "“Something dramatic, no doubt,” was the whispered reply. The letter slipped from her lap to the floor of the terrace, was picked up by a breeze, "
      ],
      "text/plain": [
       "<IPython.core.display.Markdown object>"
      ]
     },
     "metadata": {},
     "output_type": "display_data"
    },
    {
     "data": {
      "text/markdown": [
       "---"
      ],
      "text/plain": [
       "<IPython.core.display.Markdown object>"
      ]
     },
     "metadata": {},
     "output_type": "display_data"
    },
    {
     "data": {
      "text/markdown": [
       "### Isabella, Loretta Lynda Chase, 1987"
      ],
      "text/plain": [
       "<IPython.core.display.Markdown object>"
      ]
     },
     "metadata": {},
     "output_type": "display_data"
    },
    {
     "data": {
      "text/markdown": [
       "ool that without his interference, I wouldn't have realised how desperately in love with you I was.\"\n",
       "\n",
       "\"Was?\" Isabella asked, tugging on his neckcloth again.\n",
       "\n",
       "\"Am. Will be. Always,\" Lord Hartleigh replied as he dropped to one knee to gaze lovingly into the intelligent blue eyes of his countess. \"From the very first day I saw you and you scolded me.\"\n",
       "\n",
       "His wife gave a low chuckle of satisfaction, and pulled him closer for a kiss.\n",
       "\n",
       "“Poor Basil,” the earl murmured a few minutes later. “I wonder what  <span style=\"color: blue\">will</span> become of him?”\n",
       "\n",
       "“Something dramatic, no doubt,” was the whispered reply. The letter slipped from her lap to the floor of the terrace, was picked up by a breeze, and slowly fluttered, forgotten, to the garden."
      ],
      "text/plain": [
       "<IPython.core.display.Markdown object>"
      ]
     },
     "metadata": {},
     "output_type": "display_data"
    },
    {
     "data": {
      "text/markdown": [
       "---"
      ],
      "text/plain": [
       "<IPython.core.display.Markdown object>"
      ]
     },
     "metadata": {},
     "output_type": "display_data"
    },
    {
     "data": {
      "text/markdown": [
       "### Frieze, Cecile Pineda, 1986"
      ],
      "text/plain": [
       "<IPython.core.display.Markdown object>"
      ]
     },
     "metadata": {},
     "output_type": "display_data"
    },
    {
     "data": {
      "text/markdown": [
       "ome warmth, some arms, as of a body pressed to mine. Someone at last, wiping the blood from where it cakes about my eyes. What were once my eyes – hollow now. I hear it now, the sobbing. Mine? Mine, too? What? What now? Some . . . some life still in these bones, this flesh? Some stirring? Some sound at last?\n",
       "\n",
       "\n",
       "\n",
       "\n",
       "\n",
       "119\n",
       "\n",
       "\n",
       "\n",
       "\n",
       "I wonder if I could see her now, would I find her beautiful? I think not. She has let me feel out her face until I know it well enough to carve it in the stone, or summon it at  <span style=\"color: blue\">will</span> whenever I desire. But this heavy stolidness, shaped by coming age, by the practice of the everyday, the bending, the sweeping, the face all but hidden, wrapped in the patience of the daily rhythm, the even broom strokes, pounding the rice flour, arms quivering to the thud of pestle against the stone, raising a hand, perhaps, to brush off the sweat, or to lift the straying tendril from the eyes; pouring oil into the vats, or the squeal of winch that tells me the play of arms as she draws water,"
      ],
      "text/plain": [
       "<IPython.core.display.Markdown object>"
      ]
     },
     "metadata": {},
     "output_type": "display_data"
    },
    {
     "data": {
      "text/markdown": [
       "---"
      ],
      "text/plain": [
       "<IPython.core.display.Markdown object>"
      ]
     },
     "metadata": {},
     "output_type": "display_data"
    },
    {
     "data": {
      "text/markdown": [
       "### A death in China, William D Montalbano, 1984"
      ],
      "text/plain": [
       "<IPython.core.display.Markdown object>"
      ]
     },
     "metadata": {},
     "output_type": "display_data"
    },
    {
     "data": {
      "text/markdown": [
       "ary, Stratton looked up at Wang Bin. “Why?” he asked feebly.\n",
       "\n",
       "“Think, Professor. As a student of history, as an observer of mankind.” He held the rope and the gun where Stratton could see them. “You know what it is, Professor. It is the most cherished archaeological treasure in all China. Its value is both symbolic and very real. It is—truly—priceless. My government—” Wang Bin caught himself, smiled self-consciously. “Excuse me, my former government will do anything to recover this artifact. It  <span style=\"color: blue\">will</span> do anything, in fact, to conceal the circumstances of the theft. You see, Stratton, in China the scandal would be more of a calamity than the actual crime. There is no limit to what my former colleagues might do to prevent such a thing.”\n",
       "\n",
       "“So you’re a blackmailer, too,” Stratton said derisively.\n",
       "\n",
       "Wang Bin stiffened. “I am not familiar with that term,” he replied, testing the rope with a sharp twitch. “However, I do intend to seek what is due to me after a lifetime of devotion.”\n",
       "\n",
       "“The soldiers w"
      ],
      "text/plain": [
       "<IPython.core.display.Markdown object>"
      ]
     },
     "metadata": {},
     "output_type": "display_data"
    },
    {
     "data": {
      "text/markdown": [
       "---"
      ],
      "text/plain": [
       "<IPython.core.display.Markdown object>"
      ]
     },
     "metadata": {},
     "output_type": "display_data"
    },
    {
     "data": {
      "text/markdown": [
       "### A death in China, William D Montalbano, 1984"
      ],
      "text/plain": [
       "<IPython.core.display.Markdown object>"
      ]
     },
     "metadata": {},
     "output_type": "display_data"
    },
    {
     "data": {
      "text/markdown": [
       "votion.”\n",
       "\n",
       "“The soldiers weren’t enough?”\n",
       "\n",
       "“Think, Stratton. There are seven thousand celestial soldiers. There is only one imperial casket. There is only one …” His voice trailed off in the night. His eyes fell to the grave, gazing at the withered creature within.\n",
       "\n",
       "Stratton watched the gun and waited.\n",
       "\n",
       "“By now they know,” Wang Bin said smugly. “The comrades know of my achievement. They know what they must do, for I left precise instructions. The men who would have purged me are the same men who  <span style=\"color: blue\">will</span> beseech me for this treasure. They will pay enormously for my future comfort, and for my silence. And, in return, I will give them back their precious little corpse.”\n",
       "\n",
       "“And then disappear?”\n",
       "\n",
       "Wang Bin nodded. “I disappear from history. My name will never again be mentioned in Peking. Those who worked with me … I cannot say what will become of them. The comrades who pursued me, however, will certainly suffer. They were too slow and much too stupid. Their defeat and humiliation is my vindication, "
      ],
      "text/plain": [
       "<IPython.core.display.Markdown object>"
      ]
     },
     "metadata": {},
     "output_type": "display_data"
    },
    {
     "data": {
      "text/markdown": [
       "---"
      ],
      "text/plain": [
       "<IPython.core.display.Markdown object>"
      ]
     },
     "metadata": {},
     "output_type": "display_data"
    },
    {
     "data": {
      "text/markdown": [
       "### A death in China, William D Montalbano, 1984"
      ],
      "text/plain": [
       "<IPython.core.display.Markdown object>"
      ]
     },
     "metadata": {},
     "output_type": "display_data"
    },
    {
     "data": {
      "text/markdown": [
       "\n",
       "\n",
       "“Think, Stratton. There are seven thousand celestial soldiers. There is only one imperial casket. There is only one …” His voice trailed off in the night. His eyes fell to the grave, gazing at the withered creature within.\n",
       "\n",
       "Stratton watched the gun and waited.\n",
       "\n",
       "“By now they know,” Wang Bin said smugly. “The comrades know of my achievement. They know what they must do, for I left precise instructions. The men who would have purged me are the same men who will beseech me for this treasure. They  <span style=\"color: blue\">will</span> pay enormously for my future comfort, and for my silence. And, in return, I will give them back their precious little corpse.”\n",
       "\n",
       "“And then disappear?”\n",
       "\n",
       "Wang Bin nodded. “I disappear from history. My name will never again be mentioned in Peking. Those who worked with me … I cannot say what will become of them. The comrades who pursued me, however, will certainly suffer. They were too slow and much too stupid. Their defeat and humiliation is my vindication, Stratton. That much even you can underst"
      ],
      "text/plain": [
       "<IPython.core.display.Markdown object>"
      ]
     },
     "metadata": {},
     "output_type": "display_data"
    },
    {
     "data": {
      "text/markdown": [
       "---"
      ],
      "text/plain": [
       "<IPython.core.display.Markdown object>"
      ]
     },
     "metadata": {},
     "output_type": "display_data"
    },
    {
     "data": {
      "text/markdown": [
       "### A death in China, William D Montalbano, 1984"
      ],
      "text/plain": [
       "<IPython.core.display.Markdown object>"
      ]
     },
     "metadata": {},
     "output_type": "display_data"
    },
    {
     "data": {
      "text/markdown": [
       "e imperial casket. There is only one …” His voice trailed off in the night. His eyes fell to the grave, gazing at the withered creature within.\n",
       "\n",
       "Stratton watched the gun and waited.\n",
       "\n",
       "“By now they know,” Wang Bin said smugly. “The comrades know of my achievement. They know what they must do, for I left precise instructions. The men who would have purged me are the same men who will beseech me for this treasure. They will pay enormously for my future comfort, and for my silence. And, in return, I  <span style=\"color: blue\">will</span> give them back their precious little corpse.”\n",
       "\n",
       "“And then disappear?”\n",
       "\n",
       "Wang Bin nodded. “I disappear from history. My name will never again be mentioned in Peking. Those who worked with me … I cannot say what will become of them. The comrades who pursued me, however, will certainly suffer. They were too slow and much too stupid. Their defeat and humiliation is my vindication, Stratton. That much even you can understand.”\n",
       "\n",
       "Stratton understood. He understood why the celestial soldiers were not eno"
      ],
      "text/plain": [
       "<IPython.core.display.Markdown object>"
      ]
     },
     "metadata": {},
     "output_type": "display_data"
    },
    {
     "data": {
      "text/markdown": [
       "---"
      ],
      "text/plain": [
       "<IPython.core.display.Markdown object>"
      ]
     },
     "metadata": {},
     "output_type": "display_data"
    },
    {
     "data": {
      "text/markdown": [
       "### A death in China, William D Montalbano, 1984"
      ],
      "text/plain": [
       "<IPython.core.display.Markdown object>"
      ]
     },
     "metadata": {},
     "output_type": "display_data"
    },
    {
     "data": {
      "text/markdown": [
       "creature within.\n",
       "\n",
       "Stratton watched the gun and waited.\n",
       "\n",
       "“By now they know,” Wang Bin said smugly. “The comrades know of my achievement. They know what they must do, for I left precise instructions. The men who would have purged me are the same men who will beseech me for this treasure. They will pay enormously for my future comfort, and for my silence. And, in return, I will give them back their precious little corpse.”\n",
       "\n",
       "“And then disappear?”\n",
       "\n",
       "Wang Bin nodded. “I disappear from history. My name  <span style=\"color: blue\">will</span> never again be mentioned in Peking. Those who worked with me … I cannot say what will become of them. The comrades who pursued me, however, will certainly suffer. They were too slow and much too stupid. Their defeat and humiliation is my vindication, Stratton. That much even you can understand.”\n",
       "\n",
       "Stratton understood. He understood why the celestial soldiers were not enough. He understood the genius of the crime, the genius of the vengeance.\n",
       "\n",
       "And he knew why Wang Bin—so small and unimposing—frig"
      ],
      "text/plain": [
       "<IPython.core.display.Markdown object>"
      ]
     },
     "metadata": {},
     "output_type": "display_data"
    },
    {
     "data": {
      "text/markdown": [
       "---"
      ],
      "text/plain": [
       "<IPython.core.display.Markdown object>"
      ]
     },
     "metadata": {},
     "output_type": "display_data"
    },
    {
     "data": {
      "text/markdown": [
       "### A death in China, William D Montalbano, 1984"
      ],
      "text/plain": [
       "<IPython.core.display.Markdown object>"
      ]
     },
     "metadata": {},
     "output_type": "display_data"
    },
    {
     "data": {
      "text/markdown": [
       "aid smugly. “The comrades know of my achievement. They know what they must do, for I left precise instructions. The men who would have purged me are the same men who will beseech me for this treasure. They will pay enormously for my future comfort, and for my silence. And, in return, I will give them back their precious little corpse.”\n",
       "\n",
       "“And then disappear?”\n",
       "\n",
       "Wang Bin nodded. “I disappear from history. My name will never again be mentioned in Peking. Those who worked with me … I cannot say what  <span style=\"color: blue\">will</span> become of them. The comrades who pursued me, however, will certainly suffer. They were too slow and much too stupid. Their defeat and humiliation is my vindication, Stratton. That much even you can understand.”\n",
       "\n",
       "Stratton understood. He understood why the celestial soldiers were not enough. He understood the genius of the crime, the genius of the vengeance.\n",
       "\n",
       "And he knew why Wang Bin—so small and unimposing—frightened him so.\n",
       "\n",
       "“Close the coffin now,” the deputy minister ordered. “Remove it from t"
      ],
      "text/plain": [
       "<IPython.core.display.Markdown object>"
      ]
     },
     "metadata": {},
     "output_type": "display_data"
    },
    {
     "data": {
      "text/markdown": [
       "---"
      ],
      "text/plain": [
       "<IPython.core.display.Markdown object>"
      ]
     },
     "metadata": {},
     "output_type": "display_data"
    },
    {
     "data": {
      "text/markdown": [
       "### A death in China, William D Montalbano, 1984"
      ],
      "text/plain": [
       "<IPython.core.display.Markdown object>"
      ]
     },
     "metadata": {},
     "output_type": "display_data"
    },
    {
     "data": {
      "text/markdown": [
       " what they must do, for I left precise instructions. The men who would have purged me are the same men who will beseech me for this treasure. They will pay enormously for my future comfort, and for my silence. And, in return, I will give them back their precious little corpse.”\n",
       "\n",
       "“And then disappear?”\n",
       "\n",
       "Wang Bin nodded. “I disappear from history. My name will never again be mentioned in Peking. Those who worked with me … I cannot say what will become of them. The comrades who pursued me, however,  <span style=\"color: blue\">will</span> certainly suffer. They were too slow and much too stupid. Their defeat and humiliation is my vindication, Stratton. That much even you can understand.”\n",
       "\n",
       "Stratton understood. He understood why the celestial soldiers were not enough. He understood the genius of the crime, the genius of the vengeance.\n",
       "\n",
       "And he knew why Wang Bin—so small and unimposing—frightened him so.\n",
       "\n",
       "“Close the coffin now,” the deputy minister ordered. “Remove it from the grave.”\n",
       "\n",
       "“I can’t.”\n",
       "\n",
       "The rope cracked. Stratton was on h"
      ],
      "text/plain": [
       "<IPython.core.display.Markdown object>"
      ]
     },
     "metadata": {},
     "output_type": "display_data"
    },
    {
     "data": {
      "text/markdown": [
       "---"
      ],
      "text/plain": [
       "<IPython.core.display.Markdown object>"
      ]
     },
     "metadata": {},
     "output_type": "display_data"
    },
    {
     "data": {
      "text/markdown": [
       "### A death in China, William D Montalbano, 1984"
      ],
      "text/plain": [
       "<IPython.core.display.Markdown object>"
      ]
     },
     "metadata": {},
     "output_type": "display_data"
    },
    {
     "data": {
      "text/markdown": [
       " fought like the maniacs they were, with hands and feet and teeth: Stratton younger, heavier, but exhausted; Wang Bin possessed of unquenchable fury.\n",
       "\n",
       "Stratton finally saw it—a slow-motion frame—as they teetered on the lip, Wang Bin’s hands like talons on his neck.\n",
       "\n",
       "The bullet meant for Stratton had found another target: the emperor’s skull. After twenty-two centuries his warriors had failed him. A traitor’s gunshot had reduced the legend to an anonymous pile of powdered bone.\n",
       "\n",
       "Not for that.\n",
       "\n",
       "I  <span style=\"color: blue\">will</span> not die for that.\n",
       "\n",
       "With power he had never known, Tom Stratton ripped free of Wang Bin’s clinch. With the heel of his right hand he delivered a killing blow beneath the old man’s chin, a blow that would paralyze the nervous system in the microsecond before it broke the neck.\n",
       "\n",
       "Stratton hurled Wang Bin into the grave and fell back in the mud.\n",
       "\n",
       "IT WAS THE RAIN that roused him—fresh rain, thunder and the wind that scoured his wounds, pierced his lethargy. Stratton was sick again. Then, as recogniti"
      ],
      "text/plain": [
       "<IPython.core.display.Markdown object>"
      ]
     },
     "metadata": {},
     "output_type": "display_data"
    },
    {
     "data": {
      "text/markdown": [
       "---"
      ],
      "text/plain": [
       "<IPython.core.display.Markdown object>"
      ]
     },
     "metadata": {},
     "output_type": "display_data"
    },
    {
     "data": {
      "text/markdown": [
       "### This one and magic life, Anne George, 1999"
      ],
      "text/plain": [
       "<IPython.core.display.Markdown object>"
      ]
     },
     "metadata": {},
     "output_type": "display_data"
    },
    {
     "data": {
      "text/markdown": [
       "’re floating.”\n",
       "\n",
       "Thomas reaches over her to give Carl his half of the sandwich. “Ana,” he says to the dark-haired girl sitting on the pier with her feet dangling in the water, “did you have enough?”\n",
       "\n",
       "“Plenty.” She splashes the water slightly; her toenails are painted bright red.\n",
       "\n",
       "“It sure is taking Artie a long time,” Carl says.\n",
       "\n",
       "Sarah laughs. “She’s pulling herself together.”\n",
       "\n",
       "Ana laughs, too. “That Hektor is crazy. He got half of her blessed and buried.”\n",
       "\n",
       "“I think it was sweet.” Sarah turns to  <span style=\"color: blue\">Will</span>. “Don’t you want me to hold Toy a while?”\n",
       "\n",
       "“No. She’s asleep. She’s fine.”\n",
       "\n",
       "“That’s a beautiful christening dress, Will,” Ana says. “I think it’s prettier than the one May had.”\n",
       "\n",
       "“Thank you.” Will rocks back and forth in his blue canvas chair, holding the baby against his chest.\n",
       "\n",
       "“The ladies of the church made it in one day. Amazing.” Sarah reaches for her glass of iced tea.\n",
       "\n",
       "Thomas leans forward. “I see a boat coming in. It’s probably Donnie and Dolly.”\n",
       "\n",
       "Sarah looks toward the boat. “I hope so"
      ],
      "text/plain": [
       "<IPython.core.display.Markdown object>"
      ]
     },
     "metadata": {},
     "output_type": "display_data"
    },
    {
     "data": {
      "text/markdown": [
       "---"
      ],
      "text/plain": [
       "<IPython.core.display.Markdown object>"
      ]
     },
     "metadata": {},
     "output_type": "display_data"
    },
    {
     "data": {
      "text/markdown": [
       "### This one and magic life, Anne George, 1999"
      ],
      "text/plain": [
       "<IPython.core.display.Markdown object>"
      ]
     },
     "metadata": {},
     "output_type": "display_data"
    },
    {
     "data": {
      "text/markdown": [
       "tting on the pier with her feet dangling in the water, “did you have enough?”\n",
       "\n",
       "“Plenty.” She splashes the water slightly; her toenails are painted bright red.\n",
       "\n",
       "“It sure is taking Artie a long time,” Carl says.\n",
       "\n",
       "Sarah laughs. “She’s pulling herself together.”\n",
       "\n",
       "Ana laughs, too. “That Hektor is crazy. He got half of her blessed and buried.”\n",
       "\n",
       "“I think it was sweet.” Sarah turns to Will. “Don’t you want me to hold Toy a while?”\n",
       "\n",
       "“No. She’s asleep. She’s fine.”\n",
       "\n",
       "“That’s a beautiful christening dress,  <span style=\"color: blue\">Will</span>,” Ana says. “I think it’s prettier than the one May had.”\n",
       "\n",
       "“Thank you.” Will rocks back and forth in his blue canvas chair, holding the baby against his chest.\n",
       "\n",
       "“The ladies of the church made it in one day. Amazing.” Sarah reaches for her glass of iced tea.\n",
       "\n",
       "Thomas leans forward. “I see a boat coming in. It’s probably Donnie and Dolly.”\n",
       "\n",
       "Sarah looks toward the boat. “I hope so. Dolly doesn’t need to get chilled.” She turns to Carl. “I think she’s going to stay here and marry the doctor.”\n",
       "\n",
       "But C"
      ],
      "text/plain": [
       "<IPython.core.display.Markdown object>"
      ]
     },
     "metadata": {},
     "output_type": "display_data"
    },
    {
     "data": {
      "text/markdown": [
       "---"
      ],
      "text/plain": [
       "<IPython.core.display.Markdown object>"
      ]
     },
     "metadata": {},
     "output_type": "display_data"
    },
    {
     "data": {
      "text/markdown": [
       "### This one and magic life, Anne George, 1999"
      ],
      "text/plain": [
       "<IPython.core.display.Markdown object>"
      ]
     },
     "metadata": {},
     "output_type": "display_data"
    },
    {
     "data": {
      "text/markdown": [
       "\n",
       "\n",
       "“Plenty.” She splashes the water slightly; her toenails are painted bright red.\n",
       "\n",
       "“It sure is taking Artie a long time,” Carl says.\n",
       "\n",
       "Sarah laughs. “She’s pulling herself together.”\n",
       "\n",
       "Ana laughs, too. “That Hektor is crazy. He got half of her blessed and buried.”\n",
       "\n",
       "“I think it was sweet.” Sarah turns to Will. “Don’t you want me to hold Toy a while?”\n",
       "\n",
       "“No. She’s asleep. She’s fine.”\n",
       "\n",
       "“That’s a beautiful christening dress, Will,” Ana says. “I think it’s prettier than the one May had.”\n",
       "\n",
       "“Thank you.”  <span style=\"color: blue\">Will</span> rocks back and forth in his blue canvas chair, holding the baby against his chest.\n",
       "\n",
       "“The ladies of the church made it in one day. Amazing.” Sarah reaches for her glass of iced tea.\n",
       "\n",
       "Thomas leans forward. “I see a boat coming in. It’s probably Donnie and Dolly.”\n",
       "\n",
       "Sarah looks toward the boat. “I hope so. Dolly doesn’t need to get chilled.” She turns to Carl. “I think she’s going to stay here and marry the doctor.”\n",
       "\n",
       "But Carl isn’t paying any attention to his mother-in-law. He’s listening to the mu"
      ],
      "text/plain": [
       "<IPython.core.display.Markdown object>"
      ]
     },
     "metadata": {},
     "output_type": "display_data"
    },
    {
     "data": {
      "text/markdown": [
       "---"
      ],
      "text/plain": [
       "<IPython.core.display.Markdown object>"
      ]
     },
     "metadata": {},
     "output_type": "display_data"
    },
    {
     "data": {
      "text/markdown": [
       "### This one and magic life, Anne George, 1999"
      ],
      "text/plain": [
       "<IPython.core.display.Markdown object>"
      ]
     },
     "metadata": {},
     "output_type": "display_data"
    },
    {
     "data": {
      "text/markdown": [
       "oesn’t need to get chilled.” She turns to Carl. “I think she’s going to stay here and marry the doctor.”\n",
       "\n",
       "But Carl isn’t paying any attention to his mother-in-law. He’s listening to the music from the Grand Hotel. They’re playing “Sweet Caroline.” When Artie gets here, they’ll dance. He hasn’t danced in a long time. Which is all right. It’s pleasant here.\n",
       "\n",
       "“Who knows?” Thomas says.\n",
       "\n",
       "But Sarah insists. “She’ll marry the doctor and have a dozen children. We’ll be great-grandparents, Thomas.”\n",
       "\n",
       "“So  <span style=\"color: blue\">will</span> I,” Will says.\n",
       "\n",
       "“I keep forgetting that.” Sarah smiles and sips her tea. What does it matter?\n",
       "\n",
       "“That’s my favorite dress, Sarah,” Thomas says. It is, of course, the black velvet dress without a back that Hektor remembers so well.\n",
       "\n",
       "“I know.”\n",
       "\n",
       "Carl gets up and walks to the edge of the pier. “I wish Artie would get here.”\n",
       "\n",
       "A man in a white dinner jacket is walking down the beach.\n",
       "\n",
       "“Have patience.” Ana stretches. “Listen to the music.”\n",
       "\n",
       "Sarah looks at Carl’s uniform. “You know,” she says, “it’s ama"
      ],
      "text/plain": [
       "<IPython.core.display.Markdown object>"
      ]
     },
     "metadata": {},
     "output_type": "display_data"
    },
    {
     "data": {
      "text/markdown": [
       "---"
      ],
      "text/plain": [
       "<IPython.core.display.Markdown object>"
      ]
     },
     "metadata": {},
     "output_type": "display_data"
    },
    {
     "data": {
      "text/markdown": [
       "### This one and magic life, Anne George, 1999"
      ],
      "text/plain": [
       "<IPython.core.display.Markdown object>"
      ]
     },
     "metadata": {},
     "output_type": "display_data"
    },
    {
     "data": {
      "text/markdown": [
       "ed to get chilled.” She turns to Carl. “I think she’s going to stay here and marry the doctor.”\n",
       "\n",
       "But Carl isn’t paying any attention to his mother-in-law. He’s listening to the music from the Grand Hotel. They’re playing “Sweet Caroline.” When Artie gets here, they’ll dance. He hasn’t danced in a long time. Which is all right. It’s pleasant here.\n",
       "\n",
       "“Who knows?” Thomas says.\n",
       "\n",
       "But Sarah insists. “She’ll marry the doctor and have a dozen children. We’ll be great-grandparents, Thomas.”\n",
       "\n",
       "“So will I,”  <span style=\"color: blue\">Will</span> says.\n",
       "\n",
       "“I keep forgetting that.” Sarah smiles and sips her tea. What does it matter?\n",
       "\n",
       "“That’s my favorite dress, Sarah,” Thomas says. It is, of course, the black velvet dress without a back that Hektor remembers so well.\n",
       "\n",
       "“I know.”\n",
       "\n",
       "Carl gets up and walks to the edge of the pier. “I wish Artie would get here.”\n",
       "\n",
       "A man in a white dinner jacket is walking down the beach.\n",
       "\n",
       "“Have patience.” Ana stretches. “Listen to the music.”\n",
       "\n",
       "Sarah looks at Carl’s uniform. “You know,” she says, “it’s amazing how "
      ],
      "text/plain": [
       "<IPython.core.display.Markdown object>"
      ]
     },
     "metadata": {},
     "output_type": "display_data"
    },
    {
     "data": {
      "text/markdown": [
       "---"
      ],
      "text/plain": [
       "<IPython.core.display.Markdown object>"
      ]
     },
     "metadata": {},
     "output_type": "display_data"
    },
    {
     "data": {
      "text/markdown": [
       "### This one and magic life, Anne George, 1999"
      ],
      "text/plain": [
       "<IPython.core.display.Markdown object>"
      ]
     },
     "metadata": {},
     "output_type": "display_data"
    },
    {
     "data": {
      "text/markdown": [
       "ld get here.”\n",
       "\n",
       "A man in a white dinner jacket is walking down the beach.\n",
       "\n",
       "“Have patience.” Ana stretches. “Listen to the music.”\n",
       "\n",
       "Sarah looks at Carl’s uniform. “You know,” she says, “it’s amazing how those Korean uniforms still look good. Still stylish.”\n",
       "\n",
       "A teenage boy joins the group and sits beside Thomas. “What’s going on?” he asks him.\n",
       "\n",
       "“We’re waiting for my daughter. What’s going on with you?”\n",
       "\n",
       "“Don’t know. I was just riding my motorcycle.”\n",
       "\n",
       "Thomas nods. “It happens.”\n",
       "\n",
       "“You want to fish?”  <span style=\"color: blue\">Will</span> asks the boy. “I’ve got an extra pole.”\n",
       "\n",
       "“Might as well. It’s nice out here this evening.”\n",
       "\n",
       "“Always is,” Ana says.\n",
       "\n",
       "“There’s tea and almond pie,” Sarah offers. “The tomato sandwiches are gone. We can get some more, though.”\n",
       "\n",
       "The boy shakes his head no.\n",
       "\n",
       "“Hush, little baby, don’t say a word,” Will sings to Toy who has begun to stir.\n",
       "\n",
       "“It’s them,” Thomas says as the boat pulls closer to the pier. “It’s Gravy Boat. Artie will be here soon.”\n",
       "\n",
       "“It’s nice out here,” the boy repeats.\n",
       "\n",
       "“What’s your nam"
      ],
      "text/plain": [
       "<IPython.core.display.Markdown object>"
      ]
     },
     "metadata": {},
     "output_type": "display_data"
    },
    {
     "data": {
      "text/markdown": [
       "---"
      ],
      "text/plain": [
       "<IPython.core.display.Markdown object>"
      ]
     },
     "metadata": {},
     "output_type": "display_data"
    },
    {
     "data": {
      "text/markdown": [
       "### This one and magic life, Anne George, 1999"
      ],
      "text/plain": [
       "<IPython.core.display.Markdown object>"
      ]
     },
     "metadata": {},
     "output_type": "display_data"
    },
    {
     "data": {
      "text/markdown": [
       "side Thomas. “What’s going on?” he asks him.\n",
       "\n",
       "“We’re waiting for my daughter. What’s going on with you?”\n",
       "\n",
       "“Don’t know. I was just riding my motorcycle.”\n",
       "\n",
       "Thomas nods. “It happens.”\n",
       "\n",
       "“You want to fish?” Will asks the boy. “I’ve got an extra pole.”\n",
       "\n",
       "“Might as well. It’s nice out here this evening.”\n",
       "\n",
       "“Always is,” Ana says.\n",
       "\n",
       "“There’s tea and almond pie,” Sarah offers. “The tomato sandwiches are gone. We can get some more, though.”\n",
       "\n",
       "The boy shakes his head no.\n",
       "\n",
       "“Hush, little baby, don’t say a word,”  <span style=\"color: blue\">Will</span> sings to Toy who has begun to stir.\n",
       "\n",
       "“It’s them,” Thomas says as the boat pulls closer to the pier. “It’s Gravy Boat. Artie will be here soon.”\n",
       "\n",
       "“It’s nice out here,” the boy repeats.\n",
       "\n",
       "“What’s your name, son?” Thomas asks.\n",
       "\n",
       "“Joe Murray.”\n",
       "\n",
       "“You Eugene Murray’s grandson?”\n",
       "\n",
       "“Yessir. He’s going to be wondering where I am. My whole family is.”\n",
       "\n",
       "“No, he’s not. Go on and cast. See what you catch.”\n",
       "\n",
       "“Papa’s gonna buy you a mockingbird,” Will sings softly.\n",
       "\n",
       "Donnie brings Gravy Boat into her berth. He an"
      ],
      "text/plain": [
       "<IPython.core.display.Markdown object>"
      ]
     },
     "metadata": {},
     "output_type": "display_data"
    },
    {
     "data": {
      "text/markdown": [
       "---"
      ],
      "text/plain": [
       "<IPython.core.display.Markdown object>"
      ]
     },
     "metadata": {},
     "output_type": "display_data"
    },
    {
     "data": {
      "text/markdown": [
       "### This one and magic life, Anne George, 1999"
      ],
      "text/plain": [
       "<IPython.core.display.Markdown object>"
      ]
     },
     "metadata": {},
     "output_type": "display_data"
    },
    {
     "data": {
      "text/markdown": [
       " riding my motorcycle.”\n",
       "\n",
       "Thomas nods. “It happens.”\n",
       "\n",
       "“You want to fish?” Will asks the boy. “I’ve got an extra pole.”\n",
       "\n",
       "“Might as well. It’s nice out here this evening.”\n",
       "\n",
       "“Always is,” Ana says.\n",
       "\n",
       "“There’s tea and almond pie,” Sarah offers. “The tomato sandwiches are gone. We can get some more, though.”\n",
       "\n",
       "The boy shakes his head no.\n",
       "\n",
       "“Hush, little baby, don’t say a word,” Will sings to Toy who has begun to stir.\n",
       "\n",
       "“It’s them,” Thomas says as the boat pulls closer to the pier. “It’s Gravy Boat. Artie  <span style=\"color: blue\">will</span> be here soon.”\n",
       "\n",
       "“It’s nice out here,” the boy repeats.\n",
       "\n",
       "“What’s your name, son?” Thomas asks.\n",
       "\n",
       "“Joe Murray.”\n",
       "\n",
       "“You Eugene Murray’s grandson?”\n",
       "\n",
       "“Yessir. He’s going to be wondering where I am. My whole family is.”\n",
       "\n",
       "“No, he’s not. Go on and cast. See what you catch.”\n",
       "\n",
       "“Papa’s gonna buy you a mockingbird,” Will sings softly.\n",
       "\n",
       "Donnie brings Gravy Boat into her berth. He and Dolly get out and tie the boat up.\n",
       "\n",
       "“Dolly’s going to be fine,” Sarah says. “Look how much she looks like me.”\n",
       "\n",
       "“May’s going to"
      ],
      "text/plain": [
       "<IPython.core.display.Markdown object>"
      ]
     },
     "metadata": {},
     "output_type": "display_data"
    },
    {
     "data": {
      "text/markdown": [
       "---"
      ],
      "text/plain": [
       "<IPython.core.display.Markdown object>"
      ]
     },
     "metadata": {},
     "output_type": "display_data"
    },
    {
     "data": {
      "text/markdown": [
       "### This one and magic life, Anne George, 1999"
      ],
      "text/plain": [
       "<IPython.core.display.Markdown object>"
      ]
     },
     "metadata": {},
     "output_type": "display_data"
    },
    {
     "data": {
      "text/markdown": [
       "y shakes his head no.\n",
       "\n",
       "“Hush, little baby, don’t say a word,” Will sings to Toy who has begun to stir.\n",
       "\n",
       "“It’s them,” Thomas says as the boat pulls closer to the pier. “It’s Gravy Boat. Artie will be here soon.”\n",
       "\n",
       "“It’s nice out here,” the boy repeats.\n",
       "\n",
       "“What’s your name, son?” Thomas asks.\n",
       "\n",
       "“Joe Murray.”\n",
       "\n",
       "“You Eugene Murray’s grandson?”\n",
       "\n",
       "“Yessir. He’s going to be wondering where I am. My whole family is.”\n",
       "\n",
       "“No, he’s not. Go on and cast. See what you catch.”\n",
       "\n",
       "“Papa’s gonna buy you a mockingbird,”  <span style=\"color: blue\">Will</span> sings softly.\n",
       "\n",
       "Donnie brings Gravy Boat into her berth. He and Dolly get out and tie the boat up.\n",
       "\n",
       "“Dolly’s going to be fine,” Sarah says. “Look how much she looks like me.”\n",
       "\n",
       "“May’s going to be fine, too,” Ana says.\n",
       "\n",
       "The lights come on on the pier. A slight eastern breeze stirs the banners on the boats. The boy pulls in a five-pound catfish.\n",
       "\n",
       "Sarah reaches over and takes Thomas’s hand. “It’s a lovely evening.”\n",
       "\n",
       "“I wonder where Artie is,” Carl says.\n",
       "\n",
       "Thomas smiles at him. “She’s be here in a lit"
      ],
      "text/plain": [
       "<IPython.core.display.Markdown object>"
      ]
     },
     "metadata": {},
     "output_type": "display_data"
    },
    {
     "data": {
      "text/markdown": [
       "---"
      ],
      "text/plain": [
       "<IPython.core.display.Markdown object>"
      ]
     },
     "metadata": {},
     "output_type": "display_data"
    },
    {
     "data": {
      "text/markdown": [
       "### Blue collar blues, Rosalyn McMillan, 1998"
      ],
      "text/plain": [
       "<IPython.core.display.Markdown object>"
      ]
     },
     "metadata": {},
     "output_type": "display_data"
    },
    {
     "data": {
      "text/markdown": [
       "u might expect, I’m no longer a size six. I’m closer to a ten, and I’ve gotten rid of all my permed hair. And you know what, I’m happy and I’m home.\n",
       "\n",
       "You won’t believe this: I’m pregnant! Forty-six years old and pregnant! Can you believe it! I plan to marry my child’s father in June. I hope you can come for a visit when the baby is born in December.\n",
       "\n",
       "Enclosed are my address and telephone number, and a ticket good for one year. Khan, there’s also a ticket for Buddy. I hope by then the two of you  <span style=\"color: blue\">will</span> be married.\n",
       "\n",
       "Wishing you love and happiness.\n",
       "\n",
       "\n",
       "\n",
       "Love always,\n",
       "\n",
       "Thyme.\n",
       "\n",
       "Now tell me you weren’t surprised. You knew that fine-looking black woman had to find her a hot-blooded black man who would bless her with some younguns, didn’t you?\n",
       "\n",
       "* * *\n",
       "\n",
       "As for Khan, well, Mama Pearl indeed saw her granddaughter’s wedding. Buddy and Khan put on a fine show. The newlyweds decided to take a whole month off work. Then, after a nice long vacation, Khan returned to work—this time for her husband. But Khan ain’"
      ],
      "text/plain": [
       "<IPython.core.display.Markdown object>"
      ]
     },
     "metadata": {},
     "output_type": "display_data"
    },
    {
     "data": {
      "text/markdown": [
       "---"
      ],
      "text/plain": [
       "<IPython.core.display.Markdown object>"
      ]
     },
     "metadata": {},
     "output_type": "display_data"
    },
    {
     "data": {
      "text/markdown": [
       "### Blue collar blues, Rosalyn McMillan, 1998"
      ],
      "text/plain": [
       "<IPython.core.display.Markdown object>"
      ]
     },
     "metadata": {},
     "output_type": "display_data"
    },
    {
     "data": {
      "text/markdown": [
       "ugh he didn’t know it. And when he comes home in a couple of years, they might just be able to swing opening a small shop of their own.\n",
       "\n",
       "Hold up. You wondering if Valentino is in the brick bitch switching his booty like some he-she. Naw. Valentino’s learned his lesson after killing Luella. If he’d admitted the problem he was having then, trying to figure out who he was, and accepted himself, he might have never killed her. He has pictures of his sons pasted on every wall in his cell. One day he  <span style=\"color: blue\">will</span> sit down and tell them what it takes in life to be a real man.\n",
       "\n",
       "Guess what! You won’t believe what Graciella did. She took the kids back home to Mexico and moved to Mexico City. In less than a year she had moved a twenty-two-year-old matador in with her and opened up a chain of soul-food restaurants. With their newfound wealth, it didn’t take long for Graciella and the kids to forget about Cy.\n",
       "\n",
       "Oh yeah, don’t let me forget about Sydney. Well, the bitch is still sizzling about Cy and his new bla"
      ],
      "text/plain": [
       "<IPython.core.display.Markdown object>"
      ]
     },
     "metadata": {},
     "output_type": "display_data"
    },
    {
     "data": {
      "text/markdown": [
       "---"
      ],
      "text/plain": [
       "<IPython.core.display.Markdown object>"
      ]
     },
     "metadata": {},
     "output_type": "display_data"
    },
    {
     "data": {
      "text/markdown": [
       "### The plains of passage, Jean M Auel, 1990"
      ],
      "text/plain": [
       "<IPython.core.display.Markdown object>"
      ]
     },
     "metadata": {},
     "output_type": "display_data"
    },
    {
     "data": {
      "text/markdown": [
       " superficial things. Ayla could not overcome her sorrow at Joplaya’s plight—she had come too close to a similar circumstance—and her own happiness was a constant reminder of Joplaya’s pain. As much as she had grown to like everyone, she was glad they would be leaving in the morning.\n",
       "\n",
       "She would particularly miss Jerika and Dalanar, and listening to their heated “discussions.” The woman was tiny; when Dalanar held his arm out, she could walk under it with room to spare, but she had an indomitable  <span style=\"color: blue\">will</span>. She was as much a leader of the Cave as he was and argued vociferously when her opinion differed from his. Dalanar listened to her seriously, but by no means did he always yield. The welfare of his people was his main concern, and he often took the question at issue to them, but he made most decisions himself as matter-of-factly as any natural leader. He never made demands, he simply commanded respect.\n",
       "\n",
       "After the first few times, when she misunderstood, Ayla loved to listen to them argue, hard"
      ],
      "text/plain": [
       "<IPython.core.display.Markdown object>"
      ]
     },
     "metadata": {},
     "output_type": "display_data"
    },
    {
     "data": {
      "text/markdown": [
       "---"
      ],
      "text/plain": [
       "<IPython.core.display.Markdown object>"
      ]
     },
     "metadata": {},
     "output_type": "display_data"
    },
    {
     "data": {
      "text/markdown": [
       "### The plains of passage, Jean M Auel, 1990"
      ],
      "text/plain": [
       "<IPython.core.display.Markdown object>"
      ]
     },
     "metadata": {},
     "output_type": "display_data"
    },
    {
     "data": {
      "text/markdown": [
       " camp here for a while.” He watched Racer strain toward the herd. “He wants to join the others, too. Do you think it would be safe to let him go?”\n",
       "\n",
       "“I don’t think they’ll go anyplace. This is a big field, and if they do go away, we can climb up and see where they’re heading. It might be good for him to be with other horses for a while. Maybe he can learn from them,” Ayla said.\n",
       "\n",
       "“I think you’re right,” he said, slipping off the halter, and watching Racer gallop down the field. “I wonder if Racer  <span style=\"color: blue\">will</span> ever be a herd stallion? And share Pleasures with all of the females.” And, maybe, start young horses growing inside them, he thought.\n",
       "\n",
       "“We might as well find a place to make camp and make ourselves comfortable,” Ayla said. “And think about hunting something to eat. There may be willow grouse in those trees by that stream.”\n",
       "\n",
       "“Too bad there are no hot springs here,” Jondalar said. “It’s amazing how relaxing a hot bath is.”\n",
       "\n",
       "Ayla looked down from a great height at an unending expanse of water. In"
      ],
      "text/plain": [
       "<IPython.core.display.Markdown object>"
      ]
     },
     "metadata": {},
     "output_type": "display_data"
    },
    {
     "data": {
      "text/markdown": [
       "---"
      ],
      "text/plain": [
       "<IPython.core.display.Markdown object>"
      ]
     },
     "metadata": {},
     "output_type": "display_data"
    },
    {
     "data": {
      "text/markdown": [
       "### The plains of passage, Jean M Auel, 1990"
      ],
      "text/plain": [
       "<IPython.core.display.Markdown object>"
      ]
     },
     "metadata": {},
     "output_type": "display_data"
    },
    {
     "data": {
      "text/markdown": [
       "lar and Racer, with Wolf on their heels.\n",
       "\n",
       "“If we hurry, we can be there before dark,” Jondalar said.\n",
       "\n",
       "Ayla and Whinney fell in beside them. She had the strange feeling that she had done this before.\n",
       "\n",
       "They rode at a comfortable pace. “I think we are both going to have babies, now,” Ayla said, “our second ones, and we both had sons before. I think that’s good. We can share this time together.”\n",
       "\n",
       "“You’ll have many people to share your pregnancy with,” Jondalar said.\n",
       "\n",
       "“I’m sure you are right, but it  <span style=\"color: blue\">will</span> be nice to share it with Whinney, too, since we both got pregnant on this Journey.” They rode in silence for a while. “She’s a lot younger than I am, though. I’m old to be having a baby.”\n",
       "\n",
       "“You’re not so old, Ayla. I’m the old man.”\n",
       "\n",
       "“I am nineteen years this spring. That’s old to have a baby.”\n",
       "\n",
       "“I am much older. I am past twenty and three years, by now. That is old for a man to be settling down to his own hearth for the first time. Do you realize I’ve been gone five years? I wonder if anyone w"
      ],
      "text/plain": [
       "<IPython.core.display.Markdown object>"
      ]
     },
     "metadata": {},
     "output_type": "display_data"
    },
    {
     "data": {
      "text/markdown": [
       "---"
      ],
      "text/plain": [
       "<IPython.core.display.Markdown object>"
      ]
     },
     "metadata": {},
     "output_type": "display_data"
    },
    {
     "data": {
      "text/markdown": [
       "### The plains of passage, Jean M Auel, 1990"
      ],
      "text/plain": [
       "<IPython.core.display.Markdown object>"
      ]
     },
     "metadata": {},
     "output_type": "display_data"
    },
    {
     "data": {
      "text/markdown": [
       "l be nice to share it with Whinney, too, since we both got pregnant on this Journey.” They rode in silence for a while. “She’s a lot younger than I am, though. I’m old to be having a baby.”\n",
       "\n",
       "“You’re not so old, Ayla. I’m the old man.”\n",
       "\n",
       "“I am nineteen years this spring. That’s old to have a baby.”\n",
       "\n",
       "“I am much older. I am past twenty and three years, by now. That is old for a man to be settling down to his own hearth for the first time. Do you realize I’ve been gone five years? I wonder if anyone  <span style=\"color: blue\">will</span> even remember me,” Jondalar said.\n",
       "\n",
       "“Of course they will remember you. Dalanar didn’t have any trouble, and neither did Joplaya,” Ayla said. Everyone will know him, she thought, but no one will know me.\n",
       "\n",
       "“Look! See that rock over there? Just beyond the turn in the river? That’s where I made my first kill!” Jondalar said, urging Racer on a little faster. “It was a big deer. I don’t know what I was most afraid of—those big antlers, or missing and going home empty-handed.”\n",
       "\n",
       "Ayla smiled, pleased at "
      ],
      "text/plain": [
       "<IPython.core.display.Markdown object>"
      ]
     },
     "metadata": {},
     "output_type": "display_data"
    },
    {
     "data": {
      "text/markdown": [
       "---"
      ],
      "text/plain": [
       "<IPython.core.display.Markdown object>"
      ]
     },
     "metadata": {},
     "output_type": "display_data"
    },
    {
     "data": {
      "text/markdown": [
       "### The plains of passage, Jean M Auel, 1990"
      ],
      "text/plain": [
       "<IPython.core.display.Markdown object>"
      ]
     },
     "metadata": {},
     "output_type": "display_data"
    },
    {
     "data": {
      "text/markdown": [
       "ot pregnant on this Journey.” They rode in silence for a while. “She’s a lot younger than I am, though. I’m old to be having a baby.”\n",
       "\n",
       "“You’re not so old, Ayla. I’m the old man.”\n",
       "\n",
       "“I am nineteen years this spring. That’s old to have a baby.”\n",
       "\n",
       "“I am much older. I am past twenty and three years, by now. That is old for a man to be settling down to his own hearth for the first time. Do you realize I’ve been gone five years? I wonder if anyone will even remember me,” Jondalar said.\n",
       "\n",
       "“Of course they  <span style=\"color: blue\">will</span> remember you. Dalanar didn’t have any trouble, and neither did Joplaya,” Ayla said. Everyone will know him, she thought, but no one will know me.\n",
       "\n",
       "“Look! See that rock over there? Just beyond the turn in the river? That’s where I made my first kill!” Jondalar said, urging Racer on a little faster. “It was a big deer. I don’t know what I was most afraid of—those big antlers, or missing and going home empty-handed.”\n",
       "\n",
       "Ayla smiled, pleased at his remembrances, but there was nothing for her to remem"
      ],
      "text/plain": [
       "<IPython.core.display.Markdown object>"
      ]
     },
     "metadata": {},
     "output_type": "display_data"
    },
    {
     "data": {
      "text/markdown": [
       "---"
      ],
      "text/plain": [
       "<IPython.core.display.Markdown object>"
      ]
     },
     "metadata": {},
     "output_type": "display_data"
    },
    {
     "data": {
      "text/markdown": [
       "### The plains of passage, Jean M Auel, 1990"
      ],
      "text/plain": [
       "<IPython.core.display.Markdown object>"
      ]
     },
     "metadata": {},
     "output_type": "display_data"
    },
    {
     "data": {
      "text/markdown": [
       "ough. I’m old to be having a baby.”\n",
       "\n",
       "“You’re not so old, Ayla. I’m the old man.”\n",
       "\n",
       "“I am nineteen years this spring. That’s old to have a baby.”\n",
       "\n",
       "“I am much older. I am past twenty and three years, by now. That is old for a man to be settling down to his own hearth for the first time. Do you realize I’ve been gone five years? I wonder if anyone will even remember me,” Jondalar said.\n",
       "\n",
       "“Of course they will remember you. Dalanar didn’t have any trouble, and neither did Joplaya,” Ayla said. Everyone  <span style=\"color: blue\">will</span> know him, she thought, but no one will know me.\n",
       "\n",
       "“Look! See that rock over there? Just beyond the turn in the river? That’s where I made my first kill!” Jondalar said, urging Racer on a little faster. “It was a big deer. I don’t know what I was most afraid of—those big antlers, or missing and going home empty-handed.”\n",
       "\n",
       "Ayla smiled, pleased at his remembrances, but there was nothing for her to remember. She would be a stranger again. They would all stare at her, and they would ask about her stra"
      ],
      "text/plain": [
       "<IPython.core.display.Markdown object>"
      ]
     },
     "metadata": {},
     "output_type": "display_data"
    },
    {
     "data": {
      "text/markdown": [
       "---"
      ],
      "text/plain": [
       "<IPython.core.display.Markdown object>"
      ]
     },
     "metadata": {},
     "output_type": "display_data"
    },
    {
     "data": {
      "text/markdown": [
       "### The plains of passage, Jean M Auel, 1990"
      ],
      "text/plain": [
       "<IPython.core.display.Markdown object>"
      ]
     },
     "metadata": {},
     "output_type": "display_data"
    },
    {
     "data": {
      "text/markdown": [
       "ou’re not so old, Ayla. I’m the old man.”\n",
       "\n",
       "“I am nineteen years this spring. That’s old to have a baby.”\n",
       "\n",
       "“I am much older. I am past twenty and three years, by now. That is old for a man to be settling down to his own hearth for the first time. Do you realize I’ve been gone five years? I wonder if anyone will even remember me,” Jondalar said.\n",
       "\n",
       "“Of course they will remember you. Dalanar didn’t have any trouble, and neither did Joplaya,” Ayla said. Everyone will know him, she thought, but no one  <span style=\"color: blue\">will</span> know me.\n",
       "\n",
       "“Look! See that rock over there? Just beyond the turn in the river? That’s where I made my first kill!” Jondalar said, urging Racer on a little faster. “It was a big deer. I don’t know what I was most afraid of—those big antlers, or missing and going home empty-handed.”\n",
       "\n",
       "Ayla smiled, pleased at his remembrances, but there was nothing for her to remember. She would be a stranger again. They would all stare at her, and they would ask about her strange accent and where she came from.\n",
       "\n",
       "“W"
      ],
      "text/plain": [
       "<IPython.core.display.Markdown object>"
      ]
     },
     "metadata": {},
     "output_type": "display_data"
    },
    {
     "data": {
      "text/markdown": [
       "---"
      ],
      "text/plain": [
       "<IPython.core.display.Markdown object>"
      ]
     },
     "metadata": {},
     "output_type": "display_data"
    },
    {
     "data": {
      "text/markdown": [
       "### The plains of passage, Jean M Auel, 1990"
      ],
      "text/plain": [
       "<IPython.core.display.Markdown object>"
      ]
     },
     "metadata": {},
     "output_type": "display_data"
    },
    {
     "data": {
      "text/markdown": [
       "o young woman would invite me to her First Rites. I guess I didn’t have to worry. I was invited to three, and that scared me even more!”\n",
       "\n",
       "“There are some people over there, watching us, Jondalar,” Ayla said.\n",
       "\n",
       "“That’s the Fourteenth Cave!” he said, and waved. No one waved back. Instead they disappeared under a deep overhang.\n",
       "\n",
       "“It must be the horses,” Ayla said.\n",
       "\n",
       "He frowned, then shook his head. “They’ll get used to them.”\n",
       "\n",
       "I hope so, Ayla thought, and me, too. The only thing familiar around here  <span style=\"color: blue\">will</span> be Jondalar.\n",
       "\n",
       "“Ayla! There it is!” Jondalar said. “The Ninth Cave of the Zelandonii.”\n",
       "\n",
       "She looked in the direction he was pointing, and she felt herself blanch.\n",
       "\n",
       "“It’s always easy to find because of that outcrop on top. See, where it looks like a stone is ready to fall? It won’t though, unless the whole thing does.” Jondalar turned to look at her. “Ayla, are you ill? You’re so pale.”\n",
       "\n",
       "She stopped. “I’ve seen that place before, Jondalar!”\n",
       "\n",
       "“How could you? You’ve never been here before.”\n",
       "\n",
       "Suddenl"
      ],
      "text/plain": [
       "<IPython.core.display.Markdown object>"
      ]
     },
     "metadata": {},
     "output_type": "display_data"
    },
    {
     "data": {
      "text/markdown": [
       "---"
      ],
      "text/plain": [
       "<IPython.core.display.Markdown object>"
      ]
     },
     "metadata": {},
     "output_type": "display_data"
    },
    {
     "data": {
      "text/markdown": [
       "### The plains of passage, Jean M Auel, 1990"
      ],
      "text/plain": [
       "<IPython.core.display.Markdown object>"
      ]
     },
     "metadata": {},
     "output_type": "display_data"
    },
    {
     "data": {
      "text/markdown": [
       "hole thing does.” Jondalar turned to look at her. “Ayla, are you ill? You’re so pale.”\n",
       "\n",
       "She stopped. “I’ve seen that place before, Jondalar!”\n",
       "\n",
       "“How could you? You’ve never been here before.”\n",
       "\n",
       "Suddenly it all came together. It was the cave in my dreams! The one that came from Creb’s memories, she thought. Now I know what he was trying to tell me in my dreams.\n",
       "\n",
       "“I told you my totem meant you for me and sent you to come and get me. He wanted you to take me home, the place where my Cave Lion spirit  <span style=\"color: blue\">will</span> be happy. This is it. I have come home, too, Jondalar. Your home is my home,” Ayla said.\n",
       "\n",
       "He smiled; but before he could answer, they heard a voice shouting his name. “Jondalar! Jondalar!”\n",
       "\n",
       "They looked up along a path to a cliff overhang, and saw a young woman.\n",
       "\n",
       "“Mother! Come quick,” she said. “Jondalar is back. Jondalar is home!”\n",
       "\n",
       "And so am I, Ayla thought."
      ],
      "text/plain": [
       "<IPython.core.display.Markdown object>"
      ]
     },
     "metadata": {},
     "output_type": "display_data"
    },
    {
     "data": {
      "text/markdown": [
       "---"
      ],
      "text/plain": [
       "<IPython.core.display.Markdown object>"
      ]
     },
     "metadata": {},
     "output_type": "display_data"
    },
    {
     "data": {
      "text/markdown": [
       "### Servant of the dragon, David Drake, 1999"
      ],
      "text/plain": [
       "<IPython.core.display.Markdown object>"
      ]
     },
     "metadata": {},
     "output_type": "display_data"
    },
    {
     "data": {
      "text/markdown": [
       "ns. A danger to all other planes.”\n",
       "\n",
       "“Yes, yes, it would be,” Ansalem said, contrite again. “I’m so sorry, I never meant …”\n",
       "\n",
       "His eyes suddenly focused on Dalar. “Why, my goodness,” he said, losing the thread of his previous thought. “You’re of the Rokonar, are you not? I didn’t realize any of your folk had survived the catastrophe of the Third Age.”\n",
       "\n",
       "Garric saw Sharina wince. The bird merely nodded and said, “I am a warrior of the Rokonar, yes. I am far from my land and people, and I fear that I  <span style=\"color: blue\">will</span> never see my home again.”\n",
       "\n",
       "“Oh, sending you home isn’t any trouble,” Ansalem said. His surprise verged on irritation at the thought that he couldn’t accomplish a task that seemed simple to him. “Is that what you want? I’ll do that before I dissolve the nexuses.”\n",
       "\n",
       "The sudden sharp focus returned to the wizard’s face. He looked at Tenoctris. “That is … will it be all right if I do that? I’ve made such terrible mistakes, I know.”\n",
       "\n",
       "Tenoctris glanced at Sharina. Sharina hugged Dalar and stepped away"
      ],
      "text/plain": [
       "<IPython.core.display.Markdown object>"
      ]
     },
     "metadata": {},
     "output_type": "display_data"
    },
    {
     "data": {
      "text/markdown": [
       "---"
      ],
      "text/plain": [
       "<IPython.core.display.Markdown object>"
      ]
     },
     "metadata": {},
     "output_type": "display_data"
    },
    {
     "data": {
      "text/markdown": [
       "### Servant of the dragon, David Drake, 1999"
      ],
      "text/plain": [
       "<IPython.core.display.Markdown object>"
      ]
     },
     "metadata": {},
     "output_type": "display_data"
    },
    {
     "data": {
      "text/markdown": [
       " saw Sharina wince. The bird merely nodded and said, “I am a warrior of the Rokonar, yes. I am far from my land and people, and I fear that I will never see my home again.”\n",
       "\n",
       "“Oh, sending you home isn’t any trouble,” Ansalem said. His surprise verged on irritation at the thought that he couldn’t accomplish a task that seemed simple to him. “Is that what you want? I’ll do that before I dissolve the nexuses.”\n",
       "\n",
       "The sudden sharp focus returned to the wizard’s face. He looked at Tenoctris. “That is …  <span style=\"color: blue\">will</span> it be all right if I do that? I’ve made such terrible mistakes, I know.”\n",
       "\n",
       "Tenoctris glanced at Sharina. Sharina hugged Dalar and stepped away.\n",
       "\n",
       "“The Dragon told me that my friends and I would gain by my service to him,” she said. “I would gain greatly if you helped Dalar, who kept me alive on a long journey.”\n",
       "\n",
       "“I could have had no better master than you, Sharina,” the bird said, bowing low and rising. “But yes, I would like to return home.”\n",
       "\n",
       "“We’d all be indebted to you for that, Lord Ansalem,”"
      ],
      "text/plain": [
       "<IPython.core.display.Markdown object>"
      ]
     },
     "metadata": {},
     "output_type": "display_data"
    },
    {
     "data": {
      "text/markdown": [
       "---"
      ],
      "text/plain": [
       "<IPython.core.display.Markdown object>"
      ]
     },
     "metadata": {},
     "output_type": "display_data"
    },
    {
     "data": {
      "text/markdown": [
       "### Servant of the dragon, David Drake, 1999"
      ],
      "text/plain": [
       "<IPython.core.display.Markdown object>"
      ]
     },
     "metadata": {},
     "output_type": "display_data"
    },
    {
     "data": {
      "text/markdown": [
       "ook of his right arm. Attaper had started to detail a pair of soldiers to build the wizard a litter from spearshafts and a cloak, but Cashel wouldn’t hear of it. “Isn’t that right, Tenoctris?”\n",
       "\n",
       "“Yes, I think we did,” she said, looking wan from her ordeal but satisfied nonetheless. Garric had to watch Tenoctris’ lips to pick out the words over the cheering, though her smile would have been information enough. “We accomplished what we set out to do; or at any rate when Ansalem carries through, we  <span style=\"color: blue\">will</span> have.”\n",
       "\n",
       "Garric’s hobnails clashed on the stone apron of the Old Kingdom bridge; the bridge of wood and masonry, not wizard-light. He drew his sword and waved it overhead. “The Isles!” he shouted. “To the kingdom and all her citizens!”\n",
       "\n",
       "The cheers were as joyous as birdsong to ears returned from Klestis. Garric hugged Liane. If he didn’t already have a bare blade in his hand, he’d have thrown her in the air like the climactic turn of the Harvest Dance.\n",
       "\n",
       "Lord Waldron was at the head of the apron,"
      ],
      "text/plain": [
       "<IPython.core.display.Markdown object>"
      ]
     },
     "metadata": {},
     "output_type": "display_data"
    },
    {
     "data": {
      "text/markdown": [
       "---"
      ],
      "text/plain": [
       "<IPython.core.display.Markdown object>"
      ]
     },
     "metadata": {},
     "output_type": "display_data"
    },
    {
     "data": {
      "text/markdown": [
       "### Servant of the dragon, David Drake, 1999"
      ],
      "text/plain": [
       "<IPython.core.display.Markdown object>"
      ]
     },
     "metadata": {},
     "output_type": "display_data"
    },
    {
     "data": {
      "text/markdown": [
       " a direction that had nothing to do with ordinary distance.\n",
       "\n",
       "The River Beltis, dark with silt and swollen from rainfall in the highlands, rolled toward the Inner Sea. The current roughened over the remains of the pier which once supported the Old Kingdom bridge.\n",
       "\n",
       "Other than the ripples, the water and the air above it were empty. Garric slammed his sword home in its sheath.\n",
       "\n",
       "“I suspect what’s left of Klestis stands on the coast of Cordin again,” Tenoctris said. “But I wonder what Ansalem himself  <span style=\"color: blue\">will</span> do… .”\n",
       "\n",
       "After a dignified hesitation, Waldron and the other members of the council strode toward Garric. Lord Tadai remained where he’d been waiting, in discussion with Ilna. Garric was briefly surprised to see Chalcus several steps away, entertaining Merota by making a gold piece vanish and reappear from first the girl’s ear, then her nose.\n",
       "\n",
       "“Your friend doesn’t need help to make her point,” Carus noted with a grin. “And when she’s in the mood she is now, a wise man keeps his distance.”\n",
       "\n",
       "Cashe"
      ],
      "text/plain": [
       "<IPython.core.display.Markdown object>"
      ]
     },
     "metadata": {},
     "output_type": "display_data"
    },
    {
     "data": {
      "text/markdown": [
       "---"
      ],
      "text/plain": [
       "<IPython.core.display.Markdown object>"
      ]
     },
     "metadata": {},
     "output_type": "display_data"
    }
   ],
   "source": [
    "from lint.snippets import query_snippets\n",
    "\n",
    "query_snippets('will', 1980, 2000, 0.99, 1, 100)"
   ]
  },
  {
   "cell_type": "code",
   "execution_count": null,
   "metadata": {
    "collapsed": true
   },
   "outputs": [],
   "source": []
  }
 ],
 "metadata": {
  "kernelspec": {
   "display_name": "Python 3",
   "language": "python",
   "name": "python3"
  },
  "language_info": {
   "codemirror_mode": {
    "name": "ipython",
    "version": 3
   },
   "file_extension": ".py",
   "mimetype": "text/x-python",
   "name": "python",
   "nbconvert_exporter": "python",
   "pygments_lexer": "ipython3",
   "version": "3.5.1"
  }
 },
 "nbformat": 4,
 "nbformat_minor": 0
}
