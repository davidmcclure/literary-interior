{
 "cells": [
  {
   "cell_type": "code",
   "execution_count": 1,
   "metadata": {
    "collapsed": false,
    "scrolled": false
   },
   "outputs": [
    {
     "data": {
      "text/markdown": [
       "### Painted lives, Charlotte Vale Allen, 1990"
      ],
      "text/plain": [
       "<IPython.core.display.Markdown object>"
      ]
     },
     "metadata": {},
     "output_type": "display_data"
    },
    {
     "data": {
      "text/markdown": [
       "hake her finger at Holly and Carl. “Don’t think you’re getting away with this!” she said, then laughed and spoiled the effect. “Just because I look amused doesn’t mean I approve of your sneaking around, Holly Kidd!”\n",
       "\n",
       "“No, ma’am,” Holly replied. “Ten lashes after dinner. Right?”\n",
       "\n",
       "“Go away, the two of you! Can’t you see I’ve got a guest?” Turning back, she linked her arm with Hughie’s, saying, “Would you like to see the house, my dear?”\n",
       "\n",
       "“I believe I would.”\n",
       "\n",
       "They started up the stairs together. “ <span style=\"color: blue\">Will</span> you be staying?” she asked.\n",
       "\n",
       "\n",
       "\n",
       "“I thought I might, if that sits well with you.”\n",
       "\n",
       "“You silly old bugger,” she said again, “letting yourself be horn-swoggled by a pretty face.”\n",
       "\n",
       "“I was fixing to come for you anyway,” he said. “She got me moving, that’s all.”\n",
       "\n",
       "She opened the screen door and stood aside for him to enter. Then while he looked around, she went to the kitchen door to say, “Bonnie, there’ll be three for dinner.” Returning to Hughie, she said, “Come upstairs. I want to show you what I’m"
      ],
      "text/plain": [
       "<IPython.core.display.Markdown object>"
      ]
     },
     "metadata": {},
     "output_type": "display_data"
    },
    {
     "data": {
      "text/markdown": [
       "---"
      ],
      "text/plain": [
       "<IPython.core.display.Markdown object>"
      ]
     },
     "metadata": {},
     "output_type": "display_data"
    },
    {
     "data": {
      "text/markdown": [
       "### Painted lives, Charlotte Vale Allen, 1990"
      ],
      "text/plain": [
       "<IPython.core.display.Markdown object>"
      ]
     },
     "metadata": {},
     "output_type": "display_data"
    },
    {
     "data": {
      "text/markdown": [
       "nd, she went to the kitchen door to say, “Bonnie, there’ll be three for dinner.” Returning to Hughie, she said, “Come upstairs. I want to show you what I’m working on.”\n",
       "\n",
       "“This is some impressive place,” he said. “Back to work, huh?”\n",
       "\n",
       "“Well, it’s about time. Wouldn’t you say?”\n",
       "\n",
       "“I surely would. You know, Mattie, I’ve been thinking, and that Miss Holly’s right. It’s time you let folks know the truth about Gideon Sylvester.”\n",
       "\n",
       "She paused on the landing to look at him. “I swear to God,” she said. “I  <span style=\"color: blue\">will</span> murder that young woman.”\n",
       "\n",
       "\n",
       "\n",
       "He chucked her under the chin and gave her a kiss. “Now, now,” he said soothingly, “don’t go getting your drawers in a twist. It’s an idea whose time has come and you know it.”\n",
       "\n",
       "“I refuse to have the press crawling all over me.”\n",
       "\n",
       "He kissed her again and said, “Only one around here’s going to be crawling all over you is me.”\n",
       "\n",
       "“Dirty old man!” She laughed.\n",
       "\n",
       "“Show me what you’re working on,” he said. “Which way?”\n",
       "\n",
       "He took several steps down the hall, looking into open "
      ],
      "text/plain": [
       "<IPython.core.display.Markdown object>"
      ]
     },
     "metadata": {},
     "output_type": "display_data"
    },
    {
     "data": {
      "text/markdown": [
       "---"
      ],
      "text/plain": [
       "<IPython.core.display.Markdown object>"
      ]
     },
     "metadata": {},
     "output_type": "display_data"
    },
    {
     "data": {
      "text/markdown": [
       "### Painted lives, Charlotte Vale Allen, 1990"
      ],
      "text/plain": [
       "<IPython.core.display.Markdown object>"
      ]
     },
     "metadata": {},
     "output_type": "display_data"
    },
    {
     "data": {
      "text/markdown": [
       "dreaming, Mattie, I’m in an awful lot of trouble.” He smiled. “’Cause I just dreamed I came over to this island on a ferry. And I’ve been dreaming about doing that for half a century.”\n",
       "\n",
       "Taking his hand, she said, “Let me show you the new piece. I’m very pleased with it. It had been so long, you know, I was afraid I’d have nothing left. But everything’s still there.”\n",
       "\n",
       "\n",
       "\n",
       "Over in the garage apartment Holly and Carl were sitting in the old wicker chairs.\n",
       "\n",
       "“She’ll do it,” she was saying. “I know she  <span style=\"color: blue\">will</span>. Especially when Giddy and Matthew show up and tell her they think she should.”\n",
       "\n",
       "“You are one astonishing broad. You know that?”\n",
       "\n",
       "“Please don’t refer to me as a broad.”\n",
       "\n",
       "\n",
       "\n",
       "\n",
       "\n",
       "“Woman. Okay?”\n",
       "\n",
       "\n",
       "\n",
       "“Yes, thank you.”\n",
       "\n",
       "\n",
       "\n",
       "“One of these times,” he said, his leg over the chair arm swinging rhythmically back and forth, “I might hit on Mattie for some paper and stuff, and take a shot at some sketches.”\n",
       "\n",
       "“One of these times,” she said, “you and I are going to sleep together in that bed for an entire night.”\n"
      ],
      "text/plain": [
       "<IPython.core.display.Markdown object>"
      ]
     },
     "metadata": {},
     "output_type": "display_data"
    },
    {
     "data": {
      "text/markdown": [
       "---"
      ],
      "text/plain": [
       "<IPython.core.display.Markdown object>"
      ]
     },
     "metadata": {},
     "output_type": "display_data"
    },
    {
     "data": {
      "text/markdown": [
       "### The Hatterask incident, John D. Randall, 1987"
      ],
      "text/plain": [
       "<IPython.core.display.Markdown object>"
      ]
     },
     "metadata": {},
     "output_type": "display_data"
    },
    {
     "data": {
      "text/markdown": [
       "hough nearly 100% of the homes received wind and water damage on Roanoke Island, only four people died there, all in Wanchese. The pier that supported Chuck’s Crab House collapsed, sending the eatery down into what was left of the flooded Mackey Seafood Company.\n",
       "\n",
       "\n",
       "\n",
       "So, the financial cost of hurricane Crystal ran into the billions; and that was just on the Outer Banks. That estimate doesn’t include the loss of the land on which beachfront homes were built. The litigation over property boundaries  <span style=\"color: blue\">will</span> go on for years to come.\n",
       "\n",
       "\n",
       "\n",
       "But, who cares for numbers? All the news stories failed to complete their coverage of Mackey and the Hatterask after the story of the hurricane captured the headlines. True, nature resolved the incident—there is now no Oregon Inlet, no jetty proposal, no dredging, only a long expanse of clean beach. But we shouldn’t forget what happened to the Hatterask. Good people died trying to do the right thing. Whose fault was it? That’s the question that keeps nagging me.\n",
       "\n",
       "\n",
       "\n",
       "A"
      ],
      "text/plain": [
       "<IPython.core.display.Markdown object>"
      ]
     },
     "metadata": {},
     "output_type": "display_data"
    },
    {
     "data": {
      "text/markdown": [
       "---"
      ],
      "text/plain": [
       "<IPython.core.display.Markdown object>"
      ]
     },
     "metadata": {},
     "output_type": "display_data"
    },
    {
     "data": {
      "text/markdown": [
       "### Notches, Peter Bowen, 1997"
      ],
      "text/plain": [
       "<IPython.core.display.Markdown object>"
      ]
     },
     "metadata": {},
     "output_type": "display_data"
    },
    {
     "data": {
      "text/markdown": [
       "enty hot in here.”\n",
       "\n",
       "They struggled to the door and went out into the cool night. There was no cloud or moon and the stars burned in the velvet black sky.\n",
       "\n",
       "“Wheh!” said Madelaine. “This is some better!”\n",
       "\n",
       "Du Pré felt the silk cold on his back where the little wind from the west was touching lightly. His neck itched. He took off the silk bandanna wound around it.\n",
       "\n",
       "Ahh, he thought, I don’t put it back on neither.\n",
       "\n",
       "“I don’t see Bart,” said Du Pré.\n",
       "\n",
       "“He come later,” said Madelaine, “I talk to him, he  <span style=\"color: blue\">will</span> be along, probably a few minutes.”\n",
       "\n",
       "Du Pré nodded. Bart was so shy, really, that Du Pré couldn’t remember him in any crowd.\n",
       "\n",
       "Booger Tom was pissing in the shadow of a cottonwood in the little park across the road.\n",
       "\n",
       "Du Pré looked down the street. One of Bart’s Rovers was coming on, the big SUV pulled up and the rear window rolled down.\n",
       "\n",
       "“Evenin’,” said Rolly Challis. Bart got out and he went to the back of the rig and he opened it and he took down a wheelchair and he unfolded it and snapped the "
      ],
      "text/plain": [
       "<IPython.core.display.Markdown object>"
      ]
     },
     "metadata": {},
     "output_type": "display_data"
    },
    {
     "data": {
      "text/markdown": [
       "---"
      ],
      "text/plain": [
       "<IPython.core.display.Markdown object>"
      ]
     },
     "metadata": {},
     "output_type": "display_data"
    },
    {
     "data": {
      "text/markdown": [
       "### Switch, William Bayer, 1984"
      ],
      "text/plain": [
       "<IPython.core.display.Markdown object>"
      ]
     },
     "metadata": {},
     "output_type": "display_data"
    },
    {
     "data": {
      "text/markdown": [
       "out of the car, came over, stood beside Caroline. Sweeney looked helpless writhing in his bonds. \"Don't care about the garage and neither does she. What we care about is Hart. Hart ordered Tommy Wallace killed. Wanted him out because he thought he was being blackmailed. Supposed to look like a gangland execution but wasn't done all that well. And now there's a Hoboken detective who can show that Wallace's body was stashed in a stolen car stripped in your back shop. You think your goon mechanics  <span style=\"color: blue\">will</span> keep quiet, but they won't—not when they find out we're talking homicide. You got one chance, Sweeney. Come over to Hoboken with us now, give evidence against Hart and I'll see you get a deal on Wallace. About the same as you'd get for chopping cars, four to five, something like that. But meantime the garage carries on, it's yours, still making money, making plenty for you when you get out. You'll do hard time, sure, but not like Hart. He's Chief. He'll really get it. You'll be lost in the shuf"
      ],
      "text/plain": [
       "<IPython.core.display.Markdown object>"
      ]
     },
     "metadata": {},
     "output_type": "display_data"
    },
    {
     "data": {
      "text/markdown": [
       "---"
      ],
      "text/plain": [
       "<IPython.core.display.Markdown object>"
      ]
     },
     "metadata": {},
     "output_type": "display_data"
    },
    {
     "data": {
      "text/markdown": [
       "### Principia Martindale, Edward Swift, 1983"
      ],
      "text/plain": [
       "<IPython.core.display.Markdown object>"
      ]
     },
     "metadata": {},
     "output_type": "display_data"
    },
    {
     "data": {
      "text/markdown": [
       " it was already too late. His body was thrown thirty feet straight ahead, but Ravenhill didn’t swerve to miss him. “One more time for good measure,” he said to Winkie. “Just pretend this is nothing but another bump in the road.” When Winkie felt the bus lurch to one side, she leaped to her feet, began singing, clapping her hands and dancing up and down the aisle. Once on the open highway, Ravenhill started tapping on the steering wheel and singing right along with his wife:\n",
       "\n",
       "“Oh, the Holy Ghost  <span style=\"color: blue\">will</span> set your feet a-dancing,\n",
       "\n",
       "The Holy Ghost will thrill you through and through,\n",
       "\n",
       "The Holy Ghost will set your feet a-dancing, and\n",
       "\n",
       "Tell you what you ought to do …”\n",
       "\n",
       "Larry Wayne’s body was not found until the next morning. He was lying on his back. The coat of his white suit was ripped open. A night wind had blown sand over his legs and arms, but his face was uncovered, his eyes open. His murder was never solved, and no one showed much interest in solving it. Ravenhill said he knew it would be tha"
      ],
      "text/plain": [
       "<IPython.core.display.Markdown object>"
      ]
     },
     "metadata": {},
     "output_type": "display_data"
    },
    {
     "data": {
      "text/markdown": [
       "---"
      ],
      "text/plain": [
       "<IPython.core.display.Markdown object>"
      ]
     },
     "metadata": {},
     "output_type": "display_data"
    },
    {
     "data": {
      "text/markdown": [
       "### Principia Martindale, Edward Swift, 1983"
      ],
      "text/plain": [
       "<IPython.core.display.Markdown object>"
      ]
     },
     "metadata": {},
     "output_type": "display_data"
    },
    {
     "data": {
      "text/markdown": [
       "thirty feet straight ahead, but Ravenhill didn’t swerve to miss him. “One more time for good measure,” he said to Winkie. “Just pretend this is nothing but another bump in the road.” When Winkie felt the bus lurch to one side, she leaped to her feet, began singing, clapping her hands and dancing up and down the aisle. Once on the open highway, Ravenhill started tapping on the steering wheel and singing right along with his wife:\n",
       "\n",
       "“Oh, the Holy Ghost will set your feet a-dancing,\n",
       "\n",
       "The Holy Ghost  <span style=\"color: blue\">will</span> thrill you through and through,\n",
       "\n",
       "The Holy Ghost will set your feet a-dancing, and\n",
       "\n",
       "Tell you what you ought to do …”\n",
       "\n",
       "Larry Wayne’s body was not found until the next morning. He was lying on his back. The coat of his white suit was ripped open. A night wind had blown sand over his legs and arms, but his face was uncovered, his eyes open. His murder was never solved, and no one showed much interest in solving it. Ravenhill said he knew it would be that way because it was God’s will unfolding. He "
      ],
      "text/plain": [
       "<IPython.core.display.Markdown object>"
      ]
     },
     "metadata": {},
     "output_type": "display_data"
    },
    {
     "data": {
      "text/markdown": [
       "---"
      ],
      "text/plain": [
       "<IPython.core.display.Markdown object>"
      ]
     },
     "metadata": {},
     "output_type": "display_data"
    },
    {
     "data": {
      "text/markdown": [
       "### Principia Martindale, Edward Swift, 1983"
      ],
      "text/plain": [
       "<IPython.core.display.Markdown object>"
      ]
     },
     "metadata": {},
     "output_type": "display_data"
    },
    {
     "data": {
      "text/markdown": [
       "ve to miss him. “One more time for good measure,” he said to Winkie. “Just pretend this is nothing but another bump in the road.” When Winkie felt the bus lurch to one side, she leaped to her feet, began singing, clapping her hands and dancing up and down the aisle. Once on the open highway, Ravenhill started tapping on the steering wheel and singing right along with his wife:\n",
       "\n",
       "“Oh, the Holy Ghost will set your feet a-dancing,\n",
       "\n",
       "The Holy Ghost will thrill you through and through,\n",
       "\n",
       "The Holy Ghost  <span style=\"color: blue\">will</span> set your feet a-dancing, and\n",
       "\n",
       "Tell you what you ought to do …”\n",
       "\n",
       "Larry Wayne’s body was not found until the next morning. He was lying on his back. The coat of his white suit was ripped open. A night wind had blown sand over his legs and arms, but his face was uncovered, his eyes open. His murder was never solved, and no one showed much interest in solving it. Ravenhill said he knew it would be that way because it was God’s will unfolding. He and Winkie continued their work with the First Church"
      ],
      "text/plain": [
       "<IPython.core.display.Markdown object>"
      ]
     },
     "metadata": {},
     "output_type": "display_data"
    },
    {
     "data": {
      "text/markdown": [
       "---"
      ],
      "text/plain": [
       "<IPython.core.display.Markdown object>"
      ]
     },
     "metadata": {},
     "output_type": "display_data"
    },
    {
     "data": {
      "text/markdown": [
       "### Principia Martindale, Edward Swift, 1983"
      ],
      "text/plain": [
       "<IPython.core.display.Markdown object>"
      ]
     },
     "metadata": {},
     "output_type": "display_data"
    },
    {
     "data": {
      "text/markdown": [
       "The Holy Ghost will thrill you through and through,\n",
       "\n",
       "The Holy Ghost will set your feet a-dancing, and\n",
       "\n",
       "Tell you what you ought to do …”\n",
       "\n",
       "Larry Wayne’s body was not found until the next morning. He was lying on his back. The coat of his white suit was ripped open. A night wind had blown sand over his legs and arms, but his face was uncovered, his eyes open. His murder was never solved, and no one showed much interest in solving it. Ravenhill said he knew it would be that way because it was God’s  <span style=\"color: blue\">will</span> unfolding. He and Winkie continued their work with the First Church of Yesterday, Today and Tomorrow in downtown San Antonio. They took turns busing their congregation to the services and took turns preaching as well. Over their makeshift altar was a picture of Principia Martindale with her arms outstretched and her eyes closed. When Winkie preached she never failed to mention Principia’s name, and Ravenhill often told the congregation as well as his passengers that Principia would be alive tod"
      ],
      "text/plain": [
       "<IPython.core.display.Markdown object>"
      ]
     },
     "metadata": {},
     "output_type": "display_data"
    },
    {
     "data": {
      "text/markdown": [
       "---"
      ],
      "text/plain": [
       "<IPython.core.display.Markdown object>"
      ]
     },
     "metadata": {},
     "output_type": "display_data"
    },
    {
     "data": {
      "text/markdown": [
       "### Principia Martindale, Edward Swift, 1983"
      ],
      "text/plain": [
       "<IPython.core.display.Markdown object>"
      ]
     },
     "metadata": {},
     "output_type": "display_data"
    },
    {
     "data": {
      "text/markdown": [
       "well. Over their makeshift altar was a picture of Principia Martindale with her arms outstretched and her eyes closed. When Winkie preached she never failed to mention Principia’s name, and Ravenhill often told the congregation as well as his passengers that Principia would be alive today if Corinda Cassy had not allowed herself to fall into the hands of the Devil.\n",
       "\n",
       "“Once again the town of Judson is up for grabs,” wrote a columnist for the Fort Worth Star-Telegram. “Who knows who the next owner  <span style=\"color: blue\">will</span> be, or even if there will be another owner …”\n",
       "\n",
       "Applebee read the article and threw the paper into the big pool down at the Water Gardens. “Judson belongs to old man Judson and it always will,” he shouted. “Nobody, dead or alive, will ever be able to take it away from him either.” He stood up and threw his vest and rubber sandals into the water and was about to jump in himself when Johnnie Chapman stopped him. “No use getting so riled up,” she said. “Not a bit of use in it. That water’ll cool yo"
      ],
      "text/plain": [
       "<IPython.core.display.Markdown object>"
      ]
     },
     "metadata": {},
     "output_type": "display_data"
    },
    {
     "data": {
      "text/markdown": [
       "---"
      ],
      "text/plain": [
       "<IPython.core.display.Markdown object>"
      ]
     },
     "metadata": {},
     "output_type": "display_data"
    },
    {
     "data": {
      "text/markdown": [
       "### Principia Martindale, Edward Swift, 1983"
      ],
      "text/plain": [
       "<IPython.core.display.Markdown object>"
      ]
     },
     "metadata": {},
     "output_type": "display_data"
    },
    {
     "data": {
      "text/markdown": [
       " altar was a picture of Principia Martindale with her arms outstretched and her eyes closed. When Winkie preached she never failed to mention Principia’s name, and Ravenhill often told the congregation as well as his passengers that Principia would be alive today if Corinda Cassy had not allowed herself to fall into the hands of the Devil.\n",
       "\n",
       "“Once again the town of Judson is up for grabs,” wrote a columnist for the Fort Worth Star-Telegram. “Who knows who the next owner will be, or even if there  <span style=\"color: blue\">will</span> be another owner …”\n",
       "\n",
       "Applebee read the article and threw the paper into the big pool down at the Water Gardens. “Judson belongs to old man Judson and it always will,” he shouted. “Nobody, dead or alive, will ever be able to take it away from him either.” He stood up and threw his vest and rubber sandals into the water and was about to jump in himself when Johnnie Chapman stopped him. “No use getting so riled up,” she said. “Not a bit of use in it. That water’ll cool you off for a little while b"
      ],
      "text/plain": [
       "<IPython.core.display.Markdown object>"
      ]
     },
     "metadata": {},
     "output_type": "display_data"
    },
    {
     "data": {
      "text/markdown": [
       "---"
      ],
      "text/plain": [
       "<IPython.core.display.Markdown object>"
      ]
     },
     "metadata": {},
     "output_type": "display_data"
    },
    {
     "data": {
      "text/markdown": [
       "### Principia Martindale, Edward Swift, 1983"
      ],
      "text/plain": [
       "<IPython.core.display.Markdown object>"
      ]
     },
     "metadata": {},
     "output_type": "display_data"
    },
    {
     "data": {
      "text/markdown": [
       "avenhill often told the congregation as well as his passengers that Principia would be alive today if Corinda Cassy had not allowed herself to fall into the hands of the Devil.\n",
       "\n",
       "“Once again the town of Judson is up for grabs,” wrote a columnist for the Fort Worth Star-Telegram. “Who knows who the next owner will be, or even if there will be another owner …”\n",
       "\n",
       "Applebee read the article and threw the paper into the big pool down at the Water Gardens. “Judson belongs to old man Judson and it always  <span style=\"color: blue\">will</span>,” he shouted. “Nobody, dead or alive, will ever be able to take it away from him either.” He stood up and threw his vest and rubber sandals into the water and was about to jump in himself when Johnnie Chapman stopped him. “No use getting so riled up,” she said. “Not a bit of use in it. That water’ll cool you off for a little while but not for long, not in the kind of shape you’re in.” She walked him back across town to the pawnshop. She set him down and showed him what was in her shopping bag: "
      ],
      "text/plain": [
       "<IPython.core.display.Markdown object>"
      ]
     },
     "metadata": {},
     "output_type": "display_data"
    },
    {
     "data": {
      "text/markdown": [
       "---"
      ],
      "text/plain": [
       "<IPython.core.display.Markdown object>"
      ]
     },
     "metadata": {},
     "output_type": "display_data"
    },
    {
     "data": {
      "text/markdown": [
       "### Principia Martindale, Edward Swift, 1983"
      ],
      "text/plain": [
       "<IPython.core.display.Markdown object>"
      ]
     },
     "metadata": {},
     "output_type": "display_data"
    },
    {
     "data": {
      "text/markdown": [
       "l as his passengers that Principia would be alive today if Corinda Cassy had not allowed herself to fall into the hands of the Devil.\n",
       "\n",
       "“Once again the town of Judson is up for grabs,” wrote a columnist for the Fort Worth Star-Telegram. “Who knows who the next owner will be, or even if there will be another owner …”\n",
       "\n",
       "Applebee read the article and threw the paper into the big pool down at the Water Gardens. “Judson belongs to old man Judson and it always will,” he shouted. “Nobody, dead or alive,  <span style=\"color: blue\">will</span> ever be able to take it away from him either.” He stood up and threw his vest and rubber sandals into the water and was about to jump in himself when Johnnie Chapman stopped him. “No use getting so riled up,” she said. “Not a bit of use in it. That water’ll cool you off for a little while but not for long, not in the kind of shape you’re in.” She walked him back across town to the pawnshop. She set him down and showed him what was in her shopping bag: all the articles she could find about Princ"
      ],
      "text/plain": [
       "<IPython.core.display.Markdown object>"
      ]
     },
     "metadata": {},
     "output_type": "display_data"
    },
    {
     "data": {
      "text/markdown": [
       "---"
      ],
      "text/plain": [
       "<IPython.core.display.Markdown object>"
      ]
     },
     "metadata": {},
     "output_type": "display_data"
    },
    {
     "data": {
      "text/markdown": [
       "### Principia Martindale, Edward Swift, 1983"
      ],
      "text/plain": [
       "<IPython.core.display.Markdown object>"
      ]
     },
     "metadata": {},
     "output_type": "display_data"
    },
    {
     "data": {
      "text/markdown": [
       "rtune, although it was small, had been left to Rosita Lopez. Hillister Baptist College was already planning to build a new chapel to be named in her honor, and scholarship funds in her name had been made available at various Baptist universities throughout the south. On another page of the same paper, Applebee found a picture of Larry Wayne standing in front of the hotel with the Cowgirls for Christ gathered around him. The caption read: “Mr. L. W. Johnson stated that in time the town of Judson  <span style=\"color: blue\">will</span> undergo a few changes.”\n",
       "\n",
       "“He got to looking more and more like Old Man Judson every day,” said Applebee. “Whoever ran him down ought to be given a million dollars to get away on, that’s what.”\n",
       "\n",
       "“Maybe whoever did it was given something better than money,” replied Johnnie Chapman.\n",
       "\n",
       "She continued to hold Applebee’s hand until he had read all the articles. Then she put them back in the shopping bag and dropped it in a trash can. “Well, you read ’em now,” she said. Applebee didn’t answer. He began "
      ],
      "text/plain": [
       "<IPython.core.display.Markdown object>"
      ]
     },
     "metadata": {},
     "output_type": "display_data"
    },
    {
     "data": {
      "text/markdown": [
       "---"
      ],
      "text/plain": [
       "<IPython.core.display.Markdown object>"
      ]
     },
     "metadata": {},
     "output_type": "display_data"
    },
    {
     "data": {
      "text/markdown": [
       "### Hard merchandise, K. W Jeter, 1999"
      ],
      "text/plain": [
       "<IPython.core.display.Markdown object>"
      ]
     },
     "metadata": {},
     "output_type": "display_data"
    },
    {
     "data": {
      "text/markdown": [
       " two minutes away from Minimum Safe Distance—the point far enough from Despayre where they could safely attempt the jump to lightspeed. Jump too close to a planet’s gravity well and the shift would tear the vessel apart. If the guy he was talking to had enough skill to fly the shuttle, he’d know that. His control panel would tell him when he reached MSD, and then it would be over. Lieutenant Dance would have failed a mission, for the first time.\n",
       "\n",
       "Never happen, he thought. “Turn it around, or we  <span style=\"color: blue\">will</span> fire,” he said.\n",
       "\n",
       "“You’d do that? Just blow us apart? Essentially murder fifteen men—and two women? One of them is old enough to be your granny. You can live with that?”\n",
       "\n",
       "He was stalling for time, Vil knew. The beings on that shuttle were bad enough to have been sent to the galaxy’s number one prison planet, and the Imperial courts didn’t bother to do that with petty thieves or traffic violators. His granny hadn’t robbed any banks or killed anybody. Not that he knew of, anyway.\n",
       "\n",
       "“Shuttle pilot, "
      ],
      "text/plain": [
       "<IPython.core.display.Markdown object>"
      ]
     },
     "metadata": {},
     "output_type": "display_data"
    },
    {
     "data": {
      "text/markdown": [
       "---"
      ],
      "text/plain": [
       "<IPython.core.display.Markdown object>"
      ]
     },
     "metadata": {},
     "output_type": "display_data"
    },
    {
     "data": {
      "text/markdown": [
       "### A share in death, Deborah Crombie, 1993"
      ],
      "text/plain": [
       "<IPython.core.display.Markdown object>"
      ]
     },
     "metadata": {},
     "output_type": "display_data"
    },
    {
     "data": {
      "text/markdown": [
       " corner table with drinks, wine for himself and lager and lime for Gemma. “Ugh.” He made a face. “Don’t know how you drink that stuff.” Kincaid always criticized, and Gemma never changed her order, probably, he thought, out of pure cantankerousness.\n",
       "\n",
       "“Practice.” Gemma took a good swallow of her drink and grinned. They sat quietly for a few minutes, the pub’s Saturday night clamor eddying around them, until Gemma pushed her chair back a bit and sighed. “I do need to be getting home, though. Toby  <span style=\"color: blue\">will</span> be missing his mum.”\n",
       "\n",
       "“Yes.” Kincaid imagined the welcome awaiting Gemma, and for an instant envy ran through him. He shook it off and forced a smile. “I wish …” What did he wish? That he hadn’t gone to Followdale at all, in which case Hannah might have died, too?\n",
       "\n",
       "Gemma thumped her glass down on the table and he raised his eyes to find an unexpected understanding in hers. The corner of her mouth twitched. “If wishes were horses, my old mum used to say—”\n",
       "\n",
       "“Right.” They smiled at each other comp"
      ],
      "text/plain": [
       "<IPython.core.display.Markdown object>"
      ]
     },
     "metadata": {},
     "output_type": "display_data"
    },
    {
     "data": {
      "text/markdown": [
       "---"
      ],
      "text/plain": [
       "<IPython.core.display.Markdown object>"
      ]
     },
     "metadata": {},
     "output_type": "display_data"
    },
    {
     "data": {
      "text/markdown": [
       "### Moonlight becomes you, Mary Higgins Clark, 1996"
      ],
      "text/plain": [
       "<IPython.core.display.Markdown object>"
      ]
     },
     "metadata": {},
     "output_type": "display_data"
    },
    {
     "data": {
      "text/markdown": [
       " my being sure that Liam Payne was involved. If I hadn’t followed him, it would have been too late.”\n",
       "\n",
       "He and Maggie were sitting side by side in Mrs. Bainbridge’s apartment. He put his hand over Maggie’s, unwilling yet to have her beyond his reach, still living the nightmare of searching for her.\n",
       "\n",
       "“Has everybody pretty well settled down here?” Maggie asked.\n",
       "\n",
       "“Oh, I think so. We’re more resilient than you’d think. I understand the Prestige people have arranged to buy the residence.”\n",
       "\n",
       "“Liam Payne  <span style=\"color: blue\">will</span> need a lot of the money he killed for to pay his lawyers, and I hope they don’t do him any good,” Neil said forcefully. “His girlfriend too, although she’s going to end up with a public defender. Realistically, I don’t think either one of them stands a chance of escaping conviction on multiple murder charges. I understand that Odile has confessed to deliberately switching medicines on orders from Liam.”\n",
       "\n",
       "Maggie thought of Nuala and Greta Shipley, and of the women whom she had not known, all of "
      ],
      "text/plain": [
       "<IPython.core.display.Markdown object>"
      ]
     },
     "metadata": {},
     "output_type": "display_data"
    },
    {
     "data": {
      "text/markdown": [
       "---"
      ],
      "text/plain": [
       "<IPython.core.display.Markdown object>"
      ]
     },
     "metadata": {},
     "output_type": "display_data"
    },
    {
     "data": {
      "text/markdown": [
       "### Moonlight becomes you, Mary Higgins Clark, 1996"
      ],
      "text/plain": [
       "<IPython.core.display.Markdown object>"
      ]
     },
     "metadata": {},
     "output_type": "display_data"
    },
    {
     "data": {
      "text/markdown": [
       "house was locked up. For a moment, Maggie stood looking at it, remembering that night only two weeks ago, when she had arrived.\n",
       "\n",
       "“It’ll be fun to come up here on vacations and weekends, won’t it?” she said.\n",
       "\n",
       "Neil put his arm around her. “You’re sure it won’t hold too many bad memories?”\n",
       "\n",
       "“No.” She inhaled deeply. “Not as long as you’re around to dig me up when I need help.”\n",
       "\n",
       "Then she laughed. “Don’t look so shocked. Gallows humor has gotten me through some pretty bad times.”\n",
       "\n",
       "“From now on, that  <span style=\"color: blue\">will</span> be my job,” Neil said as he opened the door of the station wagon for her. “Now remember, don’t speed,” he cautioned. “I’ll be right behind you.”\n",
       "\n",
       "“You sound like your father,” Maggie said. Then she added, “And I like that just fine.”\n"
      ],
      "text/plain": [
       "<IPython.core.display.Markdown object>"
      ]
     },
     "metadata": {},
     "output_type": "display_data"
    },
    {
     "data": {
      "text/markdown": [
       "---"
      ],
      "text/plain": [
       "<IPython.core.display.Markdown object>"
      ]
     },
     "metadata": {},
     "output_type": "display_data"
    },
    {
     "data": {
      "text/markdown": [
       "### The willow tree, Hubert Selby, 1998"
      ],
      "text/plain": [
       "<IPython.core.display.Markdown object>"
      ]
     },
     "metadata": {},
     "output_type": "display_data"
    },
    {
     "data": {
      "text/markdown": [
       "he unexplainable, but You take me to where there are no words, no limitations, only the exquisite awareness of Your Presence and the infinite possibilities of life, and I feel, all through me, our hearts sing…sing as one heart, one song…and yes, we are all Your song…every one, all needed to make the song complete…me, Bobby, Klaus, all…all Your song, and how incredible to hear that song, to hear it sing through me and around me, in me…to just be the song O dear, dear, sweet Love I know someday I  <span style=\"color: blue\">will</span> never hear the song again…will only BE the song. But for now I just keep singing, waiting for that day…yes, the infinite possibilities that brought Bobby into my life, O Bobby, you have given me so much…so very, very much…the son I pined for all these years, a reason to live when I thought all purpose was gone and then you bring me your love O Bobby, someday you will see…yes, dear, sweet Bobby you will see that you see…you will see how well you love…you will see what you have done for this tire"
      ],
      "text/plain": [
       "<IPython.core.display.Markdown object>"
      ]
     },
     "metadata": {},
     "output_type": "display_data"
    },
    {
     "data": {
      "text/markdown": [
       "---"
      ],
      "text/plain": [
       "<IPython.core.display.Markdown object>"
      ]
     },
     "metadata": {},
     "output_type": "display_data"
    },
    {
     "data": {
      "text/markdown": [
       "### The willow tree, Hubert Selby, 1998"
      ],
      "text/plain": [
       "<IPython.core.display.Markdown object>"
      ]
     },
     "metadata": {},
     "output_type": "display_data"
    },
    {
     "data": {
      "text/markdown": [
       "me to where there are no words, no limitations, only the exquisite awareness of Your Presence and the infinite possibilities of life, and I feel, all through me, our hearts sing…sing as one heart, one song…and yes, we are all Your song…every one, all needed to make the song complete…me, Bobby, Klaus, all…all Your song, and how incredible to hear that song, to hear it sing through me and around me, in me…to just be the song O dear, dear, sweet Love I know someday I will never hear the song again… <span style=\"color: blue\">will</span> only BE the song. But for now I just keep singing, waiting for that day…yes, the infinite possibilities that brought Bobby into my life, O Bobby, you have given me so much…so very, very much…the son I pined for all these years, a reason to live when I thought all purpose was gone and then you bring me your love O Bobby, someday you will see…yes, dear, sweet Bobby you will see that you see…you will see how well you love…you will see what you have done for this tired old man…Moishe still without "
      ],
      "text/plain": [
       "<IPython.core.display.Markdown object>"
      ]
     },
     "metadata": {},
     "output_type": "display_data"
    },
    {
     "data": {
      "text/markdown": [
       "---"
      ],
      "text/plain": [
       "<IPython.core.display.Markdown object>"
      ]
     },
     "metadata": {},
     "output_type": "display_data"
    },
    {
     "data": {
      "text/markdown": [
       "### The willow tree, Hubert Selby, 1998"
      ],
      "text/plain": [
       "<IPython.core.display.Markdown object>"
      ]
     },
     "metadata": {},
     "output_type": "display_data"
    },
    {
     "data": {
      "text/markdown": [
       " to hear that song, to hear it sing through me and around me, in me…to just be the song O dear, dear, sweet Love I know someday I will never hear the song again…will only BE the song. But for now I just keep singing, waiting for that day…yes, the infinite possibilities that brought Bobby into my life, O Bobby, you have given me so much…so very, very much…the son I pined for all these years, a reason to live when I thought all purpose was gone and then you bring me your love O Bobby, someday you  <span style=\"color: blue\">will</span> see…yes, dear, sweet Bobby you will see that you see…you will see how well you love…you will see what you have done for this tired old man…Moishe still without any sense of time, or space, free of the weight of his body, his closed eyes seeing a light more brilliant yet soothing than open eyes have ever seen, aware of the exquisite essence of his being…filled with the bliss of the infinite oneness of this eternal moment…but gradually…gently…time and space began to intrude themselves and he star"
      ],
      "text/plain": [
       "<IPython.core.display.Markdown object>"
      ]
     },
     "metadata": {},
     "output_type": "display_data"
    },
    {
     "data": {
      "text/markdown": [
       "---"
      ],
      "text/plain": [
       "<IPython.core.display.Markdown object>"
      ]
     },
     "metadata": {},
     "output_type": "display_data"
    },
    {
     "data": {
      "text/markdown": [
       "### The willow tree, Hubert Selby, 1998"
      ],
      "text/plain": [
       "<IPython.core.display.Markdown object>"
      ]
     },
     "metadata": {},
     "output_type": "display_data"
    },
    {
     "data": {
      "text/markdown": [
       "through me and around me, in me…to just be the song O dear, dear, sweet Love I know someday I will never hear the song again…will only BE the song. But for now I just keep singing, waiting for that day…yes, the infinite possibilities that brought Bobby into my life, O Bobby, you have given me so much…so very, very much…the son I pined for all these years, a reason to live when I thought all purpose was gone and then you bring me your love O Bobby, someday you will see…yes, dear, sweet Bobby you  <span style=\"color: blue\">will</span> see that you see…you will see how well you love…you will see what you have done for this tired old man…Moishe still without any sense of time, or space, free of the weight of his body, his closed eyes seeing a light more brilliant yet soothing than open eyes have ever seen, aware of the exquisite essence of his being…filled with the bliss of the infinite oneness of this eternal moment…but gradually…gently…time and space began to intrude themselves and he started becoming aware of his body, Mois"
      ],
      "text/plain": [
       "<IPython.core.display.Markdown object>"
      ]
     },
     "metadata": {},
     "output_type": "display_data"
    },
    {
     "data": {
      "text/markdown": [
       "---"
      ],
      "text/plain": [
       "<IPython.core.display.Markdown object>"
      ]
     },
     "metadata": {},
     "output_type": "display_data"
    },
    {
     "data": {
      "text/markdown": [
       "### The willow tree, Hubert Selby, 1998"
      ],
      "text/plain": [
       "<IPython.core.display.Markdown object>"
      ]
     },
     "metadata": {},
     "output_type": "display_data"
    },
    {
     "data": {
      "text/markdown": [
       "in me…to just be the song O dear, dear, sweet Love I know someday I will never hear the song again…will only BE the song. But for now I just keep singing, waiting for that day…yes, the infinite possibilities that brought Bobby into my life, O Bobby, you have given me so much…so very, very much…the son I pined for all these years, a reason to live when I thought all purpose was gone and then you bring me your love O Bobby, someday you will see…yes, dear, sweet Bobby you will see that you see…you  <span style=\"color: blue\">will</span> see how well you love…you will see what you have done for this tired old man…Moishe still without any sense of time, or space, free of the weight of his body, his closed eyes seeing a light more brilliant yet soothing than open eyes have ever seen, aware of the exquisite essence of his being…filled with the bliss of the infinite oneness of this eternal moment…but gradually…gently…time and space began to intrude themselves and he started becoming aware of his body, Moishe resisting, his mind sti"
      ],
      "text/plain": [
       "<IPython.core.display.Markdown object>"
      ]
     },
     "metadata": {},
     "output_type": "display_data"
    },
    {
     "data": {
      "text/markdown": [
       "---"
      ],
      "text/plain": [
       "<IPython.core.display.Markdown object>"
      ]
     },
     "metadata": {},
     "output_type": "display_data"
    },
    {
     "data": {
      "text/markdown": [
       "### The willow tree, Hubert Selby, 1998"
      ],
      "text/plain": [
       "<IPython.core.display.Markdown object>"
      ]
     },
     "metadata": {},
     "output_type": "display_data"
    },
    {
     "data": {
      "text/markdown": [
       "r, dear, sweet Love I know someday I will never hear the song again…will only BE the song. But for now I just keep singing, waiting for that day…yes, the infinite possibilities that brought Bobby into my life, O Bobby, you have given me so much…so very, very much…the son I pined for all these years, a reason to live when I thought all purpose was gone and then you bring me your love O Bobby, someday you will see…yes, dear, sweet Bobby you will see that you see…you will see how well you love…you  <span style=\"color: blue\">will</span> see what you have done for this tired old man…Moishe still without any sense of time, or space, free of the weight of his body, his closed eyes seeing a light more brilliant yet soothing than open eyes have ever seen, aware of the exquisite essence of his being…filled with the bliss of the infinite oneness of this eternal moment…but gradually…gently…time and space began to intrude themselves and he started becoming aware of his body, Moishe resisting, his mind still with the experience as he be"
      ],
      "text/plain": [
       "<IPython.core.display.Markdown object>"
      ]
     },
     "metadata": {},
     "output_type": "display_data"
    },
    {
     "data": {
      "text/markdown": [
       "---"
      ],
      "text/plain": [
       "<IPython.core.display.Markdown object>"
      ]
     },
     "metadata": {},
     "output_type": "display_data"
    },
    {
     "data": {
      "text/markdown": [
       "### The willow tree, Hubert Selby, 1998"
      ],
      "text/plain": [
       "<IPython.core.display.Markdown object>"
      ]
     },
     "metadata": {},
     "output_type": "display_data"
    },
    {
     "data": {
      "text/markdown": [
       "ver seen, aware of the exquisite essence of his being…filled with the bliss of the infinite oneness of this eternal moment…but gradually…gently…time and space began to intrude themselves and he started becoming aware of his body, Moishe resisting, his mind still with the experience as he became increasingly aware of his body, of Werner…of Moishe…of the physical world….Yes, always I come back to the body no matter how much I want to leave it behind, to simply be the Light and the Song. Someday I  <span style=\"color: blue\">will</span> not return, but there is more work to be done….Yes, there is yet more that needs doing….\n",
       "\n",
       "O, the body is so heavy…how do we move it….\n",
       "\n",
       "how do we survive it"
      ],
      "text/plain": [
       "<IPython.core.display.Markdown object>"
      ]
     },
     "metadata": {},
     "output_type": "display_data"
    },
    {
     "data": {
      "text/markdown": [
       "---"
      ],
      "text/plain": [
       "<IPython.core.display.Markdown object>"
      ]
     },
     "metadata": {},
     "output_type": "display_data"
    },
    {
     "data": {
      "text/markdown": [
       "### Through the arc of the rain forest, Karen Tei Yamashita, 1990"
      ],
      "text/plain": [
       "<IPython.core.display.Markdown object>"
      ]
     },
     "metadata": {},
     "output_type": "display_data"
    },
    {
     "data": {
      "text/markdown": [
       "f once modern high-rises and office buildings, everything covered in rust and mold, twisted and poisonous lianas winding over sinking balconies, trees arching through windows, a cloud of perpetual rain and mist and evasive color hovering over everything. The old forest has returned once again, secreting its digestive juices, slowly breaking everything into edible absorbent components, pursuing the lost perfection of an organism in which digestion and excretion were once one and the same. But it  <span style=\"color: blue\">will</span> never be the same again.\n",
       "\n",
       "Now the memory is complete, and I bid you farewell. Whose memory you are asking? Whose indeed."
      ],
      "text/plain": [
       "<IPython.core.display.Markdown object>"
      ]
     },
     "metadata": {},
     "output_type": "display_data"
    },
    {
     "data": {
      "text/markdown": [
       "---"
      ],
      "text/plain": [
       "<IPython.core.display.Markdown object>"
      ]
     },
     "metadata": {},
     "output_type": "display_data"
    },
    {
     "data": {
      "text/markdown": [
       "### Fer-de-lance, Rex Stout, 1981"
      ],
      "text/plain": [
       "<IPython.core.display.Markdown object>"
      ]
     },
     "metadata": {},
     "output_type": "display_data"
    },
    {
     "data": {
      "text/markdown": [
       "ched babies, it’s a thousand dollars now. I’m taking it down to her this afternoon.”\n",
       "\n",
       "Wolfe sighed. The beer came, and he opened a bottle and gulped a glass. He put the expense list under the paperweight with the mail and leaned back in his chair. “Tomorrow I shall cut down to five quarts.”\n",
       "\n",
       "My grin felt better. I said, “You don’t have to change the subject. I wouldn’t make the mistake of calling you generous even if you said to double it; you’d still be getting a bargain. Do you know what Anna  <span style=\"color: blue\">will</span> do with it? Buy herself a husband. Look at all the good you’re doing.”\n",
       "\n",
       "“Confound it. Don’t give her anything. Tell her the money cannot be found.”\n",
       "\n",
       "“No, sir. I’ll give her the money and let her dig her own grave. I’m not violent, the way you are, and I don’t put myself up as a substitute for fate.”\n",
       "\n",
       "Wolfe opened his eyes. He had been drowsy for three days, and I thought it was about time something woke him up. He murmured, “Do you think you’re saying something, Archie?”\n",
       "\n",
       "“Yes, sir. I’m asking "
      ],
      "text/plain": [
       "<IPython.core.display.Markdown object>"
      ]
     },
     "metadata": {},
     "output_type": "display_data"
    },
    {
     "data": {
      "text/markdown": [
       "---"
      ],
      "text/plain": [
       "<IPython.core.display.Markdown object>"
      ]
     },
     "metadata": {},
     "output_type": "display_data"
    },
    {
     "data": {
      "text/markdown": [
       "### Fer-de-lance, Rex Stout, 1981"
      ],
      "text/plain": [
       "<IPython.core.display.Markdown object>"
      ]
     },
     "metadata": {},
     "output_type": "display_data"
    },
    {
     "data": {
      "text/markdown": [
       "ty of one deep satisfaction life had offered to it; and his father equally bitter and no less defeated, would have tottered through some few last years with nothing left to trade. If I had brought that about I would have been responsible for it, to myself, and the prospect was not pleasing. Still I had to act. I did so, and incurred a responsibility which is vastly less displeasing. You would encompass the entire complex phenomenon by stating bluntly that I killed E. D. Kimball. Well, Archie. I  <span style=\"color: blue\">will</span> take the responsibility for my own actions; I will not also assume the burden of your simplicity. Somehow you must bear it.”\n",
       "\n",
       "I grinned. “Maybe. I don’t mean maybe I can bear it, I mean maybe all you’ve just said. Also, maybe I’m simple. I’m so simple that a simple thought occurred to me as I was walking back from the bank this morning.”\n",
       "\n",
       "“Indeed.” Wolfe gulped his glass of beer.\n",
       "\n",
       "“Yes, sir. It occurred to me that if Manuel Kimball had been arrested and brought to trial you would have had to pu"
      ],
      "text/plain": [
       "<IPython.core.display.Markdown object>"
      ]
     },
     "metadata": {},
     "output_type": "display_data"
    },
    {
     "data": {
      "text/markdown": [
       "---"
      ],
      "text/plain": [
       "<IPython.core.display.Markdown object>"
      ]
     },
     "metadata": {},
     "output_type": "display_data"
    },
    {
     "data": {
      "text/markdown": [
       "### Fer-de-lance, Rex Stout, 1981"
      ],
      "text/plain": [
       "<IPython.core.display.Markdown object>"
      ]
     },
     "metadata": {},
     "output_type": "display_data"
    },
    {
     "data": {
      "text/markdown": [
       " and his father equally bitter and no less defeated, would have tottered through some few last years with nothing left to trade. If I had brought that about I would have been responsible for it, to myself, and the prospect was not pleasing. Still I had to act. I did so, and incurred a responsibility which is vastly less displeasing. You would encompass the entire complex phenomenon by stating bluntly that I killed E. D. Kimball. Well, Archie. I will take the responsibility for my own actions; I  <span style=\"color: blue\">will</span> not also assume the burden of your simplicity. Somehow you must bear it.”\n",
       "\n",
       "I grinned. “Maybe. I don’t mean maybe I can bear it, I mean maybe all you’ve just said. Also, maybe I’m simple. I’m so simple that a simple thought occurred to me as I was walking back from the bank this morning.”\n",
       "\n",
       "“Indeed.” Wolfe gulped his glass of beer.\n",
       "\n",
       "“Yes, sir. It occurred to me that if Manuel Kimball had been arrested and brought to trial you would have had to put on your hat and gloves, leave the house, walk to "
      ],
      "text/plain": [
       "<IPython.core.display.Markdown object>"
      ]
     },
     "metadata": {},
     "output_type": "display_data"
    },
    {
     "data": {
      "text/markdown": [
       "---"
      ],
      "text/plain": [
       "<IPython.core.display.Markdown object>"
      ]
     },
     "metadata": {},
     "output_type": "display_data"
    },
    {
     "data": {
      "text/markdown": [
       "### Dixie City jam, James Lee Burke, 1995"
      ],
      "text/plain": [
       "<IPython.core.display.Markdown object>"
      ]
     },
     "metadata": {},
     "output_type": "display_data"
    },
    {
     "data": {
      "text/markdown": [
       "rooftops, the air became cold and heavy, and suddenly there was no traffic or sound in the streets, only dust and scraps of newspaper whirling in the wind through the, tunnel of trees.\n",
       "\n",
       "This is what it could become, I thought. All we had to do was stop believing in ourselves and let the charlatans and the manipulators convince us they have the answers that we don’t. They aren’t fashioned from anvil and chain in a devil’s forge, either. Judas Iscariot was us; there was no metaphysical mystery to  <span style=\"color: blue\">Will</span> Buchalter and his sister and the Calucci brothers. Their souls had the wingspan of moths; they functioned because we allowed them to and gave them sanction; they stopped functioning when that sanction was denied.\n",
       "\n",
       "“What’s wrong, Dave?” Alafair said from across the table.\n",
       "\n",
       "“Nothing, little guy. Everything seemed too quiet for a minute.”\n",
       "\n",
       "‘Then let’s go hear the band at Preservation Hall,” she said.\n",
       "\n",
       "“I think that’s a fine idea,” I said, and rubbed the silky smooth top of her head.\n",
       "\n",
       "One beautiful"
      ],
      "text/plain": [
       "<IPython.core.display.Markdown object>"
      ]
     },
     "metadata": {},
     "output_type": "display_data"
    },
    {
     "data": {
      "text/markdown": [
       "---"
      ],
      "text/plain": [
       "<IPython.core.display.Markdown object>"
      ]
     },
     "metadata": {},
     "output_type": "display_data"
    },
    {
     "data": {
      "text/markdown": [
       "### Who will run the frog hospital?, Lorrie Moore, 1994"
      ],
      "text/plain": [
       "<IPython.core.display.Markdown object>"
      ]
     },
     "metadata": {},
     "output_type": "display_data"
    },
    {
     "data": {
      "text/markdown": [
       "inds and then to what—to sleep? to stars? Time for another constellation!\n",
       "\n",
       "My husband has that look again, the look of how difficult the world is, life is, how sometimes you just want to go back to your house with the bushes around it and stay inside.\n",
       "\n",
       "“Home,” he says. The idea of it: its lovely cheat and evasion; its capitulation to longing and rest. “Home, home, home.”\n",
       "\n",
       "Where, though I harbor secret wishes of its burning, our life in flames, the crazy, wicked freedom of it, our chipping house  <span style=\"color: blue\">will</span> still be standing, safe and whole, the previous owner’s rubber bands still wrapped around the doorknobs. The animals we’ve sealed in, in mending and patching—the mice and larks—will wake and cry within the walls, then go still. The season will be spring, but the squirrels will have eaten and rearranged the bulbs, so that only one lone daffodil—a trumpet solo!—will be shivering in the yard, the flowering quince not flowering, the ground still too muddy for grass but on a sunny day ticking with h"
      ],
      "text/plain": [
       "<IPython.core.display.Markdown object>"
      ]
     },
     "metadata": {},
     "output_type": "display_data"
    },
    {
     "data": {
      "text/markdown": [
       "---"
      ],
      "text/plain": [
       "<IPython.core.display.Markdown object>"
      ]
     },
     "metadata": {},
     "output_type": "display_data"
    },
    {
     "data": {
      "text/markdown": [
       "### Who will run the frog hospital?, Lorrie Moore, 1994"
      ],
      "text/plain": [
       "<IPython.core.display.Markdown object>"
      ]
     },
     "metadata": {},
     "output_type": "display_data"
    },
    {
     "data": {
      "text/markdown": [
       "t to go back to your house with the bushes around it and stay inside.\n",
       "\n",
       "“Home,” he says. The idea of it: its lovely cheat and evasion; its capitulation to longing and rest. “Home, home, home.”\n",
       "\n",
       "Where, though I harbor secret wishes of its burning, our life in flames, the crazy, wicked freedom of it, our chipping house will still be standing, safe and whole, the previous owner’s rubber bands still wrapped around the doorknobs. The animals we’ve sealed in, in mending and patching—the mice and larks— <span style=\"color: blue\">will</span> wake and cry within the walls, then go still. The season will be spring, but the squirrels will have eaten and rearranged the bulbs, so that only one lone daffodil—a trumpet solo!—will be shivering in the yard, the flowering quince not flowering, the ground still too muddy for grass but on a sunny day ticking with hatching flies. At the Citgo station around the corner the sparrows will once again build their nest in the paper towel dispenser. “Don’t you feel, you must, like going home?” Daniel "
      ],
      "text/plain": [
       "<IPython.core.display.Markdown object>"
      ]
     },
     "metadata": {},
     "output_type": "display_data"
    },
    {
     "data": {
      "text/markdown": [
       "---"
      ],
      "text/plain": [
       "<IPython.core.display.Markdown object>"
      ]
     },
     "metadata": {},
     "output_type": "display_data"
    },
    {
     "data": {
      "text/markdown": [
       "### Who will run the frog hospital?, Lorrie Moore, 1994"
      ],
      "text/plain": [
       "<IPython.core.display.Markdown object>"
      ]
     },
     "metadata": {},
     "output_type": "display_data"
    },
    {
     "data": {
      "text/markdown": [
       "inside.\n",
       "\n",
       "“Home,” he says. The idea of it: its lovely cheat and evasion; its capitulation to longing and rest. “Home, home, home.”\n",
       "\n",
       "Where, though I harbor secret wishes of its burning, our life in flames, the crazy, wicked freedom of it, our chipping house will still be standing, safe and whole, the previous owner’s rubber bands still wrapped around the doorknobs. The animals we’ve sealed in, in mending and patching—the mice and larks—will wake and cry within the walls, then go still. The season  <span style=\"color: blue\">will</span> be spring, but the squirrels will have eaten and rearranged the bulbs, so that only one lone daffodil—a trumpet solo!—will be shivering in the yard, the flowering quince not flowering, the ground still too muddy for grass but on a sunny day ticking with hatching flies. At the Citgo station around the corner the sparrows will once again build their nest in the paper towel dispenser. “Don’t you feel, you must, like going home?” Daniel asks in a voice of such ailing homesickness it makes me smile."
      ],
      "text/plain": [
       "<IPython.core.display.Markdown object>"
      ]
     },
     "metadata": {},
     "output_type": "display_data"
    },
    {
     "data": {
      "text/markdown": [
       "---"
      ],
      "text/plain": [
       "<IPython.core.display.Markdown object>"
      ]
     },
     "metadata": {},
     "output_type": "display_data"
    },
    {
     "data": {
      "text/markdown": [
       "### Who will run the frog hospital?, Lorrie Moore, 1994"
      ],
      "text/plain": [
       "<IPython.core.display.Markdown object>"
      ]
     },
     "metadata": {},
     "output_type": "display_data"
    },
    {
     "data": {
      "text/markdown": [
       " of it: its lovely cheat and evasion; its capitulation to longing and rest. “Home, home, home.”\n",
       "\n",
       "Where, though I harbor secret wishes of its burning, our life in flames, the crazy, wicked freedom of it, our chipping house will still be standing, safe and whole, the previous owner’s rubber bands still wrapped around the doorknobs. The animals we’ve sealed in, in mending and patching—the mice and larks—will wake and cry within the walls, then go still. The season will be spring, but the squirrels  <span style=\"color: blue\">will</span> have eaten and rearranged the bulbs, so that only one lone daffodil—a trumpet solo!—will be shivering in the yard, the flowering quince not flowering, the ground still too muddy for grass but on a sunny day ticking with hatching flies. At the Citgo station around the corner the sparrows will once again build their nest in the paper towel dispenser. “Don’t you feel, you must, like going home?” Daniel asks in a voice of such ailing homesickness it makes me smile.\n",
       "\n",
       "Everywhere life is full of heroi"
      ],
      "text/plain": [
       "<IPython.core.display.Markdown object>"
      ]
     },
     "metadata": {},
     "output_type": "display_data"
    },
    {
     "data": {
      "text/markdown": [
       "---"
      ],
      "text/plain": [
       "<IPython.core.display.Markdown object>"
      ]
     },
     "metadata": {},
     "output_type": "display_data"
    },
    {
     "data": {
      "text/markdown": [
       "### Who will run the frog hospital?, Lorrie Moore, 1994"
      ],
      "text/plain": [
       "<IPython.core.display.Markdown object>"
      ]
     },
     "metadata": {},
     "output_type": "display_data"
    },
    {
     "data": {
      "text/markdown": [
       "home.”\n",
       "\n",
       "Where, though I harbor secret wishes of its burning, our life in flames, the crazy, wicked freedom of it, our chipping house will still be standing, safe and whole, the previous owner’s rubber bands still wrapped around the doorknobs. The animals we’ve sealed in, in mending and patching—the mice and larks—will wake and cry within the walls, then go still. The season will be spring, but the squirrels will have eaten and rearranged the bulbs, so that only one lone daffodil—a trumpet solo!— <span style=\"color: blue\">will</span> be shivering in the yard, the flowering quince not flowering, the ground still too muddy for grass but on a sunny day ticking with hatching flies. At the Citgo station around the corner the sparrows will once again build their nest in the paper towel dispenser. “Don’t you feel, you must, like going home?” Daniel asks in a voice of such ailing homesickness it makes me smile.\n",
       "\n",
       "Everywhere life is full of heroism.\n",
       "\n",
       "I lean warmly toward him, try to get closer, in empathy and companionship, to study "
      ],
      "text/plain": [
       "<IPython.core.display.Markdown object>"
      ]
     },
     "metadata": {},
     "output_type": "display_data"
    },
    {
     "data": {
      "text/markdown": [
       "---"
      ],
      "text/plain": [
       "<IPython.core.display.Markdown object>"
      ]
     },
     "metadata": {},
     "output_type": "display_data"
    },
    {
     "data": {
      "text/markdown": [
       "### Who will run the frog hospital?, Lorrie Moore, 1994"
      ],
      "text/plain": [
       "<IPython.core.display.Markdown object>"
      ]
     },
     "metadata": {},
     "output_type": "display_data"
    },
    {
     "data": {
      "text/markdown": [
       "ds still wrapped around the doorknobs. The animals we’ve sealed in, in mending and patching—the mice and larks—will wake and cry within the walls, then go still. The season will be spring, but the squirrels will have eaten and rearranged the bulbs, so that only one lone daffodil—a trumpet solo!—will be shivering in the yard, the flowering quince not flowering, the ground still too muddy for grass but on a sunny day ticking with hatching flies. At the Citgo station around the corner the sparrows  <span style=\"color: blue\">will</span> once again build their nest in the paper towel dispenser. “Don’t you feel, you must, like going home?” Daniel asks in a voice of such ailing homesickness it makes me smile.\n",
       "\n",
       "Everywhere life is full of heroism.\n",
       "\n",
       "I lean warmly toward him, try to get closer, in empathy and companionship, to study his face, so moist and young in these rains, to match or approximate it. “Don’t be lorn, don’t be blue, it’s only morn, and I’m with you.” I sing this, but he stiffens, then tries not to stiffen, forces a"
      ],
      "text/plain": [
       "<IPython.core.display.Markdown object>"
      ]
     },
     "metadata": {},
     "output_type": "display_data"
    },
    {
     "data": {
      "text/markdown": [
       "---"
      ],
      "text/plain": [
       "<IPython.core.display.Markdown object>"
      ]
     },
     "metadata": {},
     "output_type": "display_data"
    },
    {
     "data": {
      "text/markdown": [
       "### Who will run the frog hospital?, Lorrie Moore, 1994"
      ],
      "text/plain": [
       "<IPython.core.display.Markdown object>"
      ]
     },
     "metadata": {},
     "output_type": "display_data"
    },
    {
     "data": {
      "text/markdown": [
       "morn, and I’m with you.” I sing this, but he stiffens, then tries not to stiffen, forces a smile but moves too quickly away. He does this often now. Something, someone, keeps him, is kept, in some other corner of his life. I can’t follow him there—where that is, a place of woundedness, we are too without each other. To meet there would be to step into the strange dark rage of strangers. But I’ve accrued a kind of patience, I believe, loosely like change. I can feel the jangle and money of it. I  <span style=\"color: blue\">will</span> wait for him, I think: let him go and sicken himself, confuse himself, dash through the bad woods of himself. Love is perennial as the grass! I’ll wait for him, my heart in epilogue, knit and reknit, perhaps as it always has been. I’ll wait until I just can’t wait anymore.\n",
       "\n",
       "\n",
       "As far as possible, without surrender, be on good terms with all persons.\n",
       "\n",
       "\n",
       "\n",
       "\n"
      ],
      "text/plain": [
       "<IPython.core.display.Markdown object>"
      ]
     },
     "metadata": {},
     "output_type": "display_data"
    },
    {
     "data": {
      "text/markdown": [
       "---"
      ],
      "text/plain": [
       "<IPython.core.display.Markdown object>"
      ]
     },
     "metadata": {},
     "output_type": "display_data"
    },
    {
     "data": {
      "text/markdown": [
       "### Killed on the ice, William L DeAndrea, 1984"
      ],
      "text/plain": [
       "<IPython.core.display.Markdown object>"
      ]
     },
     "metadata": {},
     "output_type": "display_data"
    },
    {
     "data": {
      "text/markdown": [
       "apped up when Mrs. Dinkover died, except that Wendy was still alive, threatening me. I had to try again. I thought I could stay ahead of you. You trusted me, and I knew how you thought. You taught me everything I know.”\n",
       "\n",
       "“There’s an old saying. I taught you everything you know, but I goddam well didn’t teach you everything I know.”\n",
       "\n",
       "“I guess so,” he said, then gurgled a sigh. “Dinkover. Dinkover. I didn’t want to kill those women. It’s his fault. It’s funny.”\n",
       "\n",
       "“Hilarious,” I said. “If I go now,  <span style=\"color: blue\">will</span> you cooperate with people?”\n",
       "\n",
       "“Sure, Matt, but I meant it’s funny strange. I guess I’m Dinkover’s last victim.”\n",
       "\n",
       "I looked at him. I’d known, or thought I’d known, the mind behind those bandages for three years. Liked the man, worked with him. I felt like I wanted to lean up against something, to feel something real. I said, “Good-bye, Al,” then ran to the corridor where I took huge gulps of sane air.\n",
       "\n",
       "Doctors and nurses and law officers went in to replace me. Before he went inside, Lieutenant Ma"
      ],
      "text/plain": [
       "<IPython.core.display.Markdown object>"
      ]
     },
     "metadata": {},
     "output_type": "display_data"
    },
    {
     "data": {
      "text/markdown": [
       "---"
      ],
      "text/plain": [
       "<IPython.core.display.Markdown object>"
      ]
     },
     "metadata": {},
     "output_type": "display_data"
    },
    {
     "data": {
      "text/markdown": [
       "### Nothing sacred, Elizabeth Ann Scarborough, 1991"
      ],
      "text/plain": [
       "<IPython.core.display.Markdown object>"
      ]
     },
     "metadata": {},
     "output_type": "display_data"
    },
    {
     "data": {
      "text/markdown": [
       "by the wisest people with the purest possible motives can be misconstrued or misrepresented by one flaw in the character of one person. So by and large we each tend to our own business, and larger projects that involve all of us are put to a vote. If there's less than unanimous agreement, we wait.\n",
       "\n",
       "Time is something we either have a great deal of, or none of at all, depending on how correct the Terton was about the magical shield of Shambala and how well all those prayers and psychic vibrations  <span style=\"color: blue\">will</span> hold up to the onslaught of the disaster raging around us. We will either outlast the disaster or it will outlast us, but meanwhile, we continue as if we will continue. We have no leaders, for we are all leaders of ourselves, the people that the Terton led to Kalapa to live in the ruins of the last sacred place on earth while the rest of humankind destroyed every other thing natural and human-made that it should have held inviolable.\n",
       "\n",
       "I have made one other contribution to our society besides my"
      ],
      "text/plain": [
       "<IPython.core.display.Markdown object>"
      ]
     },
     "metadata": {},
     "output_type": "display_data"
    },
    {
     "data": {
      "text/markdown": [
       "---"
      ],
      "text/plain": [
       "<IPython.core.display.Markdown object>"
      ]
     },
     "metadata": {},
     "output_type": "display_data"
    },
    {
     "data": {
      "text/markdown": [
       "### Nothing sacred, Elizabeth Ann Scarborough, 1991"
      ],
      "text/plain": [
       "<IPython.core.display.Markdown object>"
      ]
     },
     "metadata": {},
     "output_type": "display_data"
    },
    {
     "data": {
      "text/markdown": [
       "strued or misrepresented by one flaw in the character of one person. So by and large we each tend to our own business, and larger projects that involve all of us are put to a vote. If there's less than unanimous agreement, we wait.\n",
       "\n",
       "Time is something we either have a great deal of, or none of at all, depending on how correct the Terton was about the magical shield of Shambala and how well all those prayers and psychic vibrations will hold up to the onslaught of the disaster raging around us. We  <span style=\"color: blue\">will</span> either outlast the disaster or it will outlast us, but meanwhile, we continue as if we will continue. We have no leaders, for we are all leaders of ourselves, the people that the Terton led to Kalapa to live in the ruins of the last sacred place on earth while the rest of humankind destroyed every other thing natural and human-made that it should have held inviolable.\n",
       "\n",
       "I have made one other contribution to our society besides my histories, my work in the archives and on the farm, and now, this "
      ],
      "text/plain": [
       "<IPython.core.display.Markdown object>"
      ]
     },
     "metadata": {},
     "output_type": "display_data"
    },
    {
     "data": {
      "text/markdown": [
       "---"
      ],
      "text/plain": [
       "<IPython.core.display.Markdown object>"
      ]
     },
     "metadata": {},
     "output_type": "display_data"
    },
    {
     "data": {
      "text/markdown": [
       "### Nothing sacred, Elizabeth Ann Scarborough, 1991"
      ],
      "text/plain": [
       "<IPython.core.display.Markdown object>"
      ]
     },
     "metadata": {},
     "output_type": "display_data"
    },
    {
     "data": {
      "text/markdown": [
       " the character of one person. So by and large we each tend to our own business, and larger projects that involve all of us are put to a vote. If there's less than unanimous agreement, we wait.\n",
       "\n",
       "Time is something we either have a great deal of, or none of at all, depending on how correct the Terton was about the magical shield of Shambala and how well all those prayers and psychic vibrations will hold up to the onslaught of the disaster raging around us. We will either outlast the disaster or it  <span style=\"color: blue\">will</span> outlast us, but meanwhile, we continue as if we will continue. We have no leaders, for we are all leaders of ourselves, the people that the Terton led to Kalapa to live in the ruins of the last sacred place on earth while the rest of humankind destroyed every other thing natural and human-made that it should have held inviolable.\n",
       "\n",
       "I have made one other contribution to our society besides my histories, my work in the archives and on the farm, and now, this written record of our beginnings which "
      ],
      "text/plain": [
       "<IPython.core.display.Markdown object>"
      ]
     },
     "metadata": {},
     "output_type": "display_data"
    },
    {
     "data": {
      "text/markdown": [
       "---"
      ],
      "text/plain": [
       "<IPython.core.display.Markdown object>"
      ]
     },
     "metadata": {},
     "output_type": "display_data"
    },
    {
     "data": {
      "text/markdown": [
       "### Nothing sacred, Elizabeth Ann Scarborough, 1991"
      ],
      "text/plain": [
       "<IPython.core.display.Markdown object>"
      ]
     },
     "metadata": {},
     "output_type": "display_data"
    },
    {
     "data": {
      "text/markdown": [
       " tend to our own business, and larger projects that involve all of us are put to a vote. If there's less than unanimous agreement, we wait.\n",
       "\n",
       "Time is something we either have a great deal of, or none of at all, depending on how correct the Terton was about the magical shield of Shambala and how well all those prayers and psychic vibrations will hold up to the onslaught of the disaster raging around us. We will either outlast the disaster or it will outlast us, but meanwhile, we continue as if we  <span style=\"color: blue\">will</span> continue. We have no leaders, for we are all leaders of ourselves, the people that the Terton led to Kalapa to live in the ruins of the last sacred place on earth while the rest of humankind destroyed every other thing natural and human-made that it should have held inviolable.\n",
       "\n",
       "I have made one other contribution to our society besides my histories, my work in the archives and on the farm, and now, this written record of our beginnings which lies before me. My other, very important contribution"
      ],
      "text/plain": [
       "<IPython.core.display.Markdown object>"
      ]
     },
     "metadata": {},
     "output_type": "display_data"
    },
    {
     "data": {
      "text/markdown": [
       "---"
      ],
      "text/plain": [
       "<IPython.core.display.Markdown object>"
      ]
     },
     "metadata": {},
     "output_type": "display_data"
    },
    {
     "data": {
      "text/markdown": [
       "### Nothing sacred, Elizabeth Ann Scarborough, 1991"
      ],
      "text/plain": [
       "<IPython.core.display.Markdown object>"
      ]
     },
     "metadata": {},
     "output_type": "display_data"
    },
    {
     "data": {
      "text/markdown": [
       "r daughter lives up to it to an almost irritating degree at times) and our son, Mike. (Growing up in a family of odd names has made me appreciate what sounds to me like a nice, solid, ordinary boy's name, although the other children tend to call him Meekay, which just demonstrates what I was saying about good intentions.)\n",
       "\n",
       "Tsering and Samdup have four more children, Tsering has two others by one of the Indian prisoners, Pandit Singh, and Tania is expecting her first child by Samdup and hopes it  <span style=\"color: blue\">will</span> be a sister to the son she bore with Marsh.\n",
       "\n",
       "Pema is a good young mother to her own daughter. Colonel Merridew insisted that Tea, who is as close to a clergyman as we have here, marry them in a proper ceremony. It took Pema until she was eighteen to convince the Colonel that a man who had never enjoyed a childhood needed a young wife to show him how to play with his children. The Colonel and Pema, like Tea and I, are so far monogamous. Dolma is the natural person to keep the census, since she g"
      ],
      "text/plain": [
       "<IPython.core.display.Markdown object>"
      ]
     },
     "metadata": {},
     "output_type": "display_data"
    },
    {
     "data": {
      "text/markdown": [
       "---"
      ],
      "text/plain": [
       "<IPython.core.display.Markdown object>"
      ]
     },
     "metadata": {},
     "output_type": "display_data"
    },
    {
     "data": {
      "text/markdown": [
       "### Nothing sacred, Elizabeth Ann Scarborough, 1991"
      ],
      "text/plain": [
       "<IPython.core.display.Markdown object>"
      ]
     },
     "metadata": {},
     "output_type": "display_data"
    },
    {
     "data": {
      "text/markdown": [
       "he census, since she goes with Thibideaux to help deliver babies and everyone confides in her. Even Shambala could not heal her enough that she has been able to have her own babies, but she is what amounts to a youthful grandmother to every child born in Kalapa. Though she and Tea set up the classes, we all take turns teaching the children our special skills, and if one child or another shows a particular aptitude for what we do rather than for what its own parents have become, then the parents  <span style=\"color: blue\">will</span> allow the child to be trained by the person who can teach them the best. It's a good theory. I hope it works. As the kids grow up, I'm afraid they'll become bored and restless. I'm afraid that a lot of the peace we have now is only because so many of us adults have known so much war. The kids didn't grow up with it.\n",
       "\n",
       "They only know a few of the stories and stories always sound glamorous whether you mean them to or not. The valley will be too small for them in time, and too familiar, despite the"
      ],
      "text/plain": [
       "<IPython.core.display.Markdown object>"
      ]
     },
     "metadata": {},
     "output_type": "display_data"
    },
    {
     "data": {
      "text/markdown": [
       "---"
      ],
      "text/plain": [
       "<IPython.core.display.Markdown object>"
      ]
     },
     "metadata": {},
     "output_type": "display_data"
    },
    {
     "data": {
      "text/markdown": [
       "### Nothing sacred, Elizabeth Ann Scarborough, 1991"
      ],
      "text/plain": [
       "<IPython.core.display.Markdown object>"
      ]
     },
     "metadata": {},
     "output_type": "display_data"
    },
    {
     "data": {
      "text/markdown": [
       " than for what its own parents have become, then the parents will allow the child to be trained by the person who can teach them the best. It's a good theory. I hope it works. As the kids grow up, I'm afraid they'll become bored and restless. I'm afraid that a lot of the peace we have now is only because so many of us adults have known so much war. The kids didn't grow up with it.\n",
       "\n",
       "They only know a few of the stories and stories always sound glamorous whether you mean them to or not. The valley  <span style=\"color: blue\">will</span> be too small for them in time, and too familiar, despite the wealth of treasures yet to be uncovered and the amount of work to be done. Even Tea admits that the stories and myths surrounding Shambala predict that it will decline from being a haven to once more being in the midst of the world and conflict. Well, it makes sense that if the world doesn't revive and intrude on us, at some point, when it's safer to do so, at least some of our people will want to go out into the world. Like the past "
      ],
      "text/plain": [
       "<IPython.core.display.Markdown object>"
      ]
     },
     "metadata": {},
     "output_type": "display_data"
    },
    {
     "data": {
      "text/markdown": [
       "---"
      ],
      "text/plain": [
       "<IPython.core.display.Markdown object>"
      ]
     },
     "metadata": {},
     "output_type": "display_data"
    },
    {
     "data": {
      "text/markdown": [
       "### Nothing sacred, Elizabeth Ann Scarborough, 1991"
      ],
      "text/plain": [
       "<IPython.core.display.Markdown object>"
      ]
     },
     "metadata": {},
     "output_type": "display_data"
    },
    {
     "data": {
      "text/markdown": [
       "e bored and restless. I'm afraid that a lot of the peace we have now is only because so many of us adults have known so much war. The kids didn't grow up with it.\n",
       "\n",
       "They only know a few of the stories and stories always sound glamorous whether you mean them to or not. The valley will be too small for them in time, and too familiar, despite the wealth of treasures yet to be uncovered and the amount of work to be done. Even Tea admits that the stories and myths surrounding Shambala predict that it  <span style=\"color: blue\">will</span> decline from being a haven to once more being in the midst of the world and conflict. Well, it makes sense that if the world doesn't revive and intrude on us, at some point, when it's safer to do so, at least some of our people will want to go out into the world. Like the past residents of Shambala, once our children reach maturity they will age slowly, as we age slowly. I see no reason why, if our natural death rate continues to be so low (the chorten and Danielson's mound mark the only new gr"
      ],
      "text/plain": [
       "<IPython.core.display.Markdown object>"
      ]
     },
     "metadata": {},
     "output_type": "display_data"
    },
    {
     "data": {
      "text/markdown": [
       "---"
      ],
      "text/plain": [
       "<IPython.core.display.Markdown object>"
      ]
     },
     "metadata": {},
     "output_type": "display_data"
    },
    {
     "data": {
      "text/markdown": [
       "### Nothing sacred, Elizabeth Ann Scarborough, 1991"
      ],
      "text/plain": [
       "<IPython.core.display.Markdown object>"
      ]
     },
     "metadata": {},
     "output_type": "display_data"
    },
    {
     "data": {
      "text/markdown": [
       "s whether you mean them to or not. The valley will be too small for them in time, and too familiar, despite the wealth of treasures yet to be uncovered and the amount of work to be done. Even Tea admits that the stories and myths surrounding Shambala predict that it will decline from being a haven to once more being in the midst of the world and conflict. Well, it makes sense that if the world doesn't revive and intrude on us, at some point, when it's safer to do so, at least some of our people  <span style=\"color: blue\">will</span> want to go out into the world. Like the past residents of Shambala, once our children reach maturity they will age slowly, as we age slowly. I see no reason why, if our natural death rate continues to be so low (the chorten and Danielson's mound mark the only new graves since shortly after the avalanche), we will not become overpopulated in a few generations. Also, if we are truly re-populating the world, then some of us, at some time, will have to go out into the world. Our children will not b"
      ],
      "text/plain": [
       "<IPython.core.display.Markdown object>"
      ]
     },
     "metadata": {},
     "output_type": "display_data"
    },
    {
     "data": {
      "text/markdown": [
       "---"
      ],
      "text/plain": [
       "<IPython.core.display.Markdown object>"
      ]
     },
     "metadata": {},
     "output_type": "display_data"
    },
    {
     "data": {
      "text/markdown": [
       "### Nothing sacred, Elizabeth Ann Scarborough, 1991"
      ],
      "text/plain": [
       "<IPython.core.display.Markdown object>"
      ]
     },
     "metadata": {},
     "output_type": "display_data"
    },
    {
     "data": {
      "text/markdown": [
       " wealth of treasures yet to be uncovered and the amount of work to be done. Even Tea admits that the stories and myths surrounding Shambala predict that it will decline from being a haven to once more being in the midst of the world and conflict. Well, it makes sense that if the world doesn't revive and intrude on us, at some point, when it's safer to do so, at least some of our people will want to go out into the world. Like the past residents of Shambala, once our children reach maturity they  <span style=\"color: blue\">will</span> age slowly, as we age slowly. I see no reason why, if our natural death rate continues to be so low (the chorten and Danielson's mound mark the only new graves since shortly after the avalanche), we will not become overpopulated in a few generations. Also, if we are truly re-populating the world, then some of us, at some time, will have to go out into the world. Our children will not be like us, peaceful because they are tired, lacking a broader inquisitiveness out of fear.\n",
       "\n",
       "Just the other day "
      ],
      "text/plain": [
       "<IPython.core.display.Markdown object>"
      ]
     },
     "metadata": {},
     "output_type": "display_data"
    },
    {
     "data": {
      "text/markdown": [
       "---"
      ],
      "text/plain": [
       "<IPython.core.display.Markdown object>"
      ]
     },
     "metadata": {},
     "output_type": "display_data"
    },
    {
     "data": {
      "text/markdown": [
       "### Nothing sacred, Elizabeth Ann Scarborough, 1991"
      ],
      "text/plain": [
       "<IPython.core.display.Markdown object>"
      ]
     },
     "metadata": {},
     "output_type": "display_data"
    },
    {
     "data": {
      "text/markdown": [
       "ng in the midst of the world and conflict. Well, it makes sense that if the world doesn't revive and intrude on us, at some point, when it's safer to do so, at least some of our people will want to go out into the world. Like the past residents of Shambala, once our children reach maturity they will age slowly, as we age slowly. I see no reason why, if our natural death rate continues to be so low (the chorten and Danielson's mound mark the only new graves since shortly after the avalanche), we  <span style=\"color: blue\">will</span> not become overpopulated in a few generations. Also, if we are truly re-populating the world, then some of us, at some time, will have to go out into the world. Our children will not be like us, peaceful because they are tired, lacking a broader inquisitiveness out of fear.\n",
       "\n",
       "Just the other day Pema brought her eighteen-month-old, Chime Cincinnati (the middle name is for the Colonel's birthplace—it was Pema's idea, not his, that the name reflect something of his past) to the library. She and Tea"
      ],
      "text/plain": [
       "<IPython.core.display.Markdown object>"
      ]
     },
     "metadata": {},
     "output_type": "display_data"
    },
    {
     "data": {
      "text/markdown": [
       "---"
      ],
      "text/plain": [
       "<IPython.core.display.Markdown object>"
      ]
     },
     "metadata": {},
     "output_type": "display_data"
    }
   ],
   "source": [
    "from lint.snippets import query_snippets\n",
    "\n",
    "query_snippets('will', 1980, 2000, 0.99, 1, 50)"
   ]
  },
  {
   "cell_type": "code",
   "execution_count": null,
   "metadata": {
    "collapsed": true
   },
   "outputs": [],
   "source": []
  }
 ],
 "metadata": {
  "kernelspec": {
   "display_name": "Python 3",
   "language": "python",
   "name": "python3"
  },
  "language_info": {
   "codemirror_mode": {
    "name": "ipython",
    "version": 3
   },
   "file_extension": ".py",
   "mimetype": "text/x-python",
   "name": "python",
   "nbconvert_exporter": "python",
   "pygments_lexer": "ipython3",
   "version": "3.5.1"
  }
 },
 "nbformat": 4,
 "nbformat_minor": 0
}
