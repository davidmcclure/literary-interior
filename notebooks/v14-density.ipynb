{
 "cells": [
  {
   "cell_type": "code",
   "execution_count": 1,
   "metadata": {
    "collapsed": true
   },
   "outputs": [],
   "source": [
    "import matplotlib.pyplot as plt\n",
    "import matplotlib.ticker as ticker\n",
    "%matplotlib inline"
   ]
  },
  {
   "cell_type": "code",
   "execution_count": 21,
   "metadata": {
    "collapsed": true
   },
   "outputs": [],
   "source": [
    "import numpy as np\n",
    "\n",
    "from collections import OrderedDict\n",
    "from statsmodels.nonparametric.kde import KDEUnivariate\n",
    "\n",
    "from lint.models import Token\n",
    "\n",
    "def token_density(token):\n",
    "    \n",
    "    # Get the raw token series.\n",
    "    series = Token.token_series(token)\n",
    "    \n",
    "    # Use the ratio values as weights.\n",
    "    weights = np.array(list(series.values()), dtype=float)\n",
    "\n",
    "    # Fit the density estimate.\n",
    "    density = KDEUnivariate(list(series.keys()))\n",
    "    density.fit(fft=False, weights=weights, bw=2)\n",
    "\n",
    "    samples = OrderedDict()\n",
    "\n",
    "    for i in range(100):\n",
    "        samples[i] = density.evaluate(i)[0]\n",
    "\n",
    "    return samples"
   ]
  },
  {
   "cell_type": "code",
   "execution_count": 22,
   "metadata": {
    "collapsed": false
   },
   "outputs": [
    {
     "data": {
      "image/png": "[encoded data removed]",
      "text/plain": [
       "<matplotlib.figure.Figure at 0x114478ba8>"
      ]
     },
     "metadata": {},
     "output_type": "display_data"
    }
   ],
   "source": [
    "density = token_density('the')\n",
    "plt.plot(*zip(*density.items()))\n",
    "plt.show()"
   ]
  },
  {
   "cell_type": "code",
   "execution_count": null,
   "metadata": {
    "collapsed": true
   },
   "outputs": [],
   "source": []
  },
  {
   "cell_type": "code",
   "execution_count": null,
   "metadata": {
    "collapsed": true
   },
   "outputs": [],
   "source": []
  }
 ],
 "metadata": {
  "kernelspec": {
   "display_name": "Python 3",
   "language": "python",
   "name": "python3"
  },
  "language_info": {
   "codemirror_mode": {
    "name": "ipython",
    "version": 3
   },
   "file_extension": ".py",
   "mimetype": "text/x-python",
   "name": "python",
   "nbconvert_exporter": "python",
   "pygments_lexer": "ipython3",
   "version": "3.5.1"
  }
 },
 "nbformat": 4,
 "nbformat_minor": 0
}
