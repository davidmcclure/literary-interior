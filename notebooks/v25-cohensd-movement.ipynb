{
 "cells": [
  {
   "cell_type": "code",
   "execution_count": 1,
   "metadata": {
    "collapsed": true
   },
   "outputs": [],
   "source": [
    "import matplotlib.pyplot as plt\n",
    "%matplotlib inline"
   ]
  },
  {
   "cell_type": "code",
   "execution_count": 4,
   "metadata": {
    "collapsed": true
   },
   "outputs": [],
   "source": [
    "from numpy.random import multinomial\n",
    "\n",
    "def bootstrap(series, n: int=1000):\n",
    "    samples = multinomial(series.sum(), series/series.sum(), n)\n",
    "    return samples / series.sum()"
   ]
  },
  {
   "cell_type": "code",
   "execution_count": 10,
   "metadata": {
    "collapsed": true
   },
   "outputs": [],
   "source": [
    "import math\n",
    "\n",
    "def cohens_d(d1, d2):\n",
    "    \n",
    "    n1 = len(d1)\n",
    "    n2 = len(d2)\n",
    "\n",
    "    s1 = (\n",
    "        ((d1-d1.mean())**2).sum() /\n",
    "        (n1-1)\n",
    "    )\n",
    "\n",
    "    s2 = (\n",
    "        ((d2-d2.mean())**2).sum() /\n",
    "        (n2-1)\n",
    "    )\n",
    "\n",
    "    s = math.sqrt(\n",
    "        ((n1-1)*s1 + (n2-1)*s2) /\n",
    "        (n1+n2-2)\n",
    "    )\n",
    "\n",
    "    return (d1.mean() - d2.mean()) / s"
   ]
  },
  {
   "cell_type": "code",
   "execution_count": 13,
   "metadata": {
    "collapsed": true
   },
   "outputs": [],
   "source": [
    "from lint.models import Token\n",
    "\n",
    "def score_movement(\n",
    "    token: str,\n",
    "    year1a: int=1840,\n",
    "    year1b: int=1860,\n",
    "    year2a: int=1980,\n",
    "    year2b: int=2000,\n",
    "):\n",
    "    \n",
    "    # get two token series\n",
    "    # get bootstrap series\n",
    "    # take cohens d across axis\n",
    "    # return max\n",
    "    \n",
    "    s1 = Token.token_series(token, year1=year1a, year2=year1b)\n",
    "    s2 = Token.token_series(token, year1=year2a, year2=year2b)\n",
    "    \n",
    "    b1 = bootstrap(s1)\n",
    "    b2 = bootstrap(s2)\n",
    "    \n",
    "    ds = []\n",
    "    for c1, c2 in zip(b1.T, b2.T):\n",
    "        ds.append(abs(cohens_d(c1, c2)))\n",
    "        \n",
    "    return max(ds)"
   ]
  },
  {
   "cell_type": "code",
   "execution_count": 21,
   "metadata": {
    "collapsed": false
   },
   "outputs": [
    {
     "data": {
      "text/plain": [
       "46.368034103590382"
      ]
     },
     "execution_count": 21,
     "metadata": {},
     "output_type": "execute_result"
    }
   ],
   "source": [
    "score_movement('had')"
   ]
  }
 ],
 "metadata": {
  "kernelspec": {
   "display_name": "Python 3",
   "language": "python",
   "name": "python3"
  },
  "language_info": {
   "codemirror_mode": {
    "name": "ipython",
    "version": 3
   },
   "file_extension": ".py",
   "mimetype": "text/x-python",
   "name": "python",
   "nbconvert_exporter": "python",
   "pygments_lexer": "ipython3",
   "version": "3.5.1"
  }
 },
 "nbformat": 4,
 "nbformat_minor": 0
}
