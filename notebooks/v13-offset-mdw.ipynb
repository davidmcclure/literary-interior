{
 "cells": [
  {
   "cell_type": "code",
   "execution_count": 37,
   "metadata": {
    "collapsed": true
   },
   "outputs": [],
   "source": [
    "import matplotlib.pyplot as plt\n",
    "import matplotlib.ticker as ticker\n",
    "%matplotlib inline"
   ]
  },
  {
   "cell_type": "code",
   "execution_count": 72,
   "metadata": {
    "collapsed": false
   },
   "outputs": [],
   "source": [
    "import numpy as np\n",
    "\n",
    "from scipy.signal import savgol_filter\n",
    "\n",
    "from lint.models import Token\n",
    "\n",
    "def savgol_series(token, window=15, order=2, corpus=None):\n",
    "    \n",
    "    # Get the raw token series.\n",
    "    series = Token.token_series(token, corpus)\n",
    "    \n",
    "    # Total token count.\n",
    "    total_count = sum(series.values())\n",
    "    \n",
    "    # By default, 0s in all bins.\n",
    "    f_obs = np.zeros(100)\n",
    "    \n",
    "    # Fill the array with the observed values.\n",
    "    for offset, count in series.items():\n",
    "        f_obs[offset] = count/total_count\n",
    "        \n",
    "    return savgol_filter(f_obs, window, order)"
   ]
  },
  {
   "cell_type": "code",
   "execution_count": 73,
   "metadata": {
    "collapsed": false
   },
   "outputs": [
    {
     "data": {
      "image/png": "[encoded data removed]",
      "text/plain": [
       "<matplotlib.figure.Figure at 0x117b0c2b0>"
      ]
     },
     "metadata": {},
     "output_type": "display_data"
    }
   ],
   "source": [
    "plt.plot(savgol_series('oxford', corpus='gail'))\n",
    "plt.show()"
   ]
  }
 ],
 "metadata": {
  "kernelspec": {
   "display_name": "Python 3",
   "language": "python",
   "name": "python3"
  },
  "language_info": {
   "codemirror_mode": {
    "name": "ipython",
    "version": 3
   },
   "file_extension": ".py",
   "mimetype": "text/x-python",
   "name": "python",
   "nbconvert_exporter": "python",
   "pygments_lexer": "ipython3",
   "version": "3.5.1"
  }
 },
 "nbformat": 4,
 "nbformat_minor": 0
}
