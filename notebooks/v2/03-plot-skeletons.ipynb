{
 "cells": [
  {
   "cell_type": "code",
   "execution_count": 41,
   "metadata": {
    "collapsed": true
   },
   "outputs": [],
   "source": [
    "import matplotlib.pyplot as plt\n",
    "%matplotlib inline"
   ]
  },
  {
   "cell_type": "code",
   "execution_count": 42,
   "metadata": {
    "collapsed": true
   },
   "outputs": [],
   "source": [
    "from numpy.random import multinomial\n",
    "\n",
    "def bootstrap(series, n=1000, *args, **kwargs):\n",
    "    return multinomial(series.sum(), series/series.sum(), n)"
   ]
  },
  {
   "cell_type": "code",
   "execution_count": 43,
   "metadata": {
    "collapsed": true
   },
   "outputs": [],
   "source": [
    "import numpy as np\n",
    "\n",
    "from lint.models import Bucket\n",
    "\n",
    "def plot_bootstrap(token, w=8, h=8):\n",
    "    \n",
    "    series = Bucket.token_series(token)\n",
    "    \n",
    "    expected = series.sum() / len(series)\n",
    "\n",
    "    bs = bootstrap(np.full(len(series), expected))\n",
    "    \n",
    "    plt.figure(figsize=(w, h))\n",
    "\n",
    "    plt.plot(bs.mean(0))\n",
    "\n",
    "    plt.fill_between(\n",
    "        range(100),\n",
    "        bs.mean(0) + 2*bs.std(0),\n",
    "        bs.mean(0) - 2*bs.std(0),\n",
    "        color='black',\n",
    "        alpha=0.1,\n",
    "    )\n",
    "    \n",
    "    plt.plot(series)\n",
    "    \n",
    "    print(token)\n",
    "    plt.show()"
   ]
  },
  {
   "cell_type": "code",
   "execution_count": 72,
   "metadata": {
    "collapsed": false
   },
   "outputs": [
    {
     "name": "stdout",
     "output_type": "stream",
     "text": [
      "yellow\n"
     ]
    },
    {
     "data": {
      "image/png": "[encoded data removed]",
      "text/plain": [
       "<matplotlib.figure.Figure at 0x11aa99668>"
      ]
     },
     "metadata": {},
     "output_type": "display_data"
    }
   ],
   "source": [
    "plot_bootstrap('yellow')"
   ]
  },
  {
   "cell_type": "code",
   "execution_count": 44,
   "metadata": {
    "collapsed": true
   },
   "outputs": [],
   "source": [
    "def zscores_series(token):\n",
    "    \n",
    "    series = Bucket.token_series(token)\n",
    "    \n",
    "    expected = series.sum() / len(series)\n",
    "\n",
    "    bs = bootstrap(np.full(len(series), expected))\n",
    "    \n",
    "    return np.array([\n",
    "        (observed-expected)/std\n",
    "        for observed, std in zip(series, bs.std(0))\n",
    "    ])"
   ]
  },
  {
   "cell_type": "code",
   "execution_count": 45,
   "metadata": {
    "collapsed": false
   },
   "outputs": [],
   "source": [
    "from joblib import Memory\n",
    "\n",
    "from lint.models import Bucket\n",
    "\n",
    "mem = Memory('cache')\n",
    "\n",
    "token_counts = mem.cache(Bucket.token_counts)\n",
    "\n",
    "tokens = token_counts(10000)"
   ]
  },
  {
   "cell_type": "code",
   "execution_count": 46,
   "metadata": {
    "collapsed": false
   },
   "outputs": [
    {
     "name": "stdout",
     "output_type": "stream",
     "text": [
      "0\n",
      "100\n",
      "200\n",
      "300\n",
      "400\n"
     ]
    }
   ],
   "source": [
    "zscores = np.zeros((len(tokens), 100))\n",
    "\n",
    "for i, token in enumerate(list(tokens.keys())[:500]):\n",
    "    \n",
    "    zscores[i] = zscores_series(token)\n",
    "    \n",
    "    if i%100 == 0:\n",
    "        print(i)"
   ]
  },
  {
   "cell_type": "code",
   "execution_count": 35,
   "metadata": {
    "collapsed": false
   },
   "outputs": [
    {
     "name": "stdout",
     "output_type": "stream",
     "text": [
      "0 chapter\n",
      "1 of\n",
      "2 of\n",
      "3 a\n",
      "4 a\n",
      "5 a\n",
      "6 a\n",
      "7 a\n",
      "8 a\n",
      "9 a\n",
      "10 a\n",
      "11 a\n",
      "12 a\n",
      "13 a\n",
      "14 a\n",
      "15 a\n",
      "16 a\n",
      "17 a\n",
      "18 a\n",
      "19 a\n",
      "20 a\n",
      "21 a\n",
      "22 a\n",
      "23 a\n",
      "24 a\n",
      "25 a\n",
      "26 a\n",
      "27 a\n",
      "28 miss\n",
      "29 a\n",
      "30 a\n",
      "31 a\n",
      "32 ’\n",
      "33 miss\n",
      "34 miss\n",
      "35 miss\n",
      "36 ’\n",
      "37 “\n",
      "38 “\n",
      "39 “\n",
      "40 “\n",
      "41 “\n",
      "42 “\n",
      "43 “\n",
      "44 “\n",
      "45 “\n",
      "46 “\n",
      "47 ’\n",
      "48 you\n",
      "49 “\n",
      "50 “\n",
      "51 “\n",
      "52 “\n",
      "53 “\n",
      "54 “\n",
      "55 “\n",
      "56 “\n",
      "57 “\n",
      "58 you\n",
      "59 you\n",
      "60 you\n",
      "61 you\n",
      "62 you\n",
      "63 you\n",
      "64 you\n",
      "65 you\n",
      "66 i\n",
      "67 you\n",
      "68 “\n",
      "69 you\n",
      "70 you\n",
      "71 you\n",
      "72 you\n",
      "73 you\n",
      "74 you\n",
      "75 you\n",
      "76 you\n",
      "77 you\n",
      "78 he\n",
      "79 i\n",
      "80 him\n",
      "81 you\n",
      "82 you\n",
      "83 him\n",
      "84 him\n",
      "85 him\n",
      "86 him\n",
      "87 him\n",
      "88 him\n",
      "89 !\n",
      "90 .\n",
      "91 .\n",
      "92 .\n",
      "93 .\n",
      "94 death\n",
      "95 .\n",
      "96 death\n",
      "97 death\n",
      "98 death\n",
      "99 end\n"
     ]
    }
   ],
   "source": [
    "for i in range(0, 100):\n",
    "    print(i, list(tokens.keys())[zscores[:,i].argmax()])"
   ]
  },
  {
   "cell_type": "code",
   "execution_count": 47,
   "metadata": {
    "collapsed": false
   },
   "outputs": [
    {
     "data": {
      "text/plain": [
       "array([  8,  15,   7, ...,   1,   5, 469])"
      ]
     },
     "execution_count": 47,
     "metadata": {},
     "output_type": "execute_result"
    }
   ],
   "source": [
    "zscores[:,0].argsort()"
   ]
  },
  {
   "cell_type": "code",
   "execution_count": 74,
   "metadata": {
    "collapsed": false
   },
   "outputs": [
    {
     "name": "stdout",
     "output_type": "stream",
     "text": [
      "him\n",
      "you\n",
      "i\n",
      "he\n",
      "“\n",
      "me\n",
      ".\n",
      "?\n",
      "to\n",
      "it\n",
      "god\n",
      "what\n",
      "!\n",
      "not\n",
      "letter\n",
      "can\n",
      "will\n",
      "now\n",
      "?”\n",
      "we\n",
      "tell\n",
      ".”\n",
      "told\n",
      "—\n",
      "dead\n",
      "would\n",
      "know\n",
      "love\n",
      "no\n",
      "think\n",
      "heart\n",
      "do\n",
      "did\n",
      "that\n",
      "night\n",
      "have\n",
      "has\n",
      "let\n",
      "go\n",
      "death\n",
      "yes\n",
      "leave\n",
      "said\n",
      "!”\n",
      "done\n",
      "cannot\n",
      "she\n",
      "be\n",
      "cried\n",
      "they\n",
      "hope\n",
      "away\n",
      "if\n",
      "come\n",
      "lost\n",
      "believe\n",
      "ve\n",
      "hands\n",
      "then\n",
      "against\n",
      "last\n",
      "help\n",
      "again\n",
      "could\n",
      "get\n",
      "had\n",
      "thought\n",
      "see\n",
      "been\n",
      "went\n",
      "don\n",
      "your\n",
      "gone\n",
      "is\n",
      "try\n",
      "there\n",
      "once\n",
      "must\n",
      "before\n",
      "hand\n",
      "alone\n",
      "where\n",
      "speak\n",
      "tried\n",
      "us\n",
      "happy\n",
      "came\n",
      "how\n",
      "left\n",
      "nothing\n",
      "understand\n",
      "moment\n",
      "knew\n",
      "case\n",
      "t\n",
      "\"\n",
      "fear\n",
      "maybe\n",
      "why\n",
      "door\n"
     ]
    }
   ],
   "source": [
    "for i in zscores[:,80].argsort()[::-1][:100]:\n",
    "    print(list(tokens.keys())[i])"
   ]
  },
  {
   "cell_type": "code",
   "execution_count": null,
   "metadata": {
    "collapsed": true
   },
   "outputs": [],
   "source": []
  }
 ],
 "metadata": {
  "kernelspec": {
   "display_name": "Python 3",
   "language": "python",
   "name": "python3"
  },
  "language_info": {
   "codemirror_mode": {
    "name": "ipython",
    "version": 3
   },
   "file_extension": ".py",
   "mimetype": "text/x-python",
   "name": "python",
   "nbconvert_exporter": "python",
   "pygments_lexer": "ipython3",
   "version": "3.5.1"
  }
 },
 "nbformat": 4,
 "nbformat_minor": 0
}
