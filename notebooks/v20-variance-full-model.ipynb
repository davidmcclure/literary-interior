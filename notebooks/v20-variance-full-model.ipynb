{
 "cells": [
  {
   "cell_type": "code",
   "execution_count": 33,
   "metadata": {
    "collapsed": true
   },
   "outputs": [],
   "source": [
    "import matplotlib.pyplot as plt\n",
    "%matplotlib inline"
   ]
  },
  {
   "cell_type": "code",
   "execution_count": 34,
   "metadata": {
    "collapsed": true
   },
   "outputs": [],
   "source": [
    "import numpy as np\n",
    "\n",
    "import random\n",
    "\n",
    "def draw_token_series_rss(n: int, bins: int=100):\n",
    "    \n",
    "    \"\"\"\n",
    "    Given a total count N and a bin size, randomly draw a series\n",
    "    and calculate the RSS against the uniform.\n",
    "    \"\"\"\n",
    "    \n",
    "    expected = np.full(bins, n/bins)\n",
    "    \n",
    "    observed = np.zeros(bins)\n",
    "    \n",
    "    for _ in range(n):\n",
    "        observed[random.randint(0, bins-1)] += 1\n",
    "        \n",
    "    return np.sum((expected-observed)**2)"
   ]
  },
  {
   "cell_type": "code",
   "execution_count": 25,
   "metadata": {
    "collapsed": true
   },
   "outputs": [],
   "source": [
    "def draw_rss_std(n: int, samples: int=10000, bins: int=100):\n",
    "    \n",
    "    return np.std([\n",
    "        draw_token_series_rss(n, bins)\n",
    "        for _ in range(samples)\n",
    "    ])"
   ]
  },
  {
   "cell_type": "code",
   "execution_count": null,
   "metadata": {
    "collapsed": false
   },
   "outputs": [],
   "source": [
    "data = [\n",
    "    (n, bins, draw_rss_std(n, bins=bins))\n",
    "    for n in range(0, 1000, 100)\n",
    "    for bins in range(100, 1000, 100)\n",
    "]"
   ]
  },
  {
   "cell_type": "code",
   "execution_count": 28,
   "metadata": {
    "collapsed": false
   },
   "outputs": [],
   "source": [
    "import pandas as pd\n",
    "\n",
    "df = pd.DataFrame(data, columns=('n', 'bins', 'std'))"
   ]
  },
  {
   "cell_type": "code",
   "execution_count": 29,
   "metadata": {
    "collapsed": true
   },
   "outputs": [],
   "source": [
    "from patsy import dmatrices\n",
    "\n",
    "y, x = dmatrices(\n",
    "    'std ~ n + bins',\n",
    "    data=df,\n",
    "    return_type='dataframe',\n",
    ")"
   ]
  },
  {
   "cell_type": "code",
   "execution_count": 30,
   "metadata": {
    "collapsed": false
   },
   "outputs": [
    {
     "data": {
      "text/html": [
       "<table class=\"simpletable\">\n",
       "<caption>OLS Regression Results</caption>\n",
       "<tr>\n",
       "  <th>Dep. Variable:</th>           <td>std</td>       <th>  R-squared:         </th> <td>   0.855</td>\n",
       "</tr>\n",
       "<tr>\n",
       "  <th>Model:</th>                   <td>OLS</td>       <th>  Adj. R-squared:    </th> <td>   0.852</td>\n",
       "</tr>\n",
       "<tr>\n",
       "  <th>Method:</th>             <td>Least Squares</td>  <th>  F-statistic:       </th> <td>   256.9</td>\n",
       "</tr>\n",
       "<tr>\n",
       "  <th>Date:</th>             <td>Tue, 25 Oct 2016</td> <th>  Prob (F-statistic):</th> <td>3.10e-37</td>\n",
       "</tr>\n",
       "<tr>\n",
       "  <th>Time:</th>                 <td>23:45:15</td>     <th>  Log-Likelihood:    </th> <td> -333.94</td>\n",
       "</tr>\n",
       "<tr>\n",
       "  <th>No. Observations:</th>      <td>    90</td>      <th>  AIC:               </th> <td>   673.9</td>\n",
       "</tr>\n",
       "<tr>\n",
       "  <th>Df Residuals:</th>          <td>    87</td>      <th>  BIC:               </th> <td>   681.4</td>\n",
       "</tr>\n",
       "<tr>\n",
       "  <th>Df Model:</th>              <td>     2</td>      <th>                     </th>     <td> </td>   \n",
       "</tr>\n",
       "<tr>\n",
       "  <th>Covariance Type:</th>      <td>nonrobust</td>    <th>                     </th>     <td> </td>   \n",
       "</tr>\n",
       "</table>\n",
       "<table class=\"simpletable\">\n",
       "<tr>\n",
       "      <td></td>         <th>coef</th>     <th>std err</th>      <th>t</th>      <th>P>|t|</th> <th>[95.0% Conf. Int.]</th> \n",
       "</tr>\n",
       "<tr>\n",
       "  <th>Intercept</th> <td>   22.1591</td> <td>    2.846</td> <td>    7.786</td> <td> 0.000</td> <td>   16.502    27.816</td>\n",
       "</tr>\n",
       "<tr>\n",
       "  <th>n</th>         <td>    0.0736</td> <td>    0.004</td> <td>   19.939</td> <td> 0.000</td> <td>    0.066     0.081</td>\n",
       "</tr>\n",
       "<tr>\n",
       "  <th>bins</th>      <td>   -0.0443</td> <td>    0.004</td> <td>  -10.785</td> <td> 0.000</td> <td>   -0.052    -0.036</td>\n",
       "</tr>\n",
       "</table>\n",
       "<table class=\"simpletable\">\n",
       "<tr>\n",
       "  <th>Omnibus:</th>       <td>43.878</td> <th>  Durbin-Watson:     </th> <td>   1.131</td>\n",
       "</tr>\n",
       "<tr>\n",
       "  <th>Prob(Omnibus):</th> <td> 0.000</td> <th>  Jarque-Bera (JB):  </th> <td> 110.752</td>\n",
       "</tr>\n",
       "<tr>\n",
       "  <th>Skew:</th>          <td> 1.766</td> <th>  Prob(JB):          </th> <td>8.92e-25</td>\n",
       "</tr>\n",
       "<tr>\n",
       "  <th>Kurtosis:</th>      <td> 7.130</td> <th>  Cond. No.          </th> <td>1.95e+03</td>\n",
       "</tr>\n",
       "</table>"
      ],
      "text/plain": [
       "<class 'statsmodels.iolib.summary.Summary'>\n",
       "\"\"\"\n",
       "                            OLS Regression Results                            \n",
       "==============================================================================\n",
       "Dep. Variable:                    std   R-squared:                       0.855\n",
       "Model:                            OLS   Adj. R-squared:                  0.852\n",
       "Method:                 Least Squares   F-statistic:                     256.9\n",
       "Date:                Tue, 25 Oct 2016   Prob (F-statistic):           3.10e-37\n",
       "Time:                        23:45:15   Log-Likelihood:                -333.94\n",
       "No. Observations:                  90   AIC:                             673.9\n",
       "Df Residuals:                      87   BIC:                             681.4\n",
       "Df Model:                           2                                         \n",
       "Covariance Type:            nonrobust                                         \n",
       "==============================================================================\n",
       "                 coef    std err          t      P>|t|      [95.0% Conf. Int.]\n",
       "------------------------------------------------------------------------------\n",
       "Intercept     22.1591      2.846      7.786      0.000        16.502    27.816\n",
       "n              0.0736      0.004     19.939      0.000         0.066     0.081\n",
       "bins          -0.0443      0.004    -10.785      0.000        -0.052    -0.036\n",
       "==============================================================================\n",
       "Omnibus:                       43.878   Durbin-Watson:                   1.131\n",
       "Prob(Omnibus):                  0.000   Jarque-Bera (JB):              110.752\n",
       "Skew:                           1.766   Prob(JB):                     8.92e-25\n",
       "Kurtosis:                       7.130   Cond. No.                     1.95e+03\n",
       "==============================================================================\n",
       "\n",
       "Warnings:\n",
       "[1] Standard Errors assume that the covariance matrix of the errors is correctly specified.\n",
       "[2] The condition number is large, 1.95e+03. This might indicate that there are\n",
       "strong multicollinearity or other numerical problems.\n",
       "\"\"\""
      ]
     },
     "execution_count": 30,
     "metadata": {},
     "output_type": "execute_result"
    }
   ],
   "source": [
    "import statsmodels.api as sm\n",
    "\n",
    "mod = sm.OLS(y, x)\n",
    "\n",
    "res = mod.fit()\n",
    "\n",
    "res.summary()"
   ]
  },
  {
   "cell_type": "code",
   "execution_count": 37,
   "metadata": {
    "collapsed": false
   },
   "outputs": [
    {
     "data": {
      "text/plain": [
       "<matplotlib.collections.PathCollection at 0x115f1a080>"
      ]
     },
     "execution_count": 37,
     "metadata": {},
     "output_type": "execute_result"
    },
    {
     "data": {
      "image/png": "[encoded data removed]",
      "text/plain": [
       "<matplotlib.figure.Figure at 0x115e21898>"
      ]
     },
     "metadata": {},
     "output_type": "display_data"
    }
   ],
   "source": [
    "plt.scatter(df['n'], df['std'])"
   ]
  },
  {
   "cell_type": "code",
   "execution_count": null,
   "metadata": {
    "collapsed": true
   },
   "outputs": [],
   "source": []
  }
 ],
 "metadata": {
  "kernelspec": {
   "display_name": "Python 3",
   "language": "python",
   "name": "python3"
  },
  "language_info": {
   "codemirror_mode": {
    "name": "ipython",
    "version": 3
   },
   "file_extension": ".py",
   "mimetype": "text/x-python",
   "name": "python",
   "nbconvert_exporter": "python",
   "pygments_lexer": "ipython3",
   "version": "3.5.1"
  }
 },
 "nbformat": 4,
 "nbformat_minor": 0
}
