{
 "cells": [
  {
   "cell_type": "code",
   "execution_count": 3,
   "metadata": {},
   "outputs": [],
   "source": [
    "import spacy\n",
    "\n",
    "from tqdm import tqdm\n",
    "from cached_property import cached_property\n",
    "from itertools import islice"
   ]
  },
  {
   "cell_type": "code",
   "execution_count": 4,
   "metadata": {},
   "outputs": [],
   "source": [
    "nlp_sents = spacy.blank('en')\n",
    "nlp_sents.add_pipe(nlp_sents.create_pipe('sentencizer'))"
   ]
  },
  {
   "cell_type": "code",
   "execution_count": 5,
   "metadata": {},
   "outputs": [],
   "source": [
    "nlp = spacy.load('en')"
   ]
  },
  {
   "cell_type": "code",
   "execution_count": 6,
   "metadata": {},
   "outputs": [],
   "source": [
    "class Text:\n",
    "    \n",
    "    @classmethod\n",
    "    def from_file(cls, path):\n",
    "        with open(path) as fh:\n",
    "            return cls(fh.read())\n",
    "    \n",
    "    def __init__(self, raw):\n",
    "        self.raw = raw\n",
    "        \n",
    "    def sents(self):\n",
    "        return list(nlp_sents(self.raw).sents)\n",
    "    \n",
    "    def __iter__(self):\n",
    "        word_i = 0\n",
    "        for sent_i, sent in enumerate(self.sents()):\n",
    "            parsed_sent = nlp(sent.text_with_ws)\n",
    "            for token in parsed_sent:\n",
    "                char_i = sent.start_char + token.idx\n",
    "                yield token, sent_i, word_i, char_i\n",
    "                word_i += 1"
   ]
  },
  {
   "cell_type": "code",
   "execution_count": 7,
   "metadata": {},
   "outputs": [],
   "source": [
    "tokens = Text.from_file('/data/pg284.txt')"
   ]
  },
  {
   "cell_type": "code",
   "execution_count": null,
   "metadata": {},
   "outputs": [],
   "source": []
  }
 ],
 "metadata": {
  "kernelspec": {
   "display_name": "Python 3",
   "language": "python",
   "name": "python3"
  },
  "language_info": {
   "codemirror_mode": {
    "name": "ipython",
    "version": 3
   },
   "file_extension": ".py",
   "mimetype": "text/x-python",
   "name": "python",
   "nbconvert_exporter": "python",
   "pygments_lexer": "ipython3",
   "version": "3.6.1"
  }
 },
 "nbformat": 4,
 "nbformat_minor": 2
}
