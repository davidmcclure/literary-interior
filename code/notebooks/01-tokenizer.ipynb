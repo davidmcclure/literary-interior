{
 "cells": [
  {
   "cell_type": "code",
   "execution_count": 70,
   "metadata": {},
   "outputs": [],
   "source": [
    "import spacy\n",
    "\n",
    "from tqdm import tqdm\n",
    "from cached_property import cached_property\n",
    "from itertools import islice"
   ]
  },
  {
   "cell_type": "code",
   "execution_count": 3,
   "metadata": {},
   "outputs": [],
   "source": [
    "nlp_sents = spacy.blank('en')\n",
    "nlp_sents.add_pipe(nlp.create_pipe('sentencizer'))"
   ]
  },
  {
   "cell_type": "code",
   "execution_count": 31,
   "metadata": {},
   "outputs": [],
   "source": [
    "nlp = spacy.load('en')"
   ]
  },
  {
   "cell_type": "code",
   "execution_count": 78,
   "metadata": {},
   "outputs": [],
   "source": [
    "class Text:\n",
    "    \n",
    "    @classmethod\n",
    "    def from_file(cls, path):\n",
    "        with open(path) as fh:\n",
    "            return cls(fh.read())\n",
    "    \n",
    "    def __init__(self, raw):\n",
    "        self.raw = raw\n",
    "        \n",
    "    def sents(self):\n",
    "        return list(nlp_sents(self.raw).sents)\n",
    "    \n",
    "    def tokens(self):\n",
    "        word_i = 0\n",
    "        for sent in tqdm(self.sents()):\n",
    "            parsed_sent = nlp(sent.text_with_ws)\n",
    "            for token in parsed_sent:\n",
    "                char_i = sent.start_char + token.idx\n",
    "                yield token, word_i, char_i\n",
    "                word_i += 1"
   ]
  },
  {
   "cell_type": "code",
   "execution_count": 75,
   "metadata": {},
   "outputs": [],
   "source": [
    "wp = Text.from_file('/data/pg284.txt')"
   ]
  },
  {
   "cell_type": "code",
   "execution_count": 76,
   "metadata": {},
   "outputs": [],
   "source": [
    "tokens = wp.tokens()"
   ]
  },
  {
   "cell_type": "code",
   "execution_count": 77,
   "metadata": {},
   "outputs": [
    {
     "name": "stderr",
     "output_type": "stream",
     "text": [
      "\n",
      "  0%|          | 0/5928 [00:00<?, ?it/s]\u001b[A\n",
      "  0%|          | 6/5928 [00:00<01:45, 56.16it/s]\u001b[A\n",
      "  0%|          | 14/5928 [00:00<01:29, 66.42it/s]\u001b[A\n",
      "  0%|          | 22/5928 [00:00<01:23, 70.37it/s]\u001b[A\n",
      "  1%|          | 30/5928 [00:00<01:21, 72.53it/s]\u001b[A\n",
      "  1%|          | 39/5928 [00:00<01:17, 75.51it/s]\u001b[A\n",
      "  1%|          | 48/5928 [00:00<01:16, 76.78it/s]\u001b[A\n",
      "  1%|          | 56/5928 [00:00<01:16, 76.65it/s]\u001b[A\n",
      "  1%|          | 65/5928 [00:00<01:15, 78.05it/s]\u001b[A\n",
      "  1%|          | 74/5928 [00:00<01:14, 78.70it/s]\u001b[A\n",
      "  1%|▏         | 83/5928 [00:01<01:13, 79.42it/s]\u001b[A\n",
      "  2%|▏         | 92/5928 [00:01<01:13, 79.10it/s]\u001b[A\n",
      "  2%|▏         | 101/5928 [00:01<01:12, 79.84it/s]\u001b[A\n",
      "  2%|▏         | 110/5928 [00:01<01:12, 79.76it/s]\u001b[A\n",
      "  2%|▏         | 119/5928 [00:01<01:12, 80.28it/s]\u001b[A\n",
      "  2%|▏         | 129/5928 [00:01<01:11, 81.19it/s]\u001b[A\n",
      "  2%|▏         | 138/5928 [00:01<01:10, 81.58it/s]\u001b[A\n",
      "  2%|▏         | 147/5928 [00:01<01:10, 81.67it/s]\u001b[A\n",
      "  3%|▎         | 156/5928 [00:01<01:10, 81.43it/s]\u001b[A\n",
      "  3%|▎         | 165/5928 [00:02<01:10, 81.45it/s]\u001b[A\n",
      "  3%|▎         | 174/5928 [00:02<01:10, 81.85it/s]\u001b[A\n",
      "  3%|▎         | 183/5928 [00:02<01:10, 82.03it/s]\u001b[A\n",
      "  3%|▎         | 192/5928 [00:02<01:09, 82.21it/s]\u001b[A\n",
      "  3%|▎         | 201/5928 [00:02<01:09, 82.16it/s]\u001b[A\n",
      "  4%|▎         | 210/5928 [00:02<01:09, 82.42it/s]\u001b[A\n",
      "  4%|▎         | 219/5928 [00:02<01:09, 82.10it/s]\u001b[A\n",
      "  4%|▍         | 228/5928 [00:02<01:09, 82.30it/s]\u001b[A\n",
      "  4%|▍         | 238/5928 [00:02<01:08, 82.66it/s]\u001b[A\n",
      "  4%|▍         | 247/5928 [00:02<01:08, 82.66it/s]\u001b[A\n",
      " 43%|████▎     | 13779/31778 [02:50<03:42, 80.97it/s]\n",
      "Exception in thread Thread-5:\n",
      "Traceback (most recent call last):\n",
      "  File \"/opt/pyenv/versions/3.6.1/lib/python3.6/threading.py\", line 916, in _bootstrap_inner\n",
      "    self.run()\n",
      "  File \"/opt/pyenv/versions/3.6.1/lib/python3.6/site-packages/tqdm/_tqdm.py\", line 148, in run\n",
      "    for instance in self.tqdm_cls._instances:\n",
      "  File \"/opt/pyenv/versions/3.6.1/lib/python3.6/_weakrefset.py\", line 60, in __iter__\n",
      "    for itemref in self.data:\n",
      "RuntimeError: Set changed size during iteration\n",
      "\n",
      "100%|██████████| 5928/5928 [01:10<00:00, 83.55it/s]\n"
     ]
    }
   ],
   "source": [
    "tokens = list(tokens)"
   ]
  },
  {
   "cell_type": "code",
   "execution_count": 82,
   "metadata": {},
   "outputs": [
    {
     "data": {
      "text/plain": [
       "(amazingly, 3001, 12395)"
      ]
     },
     "execution_count": 82,
     "metadata": {},
     "output_type": "execute_result"
    }
   ],
   "source": [
    "tokens[3001]"
   ]
  },
  {
   "cell_type": "code",
   "execution_count": null,
   "metadata": {},
   "outputs": [],
   "source": []
  }
 ],
 "metadata": {
  "kernelspec": {
   "display_name": "Python 3",
   "language": "python",
   "name": "python3"
  },
  "language_info": {
   "codemirror_mode": {
    "name": "ipython",
    "version": 3
   },
   "file_extension": ".py",
   "mimetype": "text/x-python",
   "name": "python",
   "nbconvert_exporter": "python",
   "pygments_lexer": "ipython3",
   "version": "3.6.1"
  }
 },
 "nbformat": 4,
 "nbformat_minor": 2
}
